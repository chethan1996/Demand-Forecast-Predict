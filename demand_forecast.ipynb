{
  "nbformat": 4,
  "nbformat_minor": 0,
  "metadata": {
    "kernelspec": {
      "display_name": "Python 3",
      "language": "python",
      "name": "python3"
    },
    "language_info": {
      "codemirror_mode": {
        "name": "ipython",
        "version": 3
      },
      "file_extension": ".py",
      "mimetype": "text/x-python",
      "name": "python",
      "nbconvert_exporter": "python",
      "pygments_lexer": "ipython3",
      "version": "3.7.3"
    },
    "colab": {
      "name": "demand_forecast.ipynb",
      "provenance": [],
      "toc_visible": true,
      "include_colab_link": true
    }
  },
  "cells": [
    {
      "cell_type": "markdown",
      "metadata": {
        "id": "view-in-github",
        "colab_type": "text"
      },
      "source": [
        "<a href=\"https://colab.research.google.com/github/chethan1996/Demand-Forecast-Predict/blob/master/demand_forecast.ipynb\" target=\"_parent\"><img src=\"https://colab.research.google.com/assets/colab-badge.svg\" alt=\"Open In Colab\"/></a>"
      ]
    },
    {
      "cell_type": "markdown",
      "metadata": {
        "id": "2H1U67uzq0sz"
      },
      "source": [
        "VTP_DemandData_V2.0"
      ]
    },
    {
      "cell_type": "code",
      "metadata": {
        "id": "rMTGe4FRq0s4"
      },
      "source": [
        "import numpy as np\n",
        "import pandas as pd\n",
        "\n",
        "import matplotlib.pyplot as plt\n",
        "%matplotlib inline\n",
        "from sklearn.model_selection import train_test_split\n",
        "\n"
      ],
      "execution_count": 208,
      "outputs": []
    },
    {
      "cell_type": "code",
      "metadata": {
        "id": "0yNyOtpbq0tG",
        "outputId": "2f5daa3c-44aa-47a9-ac7b-bb258e5c2458",
        "colab": {
          "base_uri": "https://localhost:8080/",
          "height": 204
        }
      },
      "source": [
        "df = pd.read_excel('VTP_Demand_Data_Latest.xlsx')\n",
        "df.head()"
      ],
      "execution_count": 209,
      "outputs": [
        {
          "output_type": "execute_result",
          "data": {
            "text/html": [
              "<div>\n",
              "<style scoped>\n",
              "    .dataframe tbody tr th:only-of-type {\n",
              "        vertical-align: middle;\n",
              "    }\n",
              "\n",
              "    .dataframe tbody tr th {\n",
              "        vertical-align: top;\n",
              "    }\n",
              "\n",
              "    .dataframe thead th {\n",
              "        text-align: right;\n",
              "    }\n",
              "</style>\n",
              "<table border=\"1\" class=\"dataframe\">\n",
              "  <thead>\n",
              "    <tr style=\"text-align: right;\">\n",
              "      <th></th>\n",
              "      <th>Origin</th>\n",
              "      <th>Destination</th>\n",
              "      <th>Item</th>\n",
              "      <th>Weight</th>\n",
              "      <th>Weight UoM</th>\n",
              "      <th>Size/Volume</th>\n",
              "      <th>Volume UoM</th>\n",
              "      <th>Customer Requested Delivery Date (DD/MM/YY)</th>\n",
              "      <th>Year</th>\n",
              "    </tr>\n",
              "  </thead>\n",
              "  <tbody>\n",
              "    <tr>\n",
              "      <th>0</th>\n",
              "      <td>TCP</td>\n",
              "      <td>DHIG</td>\n",
              "      <td>Parcel - Dummy</td>\n",
              "      <td>500</td>\n",
              "      <td>KG</td>\n",
              "      <td>500</td>\n",
              "      <td>CM3</td>\n",
              "      <td>2020-08-01</td>\n",
              "      <td>2020</td>\n",
              "    </tr>\n",
              "    <tr>\n",
              "      <th>1</th>\n",
              "      <td>TCP</td>\n",
              "      <td>DHIG</td>\n",
              "      <td>Parcel - Dummy</td>\n",
              "      <td>1000</td>\n",
              "      <td>KG</td>\n",
              "      <td>1000</td>\n",
              "      <td>CM3</td>\n",
              "      <td>2020-08-01</td>\n",
              "      <td>2020</td>\n",
              "    </tr>\n",
              "    <tr>\n",
              "      <th>2</th>\n",
              "      <td>TCP</td>\n",
              "      <td>TML</td>\n",
              "      <td>Parcel - Dummy</td>\n",
              "      <td>200</td>\n",
              "      <td>KG</td>\n",
              "      <td>200</td>\n",
              "      <td>CM3</td>\n",
              "      <td>2020-08-01</td>\n",
              "      <td>2020</td>\n",
              "    </tr>\n",
              "    <tr>\n",
              "      <th>3</th>\n",
              "      <td>TCP</td>\n",
              "      <td>BXO</td>\n",
              "      <td>Parcel - Dummy</td>\n",
              "      <td>500</td>\n",
              "      <td>KG</td>\n",
              "      <td>500</td>\n",
              "      <td>CM3</td>\n",
              "      <td>2020-08-01</td>\n",
              "      <td>2020</td>\n",
              "    </tr>\n",
              "    <tr>\n",
              "      <th>4</th>\n",
              "      <td>TCP</td>\n",
              "      <td>TTM</td>\n",
              "      <td>Parcel - Dummy</td>\n",
              "      <td>500</td>\n",
              "      <td>KG</td>\n",
              "      <td>500</td>\n",
              "      <td>CM3</td>\n",
              "      <td>2020-08-01</td>\n",
              "      <td>2020</td>\n",
              "    </tr>\n",
              "  </tbody>\n",
              "</table>\n",
              "</div>"
            ],
            "text/plain": [
              "  Origin Destination  ... Customer Requested Delivery Date (DD/MM/YY)  Year\n",
              "0    TCP        DHIG  ...                                  2020-08-01  2020\n",
              "1    TCP        DHIG  ...                                  2020-08-01  2020\n",
              "2    TCP         TML  ...                                  2020-08-01  2020\n",
              "3    TCP         BXO  ...                                  2020-08-01  2020\n",
              "4    TCP         TTM  ...                                  2020-08-01  2020\n",
              "\n",
              "[5 rows x 9 columns]"
            ]
          },
          "metadata": {
            "tags": []
          },
          "execution_count": 209
        }
      ]
    },
    {
      "cell_type": "markdown",
      "metadata": {
        "id": "zWutWHyaq0tO"
      },
      "source": [
        "# Preprocessing"
      ]
    },
    {
      "cell_type": "code",
      "metadata": {
        "id": "6PBj3aUsq0tP"
      },
      "source": [
        "df['month'] = pd.DatetimeIndex(df['Customer Requested Delivery Date (DD/MM/YY)']).month"
      ],
      "execution_count": 210,
      "outputs": []
    },
    {
      "cell_type": "code",
      "metadata": {
        "id": "YzhRfYuZq0tV"
      },
      "source": [
        "df['day'] = pd.DatetimeIndex(df['Customer Requested Delivery Date (DD/MM/YY)']).day"
      ],
      "execution_count": 211,
      "outputs": []
    },
    {
      "cell_type": "code",
      "metadata": {
        "id": "rxANaEM_q0tZ",
        "outputId": "3a85b3ad-bbf9-4cd2-b942-0d7b188d0d78",
        "colab": {
          "base_uri": "https://localhost:8080/",
          "height": 204
        }
      },
      "source": [
        "df.head()"
      ],
      "execution_count": 212,
      "outputs": [
        {
          "output_type": "execute_result",
          "data": {
            "text/html": [
              "<div>\n",
              "<style scoped>\n",
              "    .dataframe tbody tr th:only-of-type {\n",
              "        vertical-align: middle;\n",
              "    }\n",
              "\n",
              "    .dataframe tbody tr th {\n",
              "        vertical-align: top;\n",
              "    }\n",
              "\n",
              "    .dataframe thead th {\n",
              "        text-align: right;\n",
              "    }\n",
              "</style>\n",
              "<table border=\"1\" class=\"dataframe\">\n",
              "  <thead>\n",
              "    <tr style=\"text-align: right;\">\n",
              "      <th></th>\n",
              "      <th>Origin</th>\n",
              "      <th>Destination</th>\n",
              "      <th>Item</th>\n",
              "      <th>Weight</th>\n",
              "      <th>Weight UoM</th>\n",
              "      <th>Size/Volume</th>\n",
              "      <th>Volume UoM</th>\n",
              "      <th>Customer Requested Delivery Date (DD/MM/YY)</th>\n",
              "      <th>Year</th>\n",
              "      <th>month</th>\n",
              "      <th>day</th>\n",
              "    </tr>\n",
              "  </thead>\n",
              "  <tbody>\n",
              "    <tr>\n",
              "      <th>0</th>\n",
              "      <td>TCP</td>\n",
              "      <td>DHIG</td>\n",
              "      <td>Parcel - Dummy</td>\n",
              "      <td>500</td>\n",
              "      <td>KG</td>\n",
              "      <td>500</td>\n",
              "      <td>CM3</td>\n",
              "      <td>2020-08-01</td>\n",
              "      <td>2020</td>\n",
              "      <td>8</td>\n",
              "      <td>1</td>\n",
              "    </tr>\n",
              "    <tr>\n",
              "      <th>1</th>\n",
              "      <td>TCP</td>\n",
              "      <td>DHIG</td>\n",
              "      <td>Parcel - Dummy</td>\n",
              "      <td>1000</td>\n",
              "      <td>KG</td>\n",
              "      <td>1000</td>\n",
              "      <td>CM3</td>\n",
              "      <td>2020-08-01</td>\n",
              "      <td>2020</td>\n",
              "      <td>8</td>\n",
              "      <td>1</td>\n",
              "    </tr>\n",
              "    <tr>\n",
              "      <th>2</th>\n",
              "      <td>TCP</td>\n",
              "      <td>TML</td>\n",
              "      <td>Parcel - Dummy</td>\n",
              "      <td>200</td>\n",
              "      <td>KG</td>\n",
              "      <td>200</td>\n",
              "      <td>CM3</td>\n",
              "      <td>2020-08-01</td>\n",
              "      <td>2020</td>\n",
              "      <td>8</td>\n",
              "      <td>1</td>\n",
              "    </tr>\n",
              "    <tr>\n",
              "      <th>3</th>\n",
              "      <td>TCP</td>\n",
              "      <td>BXO</td>\n",
              "      <td>Parcel - Dummy</td>\n",
              "      <td>500</td>\n",
              "      <td>KG</td>\n",
              "      <td>500</td>\n",
              "      <td>CM3</td>\n",
              "      <td>2020-08-01</td>\n",
              "      <td>2020</td>\n",
              "      <td>8</td>\n",
              "      <td>1</td>\n",
              "    </tr>\n",
              "    <tr>\n",
              "      <th>4</th>\n",
              "      <td>TCP</td>\n",
              "      <td>TTM</td>\n",
              "      <td>Parcel - Dummy</td>\n",
              "      <td>500</td>\n",
              "      <td>KG</td>\n",
              "      <td>500</td>\n",
              "      <td>CM3</td>\n",
              "      <td>2020-08-01</td>\n",
              "      <td>2020</td>\n",
              "      <td>8</td>\n",
              "      <td>1</td>\n",
              "    </tr>\n",
              "  </tbody>\n",
              "</table>\n",
              "</div>"
            ],
            "text/plain": [
              "  Origin Destination            Item  ...  Year month  day\n",
              "0    TCP        DHIG  Parcel - Dummy  ...  2020     8    1\n",
              "1    TCP        DHIG  Parcel - Dummy  ...  2020     8    1\n",
              "2    TCP         TML  Parcel - Dummy  ...  2020     8    1\n",
              "3    TCP         BXO  Parcel - Dummy  ...  2020     8    1\n",
              "4    TCP         TTM  Parcel - Dummy  ...  2020     8    1\n",
              "\n",
              "[5 rows x 11 columns]"
            ]
          },
          "metadata": {
            "tags": []
          },
          "execution_count": 212
        }
      ]
    },
    {
      "cell_type": "code",
      "metadata": {
        "id": "6h4tWP7Iq0te",
        "outputId": "9ccccce7-0525-43ff-d74f-abe96463e45f",
        "colab": {
          "base_uri": "https://localhost:8080/"
        }
      },
      "source": [
        "df['Year'].value_counts()"
      ],
      "execution_count": 213,
      "outputs": [
        {
          "output_type": "execute_result",
          "data": {
            "text/plain": [
              "2020    68518\n",
              "Name: Year, dtype: int64"
            ]
          },
          "metadata": {
            "tags": []
          },
          "execution_count": 213
        }
      ]
    },
    {
      "cell_type": "code",
      "metadata": {
        "id": "NSza_blDq0ti"
      },
      "source": [
        "df_test = df[df['Year']==2020]"
      ],
      "execution_count": 214,
      "outputs": []
    },
    {
      "cell_type": "code",
      "metadata": {
        "id": "yjUq7TYZwLxj",
        "outputId": "a907056d-8013-4610-8caa-6e7a1d649f7a",
        "colab": {
          "base_uri": "https://localhost:8080/",
          "height": 419
        }
      },
      "source": [
        "df_test"
      ],
      "execution_count": 215,
      "outputs": [
        {
          "output_type": "execute_result",
          "data": {
            "text/html": [
              "<div>\n",
              "<style scoped>\n",
              "    .dataframe tbody tr th:only-of-type {\n",
              "        vertical-align: middle;\n",
              "    }\n",
              "\n",
              "    .dataframe tbody tr th {\n",
              "        vertical-align: top;\n",
              "    }\n",
              "\n",
              "    .dataframe thead th {\n",
              "        text-align: right;\n",
              "    }\n",
              "</style>\n",
              "<table border=\"1\" class=\"dataframe\">\n",
              "  <thead>\n",
              "    <tr style=\"text-align: right;\">\n",
              "      <th></th>\n",
              "      <th>Origin</th>\n",
              "      <th>Destination</th>\n",
              "      <th>Item</th>\n",
              "      <th>Weight</th>\n",
              "      <th>Weight UoM</th>\n",
              "      <th>Size/Volume</th>\n",
              "      <th>Volume UoM</th>\n",
              "      <th>Customer Requested Delivery Date (DD/MM/YY)</th>\n",
              "      <th>Year</th>\n",
              "      <th>month</th>\n",
              "      <th>day</th>\n",
              "    </tr>\n",
              "  </thead>\n",
              "  <tbody>\n",
              "    <tr>\n",
              "      <th>0</th>\n",
              "      <td>TCP</td>\n",
              "      <td>DHIG</td>\n",
              "      <td>Parcel - Dummy</td>\n",
              "      <td>500</td>\n",
              "      <td>KG</td>\n",
              "      <td>500</td>\n",
              "      <td>CM3</td>\n",
              "      <td>2020-08-01</td>\n",
              "      <td>2020</td>\n",
              "      <td>8</td>\n",
              "      <td>1</td>\n",
              "    </tr>\n",
              "    <tr>\n",
              "      <th>1</th>\n",
              "      <td>TCP</td>\n",
              "      <td>DHIG</td>\n",
              "      <td>Parcel - Dummy</td>\n",
              "      <td>1000</td>\n",
              "      <td>KG</td>\n",
              "      <td>1000</td>\n",
              "      <td>CM3</td>\n",
              "      <td>2020-08-01</td>\n",
              "      <td>2020</td>\n",
              "      <td>8</td>\n",
              "      <td>1</td>\n",
              "    </tr>\n",
              "    <tr>\n",
              "      <th>2</th>\n",
              "      <td>TCP</td>\n",
              "      <td>TML</td>\n",
              "      <td>Parcel - Dummy</td>\n",
              "      <td>200</td>\n",
              "      <td>KG</td>\n",
              "      <td>200</td>\n",
              "      <td>CM3</td>\n",
              "      <td>2020-08-01</td>\n",
              "      <td>2020</td>\n",
              "      <td>8</td>\n",
              "      <td>1</td>\n",
              "    </tr>\n",
              "    <tr>\n",
              "      <th>3</th>\n",
              "      <td>TCP</td>\n",
              "      <td>BXO</td>\n",
              "      <td>Parcel - Dummy</td>\n",
              "      <td>500</td>\n",
              "      <td>KG</td>\n",
              "      <td>500</td>\n",
              "      <td>CM3</td>\n",
              "      <td>2020-08-01</td>\n",
              "      <td>2020</td>\n",
              "      <td>8</td>\n",
              "      <td>1</td>\n",
              "    </tr>\n",
              "    <tr>\n",
              "      <th>4</th>\n",
              "      <td>TCP</td>\n",
              "      <td>TTM</td>\n",
              "      <td>Parcel - Dummy</td>\n",
              "      <td>500</td>\n",
              "      <td>KG</td>\n",
              "      <td>500</td>\n",
              "      <td>CM3</td>\n",
              "      <td>2020-08-01</td>\n",
              "      <td>2020</td>\n",
              "      <td>8</td>\n",
              "      <td>1</td>\n",
              "    </tr>\n",
              "    <tr>\n",
              "      <th>...</th>\n",
              "      <td>...</td>\n",
              "      <td>...</td>\n",
              "      <td>...</td>\n",
              "      <td>...</td>\n",
              "      <td>...</td>\n",
              "      <td>...</td>\n",
              "      <td>...</td>\n",
              "      <td>...</td>\n",
              "      <td>...</td>\n",
              "      <td>...</td>\n",
              "      <td>...</td>\n",
              "    </tr>\n",
              "    <tr>\n",
              "      <th>68513</th>\n",
              "      <td>ADV</td>\n",
              "      <td>HAT</td>\n",
              "      <td>Parcel - Dummy</td>\n",
              "      <td>5900</td>\n",
              "      <td>KG</td>\n",
              "      <td>5900</td>\n",
              "      <td>CM3</td>\n",
              "      <td>2020-08-31</td>\n",
              "      <td>2020</td>\n",
              "      <td>8</td>\n",
              "      <td>31</td>\n",
              "    </tr>\n",
              "    <tr>\n",
              "      <th>68514</th>\n",
              "      <td>ADV</td>\n",
              "      <td>TCU</td>\n",
              "      <td>Parcel - Dummy</td>\n",
              "      <td>5800</td>\n",
              "      <td>KG</td>\n",
              "      <td>5800</td>\n",
              "      <td>CM3</td>\n",
              "      <td>2020-08-31</td>\n",
              "      <td>2020</td>\n",
              "      <td>8</td>\n",
              "      <td>31</td>\n",
              "    </tr>\n",
              "    <tr>\n",
              "      <th>68515</th>\n",
              "      <td>ADV</td>\n",
              "      <td>TIS</td>\n",
              "      <td>Parcel - Dummy</td>\n",
              "      <td>5800</td>\n",
              "      <td>KG</td>\n",
              "      <td>5800</td>\n",
              "      <td>CM3</td>\n",
              "      <td>2020-08-31</td>\n",
              "      <td>2020</td>\n",
              "      <td>8</td>\n",
              "      <td>31</td>\n",
              "    </tr>\n",
              "    <tr>\n",
              "      <th>68516</th>\n",
              "      <td>ADV</td>\n",
              "      <td>XAL</td>\n",
              "      <td>Parcel - Dummy</td>\n",
              "      <td>16000</td>\n",
              "      <td>KG</td>\n",
              "      <td>16000</td>\n",
              "      <td>CM3</td>\n",
              "      <td>2020-08-31</td>\n",
              "      <td>2020</td>\n",
              "      <td>8</td>\n",
              "      <td>31</td>\n",
              "    </tr>\n",
              "    <tr>\n",
              "      <th>68517</th>\n",
              "      <td>ADV</td>\n",
              "      <td>QBTN</td>\n",
              "      <td>Parcel - Dummy</td>\n",
              "      <td>200</td>\n",
              "      <td>KG</td>\n",
              "      <td>200</td>\n",
              "      <td>CM3</td>\n",
              "      <td>2020-08-31</td>\n",
              "      <td>2020</td>\n",
              "      <td>8</td>\n",
              "      <td>31</td>\n",
              "    </tr>\n",
              "  </tbody>\n",
              "</table>\n",
              "<p>68518 rows × 11 columns</p>\n",
              "</div>"
            ],
            "text/plain": [
              "      Origin Destination            Item  ...  Year month  day\n",
              "0        TCP        DHIG  Parcel - Dummy  ...  2020     8    1\n",
              "1        TCP        DHIG  Parcel - Dummy  ...  2020     8    1\n",
              "2        TCP         TML  Parcel - Dummy  ...  2020     8    1\n",
              "3        TCP         BXO  Parcel - Dummy  ...  2020     8    1\n",
              "4        TCP         TTM  Parcel - Dummy  ...  2020     8    1\n",
              "...      ...         ...             ...  ...   ...   ...  ...\n",
              "68513    ADV         HAT  Parcel - Dummy  ...  2020     8   31\n",
              "68514    ADV         TCU  Parcel - Dummy  ...  2020     8   31\n",
              "68515    ADV         TIS  Parcel - Dummy  ...  2020     8   31\n",
              "68516    ADV         XAL  Parcel - Dummy  ...  2020     8   31\n",
              "68517    ADV        QBTN  Parcel - Dummy  ...  2020     8   31\n",
              "\n",
              "[68518 rows x 11 columns]"
            ]
          },
          "metadata": {
            "tags": []
          },
          "execution_count": 215
        }
      ]
    },
    {
      "cell_type": "code",
      "metadata": {
        "id": "9Zd5RE6Wq0tq"
      },
      "source": [
        "df_train = df[df['Year']!=2020]"
      ],
      "execution_count": 216,
      "outputs": []
    },
    {
      "cell_type": "markdown",
      "metadata": {
        "id": "EloXvTnhw-Ln"
      },
      "source": [
        "**Splitting Dataset to Train and Test** \n",
        "\n"
      ]
    },
    {
      "cell_type": "code",
      "metadata": {
        "id": "S2G8K9xHwpdB"
      },
      "source": [
        "df_train=df.sample(frac=0.8,random_state=200) #random state is a seed value\n",
        "df_test=df.drop(train.index)"
      ],
      "execution_count": 217,
      "outputs": []
    },
    {
      "cell_type": "code",
      "metadata": {
        "id": "JmRWW8blxLz1",
        "outputId": "fae4d4b9-235c-409f-fcd7-421582652f48",
        "colab": {
          "base_uri": "https://localhost:8080/",
          "height": 419
        }
      },
      "source": [
        "df_train"
      ],
      "execution_count": 218,
      "outputs": [
        {
          "output_type": "execute_result",
          "data": {
            "text/html": [
              "<div>\n",
              "<style scoped>\n",
              "    .dataframe tbody tr th:only-of-type {\n",
              "        vertical-align: middle;\n",
              "    }\n",
              "\n",
              "    .dataframe tbody tr th {\n",
              "        vertical-align: top;\n",
              "    }\n",
              "\n",
              "    .dataframe thead th {\n",
              "        text-align: right;\n",
              "    }\n",
              "</style>\n",
              "<table border=\"1\" class=\"dataframe\">\n",
              "  <thead>\n",
              "    <tr style=\"text-align: right;\">\n",
              "      <th></th>\n",
              "      <th>Origin</th>\n",
              "      <th>Destination</th>\n",
              "      <th>Item</th>\n",
              "      <th>Weight</th>\n",
              "      <th>Weight UoM</th>\n",
              "      <th>Size/Volume</th>\n",
              "      <th>Volume UoM</th>\n",
              "      <th>Customer Requested Delivery Date (DD/MM/YY)</th>\n",
              "      <th>Year</th>\n",
              "      <th>month</th>\n",
              "      <th>day</th>\n",
              "    </tr>\n",
              "  </thead>\n",
              "  <tbody>\n",
              "    <tr>\n",
              "      <th>65184</th>\n",
              "      <td>TNN</td>\n",
              "      <td>BTG</td>\n",
              "      <td>Parcel - Dummy</td>\n",
              "      <td>500</td>\n",
              "      <td>KG</td>\n",
              "      <td>500</td>\n",
              "      <td>CM3</td>\n",
              "      <td>2020-08-30</td>\n",
              "      <td>2020</td>\n",
              "      <td>8</td>\n",
              "      <td>30</td>\n",
              "    </tr>\n",
              "    <tr>\n",
              "      <th>37024</th>\n",
              "      <td>TNN</td>\n",
              "      <td>TGNT</td>\n",
              "      <td>Parcel - Dummy</td>\n",
              "      <td>500</td>\n",
              "      <td>KG</td>\n",
              "      <td>500</td>\n",
              "      <td>CM3</td>\n",
              "      <td>2020-08-17</td>\n",
              "      <td>2020</td>\n",
              "      <td>8</td>\n",
              "      <td>17</td>\n",
              "    </tr>\n",
              "    <tr>\n",
              "      <th>63316</th>\n",
              "      <td>TBH</td>\n",
              "      <td>YMY</td>\n",
              "      <td>Parcel - Dummy</td>\n",
              "      <td>110</td>\n",
              "      <td>KG</td>\n",
              "      <td>110</td>\n",
              "      <td>CM3</td>\n",
              "      <td>2020-08-29</td>\n",
              "      <td>2020</td>\n",
              "      <td>8</td>\n",
              "      <td>29</td>\n",
              "    </tr>\n",
              "    <tr>\n",
              "      <th>65472</th>\n",
              "      <td>TBH</td>\n",
              "      <td>DGS</td>\n",
              "      <td>Parcel - Dummy</td>\n",
              "      <td>100</td>\n",
              "      <td>KG</td>\n",
              "      <td>100</td>\n",
              "      <td>CM3</td>\n",
              "      <td>2020-08-31</td>\n",
              "      <td>2020</td>\n",
              "      <td>8</td>\n",
              "      <td>31</td>\n",
              "    </tr>\n",
              "    <tr>\n",
              "      <th>23599</th>\n",
              "      <td>TBH</td>\n",
              "      <td>THH</td>\n",
              "      <td>Parcel - Dummy</td>\n",
              "      <td>2210</td>\n",
              "      <td>KG</td>\n",
              "      <td>2210</td>\n",
              "      <td>CM3</td>\n",
              "      <td>2020-08-11</td>\n",
              "      <td>2020</td>\n",
              "      <td>8</td>\n",
              "      <td>11</td>\n",
              "    </tr>\n",
              "    <tr>\n",
              "      <th>...</th>\n",
              "      <td>...</td>\n",
              "      <td>...</td>\n",
              "      <td>...</td>\n",
              "      <td>...</td>\n",
              "      <td>...</td>\n",
              "      <td>...</td>\n",
              "      <td>...</td>\n",
              "      <td>...</td>\n",
              "      <td>...</td>\n",
              "      <td>...</td>\n",
              "      <td>...</td>\n",
              "    </tr>\n",
              "    <tr>\n",
              "      <th>3984</th>\n",
              "      <td>TNN</td>\n",
              "      <td>DHY</td>\n",
              "      <td>Parcel - Dummy</td>\n",
              "      <td>615</td>\n",
              "      <td>KG</td>\n",
              "      <td>615</td>\n",
              "      <td>CM3</td>\n",
              "      <td>2020-08-03</td>\n",
              "      <td>2020</td>\n",
              "      <td>8</td>\n",
              "      <td>3</td>\n",
              "    </tr>\n",
              "    <tr>\n",
              "      <th>47011</th>\n",
              "      <td>ADV</td>\n",
              "      <td>BTN</td>\n",
              "      <td>Parcel - Dummy</td>\n",
              "      <td>50</td>\n",
              "      <td>KG</td>\n",
              "      <td>50</td>\n",
              "      <td>CM3</td>\n",
              "      <td>2020-08-21</td>\n",
              "      <td>2020</td>\n",
              "      <td>8</td>\n",
              "      <td>21</td>\n",
              "    </tr>\n",
              "    <tr>\n",
              "      <th>8869</th>\n",
              "      <td>ADV</td>\n",
              "      <td>AND</td>\n",
              "      <td>Parcel - Dummy</td>\n",
              "      <td>1000</td>\n",
              "      <td>KG</td>\n",
              "      <td>1000</td>\n",
              "      <td>CM3</td>\n",
              "      <td>2020-08-05</td>\n",
              "      <td>2020</td>\n",
              "      <td>8</td>\n",
              "      <td>5</td>\n",
              "    </tr>\n",
              "    <tr>\n",
              "      <th>11567</th>\n",
              "      <td>TBH</td>\n",
              "      <td>DVN</td>\n",
              "      <td>Parcel - Dummy</td>\n",
              "      <td>1100</td>\n",
              "      <td>KG</td>\n",
              "      <td>1100</td>\n",
              "      <td>CM3</td>\n",
              "      <td>2020-08-06</td>\n",
              "      <td>2020</td>\n",
              "      <td>8</td>\n",
              "      <td>6</td>\n",
              "    </tr>\n",
              "    <tr>\n",
              "      <th>3790</th>\n",
              "      <td>TNN</td>\n",
              "      <td>CBG</td>\n",
              "      <td>Parcel - Dummy</td>\n",
              "      <td>500</td>\n",
              "      <td>KG</td>\n",
              "      <td>500</td>\n",
              "      <td>CM3</td>\n",
              "      <td>2020-08-03</td>\n",
              "      <td>2020</td>\n",
              "      <td>8</td>\n",
              "      <td>3</td>\n",
              "    </tr>\n",
              "  </tbody>\n",
              "</table>\n",
              "<p>54814 rows × 11 columns</p>\n",
              "</div>"
            ],
            "text/plain": [
              "      Origin Destination            Item  ...  Year month  day\n",
              "65184    TNN         BTG  Parcel - Dummy  ...  2020     8   30\n",
              "37024    TNN        TGNT  Parcel - Dummy  ...  2020     8   17\n",
              "63316    TBH         YMY  Parcel - Dummy  ...  2020     8   29\n",
              "65472    TBH         DGS  Parcel - Dummy  ...  2020     8   31\n",
              "23599    TBH         THH  Parcel - Dummy  ...  2020     8   11\n",
              "...      ...         ...             ...  ...   ...   ...  ...\n",
              "3984     TNN         DHY  Parcel - Dummy  ...  2020     8    3\n",
              "47011    ADV         BTN  Parcel - Dummy  ...  2020     8   21\n",
              "8869     ADV         AND  Parcel - Dummy  ...  2020     8    5\n",
              "11567    TBH         DVN  Parcel - Dummy  ...  2020     8    6\n",
              "3790     TNN         CBG  Parcel - Dummy  ...  2020     8    3\n",
              "\n",
              "[54814 rows x 11 columns]"
            ]
          },
          "metadata": {
            "tags": []
          },
          "execution_count": 218
        }
      ]
    },
    {
      "cell_type": "code",
      "metadata": {
        "id": "d4V30xQJxQBJ",
        "outputId": "b081fc67-dded-40a8-f5e7-577fe25d4ab0",
        "colab": {
          "base_uri": "https://localhost:8080/",
          "height": 419
        }
      },
      "source": [
        "df_test"
      ],
      "execution_count": 219,
      "outputs": [
        {
          "output_type": "execute_result",
          "data": {
            "text/html": [
              "<div>\n",
              "<style scoped>\n",
              "    .dataframe tbody tr th:only-of-type {\n",
              "        vertical-align: middle;\n",
              "    }\n",
              "\n",
              "    .dataframe tbody tr th {\n",
              "        vertical-align: top;\n",
              "    }\n",
              "\n",
              "    .dataframe thead th {\n",
              "        text-align: right;\n",
              "    }\n",
              "</style>\n",
              "<table border=\"1\" class=\"dataframe\">\n",
              "  <thead>\n",
              "    <tr style=\"text-align: right;\">\n",
              "      <th></th>\n",
              "      <th>Origin</th>\n",
              "      <th>Destination</th>\n",
              "      <th>Item</th>\n",
              "      <th>Weight</th>\n",
              "      <th>Weight UoM</th>\n",
              "      <th>Size/Volume</th>\n",
              "      <th>Volume UoM</th>\n",
              "      <th>Customer Requested Delivery Date (DD/MM/YY)</th>\n",
              "      <th>Year</th>\n",
              "      <th>month</th>\n",
              "      <th>day</th>\n",
              "    </tr>\n",
              "  </thead>\n",
              "  <tbody>\n",
              "    <tr>\n",
              "      <th>2</th>\n",
              "      <td>TCP</td>\n",
              "      <td>TML</td>\n",
              "      <td>Parcel - Dummy</td>\n",
              "      <td>200</td>\n",
              "      <td>KG</td>\n",
              "      <td>200</td>\n",
              "      <td>CM3</td>\n",
              "      <td>2020-08-01</td>\n",
              "      <td>2020</td>\n",
              "      <td>8</td>\n",
              "      <td>1</td>\n",
              "    </tr>\n",
              "    <tr>\n",
              "      <th>3</th>\n",
              "      <td>TCP</td>\n",
              "      <td>BXO</td>\n",
              "      <td>Parcel - Dummy</td>\n",
              "      <td>500</td>\n",
              "      <td>KG</td>\n",
              "      <td>500</td>\n",
              "      <td>CM3</td>\n",
              "      <td>2020-08-01</td>\n",
              "      <td>2020</td>\n",
              "      <td>8</td>\n",
              "      <td>1</td>\n",
              "    </tr>\n",
              "    <tr>\n",
              "      <th>4</th>\n",
              "      <td>TCP</td>\n",
              "      <td>TTM</td>\n",
              "      <td>Parcel - Dummy</td>\n",
              "      <td>500</td>\n",
              "      <td>KG</td>\n",
              "      <td>500</td>\n",
              "      <td>CM3</td>\n",
              "      <td>2020-08-01</td>\n",
              "      <td>2020</td>\n",
              "      <td>8</td>\n",
              "      <td>1</td>\n",
              "    </tr>\n",
              "    <tr>\n",
              "      <th>5</th>\n",
              "      <td>TCP</td>\n",
              "      <td>TPGG</td>\n",
              "      <td>Parcel - Dummy</td>\n",
              "      <td>200</td>\n",
              "      <td>KG</td>\n",
              "      <td>200</td>\n",
              "      <td>CM3</td>\n",
              "      <td>2020-08-01</td>\n",
              "      <td>2020</td>\n",
              "      <td>8</td>\n",
              "      <td>1</td>\n",
              "    </tr>\n",
              "    <tr>\n",
              "      <th>17</th>\n",
              "      <td>TNN</td>\n",
              "      <td>STNN</td>\n",
              "      <td>Parcel - Dummy</td>\n",
              "      <td>50</td>\n",
              "      <td>KG</td>\n",
              "      <td>50</td>\n",
              "      <td>CM3</td>\n",
              "      <td>2020-08-01</td>\n",
              "      <td>2020</td>\n",
              "      <td>8</td>\n",
              "      <td>1</td>\n",
              "    </tr>\n",
              "    <tr>\n",
              "      <th>...</th>\n",
              "      <td>...</td>\n",
              "      <td>...</td>\n",
              "      <td>...</td>\n",
              "      <td>...</td>\n",
              "      <td>...</td>\n",
              "      <td>...</td>\n",
              "      <td>...</td>\n",
              "      <td>...</td>\n",
              "      <td>...</td>\n",
              "      <td>...</td>\n",
              "      <td>...</td>\n",
              "    </tr>\n",
              "    <tr>\n",
              "      <th>68497</th>\n",
              "      <td>ADV</td>\n",
              "      <td>LNN</td>\n",
              "      <td>Parcel - Dummy</td>\n",
              "      <td>100</td>\n",
              "      <td>KG</td>\n",
              "      <td>100</td>\n",
              "      <td>CM3</td>\n",
              "      <td>2020-08-31</td>\n",
              "      <td>2020</td>\n",
              "      <td>8</td>\n",
              "      <td>31</td>\n",
              "    </tr>\n",
              "    <tr>\n",
              "      <th>68505</th>\n",
              "      <td>ADV</td>\n",
              "      <td>HBHNDP</td>\n",
              "      <td>Parcel - Dummy</td>\n",
              "      <td>100</td>\n",
              "      <td>KG</td>\n",
              "      <td>100</td>\n",
              "      <td>CM3</td>\n",
              "      <td>2020-08-31</td>\n",
              "      <td>2020</td>\n",
              "      <td>8</td>\n",
              "      <td>31</td>\n",
              "    </tr>\n",
              "    <tr>\n",
              "      <th>68511</th>\n",
              "      <td>ADV</td>\n",
              "      <td>TGG</td>\n",
              "      <td>Parcel - Dummy</td>\n",
              "      <td>35000</td>\n",
              "      <td>KG</td>\n",
              "      <td>35000</td>\n",
              "      <td>CM3</td>\n",
              "      <td>2020-08-31</td>\n",
              "      <td>2020</td>\n",
              "      <td>8</td>\n",
              "      <td>31</td>\n",
              "    </tr>\n",
              "    <tr>\n",
              "      <th>68513</th>\n",
              "      <td>ADV</td>\n",
              "      <td>HAT</td>\n",
              "      <td>Parcel - Dummy</td>\n",
              "      <td>5900</td>\n",
              "      <td>KG</td>\n",
              "      <td>5900</td>\n",
              "      <td>CM3</td>\n",
              "      <td>2020-08-31</td>\n",
              "      <td>2020</td>\n",
              "      <td>8</td>\n",
              "      <td>31</td>\n",
              "    </tr>\n",
              "    <tr>\n",
              "      <th>68514</th>\n",
              "      <td>ADV</td>\n",
              "      <td>TCU</td>\n",
              "      <td>Parcel - Dummy</td>\n",
              "      <td>5800</td>\n",
              "      <td>KG</td>\n",
              "      <td>5800</td>\n",
              "      <td>CM3</td>\n",
              "      <td>2020-08-31</td>\n",
              "      <td>2020</td>\n",
              "      <td>8</td>\n",
              "      <td>31</td>\n",
              "    </tr>\n",
              "  </tbody>\n",
              "</table>\n",
              "<p>13704 rows × 11 columns</p>\n",
              "</div>"
            ],
            "text/plain": [
              "      Origin Destination            Item  ...  Year month  day\n",
              "2        TCP         TML  Parcel - Dummy  ...  2020     8    1\n",
              "3        TCP         BXO  Parcel - Dummy  ...  2020     8    1\n",
              "4        TCP         TTM  Parcel - Dummy  ...  2020     8    1\n",
              "5        TCP        TPGG  Parcel - Dummy  ...  2020     8    1\n",
              "17       TNN        STNN  Parcel - Dummy  ...  2020     8    1\n",
              "...      ...         ...             ...  ...   ...   ...  ...\n",
              "68497    ADV         LNN  Parcel - Dummy  ...  2020     8   31\n",
              "68505    ADV      HBHNDP  Parcel - Dummy  ...  2020     8   31\n",
              "68511    ADV         TGG  Parcel - Dummy  ...  2020     8   31\n",
              "68513    ADV         HAT  Parcel - Dummy  ...  2020     8   31\n",
              "68514    ADV         TCU  Parcel - Dummy  ...  2020     8   31\n",
              "\n",
              "[13704 rows x 11 columns]"
            ]
          },
          "metadata": {
            "tags": []
          },
          "execution_count": 219
        }
      ]
    },
    {
      "cell_type": "code",
      "metadata": {
        "id": "DaogRtlPq0ty",
        "outputId": "5b6cdc0b-83f4-4008-aa9c-40719d48b049",
        "colab": {
          "base_uri": "https://localhost:8080/"
        }
      },
      "source": [
        "df_train.isnull().sum()"
      ],
      "execution_count": 220,
      "outputs": [
        {
          "output_type": "execute_result",
          "data": {
            "text/plain": [
              "Origin                                          0\n",
              "Destination                                    26\n",
              "Item                                            0\n",
              "Weight                                          0\n",
              "Weight UoM                                      0\n",
              "Size/Volume                                     0\n",
              "Volume UoM                                      0\n",
              "Customer Requested Delivery Date (DD/MM/YY)     0\n",
              "Year                                            0\n",
              "month                                           0\n",
              "day                                             0\n",
              "dtype: int64"
            ]
          },
          "metadata": {
            "tags": []
          },
          "execution_count": 220
        }
      ]
    },
    {
      "cell_type": "code",
      "metadata": {
        "id": "sCVQSMxHq0t3",
        "outputId": "369beea6-b2bf-47e0-932c-ea54f9ab0bea",
        "colab": {
          "base_uri": "https://localhost:8080/"
        }
      },
      "source": [
        "df_train.dtypes"
      ],
      "execution_count": 221,
      "outputs": [
        {
          "output_type": "execute_result",
          "data": {
            "text/plain": [
              "Origin                                                 object\n",
              "Destination                                            object\n",
              "Item                                                   object\n",
              "Weight                                                  int64\n",
              "Weight UoM                                             object\n",
              "Size/Volume                                             int64\n",
              "Volume UoM                                             object\n",
              "Customer Requested Delivery Date (DD/MM/YY)    datetime64[ns]\n",
              "Year                                                    int64\n",
              "month                                                   int64\n",
              "day                                                     int64\n",
              "dtype: object"
            ]
          },
          "metadata": {
            "tags": []
          },
          "execution_count": 221
        }
      ]
    },
    {
      "cell_type": "code",
      "metadata": {
        "id": "ifyLk84Cq0t9",
        "outputId": "c35035bf-cd14-4550-fcbf-a4a29f3488fb",
        "colab": {
          "base_uri": "https://localhost:8080/",
          "height": 204
        }
      },
      "source": [
        "df_train.head()"
      ],
      "execution_count": 222,
      "outputs": [
        {
          "output_type": "execute_result",
          "data": {
            "text/html": [
              "<div>\n",
              "<style scoped>\n",
              "    .dataframe tbody tr th:only-of-type {\n",
              "        vertical-align: middle;\n",
              "    }\n",
              "\n",
              "    .dataframe tbody tr th {\n",
              "        vertical-align: top;\n",
              "    }\n",
              "\n",
              "    .dataframe thead th {\n",
              "        text-align: right;\n",
              "    }\n",
              "</style>\n",
              "<table border=\"1\" class=\"dataframe\">\n",
              "  <thead>\n",
              "    <tr style=\"text-align: right;\">\n",
              "      <th></th>\n",
              "      <th>Origin</th>\n",
              "      <th>Destination</th>\n",
              "      <th>Item</th>\n",
              "      <th>Weight</th>\n",
              "      <th>Weight UoM</th>\n",
              "      <th>Size/Volume</th>\n",
              "      <th>Volume UoM</th>\n",
              "      <th>Customer Requested Delivery Date (DD/MM/YY)</th>\n",
              "      <th>Year</th>\n",
              "      <th>month</th>\n",
              "      <th>day</th>\n",
              "    </tr>\n",
              "  </thead>\n",
              "  <tbody>\n",
              "    <tr>\n",
              "      <th>65184</th>\n",
              "      <td>TNN</td>\n",
              "      <td>BTG</td>\n",
              "      <td>Parcel - Dummy</td>\n",
              "      <td>500</td>\n",
              "      <td>KG</td>\n",
              "      <td>500</td>\n",
              "      <td>CM3</td>\n",
              "      <td>2020-08-30</td>\n",
              "      <td>2020</td>\n",
              "      <td>8</td>\n",
              "      <td>30</td>\n",
              "    </tr>\n",
              "    <tr>\n",
              "      <th>37024</th>\n",
              "      <td>TNN</td>\n",
              "      <td>TGNT</td>\n",
              "      <td>Parcel - Dummy</td>\n",
              "      <td>500</td>\n",
              "      <td>KG</td>\n",
              "      <td>500</td>\n",
              "      <td>CM3</td>\n",
              "      <td>2020-08-17</td>\n",
              "      <td>2020</td>\n",
              "      <td>8</td>\n",
              "      <td>17</td>\n",
              "    </tr>\n",
              "    <tr>\n",
              "      <th>63316</th>\n",
              "      <td>TBH</td>\n",
              "      <td>YMY</td>\n",
              "      <td>Parcel - Dummy</td>\n",
              "      <td>110</td>\n",
              "      <td>KG</td>\n",
              "      <td>110</td>\n",
              "      <td>CM3</td>\n",
              "      <td>2020-08-29</td>\n",
              "      <td>2020</td>\n",
              "      <td>8</td>\n",
              "      <td>29</td>\n",
              "    </tr>\n",
              "    <tr>\n",
              "      <th>65472</th>\n",
              "      <td>TBH</td>\n",
              "      <td>DGS</td>\n",
              "      <td>Parcel - Dummy</td>\n",
              "      <td>100</td>\n",
              "      <td>KG</td>\n",
              "      <td>100</td>\n",
              "      <td>CM3</td>\n",
              "      <td>2020-08-31</td>\n",
              "      <td>2020</td>\n",
              "      <td>8</td>\n",
              "      <td>31</td>\n",
              "    </tr>\n",
              "    <tr>\n",
              "      <th>23599</th>\n",
              "      <td>TBH</td>\n",
              "      <td>THH</td>\n",
              "      <td>Parcel - Dummy</td>\n",
              "      <td>2210</td>\n",
              "      <td>KG</td>\n",
              "      <td>2210</td>\n",
              "      <td>CM3</td>\n",
              "      <td>2020-08-11</td>\n",
              "      <td>2020</td>\n",
              "      <td>8</td>\n",
              "      <td>11</td>\n",
              "    </tr>\n",
              "  </tbody>\n",
              "</table>\n",
              "</div>"
            ],
            "text/plain": [
              "      Origin Destination            Item  ...  Year month  day\n",
              "65184    TNN         BTG  Parcel - Dummy  ...  2020     8   30\n",
              "37024    TNN        TGNT  Parcel - Dummy  ...  2020     8   17\n",
              "63316    TBH         YMY  Parcel - Dummy  ...  2020     8   29\n",
              "65472    TBH         DGS  Parcel - Dummy  ...  2020     8   31\n",
              "23599    TBH         THH  Parcel - Dummy  ...  2020     8   11\n",
              "\n",
              "[5 rows x 11 columns]"
            ]
          },
          "metadata": {
            "tags": []
          },
          "execution_count": 222
        }
      ]
    },
    {
      "cell_type": "code",
      "metadata": {
        "id": "BTp8D3ksq0uE"
      },
      "source": [
        "df1 = df_train.iloc[:,[0,1,2,3,5,8,9,10]]\n",
        "df2 = df_test.iloc[:,[0,1,2,3,5,8,9,10]]"
      ],
      "execution_count": 223,
      "outputs": []
    },
    {
      "cell_type": "code",
      "metadata": {
        "id": "MNmKT5UDq0uK",
        "outputId": "658673c3-f9c7-463a-cfad-bae8736a47b6",
        "colab": {
          "base_uri": "https://localhost:8080/",
          "height": 419
        }
      },
      "source": [
        "df1"
      ],
      "execution_count": 224,
      "outputs": [
        {
          "output_type": "execute_result",
          "data": {
            "text/html": [
              "<div>\n",
              "<style scoped>\n",
              "    .dataframe tbody tr th:only-of-type {\n",
              "        vertical-align: middle;\n",
              "    }\n",
              "\n",
              "    .dataframe tbody tr th {\n",
              "        vertical-align: top;\n",
              "    }\n",
              "\n",
              "    .dataframe thead th {\n",
              "        text-align: right;\n",
              "    }\n",
              "</style>\n",
              "<table border=\"1\" class=\"dataframe\">\n",
              "  <thead>\n",
              "    <tr style=\"text-align: right;\">\n",
              "      <th></th>\n",
              "      <th>Origin</th>\n",
              "      <th>Destination</th>\n",
              "      <th>Item</th>\n",
              "      <th>Weight</th>\n",
              "      <th>Size/Volume</th>\n",
              "      <th>Year</th>\n",
              "      <th>month</th>\n",
              "      <th>day</th>\n",
              "    </tr>\n",
              "  </thead>\n",
              "  <tbody>\n",
              "    <tr>\n",
              "      <th>65184</th>\n",
              "      <td>TNN</td>\n",
              "      <td>BTG</td>\n",
              "      <td>Parcel - Dummy</td>\n",
              "      <td>500</td>\n",
              "      <td>500</td>\n",
              "      <td>2020</td>\n",
              "      <td>8</td>\n",
              "      <td>30</td>\n",
              "    </tr>\n",
              "    <tr>\n",
              "      <th>37024</th>\n",
              "      <td>TNN</td>\n",
              "      <td>TGNT</td>\n",
              "      <td>Parcel - Dummy</td>\n",
              "      <td>500</td>\n",
              "      <td>500</td>\n",
              "      <td>2020</td>\n",
              "      <td>8</td>\n",
              "      <td>17</td>\n",
              "    </tr>\n",
              "    <tr>\n",
              "      <th>63316</th>\n",
              "      <td>TBH</td>\n",
              "      <td>YMY</td>\n",
              "      <td>Parcel - Dummy</td>\n",
              "      <td>110</td>\n",
              "      <td>110</td>\n",
              "      <td>2020</td>\n",
              "      <td>8</td>\n",
              "      <td>29</td>\n",
              "    </tr>\n",
              "    <tr>\n",
              "      <th>65472</th>\n",
              "      <td>TBH</td>\n",
              "      <td>DGS</td>\n",
              "      <td>Parcel - Dummy</td>\n",
              "      <td>100</td>\n",
              "      <td>100</td>\n",
              "      <td>2020</td>\n",
              "      <td>8</td>\n",
              "      <td>31</td>\n",
              "    </tr>\n",
              "    <tr>\n",
              "      <th>23599</th>\n",
              "      <td>TBH</td>\n",
              "      <td>THH</td>\n",
              "      <td>Parcel - Dummy</td>\n",
              "      <td>2210</td>\n",
              "      <td>2210</td>\n",
              "      <td>2020</td>\n",
              "      <td>8</td>\n",
              "      <td>11</td>\n",
              "    </tr>\n",
              "    <tr>\n",
              "      <th>...</th>\n",
              "      <td>...</td>\n",
              "      <td>...</td>\n",
              "      <td>...</td>\n",
              "      <td>...</td>\n",
              "      <td>...</td>\n",
              "      <td>...</td>\n",
              "      <td>...</td>\n",
              "      <td>...</td>\n",
              "    </tr>\n",
              "    <tr>\n",
              "      <th>3984</th>\n",
              "      <td>TNN</td>\n",
              "      <td>DHY</td>\n",
              "      <td>Parcel - Dummy</td>\n",
              "      <td>615</td>\n",
              "      <td>615</td>\n",
              "      <td>2020</td>\n",
              "      <td>8</td>\n",
              "      <td>3</td>\n",
              "    </tr>\n",
              "    <tr>\n",
              "      <th>47011</th>\n",
              "      <td>ADV</td>\n",
              "      <td>BTN</td>\n",
              "      <td>Parcel - Dummy</td>\n",
              "      <td>50</td>\n",
              "      <td>50</td>\n",
              "      <td>2020</td>\n",
              "      <td>8</td>\n",
              "      <td>21</td>\n",
              "    </tr>\n",
              "    <tr>\n",
              "      <th>8869</th>\n",
              "      <td>ADV</td>\n",
              "      <td>AND</td>\n",
              "      <td>Parcel - Dummy</td>\n",
              "      <td>1000</td>\n",
              "      <td>1000</td>\n",
              "      <td>2020</td>\n",
              "      <td>8</td>\n",
              "      <td>5</td>\n",
              "    </tr>\n",
              "    <tr>\n",
              "      <th>11567</th>\n",
              "      <td>TBH</td>\n",
              "      <td>DVN</td>\n",
              "      <td>Parcel - Dummy</td>\n",
              "      <td>1100</td>\n",
              "      <td>1100</td>\n",
              "      <td>2020</td>\n",
              "      <td>8</td>\n",
              "      <td>6</td>\n",
              "    </tr>\n",
              "    <tr>\n",
              "      <th>3790</th>\n",
              "      <td>TNN</td>\n",
              "      <td>CBG</td>\n",
              "      <td>Parcel - Dummy</td>\n",
              "      <td>500</td>\n",
              "      <td>500</td>\n",
              "      <td>2020</td>\n",
              "      <td>8</td>\n",
              "      <td>3</td>\n",
              "    </tr>\n",
              "  </tbody>\n",
              "</table>\n",
              "<p>54814 rows × 8 columns</p>\n",
              "</div>"
            ],
            "text/plain": [
              "      Origin Destination            Item  Weight  Size/Volume  Year  month  day\n",
              "65184    TNN         BTG  Parcel - Dummy     500          500  2020      8   30\n",
              "37024    TNN        TGNT  Parcel - Dummy     500          500  2020      8   17\n",
              "63316    TBH         YMY  Parcel - Dummy     110          110  2020      8   29\n",
              "65472    TBH         DGS  Parcel - Dummy     100          100  2020      8   31\n",
              "23599    TBH         THH  Parcel - Dummy    2210         2210  2020      8   11\n",
              "...      ...         ...             ...     ...          ...   ...    ...  ...\n",
              "3984     TNN         DHY  Parcel - Dummy     615          615  2020      8    3\n",
              "47011    ADV         BTN  Parcel - Dummy      50           50  2020      8   21\n",
              "8869     ADV         AND  Parcel - Dummy    1000         1000  2020      8    5\n",
              "11567    TBH         DVN  Parcel - Dummy    1100         1100  2020      8    6\n",
              "3790     TNN         CBG  Parcel - Dummy     500          500  2020      8    3\n",
              "\n",
              "[54814 rows x 8 columns]"
            ]
          },
          "metadata": {
            "tags": []
          },
          "execution_count": 224
        }
      ]
    },
    {
      "cell_type": "code",
      "metadata": {
        "id": "tyEp3W3u6_xd",
        "outputId": "51a6329b-93b0-4bff-c6d4-2521a90ab1c1",
        "colab": {
          "base_uri": "https://localhost:8080/",
          "height": 419
        }
      },
      "source": [
        "df2"
      ],
      "execution_count": 225,
      "outputs": [
        {
          "output_type": "execute_result",
          "data": {
            "text/html": [
              "<div>\n",
              "<style scoped>\n",
              "    .dataframe tbody tr th:only-of-type {\n",
              "        vertical-align: middle;\n",
              "    }\n",
              "\n",
              "    .dataframe tbody tr th {\n",
              "        vertical-align: top;\n",
              "    }\n",
              "\n",
              "    .dataframe thead th {\n",
              "        text-align: right;\n",
              "    }\n",
              "</style>\n",
              "<table border=\"1\" class=\"dataframe\">\n",
              "  <thead>\n",
              "    <tr style=\"text-align: right;\">\n",
              "      <th></th>\n",
              "      <th>Origin</th>\n",
              "      <th>Destination</th>\n",
              "      <th>Item</th>\n",
              "      <th>Weight</th>\n",
              "      <th>Size/Volume</th>\n",
              "      <th>Year</th>\n",
              "      <th>month</th>\n",
              "      <th>day</th>\n",
              "    </tr>\n",
              "  </thead>\n",
              "  <tbody>\n",
              "    <tr>\n",
              "      <th>2</th>\n",
              "      <td>TCP</td>\n",
              "      <td>TML</td>\n",
              "      <td>Parcel - Dummy</td>\n",
              "      <td>200</td>\n",
              "      <td>200</td>\n",
              "      <td>2020</td>\n",
              "      <td>8</td>\n",
              "      <td>1</td>\n",
              "    </tr>\n",
              "    <tr>\n",
              "      <th>3</th>\n",
              "      <td>TCP</td>\n",
              "      <td>BXO</td>\n",
              "      <td>Parcel - Dummy</td>\n",
              "      <td>500</td>\n",
              "      <td>500</td>\n",
              "      <td>2020</td>\n",
              "      <td>8</td>\n",
              "      <td>1</td>\n",
              "    </tr>\n",
              "    <tr>\n",
              "      <th>4</th>\n",
              "      <td>TCP</td>\n",
              "      <td>TTM</td>\n",
              "      <td>Parcel - Dummy</td>\n",
              "      <td>500</td>\n",
              "      <td>500</td>\n",
              "      <td>2020</td>\n",
              "      <td>8</td>\n",
              "      <td>1</td>\n",
              "    </tr>\n",
              "    <tr>\n",
              "      <th>5</th>\n",
              "      <td>TCP</td>\n",
              "      <td>TPGG</td>\n",
              "      <td>Parcel - Dummy</td>\n",
              "      <td>200</td>\n",
              "      <td>200</td>\n",
              "      <td>2020</td>\n",
              "      <td>8</td>\n",
              "      <td>1</td>\n",
              "    </tr>\n",
              "    <tr>\n",
              "      <th>17</th>\n",
              "      <td>TNN</td>\n",
              "      <td>STNN</td>\n",
              "      <td>Parcel - Dummy</td>\n",
              "      <td>50</td>\n",
              "      <td>50</td>\n",
              "      <td>2020</td>\n",
              "      <td>8</td>\n",
              "      <td>1</td>\n",
              "    </tr>\n",
              "    <tr>\n",
              "      <th>...</th>\n",
              "      <td>...</td>\n",
              "      <td>...</td>\n",
              "      <td>...</td>\n",
              "      <td>...</td>\n",
              "      <td>...</td>\n",
              "      <td>...</td>\n",
              "      <td>...</td>\n",
              "      <td>...</td>\n",
              "    </tr>\n",
              "    <tr>\n",
              "      <th>68497</th>\n",
              "      <td>ADV</td>\n",
              "      <td>LNN</td>\n",
              "      <td>Parcel - Dummy</td>\n",
              "      <td>100</td>\n",
              "      <td>100</td>\n",
              "      <td>2020</td>\n",
              "      <td>8</td>\n",
              "      <td>31</td>\n",
              "    </tr>\n",
              "    <tr>\n",
              "      <th>68505</th>\n",
              "      <td>ADV</td>\n",
              "      <td>HBHNDP</td>\n",
              "      <td>Parcel - Dummy</td>\n",
              "      <td>100</td>\n",
              "      <td>100</td>\n",
              "      <td>2020</td>\n",
              "      <td>8</td>\n",
              "      <td>31</td>\n",
              "    </tr>\n",
              "    <tr>\n",
              "      <th>68511</th>\n",
              "      <td>ADV</td>\n",
              "      <td>TGG</td>\n",
              "      <td>Parcel - Dummy</td>\n",
              "      <td>35000</td>\n",
              "      <td>35000</td>\n",
              "      <td>2020</td>\n",
              "      <td>8</td>\n",
              "      <td>31</td>\n",
              "    </tr>\n",
              "    <tr>\n",
              "      <th>68513</th>\n",
              "      <td>ADV</td>\n",
              "      <td>HAT</td>\n",
              "      <td>Parcel - Dummy</td>\n",
              "      <td>5900</td>\n",
              "      <td>5900</td>\n",
              "      <td>2020</td>\n",
              "      <td>8</td>\n",
              "      <td>31</td>\n",
              "    </tr>\n",
              "    <tr>\n",
              "      <th>68514</th>\n",
              "      <td>ADV</td>\n",
              "      <td>TCU</td>\n",
              "      <td>Parcel - Dummy</td>\n",
              "      <td>5800</td>\n",
              "      <td>5800</td>\n",
              "      <td>2020</td>\n",
              "      <td>8</td>\n",
              "      <td>31</td>\n",
              "    </tr>\n",
              "  </tbody>\n",
              "</table>\n",
              "<p>13704 rows × 8 columns</p>\n",
              "</div>"
            ],
            "text/plain": [
              "      Origin Destination            Item  Weight  Size/Volume  Year  month  day\n",
              "2        TCP         TML  Parcel - Dummy     200          200  2020      8    1\n",
              "3        TCP         BXO  Parcel - Dummy     500          500  2020      8    1\n",
              "4        TCP         TTM  Parcel - Dummy     500          500  2020      8    1\n",
              "5        TCP        TPGG  Parcel - Dummy     200          200  2020      8    1\n",
              "17       TNN        STNN  Parcel - Dummy      50           50  2020      8    1\n",
              "...      ...         ...             ...     ...          ...   ...    ...  ...\n",
              "68497    ADV         LNN  Parcel - Dummy     100          100  2020      8   31\n",
              "68505    ADV      HBHNDP  Parcel - Dummy     100          100  2020      8   31\n",
              "68511    ADV         TGG  Parcel - Dummy   35000        35000  2020      8   31\n",
              "68513    ADV         HAT  Parcel - Dummy    5900         5900  2020      8   31\n",
              "68514    ADV         TCU  Parcel - Dummy    5800         5800  2020      8   31\n",
              "\n",
              "[13704 rows x 8 columns]"
            ]
          },
          "metadata": {
            "tags": []
          },
          "execution_count": 225
        }
      ]
    },
    {
      "cell_type": "code",
      "metadata": {
        "id": "1KvnaLg7q0uP",
        "outputId": "e4db1fb4-db00-48a3-9742-99eb0530073b",
        "colab": {
          "base_uri": "https://localhost:8080/"
        }
      },
      "source": [
        "for col in df1.columns:\n",
        "    print(col,':' ,len(df1[col].unique()))"
      ],
      "execution_count": 226,
      "outputs": [
        {
          "output_type": "stream",
          "text": [
            "Origin : 5\n",
            "Destination : 1251\n",
            "Item : 1\n",
            "Weight : 1451\n",
            "Size/Volume : 1451\n",
            "Year : 1\n",
            "month : 1\n",
            "day : 31\n"
          ],
          "name": "stdout"
        }
      ]
    },
    {
      "cell_type": "code",
      "metadata": {
        "id": "8fx73bHE-Nqm",
        "outputId": "ea751cc7-3bf7-445c-8537-897e54122e01",
        "colab": {
          "base_uri": "https://localhost:8080/"
        }
      },
      "source": [
        "for col in df2.columns:\n",
        "    print(col,':' ,len(df2[col].unique()))"
      ],
      "execution_count": 227,
      "outputs": [
        {
          "output_type": "stream",
          "text": [
            "Origin : 5\n",
            "Destination : 1157\n",
            "Item : 1\n",
            "Weight : 727\n",
            "Size/Volume : 727\n",
            "Year : 1\n",
            "month : 1\n",
            "day : 31\n"
          ],
          "name": "stdout"
        }
      ]
    },
    {
      "cell_type": "code",
      "metadata": {
        "id": "o0mkRt92q0uT"
      },
      "source": [
        "labels = df1['Origin'].astype('category').cat.categories.tolist()\n",
        "\n",
        "labels1 = df1['Destination'].astype('category').cat.categories.tolist()\n",
        "\n",
        "labels2 = df1['Item'].astype('category').cat.categories.tolist()"
      ],
      "execution_count": 265,
      "outputs": []
    },
    {
      "cell_type": "code",
      "metadata": {
        "id": "zVh5c-tnq0uX"
      },
      "source": [
        "replace_map_comp = {'Origin' : {k: v for k,v in zip(tst_labels,list(range(1,len(tst_labels)+1)))}}\n",
        "replace_map_comp1 = {'Destination' : {k: v for k,v in zip(tst_labels1,list(range(1,len(tst_labels1)+1)))}}\n",
        "replace_map_comp2 = {'Item' : {k: v for k,v in zip(tst_labels2,list(range(1,len(tst_labels2)+1)))}}"
      ],
      "execution_count": 272,
      "outputs": []
    },
    {
      "cell_type": "code",
      "metadata": {
        "id": "_YbGxfPvHKbQ"
      },
      "source": [
        "tst_labels = df2['Origin'].astype('category').cat.categories.tolist()\n",
        "\n",
        "tst_labels1 = df2['Destination'].astype('category').cat.categories.tolist()\n",
        "\n",
        "tst_labels2 = df2['Item'].astype('category').cat.categories.tolist()"
      ],
      "execution_count": 267,
      "outputs": []
    },
    {
      "cell_type": "code",
      "metadata": {
        "id": "O6Owb8GXHMD-"
      },
      "source": [
        "replace_map_comp3 = {'Origin' : {k: v for k,v in zip(tst_labels,list(range(1,len(tst_labels)+1)))}}\n",
        "replace_map_comp4 = {'Destination' : {k: v for k,v in zip(tst_labels1,list(range(1,len(tst_labels1)+1)))}}\n",
        "replace_map_comp5 = {'Item' : {k: v for k,v in zip(tst_labels2,list(range(1,len(tst_labels2)+1)))}}"
      ],
      "execution_count": 268,
      "outputs": []
    },
    {
      "cell_type": "code",
      "metadata": {
        "id": "Rj_f0ZB2q0ub",
        "outputId": "3b228251-7ddb-445a-8779-9bda93a3e551",
        "colab": {
          "base_uri": "https://localhost:8080/",
          "height": 204
        }
      },
      "source": [
        "df1.head()"
      ],
      "execution_count": 273,
      "outputs": [
        {
          "output_type": "execute_result",
          "data": {
            "text/html": [
              "<div>\n",
              "<style scoped>\n",
              "    .dataframe tbody tr th:only-of-type {\n",
              "        vertical-align: middle;\n",
              "    }\n",
              "\n",
              "    .dataframe tbody tr th {\n",
              "        vertical-align: top;\n",
              "    }\n",
              "\n",
              "    .dataframe thead th {\n",
              "        text-align: right;\n",
              "    }\n",
              "</style>\n",
              "<table border=\"1\" class=\"dataframe\">\n",
              "  <thead>\n",
              "    <tr style=\"text-align: right;\">\n",
              "      <th></th>\n",
              "      <th>Origin</th>\n",
              "      <th>Destination</th>\n",
              "      <th>Item</th>\n",
              "      <th>Weight</th>\n",
              "      <th>Size/Volume</th>\n",
              "      <th>Year</th>\n",
              "      <th>month</th>\n",
              "      <th>day</th>\n",
              "    </tr>\n",
              "  </thead>\n",
              "  <tbody>\n",
              "    <tr>\n",
              "      <th>65184</th>\n",
              "      <td>5</td>\n",
              "      <td>93.0</td>\n",
              "      <td>1</td>\n",
              "      <td>500</td>\n",
              "      <td>500</td>\n",
              "      <td>2020</td>\n",
              "      <td>8</td>\n",
              "      <td>30</td>\n",
              "    </tr>\n",
              "    <tr>\n",
              "      <th>37024</th>\n",
              "      <td>5</td>\n",
              "      <td>921.0</td>\n",
              "      <td>1</td>\n",
              "      <td>500</td>\n",
              "      <td>500</td>\n",
              "      <td>2020</td>\n",
              "      <td>8</td>\n",
              "      <td>17</td>\n",
              "    </tr>\n",
              "    <tr>\n",
              "      <th>63316</th>\n",
              "      <td>3</td>\n",
              "      <td>1139.0</td>\n",
              "      <td>1</td>\n",
              "      <td>110</td>\n",
              "      <td>110</td>\n",
              "      <td>2020</td>\n",
              "      <td>8</td>\n",
              "      <td>29</td>\n",
              "    </tr>\n",
              "    <tr>\n",
              "      <th>65472</th>\n",
              "      <td>3</td>\n",
              "      <td>246.0</td>\n",
              "      <td>1</td>\n",
              "      <td>100</td>\n",
              "      <td>100</td>\n",
              "      <td>2020</td>\n",
              "      <td>8</td>\n",
              "      <td>31</td>\n",
              "    </tr>\n",
              "    <tr>\n",
              "      <th>23599</th>\n",
              "      <td>3</td>\n",
              "      <td>932.0</td>\n",
              "      <td>1</td>\n",
              "      <td>2210</td>\n",
              "      <td>2210</td>\n",
              "      <td>2020</td>\n",
              "      <td>8</td>\n",
              "      <td>11</td>\n",
              "    </tr>\n",
              "  </tbody>\n",
              "</table>\n",
              "</div>"
            ],
            "text/plain": [
              "       Origin  Destination  Item  Weight  Size/Volume  Year  month  day\n",
              "65184       5         93.0     1     500          500  2020      8   30\n",
              "37024       5        921.0     1     500          500  2020      8   17\n",
              "63316       3       1139.0     1     110          110  2020      8   29\n",
              "65472       3        246.0     1     100          100  2020      8   31\n",
              "23599       3        932.0     1    2210         2210  2020      8   11"
            ]
          },
          "metadata": {
            "tags": []
          },
          "execution_count": 273
        }
      ]
    },
    {
      "cell_type": "code",
      "metadata": {
        "id": "vIFJTyXFHU2C",
        "outputId": "b0fc4de0-c984-4bc9-d5b7-e06241c9c29c",
        "colab": {
          "base_uri": "https://localhost:8080/",
          "height": 204
        }
      },
      "source": [
        "df2.head()"
      ],
      "execution_count": 270,
      "outputs": [
        {
          "output_type": "execute_result",
          "data": {
            "text/html": [
              "<div>\n",
              "<style scoped>\n",
              "    .dataframe tbody tr th:only-of-type {\n",
              "        vertical-align: middle;\n",
              "    }\n",
              "\n",
              "    .dataframe tbody tr th {\n",
              "        vertical-align: top;\n",
              "    }\n",
              "\n",
              "    .dataframe thead th {\n",
              "        text-align: right;\n",
              "    }\n",
              "</style>\n",
              "<table border=\"1\" class=\"dataframe\">\n",
              "  <thead>\n",
              "    <tr style=\"text-align: right;\">\n",
              "      <th></th>\n",
              "      <th>Origin</th>\n",
              "      <th>Destination</th>\n",
              "      <th>Item</th>\n",
              "      <th>Weight</th>\n",
              "      <th>Size/Volume</th>\n",
              "      <th>Year</th>\n",
              "      <th>month</th>\n",
              "      <th>day</th>\n",
              "    </tr>\n",
              "  </thead>\n",
              "  <tbody>\n",
              "    <tr>\n",
              "      <th>2</th>\n",
              "      <td>4</td>\n",
              "      <td>978.0</td>\n",
              "      <td>1</td>\n",
              "      <td>200</td>\n",
              "      <td>200</td>\n",
              "      <td>2020</td>\n",
              "      <td>8</td>\n",
              "      <td>1</td>\n",
              "    </tr>\n",
              "    <tr>\n",
              "      <th>3</th>\n",
              "      <td>4</td>\n",
              "      <td>107.0</td>\n",
              "      <td>1</td>\n",
              "      <td>500</td>\n",
              "      <td>500</td>\n",
              "      <td>2020</td>\n",
              "      <td>8</td>\n",
              "      <td>1</td>\n",
              "    </tr>\n",
              "    <tr>\n",
              "      <th>4</th>\n",
              "      <td>4</td>\n",
              "      <td>1041.0</td>\n",
              "      <td>1</td>\n",
              "      <td>500</td>\n",
              "      <td>500</td>\n",
              "      <td>2020</td>\n",
              "      <td>8</td>\n",
              "      <td>1</td>\n",
              "    </tr>\n",
              "    <tr>\n",
              "      <th>5</th>\n",
              "      <td>4</td>\n",
              "      <td>1017.0</td>\n",
              "      <td>1</td>\n",
              "      <td>200</td>\n",
              "      <td>200</td>\n",
              "      <td>2020</td>\n",
              "      <td>8</td>\n",
              "      <td>1</td>\n",
              "    </tr>\n",
              "    <tr>\n",
              "      <th>17</th>\n",
              "      <td>5</td>\n",
              "      <td>895.0</td>\n",
              "      <td>1</td>\n",
              "      <td>50</td>\n",
              "      <td>50</td>\n",
              "      <td>2020</td>\n",
              "      <td>8</td>\n",
              "      <td>1</td>\n",
              "    </tr>\n",
              "  </tbody>\n",
              "</table>\n",
              "</div>"
            ],
            "text/plain": [
              "    Origin  Destination  Item  Weight  Size/Volume  Year  month  day\n",
              "2        4        978.0     1     200          200  2020      8    1\n",
              "3        4        107.0     1     500          500  2020      8    1\n",
              "4        4       1041.0     1     500          500  2020      8    1\n",
              "5        4       1017.0     1     200          200  2020      8    1\n",
              "17       5        895.0     1      50           50  2020      8    1"
            ]
          },
          "metadata": {
            "tags": []
          },
          "execution_count": 270
        }
      ]
    },
    {
      "cell_type": "code",
      "metadata": {
        "id": "XBwa7viFq0uf",
        "outputId": "361cd51f-4b4d-42e2-c3bf-e403972afbd5",
        "colab": {
          "base_uri": "https://localhost:8080/"
        }
      },
      "source": [
        "df1.replace(replace_map_comp, inplace=True)\n",
        "df1.replace(replace_map_comp1, inplace=True)\n",
        "df1.replace(replace_map_comp2, inplace=True)"
      ],
      "execution_count": 274,
      "outputs": [
        {
          "output_type": "stream",
          "text": [
            "/usr/local/lib/python3.6/dist-packages/pandas/core/indexing.py:1743: SettingWithCopyWarning: \n",
            "A value is trying to be set on a copy of a slice from a DataFrame.\n",
            "Try using .loc[row_indexer,col_indexer] = value instead\n",
            "\n",
            "See the caveats in the documentation: https://pandas.pydata.org/pandas-docs/stable/user_guide/indexing.html#returning-a-view-versus-a-copy\n",
            "  isetter(ilocs[0], value)\n"
          ],
          "name": "stderr"
        }
      ]
    },
    {
      "cell_type": "code",
      "metadata": {
        "id": "_mTvb5DCHY9c",
        "outputId": "630496f0-9c17-41b6-e4a8-235cc1aab6a8",
        "colab": {
          "base_uri": "https://localhost:8080/"
        }
      },
      "source": [
        "df2.replace(replace_map_comp3, inplace=True)\n",
        "df2.replace(replace_map_comp4, inplace=True)\n",
        "df2.replace(replace_map_comp5, inplace=True)"
      ],
      "execution_count": 275,
      "outputs": [
        {
          "output_type": "stream",
          "text": [
            "/usr/local/lib/python3.6/dist-packages/pandas/core/indexing.py:1743: SettingWithCopyWarning: \n",
            "A value is trying to be set on a copy of a slice from a DataFrame.\n",
            "Try using .loc[row_indexer,col_indexer] = value instead\n",
            "\n",
            "See the caveats in the documentation: https://pandas.pydata.org/pandas-docs/stable/user_guide/indexing.html#returning-a-view-versus-a-copy\n",
            "  isetter(ilocs[0], value)\n"
          ],
          "name": "stderr"
        }
      ]
    },
    {
      "cell_type": "code",
      "metadata": {
        "id": "cKlQvVyHq0uj",
        "outputId": "1f63fedb-eb3f-4234-f483-f263295b905b",
        "colab": {
          "base_uri": "https://localhost:8080/",
          "height": 204
        }
      },
      "source": [
        "df1.head()"
      ],
      "execution_count": 279,
      "outputs": [
        {
          "output_type": "execute_result",
          "data": {
            "text/html": [
              "<div>\n",
              "<style scoped>\n",
              "    .dataframe tbody tr th:only-of-type {\n",
              "        vertical-align: middle;\n",
              "    }\n",
              "\n",
              "    .dataframe tbody tr th {\n",
              "        vertical-align: top;\n",
              "    }\n",
              "\n",
              "    .dataframe thead th {\n",
              "        text-align: right;\n",
              "    }\n",
              "</style>\n",
              "<table border=\"1\" class=\"dataframe\">\n",
              "  <thead>\n",
              "    <tr style=\"text-align: right;\">\n",
              "      <th></th>\n",
              "      <th>Origin</th>\n",
              "      <th>Destination</th>\n",
              "      <th>Item</th>\n",
              "      <th>Weight</th>\n",
              "      <th>Size/Volume</th>\n",
              "      <th>Year</th>\n",
              "      <th>month</th>\n",
              "      <th>day</th>\n",
              "    </tr>\n",
              "  </thead>\n",
              "  <tbody>\n",
              "    <tr>\n",
              "      <th>65184</th>\n",
              "      <td>5</td>\n",
              "      <td>93.0</td>\n",
              "      <td>1</td>\n",
              "      <td>500</td>\n",
              "      <td>500</td>\n",
              "      <td>2020</td>\n",
              "      <td>8</td>\n",
              "      <td>30</td>\n",
              "    </tr>\n",
              "    <tr>\n",
              "      <th>37024</th>\n",
              "      <td>5</td>\n",
              "      <td>921.0</td>\n",
              "      <td>1</td>\n",
              "      <td>500</td>\n",
              "      <td>500</td>\n",
              "      <td>2020</td>\n",
              "      <td>8</td>\n",
              "      <td>17</td>\n",
              "    </tr>\n",
              "    <tr>\n",
              "      <th>63316</th>\n",
              "      <td>3</td>\n",
              "      <td>1139.0</td>\n",
              "      <td>1</td>\n",
              "      <td>110</td>\n",
              "      <td>110</td>\n",
              "      <td>2020</td>\n",
              "      <td>8</td>\n",
              "      <td>29</td>\n",
              "    </tr>\n",
              "    <tr>\n",
              "      <th>65472</th>\n",
              "      <td>3</td>\n",
              "      <td>246.0</td>\n",
              "      <td>1</td>\n",
              "      <td>100</td>\n",
              "      <td>100</td>\n",
              "      <td>2020</td>\n",
              "      <td>8</td>\n",
              "      <td>31</td>\n",
              "    </tr>\n",
              "    <tr>\n",
              "      <th>23599</th>\n",
              "      <td>3</td>\n",
              "      <td>932.0</td>\n",
              "      <td>1</td>\n",
              "      <td>2210</td>\n",
              "      <td>2210</td>\n",
              "      <td>2020</td>\n",
              "      <td>8</td>\n",
              "      <td>11</td>\n",
              "    </tr>\n",
              "  </tbody>\n",
              "</table>\n",
              "</div>"
            ],
            "text/plain": [
              "       Origin  Destination  Item  Weight  Size/Volume  Year  month  day\n",
              "65184       5         93.0     1     500          500  2020      8   30\n",
              "37024       5        921.0     1     500          500  2020      8   17\n",
              "63316       3       1139.0     1     110          110  2020      8   29\n",
              "65472       3        246.0     1     100          100  2020      8   31\n",
              "23599       3        932.0     1    2210         2210  2020      8   11"
            ]
          },
          "metadata": {
            "tags": []
          },
          "execution_count": 279
        }
      ]
    },
    {
      "cell_type": "code",
      "metadata": {
        "id": "Hqq_f8HIHen5",
        "outputId": "c0b96386-d6e8-439b-ab9b-984f1980aab8",
        "colab": {
          "base_uri": "https://localhost:8080/",
          "height": 204
        }
      },
      "source": [
        "df2.head()"
      ],
      "execution_count": 280,
      "outputs": [
        {
          "output_type": "execute_result",
          "data": {
            "text/html": [
              "<div>\n",
              "<style scoped>\n",
              "    .dataframe tbody tr th:only-of-type {\n",
              "        vertical-align: middle;\n",
              "    }\n",
              "\n",
              "    .dataframe tbody tr th {\n",
              "        vertical-align: top;\n",
              "    }\n",
              "\n",
              "    .dataframe thead th {\n",
              "        text-align: right;\n",
              "    }\n",
              "</style>\n",
              "<table border=\"1\" class=\"dataframe\">\n",
              "  <thead>\n",
              "    <tr style=\"text-align: right;\">\n",
              "      <th></th>\n",
              "      <th>Origin</th>\n",
              "      <th>Destination</th>\n",
              "      <th>Item</th>\n",
              "      <th>Weight</th>\n",
              "      <th>Size/Volume</th>\n",
              "      <th>Year</th>\n",
              "      <th>month</th>\n",
              "      <th>day</th>\n",
              "    </tr>\n",
              "  </thead>\n",
              "  <tbody>\n",
              "    <tr>\n",
              "      <th>2</th>\n",
              "      <td>4</td>\n",
              "      <td>978.0</td>\n",
              "      <td>1</td>\n",
              "      <td>200</td>\n",
              "      <td>200</td>\n",
              "      <td>2020</td>\n",
              "      <td>8</td>\n",
              "      <td>1</td>\n",
              "    </tr>\n",
              "    <tr>\n",
              "      <th>3</th>\n",
              "      <td>4</td>\n",
              "      <td>107.0</td>\n",
              "      <td>1</td>\n",
              "      <td>500</td>\n",
              "      <td>500</td>\n",
              "      <td>2020</td>\n",
              "      <td>8</td>\n",
              "      <td>1</td>\n",
              "    </tr>\n",
              "    <tr>\n",
              "      <th>4</th>\n",
              "      <td>4</td>\n",
              "      <td>1041.0</td>\n",
              "      <td>1</td>\n",
              "      <td>500</td>\n",
              "      <td>500</td>\n",
              "      <td>2020</td>\n",
              "      <td>8</td>\n",
              "      <td>1</td>\n",
              "    </tr>\n",
              "    <tr>\n",
              "      <th>5</th>\n",
              "      <td>4</td>\n",
              "      <td>1017.0</td>\n",
              "      <td>1</td>\n",
              "      <td>200</td>\n",
              "      <td>200</td>\n",
              "      <td>2020</td>\n",
              "      <td>8</td>\n",
              "      <td>1</td>\n",
              "    </tr>\n",
              "    <tr>\n",
              "      <th>17</th>\n",
              "      <td>5</td>\n",
              "      <td>895.0</td>\n",
              "      <td>1</td>\n",
              "      <td>50</td>\n",
              "      <td>50</td>\n",
              "      <td>2020</td>\n",
              "      <td>8</td>\n",
              "      <td>1</td>\n",
              "    </tr>\n",
              "  </tbody>\n",
              "</table>\n",
              "</div>"
            ],
            "text/plain": [
              "    Origin  Destination  Item  Weight  Size/Volume  Year  month  day\n",
              "2        4        978.0     1     200          200  2020      8    1\n",
              "3        4        107.0     1     500          500  2020      8    1\n",
              "4        4       1041.0     1     500          500  2020      8    1\n",
              "5        4       1017.0     1     200          200  2020      8    1\n",
              "17       5        895.0     1      50           50  2020      8    1"
            ]
          },
          "metadata": {
            "tags": []
          },
          "execution_count": 280
        }
      ]
    },
    {
      "cell_type": "markdown",
      "metadata": {
        "id": "rIiLqzfCq0un"
      },
      "source": [
        "# Data Analysis"
      ]
    },
    {
      "cell_type": "code",
      "metadata": {
        "id": "QpSpsp51q0uo"
      },
      "source": [
        "import seaborn as sns"
      ],
      "execution_count": 281,
      "outputs": []
    },
    {
      "cell_type": "code",
      "metadata": {
        "id": "VdnhcsyGq0uy",
        "outputId": "208e9c28-c405-4cf0-f2c4-929128043a0d",
        "colab": {
          "base_uri": "https://localhost:8080/",
          "height": 1000
        }
      },
      "source": [
        "sns.pairplot(df1)"
      ],
      "execution_count": 282,
      "outputs": [
        {
          "output_type": "execute_result",
          "data": {
            "text/plain": [
              "<seaborn.axisgrid.PairGrid at 0x7f9d278747f0>"
            ]
          },
          "metadata": {
            "tags": []
          },
          "execution_count": 282
        },
        {
          "output_type": "display_data",
          "data": {
            "image/png": "[encoded data removed]",
            "text/plain": [
              "<Figure size 1440x1440 with 72 Axes>"
            ]
          },
          "metadata": {
            "tags": [],
            "needs_background": "light"
          }
        }
      ]
    },
    {
      "cell_type": "code",
      "metadata": {
        "id": "JhSN3nWfq0u1"
      },
      "source": [
        "target = 'Weight'"
      ],
      "execution_count": 283,
      "outputs": []
    },
    {
      "cell_type": "code",
      "metadata": {
        "id": "TPozzq4eq0u5",
        "outputId": "232f57be-2aed-492e-e102-1c0ce7828c16",
        "colab": {
          "base_uri": "https://localhost:8080/",
          "height": 504
        }
      },
      "source": [
        "k = 8 #number of variables for heatmap\n",
        "cols = df1.corr().nlargest(k, target)[target].index\n",
        "cm = df1[cols].corr()\n",
        "plt.figure(figsize=(12,8))\n",
        "sns.heatmap(cm, annot=True, cmap = 'viridis')"
      ],
      "execution_count": 284,
      "outputs": [
        {
          "output_type": "execute_result",
          "data": {
            "text/plain": [
              "<matplotlib.axes._subplots.AxesSubplot at 0x7f9d3f661630>"
            ]
          },
          "metadata": {
            "tags": []
          },
          "execution_count": 284
        },
        {
          "output_type": "display_data",
          "data": {
            "image/png": "[encoded data removed]",
            "text/plain": [
              "<Figure size 864x576 with 2 Axes>"
            ]
          },
          "metadata": {
            "tags": [],
            "needs_background": "light"
          }
        }
      ]
    },
    {
      "cell_type": "code",
      "metadata": {
        "id": "YB7gs4ylq0u_"
      },
      "source": [
        "X_trn = df1.iloc[:,[0,1,2,5,6,7]]\n",
        "X_tst = df2.iloc[:,[0,1,2,5,6,7]]"
      ],
      "execution_count": 285,
      "outputs": []
    },
    {
      "cell_type": "code",
      "metadata": {
        "id": "SDNN71olGwqg",
        "outputId": "048adc47-877a-4141-b494-47fae3101dbe",
        "colab": {
          "base_uri": "https://localhost:8080/",
          "height": 419
        }
      },
      "source": [
        "X_trn"
      ],
      "execution_count": 286,
      "outputs": [
        {
          "output_type": "execute_result",
          "data": {
            "text/html": [
              "<div>\n",
              "<style scoped>\n",
              "    .dataframe tbody tr th:only-of-type {\n",
              "        vertical-align: middle;\n",
              "    }\n",
              "\n",
              "    .dataframe tbody tr th {\n",
              "        vertical-align: top;\n",
              "    }\n",
              "\n",
              "    .dataframe thead th {\n",
              "        text-align: right;\n",
              "    }\n",
              "</style>\n",
              "<table border=\"1\" class=\"dataframe\">\n",
              "  <thead>\n",
              "    <tr style=\"text-align: right;\">\n",
              "      <th></th>\n",
              "      <th>Origin</th>\n",
              "      <th>Destination</th>\n",
              "      <th>Item</th>\n",
              "      <th>Year</th>\n",
              "      <th>month</th>\n",
              "      <th>day</th>\n",
              "    </tr>\n",
              "  </thead>\n",
              "  <tbody>\n",
              "    <tr>\n",
              "      <th>65184</th>\n",
              "      <td>5</td>\n",
              "      <td>93.0</td>\n",
              "      <td>1</td>\n",
              "      <td>2020</td>\n",
              "      <td>8</td>\n",
              "      <td>30</td>\n",
              "    </tr>\n",
              "    <tr>\n",
              "      <th>37024</th>\n",
              "      <td>5</td>\n",
              "      <td>921.0</td>\n",
              "      <td>1</td>\n",
              "      <td>2020</td>\n",
              "      <td>8</td>\n",
              "      <td>17</td>\n",
              "    </tr>\n",
              "    <tr>\n",
              "      <th>63316</th>\n",
              "      <td>3</td>\n",
              "      <td>1139.0</td>\n",
              "      <td>1</td>\n",
              "      <td>2020</td>\n",
              "      <td>8</td>\n",
              "      <td>29</td>\n",
              "    </tr>\n",
              "    <tr>\n",
              "      <th>65472</th>\n",
              "      <td>3</td>\n",
              "      <td>246.0</td>\n",
              "      <td>1</td>\n",
              "      <td>2020</td>\n",
              "      <td>8</td>\n",
              "      <td>31</td>\n",
              "    </tr>\n",
              "    <tr>\n",
              "      <th>23599</th>\n",
              "      <td>3</td>\n",
              "      <td>932.0</td>\n",
              "      <td>1</td>\n",
              "      <td>2020</td>\n",
              "      <td>8</td>\n",
              "      <td>11</td>\n",
              "    </tr>\n",
              "    <tr>\n",
              "      <th>...</th>\n",
              "      <td>...</td>\n",
              "      <td>...</td>\n",
              "      <td>...</td>\n",
              "      <td>...</td>\n",
              "      <td>...</td>\n",
              "      <td>...</td>\n",
              "    </tr>\n",
              "    <tr>\n",
              "      <th>3984</th>\n",
              "      <td>5</td>\n",
              "      <td>256.0</td>\n",
              "      <td>1</td>\n",
              "      <td>2020</td>\n",
              "      <td>8</td>\n",
              "      <td>3</td>\n",
              "    </tr>\n",
              "    <tr>\n",
              "      <th>47011</th>\n",
              "      <td>1</td>\n",
              "      <td>96.0</td>\n",
              "      <td>1</td>\n",
              "      <td>2020</td>\n",
              "      <td>8</td>\n",
              "      <td>21</td>\n",
              "    </tr>\n",
              "    <tr>\n",
              "      <th>8869</th>\n",
              "      <td>1</td>\n",
              "      <td>15.0</td>\n",
              "      <td>1</td>\n",
              "      <td>2020</td>\n",
              "      <td>8</td>\n",
              "      <td>5</td>\n",
              "    </tr>\n",
              "    <tr>\n",
              "      <th>11567</th>\n",
              "      <td>3</td>\n",
              "      <td>308.0</td>\n",
              "      <td>1</td>\n",
              "      <td>2020</td>\n",
              "      <td>8</td>\n",
              "      <td>6</td>\n",
              "    </tr>\n",
              "    <tr>\n",
              "      <th>3790</th>\n",
              "      <td>5</td>\n",
              "      <td>110.0</td>\n",
              "      <td>1</td>\n",
              "      <td>2020</td>\n",
              "      <td>8</td>\n",
              "      <td>3</td>\n",
              "    </tr>\n",
              "  </tbody>\n",
              "</table>\n",
              "<p>54814 rows × 6 columns</p>\n",
              "</div>"
            ],
            "text/plain": [
              "       Origin  Destination  Item  Year  month  day\n",
              "65184       5         93.0     1  2020      8   30\n",
              "37024       5        921.0     1  2020      8   17\n",
              "63316       3       1139.0     1  2020      8   29\n",
              "65472       3        246.0     1  2020      8   31\n",
              "23599       3        932.0     1  2020      8   11\n",
              "...       ...          ...   ...   ...    ...  ...\n",
              "3984        5        256.0     1  2020      8    3\n",
              "47011       1         96.0     1  2020      8   21\n",
              "8869        1         15.0     1  2020      8    5\n",
              "11567       3        308.0     1  2020      8    6\n",
              "3790        5        110.0     1  2020      8    3\n",
              "\n",
              "[54814 rows x 6 columns]"
            ]
          },
          "metadata": {
            "tags": []
          },
          "execution_count": 286
        }
      ]
    },
    {
      "cell_type": "code",
      "metadata": {
        "id": "NPHRDRodG0Gq",
        "outputId": "bf9034e7-0d2e-48c5-d254-31ff5d33297a",
        "colab": {
          "base_uri": "https://localhost:8080/",
          "height": 419
        }
      },
      "source": [
        "X_tst"
      ],
      "execution_count": 287,
      "outputs": [
        {
          "output_type": "execute_result",
          "data": {
            "text/html": [
              "<div>\n",
              "<style scoped>\n",
              "    .dataframe tbody tr th:only-of-type {\n",
              "        vertical-align: middle;\n",
              "    }\n",
              "\n",
              "    .dataframe tbody tr th {\n",
              "        vertical-align: top;\n",
              "    }\n",
              "\n",
              "    .dataframe thead th {\n",
              "        text-align: right;\n",
              "    }\n",
              "</style>\n",
              "<table border=\"1\" class=\"dataframe\">\n",
              "  <thead>\n",
              "    <tr style=\"text-align: right;\">\n",
              "      <th></th>\n",
              "      <th>Origin</th>\n",
              "      <th>Destination</th>\n",
              "      <th>Item</th>\n",
              "      <th>Year</th>\n",
              "      <th>month</th>\n",
              "      <th>day</th>\n",
              "    </tr>\n",
              "  </thead>\n",
              "  <tbody>\n",
              "    <tr>\n",
              "      <th>2</th>\n",
              "      <td>4</td>\n",
              "      <td>978.0</td>\n",
              "      <td>1</td>\n",
              "      <td>2020</td>\n",
              "      <td>8</td>\n",
              "      <td>1</td>\n",
              "    </tr>\n",
              "    <tr>\n",
              "      <th>3</th>\n",
              "      <td>4</td>\n",
              "      <td>107.0</td>\n",
              "      <td>1</td>\n",
              "      <td>2020</td>\n",
              "      <td>8</td>\n",
              "      <td>1</td>\n",
              "    </tr>\n",
              "    <tr>\n",
              "      <th>4</th>\n",
              "      <td>4</td>\n",
              "      <td>1041.0</td>\n",
              "      <td>1</td>\n",
              "      <td>2020</td>\n",
              "      <td>8</td>\n",
              "      <td>1</td>\n",
              "    </tr>\n",
              "    <tr>\n",
              "      <th>5</th>\n",
              "      <td>4</td>\n",
              "      <td>1017.0</td>\n",
              "      <td>1</td>\n",
              "      <td>2020</td>\n",
              "      <td>8</td>\n",
              "      <td>1</td>\n",
              "    </tr>\n",
              "    <tr>\n",
              "      <th>17</th>\n",
              "      <td>5</td>\n",
              "      <td>895.0</td>\n",
              "      <td>1</td>\n",
              "      <td>2020</td>\n",
              "      <td>8</td>\n",
              "      <td>1</td>\n",
              "    </tr>\n",
              "    <tr>\n",
              "      <th>...</th>\n",
              "      <td>...</td>\n",
              "      <td>...</td>\n",
              "      <td>...</td>\n",
              "      <td>...</td>\n",
              "      <td>...</td>\n",
              "      <td>...</td>\n",
              "    </tr>\n",
              "    <tr>\n",
              "      <th>68497</th>\n",
              "      <td>1</td>\n",
              "      <td>614.0</td>\n",
              "      <td>1</td>\n",
              "      <td>2020</td>\n",
              "      <td>8</td>\n",
              "      <td>31</td>\n",
              "    </tr>\n",
              "    <tr>\n",
              "      <th>68505</th>\n",
              "      <td>1</td>\n",
              "      <td>388.0</td>\n",
              "      <td>1</td>\n",
              "      <td>2020</td>\n",
              "      <td>8</td>\n",
              "      <td>31</td>\n",
              "    </tr>\n",
              "    <tr>\n",
              "      <th>68511</th>\n",
              "      <td>1</td>\n",
              "      <td>928.0</td>\n",
              "      <td>1</td>\n",
              "      <td>2020</td>\n",
              "      <td>8</td>\n",
              "      <td>31</td>\n",
              "    </tr>\n",
              "    <tr>\n",
              "      <th>68513</th>\n",
              "      <td>1</td>\n",
              "      <td>358.0</td>\n",
              "      <td>1</td>\n",
              "      <td>2020</td>\n",
              "      <td>8</td>\n",
              "      <td>31</td>\n",
              "    </tr>\n",
              "    <tr>\n",
              "      <th>68514</th>\n",
              "      <td>1</td>\n",
              "      <td>915.0</td>\n",
              "      <td>1</td>\n",
              "      <td>2020</td>\n",
              "      <td>8</td>\n",
              "      <td>31</td>\n",
              "    </tr>\n",
              "  </tbody>\n",
              "</table>\n",
              "<p>13704 rows × 6 columns</p>\n",
              "</div>"
            ],
            "text/plain": [
              "       Origin  Destination  Item  Year  month  day\n",
              "2           4        978.0     1  2020      8    1\n",
              "3           4        107.0     1  2020      8    1\n",
              "4           4       1041.0     1  2020      8    1\n",
              "5           4       1017.0     1  2020      8    1\n",
              "17          5        895.0     1  2020      8    1\n",
              "...       ...          ...   ...   ...    ...  ...\n",
              "68497       1        614.0     1  2020      8   31\n",
              "68505       1        388.0     1  2020      8   31\n",
              "68511       1        928.0     1  2020      8   31\n",
              "68513       1        358.0     1  2020      8   31\n",
              "68514       1        915.0     1  2020      8   31\n",
              "\n",
              "[13704 rows x 6 columns]"
            ]
          },
          "metadata": {
            "tags": []
          },
          "execution_count": 287
        }
      ]
    },
    {
      "cell_type": "code",
      "metadata": {
        "id": "MrGRe6Vhq0vD",
        "outputId": "5b65e3d2-baec-49c2-8e73-fc7c5214e982",
        "colab": {
          "base_uri": "https://localhost:8080/",
          "height": 419
        }
      },
      "source": [
        "y_trn = df1.iloc[:,[3,4]]\n",
        "y_trn"
      ],
      "execution_count": 288,
      "outputs": [
        {
          "output_type": "execute_result",
          "data": {
            "text/html": [
              "<div>\n",
              "<style scoped>\n",
              "    .dataframe tbody tr th:only-of-type {\n",
              "        vertical-align: middle;\n",
              "    }\n",
              "\n",
              "    .dataframe tbody tr th {\n",
              "        vertical-align: top;\n",
              "    }\n",
              "\n",
              "    .dataframe thead th {\n",
              "        text-align: right;\n",
              "    }\n",
              "</style>\n",
              "<table border=\"1\" class=\"dataframe\">\n",
              "  <thead>\n",
              "    <tr style=\"text-align: right;\">\n",
              "      <th></th>\n",
              "      <th>Weight</th>\n",
              "      <th>Size/Volume</th>\n",
              "    </tr>\n",
              "  </thead>\n",
              "  <tbody>\n",
              "    <tr>\n",
              "      <th>65184</th>\n",
              "      <td>500</td>\n",
              "      <td>500</td>\n",
              "    </tr>\n",
              "    <tr>\n",
              "      <th>37024</th>\n",
              "      <td>500</td>\n",
              "      <td>500</td>\n",
              "    </tr>\n",
              "    <tr>\n",
              "      <th>63316</th>\n",
              "      <td>110</td>\n",
              "      <td>110</td>\n",
              "    </tr>\n",
              "    <tr>\n",
              "      <th>65472</th>\n",
              "      <td>100</td>\n",
              "      <td>100</td>\n",
              "    </tr>\n",
              "    <tr>\n",
              "      <th>23599</th>\n",
              "      <td>2210</td>\n",
              "      <td>2210</td>\n",
              "    </tr>\n",
              "    <tr>\n",
              "      <th>...</th>\n",
              "      <td>...</td>\n",
              "      <td>...</td>\n",
              "    </tr>\n",
              "    <tr>\n",
              "      <th>3984</th>\n",
              "      <td>615</td>\n",
              "      <td>615</td>\n",
              "    </tr>\n",
              "    <tr>\n",
              "      <th>47011</th>\n",
              "      <td>50</td>\n",
              "      <td>50</td>\n",
              "    </tr>\n",
              "    <tr>\n",
              "      <th>8869</th>\n",
              "      <td>1000</td>\n",
              "      <td>1000</td>\n",
              "    </tr>\n",
              "    <tr>\n",
              "      <th>11567</th>\n",
              "      <td>1100</td>\n",
              "      <td>1100</td>\n",
              "    </tr>\n",
              "    <tr>\n",
              "      <th>3790</th>\n",
              "      <td>500</td>\n",
              "      <td>500</td>\n",
              "    </tr>\n",
              "  </tbody>\n",
              "</table>\n",
              "<p>54814 rows × 2 columns</p>\n",
              "</div>"
            ],
            "text/plain": [
              "       Weight  Size/Volume\n",
              "65184     500          500\n",
              "37024     500          500\n",
              "63316     110          110\n",
              "65472     100          100\n",
              "23599    2210         2210\n",
              "...       ...          ...\n",
              "3984      615          615\n",
              "47011      50           50\n",
              "8869     1000         1000\n",
              "11567    1100         1100\n",
              "3790      500          500\n",
              "\n",
              "[54814 rows x 2 columns]"
            ]
          },
          "metadata": {
            "tags": []
          },
          "execution_count": 288
        }
      ]
    },
    {
      "cell_type": "code",
      "metadata": {
        "id": "NNlzVtTKG5_4",
        "outputId": "e1e96fcb-609f-4ebd-c12e-f4206680253e",
        "colab": {
          "base_uri": "https://localhost:8080/",
          "height": 419
        }
      },
      "source": [
        "y_tst = df2.iloc[:,[3,4]]\n",
        "y_tst"
      ],
      "execution_count": 306,
      "outputs": [
        {
          "output_type": "execute_result",
          "data": {
            "text/html": [
              "<div>\n",
              "<style scoped>\n",
              "    .dataframe tbody tr th:only-of-type {\n",
              "        vertical-align: middle;\n",
              "    }\n",
              "\n",
              "    .dataframe tbody tr th {\n",
              "        vertical-align: top;\n",
              "    }\n",
              "\n",
              "    .dataframe thead th {\n",
              "        text-align: right;\n",
              "    }\n",
              "</style>\n",
              "<table border=\"1\" class=\"dataframe\">\n",
              "  <thead>\n",
              "    <tr style=\"text-align: right;\">\n",
              "      <th></th>\n",
              "      <th>Weight</th>\n",
              "      <th>Size/Volume</th>\n",
              "    </tr>\n",
              "  </thead>\n",
              "  <tbody>\n",
              "    <tr>\n",
              "      <th>2</th>\n",
              "      <td>200</td>\n",
              "      <td>200</td>\n",
              "    </tr>\n",
              "    <tr>\n",
              "      <th>3</th>\n",
              "      <td>500</td>\n",
              "      <td>500</td>\n",
              "    </tr>\n",
              "    <tr>\n",
              "      <th>4</th>\n",
              "      <td>500</td>\n",
              "      <td>500</td>\n",
              "    </tr>\n",
              "    <tr>\n",
              "      <th>5</th>\n",
              "      <td>200</td>\n",
              "      <td>200</td>\n",
              "    </tr>\n",
              "    <tr>\n",
              "      <th>17</th>\n",
              "      <td>50</td>\n",
              "      <td>50</td>\n",
              "    </tr>\n",
              "    <tr>\n",
              "      <th>...</th>\n",
              "      <td>...</td>\n",
              "      <td>...</td>\n",
              "    </tr>\n",
              "    <tr>\n",
              "      <th>68497</th>\n",
              "      <td>100</td>\n",
              "      <td>100</td>\n",
              "    </tr>\n",
              "    <tr>\n",
              "      <th>68505</th>\n",
              "      <td>100</td>\n",
              "      <td>100</td>\n",
              "    </tr>\n",
              "    <tr>\n",
              "      <th>68511</th>\n",
              "      <td>35000</td>\n",
              "      <td>35000</td>\n",
              "    </tr>\n",
              "    <tr>\n",
              "      <th>68513</th>\n",
              "      <td>5900</td>\n",
              "      <td>5900</td>\n",
              "    </tr>\n",
              "    <tr>\n",
              "      <th>68514</th>\n",
              "      <td>5800</td>\n",
              "      <td>5800</td>\n",
              "    </tr>\n",
              "  </tbody>\n",
              "</table>\n",
              "<p>13704 rows × 2 columns</p>\n",
              "</div>"
            ],
            "text/plain": [
              "       Weight  Size/Volume\n",
              "2         200          200\n",
              "3         500          500\n",
              "4         500          500\n",
              "5         200          200\n",
              "17         50           50\n",
              "...       ...          ...\n",
              "68497     100          100\n",
              "68505     100          100\n",
              "68511   35000        35000\n",
              "68513    5900         5900\n",
              "68514    5800         5800\n",
              "\n",
              "[13704 rows x 2 columns]"
            ]
          },
          "metadata": {
            "tags": []
          },
          "execution_count": 306
        }
      ]
    },
    {
      "cell_type": "code",
      "metadata": {
        "id": "7jsksef6q0vJ",
        "outputId": "a17d973f-4c62-46ff-f29d-e8bf4b0021b6",
        "colab": {
          "base_uri": "https://localhost:8080/"
        }
      },
      "source": [
        "df1.dtypes"
      ],
      "execution_count": 290,
      "outputs": [
        {
          "output_type": "execute_result",
          "data": {
            "text/plain": [
              "Origin           int64\n",
              "Destination    float64\n",
              "Item             int64\n",
              "Weight           int64\n",
              "Size/Volume      int64\n",
              "Year             int64\n",
              "month            int64\n",
              "day              int64\n",
              "dtype: object"
            ]
          },
          "metadata": {
            "tags": []
          },
          "execution_count": 290
        }
      ]
    },
    {
      "cell_type": "code",
      "metadata": {
        "id": "K1vil0SuHAWR",
        "outputId": "1cb96b1f-c147-402e-b975-61665edc5fc2",
        "colab": {
          "base_uri": "https://localhost:8080/"
        }
      },
      "source": [
        "df2.dtypes"
      ],
      "execution_count": 291,
      "outputs": [
        {
          "output_type": "execute_result",
          "data": {
            "text/plain": [
              "Origin           int64\n",
              "Destination    float64\n",
              "Item             int64\n",
              "Weight           int64\n",
              "Size/Volume      int64\n",
              "Year             int64\n",
              "month            int64\n",
              "day              int64\n",
              "dtype: object"
            ]
          },
          "metadata": {
            "tags": []
          },
          "execution_count": 291
        }
      ]
    },
    {
      "cell_type": "code",
      "metadata": {
        "id": "WYNwmtKC1bp1",
        "outputId": "523b67fb-c996-4894-df67-20265d7348eb",
        "colab": {
          "base_uri": "https://localhost:8080/"
        }
      },
      "source": [
        "pd.isna(df['Destination'])\n"
      ],
      "execution_count": 292,
      "outputs": [
        {
          "output_type": "execute_result",
          "data": {
            "text/plain": [
              "0        False\n",
              "1        False\n",
              "2        False\n",
              "3        False\n",
              "4        False\n",
              "         ...  \n",
              "68513    False\n",
              "68514    False\n",
              "68515    False\n",
              "68516    False\n",
              "68517    False\n",
              "Name: Destination, Length: 68518, dtype: bool"
            ]
          },
          "metadata": {
            "tags": []
          },
          "execution_count": 292
        }
      ]
    },
    {
      "cell_type": "code",
      "metadata": {
        "id": "1oF4taMH38cS",
        "outputId": "b469fd7f-7b63-4bbc-9938-a796ed04fbfc",
        "colab": {
          "base_uri": "https://localhost:8080/"
        }
      },
      "source": [
        "df[df['day'] == ''].index"
      ],
      "execution_count": 250,
      "outputs": [
        {
          "output_type": "execute_result",
          "data": {
            "text/plain": [
              "Int64Index([], dtype='int64')"
            ]
          },
          "metadata": {
            "tags": []
          },
          "execution_count": 250
        }
      ]
    },
    {
      "cell_type": "code",
      "metadata": {
        "id": "xLsGK1kjq0vN"
      },
      "source": [
        ""
      ],
      "execution_count": 250,
      "outputs": []
    },
    {
      "cell_type": "code",
      "metadata": {
        "id": "Ktu7zuY6q0vQ",
        "outputId": "b0f10f14-d88d-4a04-9685-b0cf4c1197d9",
        "colab": {
          "base_uri": "https://localhost:8080/"
        }
      },
      "source": [
        "from sklearn.ensemble import RandomForestRegressor\n",
        "\n",
        "# Create the model with 100 trees\n",
        "model = RandomForestRegressor()\n",
        "#filling missing value\n",
        "X_trn = X_trn.fillna(X_trn.mean())\n",
        "X_tst = X_tst.fillna(X_tst.mean()) \n",
        "# Fit on training data\n",
        "model.fit(X_trn,y_trn)\n"
      ],
      "execution_count": 307,
      "outputs": [
        {
          "output_type": "execute_result",
          "data": {
            "text/plain": [
              "RandomForestRegressor(bootstrap=True, ccp_alpha=0.0, criterion='mse',\n",
              "                      max_depth=None, max_features='auto', max_leaf_nodes=None,\n",
              "                      max_samples=None, min_impurity_decrease=0.0,\n",
              "                      min_impurity_split=None, min_samples_leaf=1,\n",
              "                      min_samples_split=2, min_weight_fraction_leaf=0.0,\n",
              "                      n_estimators=100, n_jobs=None, oob_score=False,\n",
              "                      random_state=None, verbose=0, warm_start=False)"
            ]
          },
          "metadata": {
            "tags": []
          },
          "execution_count": 307
        }
      ]
    },
    {
      "cell_type": "code",
      "metadata": {
        "id": "58miRcYIq0vT"
      },
      "source": [
        "prd = model.predict(X_tst)"
      ],
      "execution_count": 308,
      "outputs": []
    },
    {
      "cell_type": "code",
      "metadata": {
        "id": "fi673vPXq0vZ",
        "outputId": "0a6d4186-1f51-4083-de06-96c7122d1206",
        "colab": {
          "base_uri": "https://localhost:8080/"
        }
      },
      "source": [
        "from sklearn.metrics import mean_squared_error\n",
        "mse = mean_squared_error(y_tst,prd)\n",
        "rmse = np.sqrt(mse)\n",
        "rmse"
      ],
      "execution_count": 309,
      "outputs": [
        {
          "output_type": "execute_result",
          "data": {
            "text/plain": [
              "29815.069987471303"
            ]
          },
          "metadata": {
            "tags": []
          },
          "execution_count": 309
        }
      ]
    },
    {
      "cell_type": "code",
      "metadata": {
        "id": "z05oJu1aq0vd",
        "outputId": "1269f740-8931-468a-cf3f-7ef769e94ec1",
        "colab": {
          "base_uri": "https://localhost:8080/"
        }
      },
      "source": [
        "prd"
      ],
      "execution_count": 300,
      "outputs": [
        {
          "output_type": "execute_result",
          "data": {
            "text/plain": [
              "array([[ 3489.23928571,  3489.23928571],\n",
              "       [  640.85833333,   640.85833333],\n",
              "       [11363.28333333, 11363.28333333],\n",
              "       ...,\n",
              "       [  119.8       ,   119.8       ],\n",
              "       [  116.8       ,   116.8       ],\n",
              "       [  922.86666667,   922.86666667]])"
            ]
          },
          "metadata": {
            "tags": []
          },
          "execution_count": 300
        }
      ]
    },
    {
      "cell_type": "code",
      "metadata": {
        "id": "uD5C7X3Zq0vf"
      },
      "source": [
        ""
      ],
      "execution_count": null,
      "outputs": []
    },
    {
      "cell_type": "code",
      "metadata": {
        "id": "ORigVR9iq0vi"
      },
      "source": [
        "from sklearn import datasets, linear_model"
      ],
      "execution_count": 310,
      "outputs": []
    },
    {
      "cell_type": "code",
      "metadata": {
        "id": "0nkTJMjAq0vl",
        "outputId": "c4499cb0-15fc-46c3-edb0-4c0b2e38715b",
        "colab": {
          "base_uri": "https://localhost:8080/"
        }
      },
      "source": [
        "regr = linear_model.LinearRegression() \n",
        "   \n",
        "# Train the model using the training sets \n",
        "regr.fit(X_trn,y_trn) "
      ],
      "execution_count": 311,
      "outputs": [
        {
          "output_type": "execute_result",
          "data": {
            "text/plain": [
              "LinearRegression(copy_X=True, fit_intercept=True, n_jobs=None, normalize=False)"
            ]
          },
          "metadata": {
            "tags": []
          },
          "execution_count": 311
        }
      ]
    },
    {
      "cell_type": "code",
      "metadata": {
        "id": "5cH7dLs_q0vp"
      },
      "source": [
        "prd1 = regr.predict(X_tst)"
      ],
      "execution_count": 312,
      "outputs": []
    },
    {
      "cell_type": "code",
      "metadata": {
        "id": "LKgWfujaq0vt",
        "outputId": "44e21a2e-66ea-4976-dd9e-5143aeb24b7c",
        "colab": {
          "base_uri": "https://localhost:8080/"
        }
      },
      "source": [
        "from sklearn.metrics import mean_squared_error\n",
        "mse = mean_squared_error(y_tst,prd1)\n",
        "rmse = np.sqrt(mse)\n",
        "rmse"
      ],
      "execution_count": 313,
      "outputs": [
        {
          "output_type": "execute_result",
          "data": {
            "text/plain": [
              "29339.174322474904"
            ]
          },
          "metadata": {
            "tags": []
          },
          "execution_count": 313
        }
      ]
    },
    {
      "cell_type": "code",
      "metadata": {
        "id": "JUbHfETEq0vw"
      },
      "source": [
        ""
      ],
      "execution_count": null,
      "outputs": []
    },
    {
      "cell_type": "code",
      "metadata": {
        "id": "2-ncojCmq0vz"
      },
      "source": [
        "from sklearn import neighbors"
      ],
      "execution_count": 314,
      "outputs": []
    },
    {
      "cell_type": "code",
      "metadata": {
        "id": "1Vakddewq0v2"
      },
      "source": [
        "knn = neighbors.KNeighborsRegressor()\n",
        "y_ = knn.fit(X_trn,y_trn)"
      ],
      "execution_count": 315,
      "outputs": []
    },
    {
      "cell_type": "code",
      "metadata": {
        "id": "mkeuE6K8q0v6"
      },
      "source": [
        "prd2 = y_.predict(X_tst)"
      ],
      "execution_count": 316,
      "outputs": []
    },
    {
      "cell_type": "code",
      "metadata": {
        "id": "pQsd51U4q0wB",
        "outputId": "6fc5a1dd-9d13-4a66-c0b9-7c161817e038",
        "colab": {
          "base_uri": "https://localhost:8080/"
        }
      },
      "source": [
        "from sklearn.metrics import mean_squared_error,r2_score\n",
        "mse = mean_squared_error(y_tst,prd2)\n",
        "rmse = np.sqrt(mse)\n",
        "rmse"
      ],
      "execution_count": 317,
      "outputs": [
        {
          "output_type": "execute_result",
          "data": {
            "text/plain": [
              "29568.87623438565"
            ]
          },
          "metadata": {
            "tags": []
          },
          "execution_count": 317
        }
      ]
    },
    {
      "cell_type": "code",
      "metadata": {
        "id": "wCBobuGGq0wE",
        "outputId": "1f85ce71-149d-4f68-d7da-dbe8dfcbc246",
        "colab": {
          "base_uri": "https://localhost:8080/"
        }
      },
      "source": [
        "r2_score(y_tst,prd1) "
      ],
      "execution_count": 318,
      "outputs": [
        {
          "output_type": "execute_result",
          "data": {
            "text/plain": [
              "0.0001275450178412907"
            ]
          },
          "metadata": {
            "tags": []
          },
          "execution_count": 318
        }
      ]
    },
    {
      "cell_type": "code",
      "metadata": {
        "id": "7_YSh2htq0wH"
      },
      "source": [
        ""
      ],
      "execution_count": null,
      "outputs": []
    },
    {
      "cell_type": "code",
      "metadata": {
        "id": "fpBe2jTsq0wM",
        "outputId": "512de428-8804-4c51-ea57-1db7a8dbbace",
        "colab": {
          "base_uri": "https://localhost:8080/"
        }
      },
      "source": [
        "X_tst.shape"
      ],
      "execution_count": 319,
      "outputs": [
        {
          "output_type": "execute_result",
          "data": {
            "text/plain": [
              "(13704, 6)"
            ]
          },
          "metadata": {
            "tags": []
          },
          "execution_count": 319
        }
      ]
    },
    {
      "cell_type": "code",
      "metadata": {
        "id": "gNf47q18q0wR",
        "outputId": "5622ccd8-6a85-4910-a3ac-e143e940a689",
        "colab": {
          "base_uri": "https://localhost:8080/"
        }
      },
      "source": [
        "y_tst.shape"
      ],
      "execution_count": 320,
      "outputs": [
        {
          "output_type": "execute_result",
          "data": {
            "text/plain": [
              "(13704, 2)"
            ]
          },
          "metadata": {
            "tags": []
          },
          "execution_count": 320
        }
      ]
    },
    {
      "cell_type": "code",
      "metadata": {
        "id": "-8vOQWIMq0wc"
      },
      "source": [
        "from sklearn.model_selection import RandomizedSearchCV"
      ],
      "execution_count": 321,
      "outputs": []
    },
    {
      "cell_type": "code",
      "metadata": {
        "id": "BXOctDcWq0wf"
      },
      "source": [
        "#Randomized Search CV\n",
        "\n",
        "# Number of trees in random forest\n",
        "n_estimators = [int(x) for x in np.linspace(start = 100, stop = 1200, num = 12)]\n",
        "# Number of features to consider at every split\n",
        "max_features = ['auto', 'sqrt']\n",
        "# Maximum number of levels in tree\n",
        "max_depth = [int(x) for x in np.linspace(5, 30, num = 6)]\n",
        "# max_depth.append(None)\n",
        "# Minimum number of samples required to split a node\n",
        "min_samples_split = [2, 5, 10, 15, 100]\n",
        "# Minimum number of samples required at each leaf node\n",
        "min_samples_leaf = [1, 2, 5, 10]"
      ],
      "execution_count": 322,
      "outputs": []
    },
    {
      "cell_type": "code",
      "metadata": {
        "id": "0179bJkBq0wk",
        "outputId": "9ab44920-ce51-4cd5-ddb8-76a8bd41b98f",
        "colab": {
          "base_uri": "https://localhost:8080/"
        }
      },
      "source": [
        "# Create the random grid\n",
        "random_grid = {'n_estimators': n_estimators,\n",
        "               'max_features': max_features,\n",
        "               'max_depth': max_depth,\n",
        "               'min_samples_split': min_samples_split,\n",
        "               'min_samples_leaf': min_samples_leaf}\n",
        "\n",
        "print(random_grid)"
      ],
      "execution_count": 323,
      "outputs": [
        {
          "output_type": "stream",
          "text": [
            "{'n_estimators': [100, 200, 300, 400, 500, 600, 700, 800, 900, 1000, 1100, 1200], 'max_features': ['auto', 'sqrt'], 'max_depth': [5, 10, 15, 20, 25, 30], 'min_samples_split': [2, 5, 10, 15, 100], 'min_samples_leaf': [1, 2, 5, 10]}\n"
          ],
          "name": "stdout"
        }
      ]
    },
    {
      "cell_type": "code",
      "metadata": {
        "id": "jJhIBizMq0wq"
      },
      "source": [
        "\n",
        "# Use the random grid to search for best hyperparameters\n",
        "# First create the base model to tune\n",
        "rf = RandomForestRegressor()"
      ],
      "execution_count": 324,
      "outputs": []
    },
    {
      "cell_type": "code",
      "metadata": {
        "id": "ev5bHjwlq0ww"
      },
      "source": [
        "# Random search of parameters, using 3 fold cross validation, \n",
        "# search across 100 different combinations\n",
        "rf_random = RandomizedSearchCV(estimator = rf, param_distributions = random_grid,scoring='neg_mean_squared_error', n_iter = 10, cv = 5, verbose=2, random_state=42, n_jobs = 1)"
      ],
      "execution_count": 325,
      "outputs": []
    },
    {
      "cell_type": "code",
      "metadata": {
        "id": "j651Dlnrq0w0",
        "outputId": "8b151e29-bcd1-43e4-fed6-7bee7a4fa656",
        "colab": {
          "base_uri": "https://localhost:8080/"
        }
      },
      "source": [
        "rf_random.fit(X_trn,y_trn)"
      ],
      "execution_count": null,
      "outputs": [
        {
          "output_type": "stream",
          "text": [
            "Fitting 5 folds for each of 10 candidates, totalling 50 fits\n",
            "[CV] n_estimators=900, min_samples_split=5, min_samples_leaf=5, max_features=sqrt, max_depth=10 \n"
          ],
          "name": "stdout"
        },
        {
          "output_type": "stream",
          "text": [
            "[Parallel(n_jobs=1)]: Using backend SequentialBackend with 1 concurrent workers.\n"
          ],
          "name": "stderr"
        },
        {
          "output_type": "stream",
          "text": [
            "[CV]  n_estimators=900, min_samples_split=5, min_samples_leaf=5, max_features=sqrt, max_depth=10, total=  23.1s\n",
            "[CV] n_estimators=900, min_samples_split=5, min_samples_leaf=5, max_features=sqrt, max_depth=10 \n"
          ],
          "name": "stdout"
        },
        {
          "output_type": "stream",
          "text": [
            "[Parallel(n_jobs=1)]: Done   1 out of   1 | elapsed:   23.1s remaining:    0.0s\n"
          ],
          "name": "stderr"
        },
        {
          "output_type": "stream",
          "text": [
            "[CV]  n_estimators=900, min_samples_split=5, min_samples_leaf=5, max_features=sqrt, max_depth=10, total=  23.3s\n",
            "[CV] n_estimators=900, min_samples_split=5, min_samples_leaf=5, max_features=sqrt, max_depth=10 \n",
            "[CV]  n_estimators=900, min_samples_split=5, min_samples_leaf=5, max_features=sqrt, max_depth=10, total=  23.5s\n",
            "[CV] n_estimators=900, min_samples_split=5, min_samples_leaf=5, max_features=sqrt, max_depth=10 \n",
            "[CV]  n_estimators=900, min_samples_split=5, min_samples_leaf=5, max_features=sqrt, max_depth=10, total=  24.1s\n",
            "[CV] n_estimators=900, min_samples_split=5, min_samples_leaf=5, max_features=sqrt, max_depth=10 \n",
            "[CV]  n_estimators=900, min_samples_split=5, min_samples_leaf=5, max_features=sqrt, max_depth=10, total=  23.6s\n",
            "[CV] n_estimators=1100, min_samples_split=10, min_samples_leaf=2, max_features=sqrt, max_depth=15 \n",
            "[CV]  n_estimators=1100, min_samples_split=10, min_samples_leaf=2, max_features=sqrt, max_depth=15, total=  40.2s\n",
            "[CV] n_estimators=1100, min_samples_split=10, min_samples_leaf=2, max_features=sqrt, max_depth=15 \n",
            "[CV]  n_estimators=1100, min_samples_split=10, min_samples_leaf=2, max_features=sqrt, max_depth=15, total=  39.8s\n",
            "[CV] n_estimators=1100, min_samples_split=10, min_samples_leaf=2, max_features=sqrt, max_depth=15 \n",
            "[CV]  n_estimators=1100, min_samples_split=10, min_samples_leaf=2, max_features=sqrt, max_depth=15, total=  39.6s\n",
            "[CV] n_estimators=1100, min_samples_split=10, min_samples_leaf=2, max_features=sqrt, max_depth=15 \n",
            "[CV]  n_estimators=1100, min_samples_split=10, min_samples_leaf=2, max_features=sqrt, max_depth=15, total=  39.7s\n",
            "[CV] n_estimators=1100, min_samples_split=10, min_samples_leaf=2, max_features=sqrt, max_depth=15 \n",
            "[CV]  n_estimators=1100, min_samples_split=10, min_samples_leaf=2, max_features=sqrt, max_depth=15, total=  39.9s\n",
            "[CV] n_estimators=300, min_samples_split=100, min_samples_leaf=5, max_features=auto, max_depth=15 \n",
            "[CV]  n_estimators=300, min_samples_split=100, min_samples_leaf=5, max_features=auto, max_depth=15, total=  15.5s\n",
            "[CV] n_estimators=300, min_samples_split=100, min_samples_leaf=5, max_features=auto, max_depth=15 \n",
            "[CV]  n_estimators=300, min_samples_split=100, min_samples_leaf=5, max_features=auto, max_depth=15, total=  16.2s\n",
            "[CV] n_estimators=300, min_samples_split=100, min_samples_leaf=5, max_features=auto, max_depth=15 \n",
            "[CV]  n_estimators=300, min_samples_split=100, min_samples_leaf=5, max_features=auto, max_depth=15, total=  16.1s\n",
            "[CV] n_estimators=300, min_samples_split=100, min_samples_leaf=5, max_features=auto, max_depth=15 \n",
            "[CV]  n_estimators=300, min_samples_split=100, min_samples_leaf=5, max_features=auto, max_depth=15, total=  16.2s\n",
            "[CV] n_estimators=300, min_samples_split=100, min_samples_leaf=5, max_features=auto, max_depth=15 \n",
            "[CV]  n_estimators=300, min_samples_split=100, min_samples_leaf=5, max_features=auto, max_depth=15, total=  16.5s\n",
            "[CV] n_estimators=400, min_samples_split=5, min_samples_leaf=5, max_features=auto, max_depth=15 \n",
            "[CV]  n_estimators=400, min_samples_split=5, min_samples_leaf=5, max_features=auto, max_depth=15, total=  23.7s\n",
            "[CV] n_estimators=400, min_samples_split=5, min_samples_leaf=5, max_features=auto, max_depth=15 \n",
            "[CV]  n_estimators=400, min_samples_split=5, min_samples_leaf=5, max_features=auto, max_depth=15, total=  24.1s\n",
            "[CV] n_estimators=400, min_samples_split=5, min_samples_leaf=5, max_features=auto, max_depth=15 \n",
            "[CV]  n_estimators=400, min_samples_split=5, min_samples_leaf=5, max_features=auto, max_depth=15, total=  24.4s\n",
            "[CV] n_estimators=400, min_samples_split=5, min_samples_leaf=5, max_features=auto, max_depth=15 \n",
            "[CV]  n_estimators=400, min_samples_split=5, min_samples_leaf=5, max_features=auto, max_depth=15, total=  24.0s\n",
            "[CV] n_estimators=400, min_samples_split=5, min_samples_leaf=5, max_features=auto, max_depth=15 \n",
            "[CV]  n_estimators=400, min_samples_split=5, min_samples_leaf=5, max_features=auto, max_depth=15, total=  23.8s\n",
            "[CV] n_estimators=700, min_samples_split=5, min_samples_leaf=10, max_features=auto, max_depth=20 \n",
            "[CV]  n_estimators=700, min_samples_split=5, min_samples_leaf=10, max_features=auto, max_depth=20, total=  43.9s\n",
            "[CV] n_estimators=700, min_samples_split=5, min_samples_leaf=10, max_features=auto, max_depth=20 \n",
            "[CV]  n_estimators=700, min_samples_split=5, min_samples_leaf=10, max_features=auto, max_depth=20, total=  44.0s\n",
            "[CV] n_estimators=700, min_samples_split=5, min_samples_leaf=10, max_features=auto, max_depth=20 \n",
            "[CV]  n_estimators=700, min_samples_split=5, min_samples_leaf=10, max_features=auto, max_depth=20, total=  44.2s\n",
            "[CV] n_estimators=700, min_samples_split=5, min_samples_leaf=10, max_features=auto, max_depth=20 \n",
            "[CV]  n_estimators=700, min_samples_split=5, min_samples_leaf=10, max_features=auto, max_depth=20, total=  44.6s\n",
            "[CV] n_estimators=700, min_samples_split=5, min_samples_leaf=10, max_features=auto, max_depth=20 \n",
            "[CV]  n_estimators=700, min_samples_split=5, min_samples_leaf=10, max_features=auto, max_depth=20, total=  44.2s\n",
            "[CV] n_estimators=1000, min_samples_split=2, min_samples_leaf=1, max_features=sqrt, max_depth=25 \n",
            "[CV]  n_estimators=1000, min_samples_split=2, min_samples_leaf=1, max_features=sqrt, max_depth=25, total=  59.3s\n",
            "[CV] n_estimators=1000, min_samples_split=2, min_samples_leaf=1, max_features=sqrt, max_depth=25 \n",
            "[CV]  n_estimators=1000, min_samples_split=2, min_samples_leaf=1, max_features=sqrt, max_depth=25, total=  57.9s\n",
            "[CV] n_estimators=1000, min_samples_split=2, min_samples_leaf=1, max_features=sqrt, max_depth=25 \n",
            "[CV]  n_estimators=1000, min_samples_split=2, min_samples_leaf=1, max_features=sqrt, max_depth=25, total=  57.7s\n",
            "[CV] n_estimators=1000, min_samples_split=2, min_samples_leaf=1, max_features=sqrt, max_depth=25 \n",
            "[CV]  n_estimators=1000, min_samples_split=2, min_samples_leaf=1, max_features=sqrt, max_depth=25, total=  57.5s\n",
            "[CV] n_estimators=1000, min_samples_split=2, min_samples_leaf=1, max_features=sqrt, max_depth=25 \n"
          ],
          "name": "stdout"
        }
      ]
    },
    {
      "cell_type": "code",
      "metadata": {
        "id": "ysZlyLb3q0w6"
      },
      "source": [
        "rf_random.best_params_"
      ],
      "execution_count": null,
      "outputs": []
    },
    {
      "cell_type": "code",
      "metadata": {
        "id": "jBHPTy4_q0w-"
      },
      "source": [
        "rf_random.best_score_"
      ],
      "execution_count": null,
      "outputs": []
    },
    {
      "cell_type": "code",
      "metadata": {
        "id": "TDakPgxUq0xC"
      },
      "source": [
        "\n",
        "predictions=rf_random.predict(X_tst)"
      ],
      "execution_count": null,
      "outputs": []
    },
    {
      "cell_type": "code",
      "metadata": {
        "id": "0ZyxL7G_q0xE"
      },
      "source": [
        "sns.distplot(y_tst-predictions)"
      ],
      "execution_count": null,
      "outputs": []
    },
    {
      "cell_type": "code",
      "metadata": {
        "id": "swXqcsWPq0xG"
      },
      "source": [
        "\n",
        "plt.scatter(y_tst,predictions)"
      ],
      "execution_count": null,
      "outputs": []
    },
    {
      "cell_type": "code",
      "metadata": {
        "id": "DA5U7Gkyq0xI"
      },
      "source": [
        "from sklearn import metrics"
      ],
      "execution_count": null,
      "outputs": []
    },
    {
      "cell_type": "code",
      "metadata": {
        "id": "I56r97Kvq0xL"
      },
      "source": [
        "print('MAE:', metrics.mean_absolute_error(y_tst, predictions))\n",
        "print('MSE:', metrics.mean_squared_error(y_tst, predictions))\n",
        "print('RMSE:', np.sqrt(metrics.mean_squared_error(y_tst, predictions)))"
      ],
      "execution_count": null,
      "outputs": []
    },
    {
      "cell_type": "code",
      "metadata": {
        "id": "fXTKYcmJq0xO"
      },
      "source": [
        ""
      ],
      "execution_count": null,
      "outputs": []
    },
    {
      "cell_type": "code",
      "metadata": {
        "id": "FJYi7dleq0xQ"
      },
      "source": [
        ""
      ],
      "execution_count": null,
      "outputs": []
    },
    {
      "cell_type": "code",
      "metadata": {
        "id": "rKVPOmtsq0xT"
      },
      "source": [
        "import numpy as np\n",
        "import pandas as pd\n",
        "from datetime import datetime\n",
        "from datetime import date, timedelta"
      ],
      "execution_count": null,
      "outputs": []
    },
    {
      "cell_type": "code",
      "metadata": {
        "id": "JzIRRWLuq0xY"
      },
      "source": [
        "numpy_data = np.array(['2', '2', '2020-01-01','2020-01-05'])"
      ],
      "execution_count": null,
      "outputs": []
    },
    {
      "cell_type": "code",
      "metadata": {
        "id": "DRvGYu8Fq0xb"
      },
      "source": [
        "\n",
        "\n",
        "dt1 = datetime.strptime(numpy_data[2], '%Y-%m-%d')\n",
        "dt2 = datetime.strptime(numpy_data[3], '%Y-%m-%d')\n",
        "\n",
        "sdate = date(dt1.year, dt1.month, dt1.day)   # start date\n",
        "edate = date(dt2.year, dt2.month, dt2.day)   # end date\n",
        "\n",
        "delta = edate - sdate  \n",
        "\n",
        "a= len(range(delta.days+1))\n",
        "ex = {}\n",
        "result = {}\n",
        "for i in range(delta.days + 1):\n",
        "    day =str(sdate + timedelta(days=i))\n",
        "    \n",
        "    dt = datetime.strptime(day, '%Y-%m-%d')\n",
        "    \n",
        "    d={'origin':[numpy_data[0]]*10,\n",
        "        'dest':[numpy_data[1]]*10,\n",
        "        'item':list(range(1,11)),\n",
        "        'year':[dt.year]*10,\n",
        "        'month':[dt.month]*10,\n",
        "        'day':[dt.day]*10}\n",
        "    \n",
        "    \n",
        "    for key in (d.keys()):\n",
        "        if key in d:\n",
        "            result.setdefault(key, []).extend(d[key])\n",
        "    \n",
        "dfs1 = pd.DataFrame(result)\n",
        "    \n"
      ],
      "execution_count": null,
      "outputs": []
    },
    {
      "cell_type": "code",
      "metadata": {
        "id": "p0wN4kT6q0xd"
      },
      "source": [
        "dfs1"
      ],
      "execution_count": null,
      "outputs": []
    },
    {
      "cell_type": "code",
      "metadata": {
        "id": "11rMUavxq0xf"
      },
      "source": [
        "final_pred = model.predict(dfs1)"
      ],
      "execution_count": null,
      "outputs": []
    },
    {
      "cell_type": "code",
      "metadata": {
        "id": "9wx71j45q0xh"
      },
      "source": [
        "final_pred"
      ],
      "execution_count": null,
      "outputs": []
    },
    {
      "cell_type": "code",
      "metadata": {
        "id": "VG0p5lsxq0xj"
      },
      "source": [
        "final_pred[0][1]"
      ],
      "execution_count": null,
      "outputs": []
    },
    {
      "cell_type": "code",
      "metadata": {
        "id": "SU01RShgq0xn"
      },
      "source": [
        "waight=[]\n",
        "volume=[]\n",
        "for i in range(len(final_pred)):\n",
        "    waight.append(final_pred[i][0])\n",
        "    volume.append(final_pred[i][1])\n",
        "\n"
      ],
      "execution_count": null,
      "outputs": []
    },
    {
      "cell_type": "code",
      "metadata": {
        "id": "ONun-SXkq0xp"
      },
      "source": [
        "len(waight)"
      ],
      "execution_count": null,
      "outputs": []
    },
    {
      "cell_type": "code",
      "metadata": {
        "id": "Oc2ty-AAq0xs"
      },
      "source": [
        "numpy_data[0]"
      ],
      "execution_count": null,
      "outputs": []
    },
    {
      "cell_type": "code",
      "metadata": {
        "id": "76TJWRAjq0xv"
      },
      "source": [
        "origin_replace"
      ],
      "execution_count": null,
      "outputs": []
    },
    {
      "cell_type": "code",
      "metadata": {
        "id": "cBbx1ozgq0xx"
      },
      "source": [
        "origin_replace[1]"
      ],
      "execution_count": null,
      "outputs": []
    },
    {
      "cell_type": "code",
      "metadata": {
        "id": "HTTS__Bdq0x0"
      },
      "source": [
        "orig=[]\n",
        "des=[]\n",
        "v1= int(numpy_data[0])\n",
        "v2= int(numpy_data[1])\n",
        "for i in range(1,len(origin_replace)+1):\n",
        "    if v1 == i :\n",
        "        orig = origin_replace[i]\n",
        "    \n",
        "    if v2 == i :\n",
        "        des = dest_replace[i]\n",
        "        \n",
        "    \n",
        "print(orig,dest)"
      ],
      "execution_count": null,
      "outputs": []
    },
    {
      "cell_type": "code",
      "metadata": {
        "id": "c2dKw5nbq0x3"
      },
      "source": [
        "\n",
        "dfs1['predected waight']= waight\n",
        "dfs1['predected volume']= volume"
      ],
      "execution_count": null,
      "outputs": []
    },
    {
      "cell_type": "code",
      "metadata": {
        "id": "mGyxZbPVq0x5"
      },
      "source": [
        "len(final_pred)"
      ],
      "execution_count": null,
      "outputs": []
    },
    {
      "cell_type": "code",
      "metadata": {
        "id": "F_RwHPj4q0x8"
      },
      "source": [
        "dfs1.head()"
      ],
      "execution_count": null,
      "outputs": []
    },
    {
      "cell_type": "code",
      "metadata": {
        "id": "0nvl49zcq0x-"
      },
      "source": [
        "dfs1.shape"
      ],
      "execution_count": null,
      "outputs": []
    },
    {
      "cell_type": "code",
      "metadata": {
        "id": "Y2ZNMFj6q0yA"
      },
      "source": [
        "volume"
      ],
      "execution_count": null,
      "outputs": []
    },
    {
      "cell_type": "code",
      "metadata": {
        "id": "4k4A2sTdq0yC"
      },
      "source": [
        "dfs1['myDt']=pd.to_datetime(dfs1[['year','month','day']])"
      ],
      "execution_count": null,
      "outputs": []
    },
    {
      "cell_type": "code",
      "metadata": {
        "id": "7ldosu7fq0yF"
      },
      "source": [
        ""
      ],
      "execution_count": null,
      "outputs": []
    },
    {
      "cell_type": "code",
      "metadata": {
        "id": "I81QBUOzq0yI"
      },
      "source": [
        "dfs1 = dfs1.drop(['year','month','day','origin','dest'], axis =1) "
      ],
      "execution_count": null,
      "outputs": []
    },
    {
      "cell_type": "code",
      "metadata": {
        "id": "bd8JWXesq0yK"
      },
      "source": [
        "dfs1.head()"
      ],
      "execution_count": null,
      "outputs": []
    },
    {
      "cell_type": "code",
      "metadata": {
        "id": "5wfV-btKq0yN"
      },
      "source": [
        "replace_map_comp1"
      ],
      "execution_count": null,
      "outputs": []
    },
    {
      "cell_type": "code",
      "metadata": {
        "id": "YijN54Zyq0yP"
      },
      "source": [
        "dest_replace = {'Kon Tum ': 1,\n",
        "  'Lào Cai ': 2,\n",
        "  'Lạng Sơn ': 3,\n",
        "  'Long An ': 4,\n",
        "  'Nam Định ': 5,\n",
        "  'Ninh Bình ': 6,\n",
        "  'Phú Thọ ': 7,\n",
        "  'Quảng Bình ': 8,\n",
        "  'Quảng Nam ': 9,\n",
        "  'Quảng Ngãi ': 10,\n",
        "  'Quảng Ninh ': 11,\n",
        "  'Quảng Trị ': 12,\n",
        "  'Sóc Trăng ': 13,\n",
        "  'Sơn La ': 14,\n",
        "  'Thanh Hoá ': 15,\n",
        "  'Thái Bình ': 16,\n",
        "  'Trà Vinh ': 17,\n",
        "  'Vĩnh Long ': 18}"
      ],
      "execution_count": null,
      "outputs": []
    },
    {
      "cell_type": "code",
      "metadata": {
        "id": "c2cdQdxoq0yR"
      },
      "source": [
        "dest_replace = dict([(value, key) for key, value in dest_replace.items()]) "
      ],
      "execution_count": null,
      "outputs": []
    },
    {
      "cell_type": "code",
      "metadata": {
        "id": "IGrNYeEPq0yT"
      },
      "source": [
        "dest_replace ={1: 'Kon Tum ',\n",
        " 2: 'Lào Cai ',\n",
        " 3: 'Lạng Sơn ',\n",
        " 4: 'Long An ',\n",
        " 5: 'Nam Định ',\n",
        " 6: 'Ninh Bình ',\n",
        " 7: 'Phú Thọ ',\n",
        " 8: 'Quảng Bình ',\n",
        " 9: 'Quảng Nam ',\n",
        " 10: 'Quảng Ngãi ',\n",
        " 11: 'Quảng Ninh ',\n",
        " 12: 'Quảng Trị ',\n",
        " 13: 'Sóc Trăng ',\n",
        " 14: 'Sơn La ',\n",
        " 15: 'Thanh Hoá ',\n",
        " 16: 'Thái Bình ',\n",
        " 17: 'Trà Vinh ',\n",
        " 18: 'Vĩnh Long '}"
      ],
      "execution_count": null,
      "outputs": []
    },
    {
      "cell_type": "code",
      "metadata": {
        "id": "Q8W7cnf7q0yW"
      },
      "source": [
        "origin_replace ={1: 'Bình Dương ',\n",
        " 2: 'Bình Phước ',\n",
        " 3: 'Bình Định ',\n",
        " 4: 'Bắc Giang ',\n",
        " 5: 'Bắc Kạn ',\n",
        " 6: 'Bắc Ninh ',\n",
        " 7: 'Cao Bằng ',\n",
        " 8: 'Cà Mau ',\n",
        " 9: 'Gia Lai ',\n",
        " 10: 'Hà Giang ',\n",
        " 11: 'Hà Nam ',\n",
        " 12: 'Hà Tĩnh ',\n",
        " 13: 'Hải Dương ',\n",
        " 14: 'Hải Phòng ',\n",
        " 15: 'Hoà Bình ',\n",
        " 16: 'Khánh Hoà ',\n"
      ],
      "execution_count": null,
      "outputs": []
    },
    {
      "cell_type": "code",
      "metadata": {
        "id": "YmSIjTWBq0yY"
      },
      "source": [
        "dfs1.replace(item_replace, inplace=True)"
      ],
      "execution_count": null,
      "outputs": []
    },
    {
      "cell_type": "code",
      "metadata": {
        "id": "eDd-cBvmq0yZ"
      },
      "source": [
        "dfs1.head()"
      ],
      "execution_count": null,
      "outputs": []
    },
    {
      "cell_type": "code",
      "metadata": {
        "id": "klKk-h4sq0yb"
      },
      "source": [
        ""
      ],
      "execution_count": null,
      "outputs": []
    },
    {
      "cell_type": "code",
      "metadata": {
        "id": "TUei-fM8q0yd"
      },
      "source": [
        ""
      ],
      "execution_count": null,
      "outputs": []
    },
    {
      "cell_type": "code",
      "metadata": {
        "id": "OYSa47pTq0yf"
      },
      "source": [
        "dfs1.head()"
      ],
      "execution_count": null,
      "outputs": []
    },
    {
      "cell_type": "code",
      "metadata": {
        "id": "Pd8iyhl4q0yh"
      },
      "source": [
        "df_test.head()"
      ],
      "execution_count": null,
      "outputs": []
    },
    {
      "cell_type": "code",
      "metadata": {
        "id": "91kJ0piTq0yj"
      },
      "source": [
        "df2 = df_test.iloc[:,[0,1,2,3,5,8,9,10]]"
      ],
      "execution_count": null,
      "outputs": []
    },
    {
      "cell_type": "code",
      "metadata": {
        "id": "WkxvHifsq0yk"
      },
      "source": [
        "df2.head()"
      ],
      "execution_count": null,
      "outputs": []
    },
    {
      "cell_type": "code",
      "metadata": {
        "id": "kzGIygcbq0yo"
      },
      "source": [
        "replace_map_comp2"
      ],
      "execution_count": null,
      "outputs": []
    },
    {
      "cell_type": "code",
      "metadata": {
        "id": "CiWM9d8Xq0yr"
      },
      "source": [
        ""
      ],
      "execution_count": null,
      "outputs": []
    },
    {
      "cell_type": "code",
      "metadata": {
        "id": "1KU3FYpZq0yt"
      },
      "source": [
        "df2.replace(replace_map_comp, inplace=True)\n",
        "df2.replace(replace_map_comp1, inplace=True)\n",
        "df2.replace(replace_map_comp2, inplace=True)"
      ],
      "execution_count": null,
      "outputs": []
    },
    {
      "cell_type": "code",
      "metadata": {
        "id": "SQbOgc66q0yv"
      },
      "source": [
        "df2.tail()"
      ],
      "execution_count": null,
      "outputs": []
    },
    {
      "cell_type": "code",
      "metadata": {
        "id": "mamTymeJq0yx"
      },
      "source": [
        "X_tst = df2.iloc[:,[0,1,2,5,6,7]]"
      ],
      "execution_count": null,
      "outputs": []
    },
    {
      "cell_type": "code",
      "metadata": {
        "id": "6_59O3XJq0yz"
      },
      "source": [
        "y_tst = df2.iloc[:,[3,4]]"
      ],
      "execution_count": null,
      "outputs": []
    },
    {
      "cell_type": "code",
      "metadata": {
        "id": "FAYDiws0q0y0"
      },
      "source": [
        "X_tst.head()"
      ],
      "execution_count": null,
      "outputs": []
    },
    {
      "cell_type": "code",
      "metadata": {
        "id": "hvyA4VEnq0y2"
      },
      "source": [
        "rf_predictions = model.predict(X_tst)"
      ],
      "execution_count": null,
      "outputs": []
    },
    {
      "cell_type": "code",
      "metadata": {
        "id": "VCYeX8cKq0y4"
      },
      "source": [
        "predictions = model.predict([newArray])"
      ],
      "execution_count": null,
      "outputs": []
    },
    {
      "cell_type": "code",
      "metadata": {
        "id": "pD-wl1rAq0y6"
      },
      "source": [
        "rf_predictions"
      ],
      "execution_count": null,
      "outputs": []
    },
    {
      "cell_type": "code",
      "metadata": {
        "id": "H2Sbi6DGq0y7"
      },
      "source": [
        "import pickle\n",
        "\n",
        "\n",
        "# Saving model to disk\n",
        "pickle.dump(model, open('Forecast2.pkl','wb',),protocol=2)\n",
        "\n",
        "# Loading model to compare the results\n",
        "frecast = pickle.load(open('Forecast2.pkl','rb'))"
      ],
      "execution_count": null,
      "outputs": []
    },
    {
      "cell_type": "code",
      "metadata": {
        "id": "OmJcWuniq0y9"
      },
      "source": [
        "predictions = frecast.predict([newArray])"
      ],
      "execution_count": null,
      "outputs": []
    },
    {
      "cell_type": "code",
      "metadata": {
        "id": "D_yLyNBtq0zC"
      },
      "source": [
        "predictions[0] = predictions[0].toFixed(2)"
      ],
      "execution_count": null,
      "outputs": []
    },
    {
      "cell_type": "code",
      "metadata": {
        "id": "v9mGZZzsq0zH"
      },
      "source": [
        "x = np.round(predictions, decimals=3)"
      ],
      "execution_count": null,
      "outputs": []
    },
    {
      "cell_type": "code",
      "metadata": {
        "id": "NHZnUH_Iq0zK"
      },
      "source": [
        "x"
      ],
      "execution_count": null,
      "outputs": []
    },
    {
      "cell_type": "code",
      "metadata": {
        "id": "BmA1SvUmq0zM"
      },
      "source": [
        "predictions"
      ],
      "execution_count": null,
      "outputs": []
    },
    {
      "cell_type": "code",
      "metadata": {
        "id": "pM3UKq3Tq0zR"
      },
      "source": [
        "rf_predictions"
      ],
      "execution_count": null,
      "outputs": []
    },
    {
      "cell_type": "code",
      "metadata": {
        "id": "JZPE5mRUq0zT"
      },
      "source": [
        "y_tst"
      ],
      "execution_count": null,
      "outputs": []
    },
    {
      "cell_type": "code",
      "metadata": {
        "id": "epBVHz6Dq0zV"
      },
      "source": [
        "from sklearn.metrics import mean_squared_error\n",
        "mse = mean_squared_error(y_tst,rf_predictions)\n",
        "rmse = np.sqrt(mse)\n",
        "rmse"
      ],
      "execution_count": null,
      "outputs": []
    },
    {
      "cell_type": "code",
      "metadata": {
        "id": "LAkB9byvq0zX"
      },
      "source": [
        ""
      ],
      "execution_count": null,
      "outputs": []
    },
    {
      "cell_type": "code",
      "metadata": {
        "id": "0Kn9G_A7q0zZ"
      },
      "source": [
        ""
      ],
      "execution_count": null,
      "outputs": []
    },
    {
      "cell_type": "code",
      "metadata": {
        "id": "JYSqy7d2q0zb"
      },
      "source": [
        ""
      ],
      "execution_count": null,
      "outputs": []
    },
    {
      "cell_type": "code",
      "metadata": {
        "id": "Odfd8PIkq0zd"
      },
      "source": [
        ""
      ],
      "execution_count": null,
      "outputs": []
    },
    {
      "cell_type": "code",
      "metadata": {
        "id": "A-NpAMboq0ze"
      },
      "source": [
        ""
      ],
      "execution_count": null,
      "outputs": []
    },
    {
      "cell_type": "code",
      "metadata": {
        "id": "RsY2ltkjq0zf"
      },
      "source": [
        "numpy_data = np.array(['2', '2', '2020-06-18'])"
      ],
      "execution_count": null,
      "outputs": []
    },
    {
      "cell_type": "code",
      "metadata": {
        "id": "aEU2ZaFNq0zl"
      },
      "source": [
        "numpy_data[2]"
      ],
      "execution_count": null,
      "outputs": []
    },
    {
      "cell_type": "code",
      "metadata": {
        "id": "ObmjYKRNq0zn"
      },
      "source": [
        "dt = datetime.strptime(numpy_data[2], '%Y-%m-%d')"
      ],
      "execution_count": null,
      "outputs": []
    },
    {
      "cell_type": "code",
      "metadata": {
        "id": "S5Q8O--Oq0zp"
      },
      "source": [
        "print(dt.year, dt.month, dt.day)"
      ],
      "execution_count": null,
      "outputs": []
    },
    {
      "cell_type": "code",
      "metadata": {
        "id": "eoXSDP0Qq0zr"
      },
      "source": [
        "import pandas as pd\n",
        "\n",
        "d={'origin':[numpy_data[0]]*10,\n",
        "   'dest':[numpy_data[1]]*10,\n",
        "   'item':list(range(1,11)),\n",
        "  'year':[dt.year]*10,\n",
        "  'month':[dt.month]*10,\n",
        "  'day':[dt.day]*10}\n",
        "df=pd.DataFrame(d)\n",
        "df_lags=pd.DataFrame()"
      ],
      "execution_count": null,
      "outputs": []
    },
    {
      "cell_type": "code",
      "metadata": {
        "id": "_7FkDGMtq0zs"
      },
      "source": [
        "df"
      ],
      "execution_count": null,
      "outputs": []
    },
    {
      "cell_type": "code",
      "metadata": {
        "id": "JCPnVdu8q0zt"
      },
      "source": [
        "X_tst"
      ],
      "execution_count": null,
      "outputs": []
    },
    {
      "cell_type": "code",
      "metadata": {
        "id": "8yNmjNdCq0zv"
      },
      "source": [
        "prd = model.predict(df)"
      ],
      "execution_count": null,
      "outputs": []
    },
    {
      "cell_type": "code",
      "metadata": {
        "id": "usaLH2dPq0zx"
      },
      "source": [
        "prd"
      ],
      "execution_count": null,
      "outputs": []
    },
    {
      "cell_type": "code",
      "metadata": {
        "id": "bWdOK-yZq0zz"
      },
      "source": [
        "prd[0][0]"
      ],
      "execution_count": null,
      "outputs": []
    },
    {
      "cell_type": "code",
      "metadata": {
        "id": "oIUG2Vwmq0z3"
      },
      "source": [
        ""
      ],
      "execution_count": null,
      "outputs": []
    },
    {
      "cell_type": "code",
      "metadata": {
        "id": "-Zh0hTgYq0z5"
      },
      "source": [
        ""
      ],
      "execution_count": null,
      "outputs": []
    },
    {
      "cell_type": "code",
      "metadata": {
        "id": "EaAfWKwhq0z9"
      },
      "source": [
        ""
      ],
      "execution_count": null,
      "outputs": []
    }
  ]
}