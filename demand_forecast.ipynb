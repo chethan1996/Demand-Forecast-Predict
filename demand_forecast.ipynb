{
  "nbformat": 4,
  "nbformat_minor": 0,
  "metadata": {
    "kernelspec": {
      "display_name": "Python 3",
      "language": "python",
      "name": "python3"
    },
    "language_info": {
      "codemirror_mode": {
        "name": "ipython",
        "version": 3
      },
      "file_extension": ".py",
      "mimetype": "text/x-python",
      "name": "python",
      "nbconvert_exporter": "python",
      "pygments_lexer": "ipython3",
      "version": "3.7.3"
    },
    "colab": {
      "name": "demand_forecast.ipynb",
      "provenance": [],
      "toc_visible": true,
      "include_colab_link": true
    }
  },
  "cells": [
    {
      "cell_type": "markdown",
      "metadata": {
        "id": "view-in-github",
        "colab_type": "text"
      },
      "source": [
        "<a href=\"https://colab.research.google.com/github/chethan1996/Demand-Forecast-Predict/blob/master/demand_forecast.ipynb\" target=\"_parent\"><img src=\"https://colab.research.google.com/assets/colab-badge.svg\" alt=\"Open In Colab\"/></a>"
      ]
    },
    {
      "cell_type": "markdown",
      "metadata": {
        "id": "2H1U67uzq0sz"
      },
      "source": [
        "VTP_DemandData_V2.0"
      ]
    },
    {
      "cell_type": "code",
      "metadata": {
        "id": "rMTGe4FRq0s4"
      },
      "source": [
        "import numpy as np\n",
        "import pandas as pd\n",
        "\n",
        "import matplotlib.pyplot as plt\n",
        "%matplotlib inline\n",
        "from sklearn.model_selection import train_test_split\n",
        "\n"
      ],
      "execution_count": 1,
      "outputs": []
    },
    {
      "cell_type": "code",
      "metadata": {
        "id": "0yNyOtpbq0tG",
        "outputId": "b06c49af-4b64-41f4-ecdd-a81469e4027d",
        "colab": {
          "base_uri": "https://localhost:8080/",
          "height": 204
        }
      },
      "source": [
        "df = pd.read_excel('VTP_Demand_Data_Latest.xlsx')\n",
        "df.head()"
      ],
      "execution_count": 2,
      "outputs": [
        {
          "output_type": "execute_result",
          "data": {
            "text/html": [
              "<div>\n",
              "<style scoped>\n",
              "    .dataframe tbody tr th:only-of-type {\n",
              "        vertical-align: middle;\n",
              "    }\n",
              "\n",
              "    .dataframe tbody tr th {\n",
              "        vertical-align: top;\n",
              "    }\n",
              "\n",
              "    .dataframe thead th {\n",
              "        text-align: right;\n",
              "    }\n",
              "</style>\n",
              "<table border=\"1\" class=\"dataframe\">\n",
              "  <thead>\n",
              "    <tr style=\"text-align: right;\">\n",
              "      <th></th>\n",
              "      <th>Origin</th>\n",
              "      <th>Destination</th>\n",
              "      <th>Item</th>\n",
              "      <th>Weight</th>\n",
              "      <th>Weight UoM</th>\n",
              "      <th>Size/Volume</th>\n",
              "      <th>Volume UoM</th>\n",
              "      <th>Customer Requested Delivery Date (DD/MM/YY)</th>\n",
              "      <th>Year</th>\n",
              "    </tr>\n",
              "  </thead>\n",
              "  <tbody>\n",
              "    <tr>\n",
              "      <th>0</th>\n",
              "      <td>TCP</td>\n",
              "      <td>DHIG</td>\n",
              "      <td>Parcel - Dummy</td>\n",
              "      <td>500</td>\n",
              "      <td>KG</td>\n",
              "      <td>500</td>\n",
              "      <td>CM3</td>\n",
              "      <td>2020-08-01</td>\n",
              "      <td>2020</td>\n",
              "    </tr>\n",
              "    <tr>\n",
              "      <th>1</th>\n",
              "      <td>TCP</td>\n",
              "      <td>DHIG</td>\n",
              "      <td>Parcel - Dummy</td>\n",
              "      <td>1000</td>\n",
              "      <td>KG</td>\n",
              "      <td>1000</td>\n",
              "      <td>CM3</td>\n",
              "      <td>2020-08-01</td>\n",
              "      <td>2020</td>\n",
              "    </tr>\n",
              "    <tr>\n",
              "      <th>2</th>\n",
              "      <td>TCP</td>\n",
              "      <td>TML</td>\n",
              "      <td>Parcel - Dummy</td>\n",
              "      <td>200</td>\n",
              "      <td>KG</td>\n",
              "      <td>200</td>\n",
              "      <td>CM3</td>\n",
              "      <td>2020-08-01</td>\n",
              "      <td>2020</td>\n",
              "    </tr>\n",
              "    <tr>\n",
              "      <th>3</th>\n",
              "      <td>TCP</td>\n",
              "      <td>BXO</td>\n",
              "      <td>Parcel - Dummy</td>\n",
              "      <td>500</td>\n",
              "      <td>KG</td>\n",
              "      <td>500</td>\n",
              "      <td>CM3</td>\n",
              "      <td>2020-08-01</td>\n",
              "      <td>2020</td>\n",
              "    </tr>\n",
              "    <tr>\n",
              "      <th>4</th>\n",
              "      <td>TCP</td>\n",
              "      <td>TTM</td>\n",
              "      <td>Parcel - Dummy</td>\n",
              "      <td>500</td>\n",
              "      <td>KG</td>\n",
              "      <td>500</td>\n",
              "      <td>CM3</td>\n",
              "      <td>2020-08-01</td>\n",
              "      <td>2020</td>\n",
              "    </tr>\n",
              "  </tbody>\n",
              "</table>\n",
              "</div>"
            ],
            "text/plain": [
              "  Origin Destination  ... Customer Requested Delivery Date (DD/MM/YY)  Year\n",
              "0    TCP        DHIG  ...                                  2020-08-01  2020\n",
              "1    TCP        DHIG  ...                                  2020-08-01  2020\n",
              "2    TCP         TML  ...                                  2020-08-01  2020\n",
              "3    TCP         BXO  ...                                  2020-08-01  2020\n",
              "4    TCP         TTM  ...                                  2020-08-01  2020\n",
              "\n",
              "[5 rows x 9 columns]"
            ]
          },
          "metadata": {
            "tags": []
          },
          "execution_count": 2
        }
      ]
    },
    {
      "cell_type": "markdown",
      "metadata": {
        "id": "zWutWHyaq0tO"
      },
      "source": [
        "# Preprocessing"
      ]
    },
    {
      "cell_type": "code",
      "metadata": {
        "id": "6PBj3aUsq0tP"
      },
      "source": [
        "df['month'] = pd.DatetimeIndex(df['Customer Requested Delivery Date (DD/MM/YY)']).month"
      ],
      "execution_count": 3,
      "outputs": []
    },
    {
      "cell_type": "code",
      "metadata": {
        "id": "YzhRfYuZq0tV"
      },
      "source": [
        "df['day'] = pd.DatetimeIndex(df['Customer Requested Delivery Date (DD/MM/YY)']).day"
      ],
      "execution_count": 4,
      "outputs": []
    },
    {
      "cell_type": "code",
      "metadata": {
        "id": "rxANaEM_q0tZ",
        "outputId": "ca7f375c-b8ab-40fa-dba3-1def0fcf4393",
        "colab": {
          "base_uri": "https://localhost:8080/",
          "height": 204
        }
      },
      "source": [
        "df.head()"
      ],
      "execution_count": 5,
      "outputs": [
        {
          "output_type": "execute_result",
          "data": {
            "text/html": [
              "<div>\n",
              "<style scoped>\n",
              "    .dataframe tbody tr th:only-of-type {\n",
              "        vertical-align: middle;\n",
              "    }\n",
              "\n",
              "    .dataframe tbody tr th {\n",
              "        vertical-align: top;\n",
              "    }\n",
              "\n",
              "    .dataframe thead th {\n",
              "        text-align: right;\n",
              "    }\n",
              "</style>\n",
              "<table border=\"1\" class=\"dataframe\">\n",
              "  <thead>\n",
              "    <tr style=\"text-align: right;\">\n",
              "      <th></th>\n",
              "      <th>Origin</th>\n",
              "      <th>Destination</th>\n",
              "      <th>Item</th>\n",
              "      <th>Weight</th>\n",
              "      <th>Weight UoM</th>\n",
              "      <th>Size/Volume</th>\n",
              "      <th>Volume UoM</th>\n",
              "      <th>Customer Requested Delivery Date (DD/MM/YY)</th>\n",
              "      <th>Year</th>\n",
              "      <th>month</th>\n",
              "      <th>day</th>\n",
              "    </tr>\n",
              "  </thead>\n",
              "  <tbody>\n",
              "    <tr>\n",
              "      <th>0</th>\n",
              "      <td>TCP</td>\n",
              "      <td>DHIG</td>\n",
              "      <td>Parcel - Dummy</td>\n",
              "      <td>500</td>\n",
              "      <td>KG</td>\n",
              "      <td>500</td>\n",
              "      <td>CM3</td>\n",
              "      <td>2020-08-01</td>\n",
              "      <td>2020</td>\n",
              "      <td>8</td>\n",
              "      <td>1</td>\n",
              "    </tr>\n",
              "    <tr>\n",
              "      <th>1</th>\n",
              "      <td>TCP</td>\n",
              "      <td>DHIG</td>\n",
              "      <td>Parcel - Dummy</td>\n",
              "      <td>1000</td>\n",
              "      <td>KG</td>\n",
              "      <td>1000</td>\n",
              "      <td>CM3</td>\n",
              "      <td>2020-08-01</td>\n",
              "      <td>2020</td>\n",
              "      <td>8</td>\n",
              "      <td>1</td>\n",
              "    </tr>\n",
              "    <tr>\n",
              "      <th>2</th>\n",
              "      <td>TCP</td>\n",
              "      <td>TML</td>\n",
              "      <td>Parcel - Dummy</td>\n",
              "      <td>200</td>\n",
              "      <td>KG</td>\n",
              "      <td>200</td>\n",
              "      <td>CM3</td>\n",
              "      <td>2020-08-01</td>\n",
              "      <td>2020</td>\n",
              "      <td>8</td>\n",
              "      <td>1</td>\n",
              "    </tr>\n",
              "    <tr>\n",
              "      <th>3</th>\n",
              "      <td>TCP</td>\n",
              "      <td>BXO</td>\n",
              "      <td>Parcel - Dummy</td>\n",
              "      <td>500</td>\n",
              "      <td>KG</td>\n",
              "      <td>500</td>\n",
              "      <td>CM3</td>\n",
              "      <td>2020-08-01</td>\n",
              "      <td>2020</td>\n",
              "      <td>8</td>\n",
              "      <td>1</td>\n",
              "    </tr>\n",
              "    <tr>\n",
              "      <th>4</th>\n",
              "      <td>TCP</td>\n",
              "      <td>TTM</td>\n",
              "      <td>Parcel - Dummy</td>\n",
              "      <td>500</td>\n",
              "      <td>KG</td>\n",
              "      <td>500</td>\n",
              "      <td>CM3</td>\n",
              "      <td>2020-08-01</td>\n",
              "      <td>2020</td>\n",
              "      <td>8</td>\n",
              "      <td>1</td>\n",
              "    </tr>\n",
              "  </tbody>\n",
              "</table>\n",
              "</div>"
            ],
            "text/plain": [
              "  Origin Destination            Item  ...  Year month  day\n",
              "0    TCP        DHIG  Parcel - Dummy  ...  2020     8    1\n",
              "1    TCP        DHIG  Parcel - Dummy  ...  2020     8    1\n",
              "2    TCP         TML  Parcel - Dummy  ...  2020     8    1\n",
              "3    TCP         BXO  Parcel - Dummy  ...  2020     8    1\n",
              "4    TCP         TTM  Parcel - Dummy  ...  2020     8    1\n",
              "\n",
              "[5 rows x 11 columns]"
            ]
          },
          "metadata": {
            "tags": []
          },
          "execution_count": 5
        }
      ]
    },
    {
      "cell_type": "code",
      "metadata": {
        "id": "6h4tWP7Iq0te",
        "outputId": "4a6f41c6-8a92-4e65-9aa9-3cfd43a10a7a",
        "colab": {
          "base_uri": "https://localhost:8080/"
        }
      },
      "source": [
        "df['Year'].value_counts()"
      ],
      "execution_count": 6,
      "outputs": [
        {
          "output_type": "execute_result",
          "data": {
            "text/plain": [
              "2020    68518\n",
              "Name: Year, dtype: int64"
            ]
          },
          "metadata": {
            "tags": []
          },
          "execution_count": 6
        }
      ]
    },
    {
      "cell_type": "code",
      "metadata": {
        "id": "NSza_blDq0ti"
      },
      "source": [
        "df_test = df[df['Year']==2020]"
      ],
      "execution_count": 7,
      "outputs": []
    },
    {
      "cell_type": "code",
      "metadata": {
        "id": "yjUq7TYZwLxj",
        "outputId": "47b4beb6-2039-443f-91d8-c731e2bf2e2b",
        "colab": {
          "base_uri": "https://localhost:8080/",
          "height": 419
        }
      },
      "source": [
        "df_test"
      ],
      "execution_count": 8,
      "outputs": [
        {
          "output_type": "execute_result",
          "data": {
            "text/html": [
              "<div>\n",
              "<style scoped>\n",
              "    .dataframe tbody tr th:only-of-type {\n",
              "        vertical-align: middle;\n",
              "    }\n",
              "\n",
              "    .dataframe tbody tr th {\n",
              "        vertical-align: top;\n",
              "    }\n",
              "\n",
              "    .dataframe thead th {\n",
              "        text-align: right;\n",
              "    }\n",
              "</style>\n",
              "<table border=\"1\" class=\"dataframe\">\n",
              "  <thead>\n",
              "    <tr style=\"text-align: right;\">\n",
              "      <th></th>\n",
              "      <th>Origin</th>\n",
              "      <th>Destination</th>\n",
              "      <th>Item</th>\n",
              "      <th>Weight</th>\n",
              "      <th>Weight UoM</th>\n",
              "      <th>Size/Volume</th>\n",
              "      <th>Volume UoM</th>\n",
              "      <th>Customer Requested Delivery Date (DD/MM/YY)</th>\n",
              "      <th>Year</th>\n",
              "      <th>month</th>\n",
              "      <th>day</th>\n",
              "    </tr>\n",
              "  </thead>\n",
              "  <tbody>\n",
              "    <tr>\n",
              "      <th>0</th>\n",
              "      <td>TCP</td>\n",
              "      <td>DHIG</td>\n",
              "      <td>Parcel - Dummy</td>\n",
              "      <td>500</td>\n",
              "      <td>KG</td>\n",
              "      <td>500</td>\n",
              "      <td>CM3</td>\n",
              "      <td>2020-08-01</td>\n",
              "      <td>2020</td>\n",
              "      <td>8</td>\n",
              "      <td>1</td>\n",
              "    </tr>\n",
              "    <tr>\n",
              "      <th>1</th>\n",
              "      <td>TCP</td>\n",
              "      <td>DHIG</td>\n",
              "      <td>Parcel - Dummy</td>\n",
              "      <td>1000</td>\n",
              "      <td>KG</td>\n",
              "      <td>1000</td>\n",
              "      <td>CM3</td>\n",
              "      <td>2020-08-01</td>\n",
              "      <td>2020</td>\n",
              "      <td>8</td>\n",
              "      <td>1</td>\n",
              "    </tr>\n",
              "    <tr>\n",
              "      <th>2</th>\n",
              "      <td>TCP</td>\n",
              "      <td>TML</td>\n",
              "      <td>Parcel - Dummy</td>\n",
              "      <td>200</td>\n",
              "      <td>KG</td>\n",
              "      <td>200</td>\n",
              "      <td>CM3</td>\n",
              "      <td>2020-08-01</td>\n",
              "      <td>2020</td>\n",
              "      <td>8</td>\n",
              "      <td>1</td>\n",
              "    </tr>\n",
              "    <tr>\n",
              "      <th>3</th>\n",
              "      <td>TCP</td>\n",
              "      <td>BXO</td>\n",
              "      <td>Parcel - Dummy</td>\n",
              "      <td>500</td>\n",
              "      <td>KG</td>\n",
              "      <td>500</td>\n",
              "      <td>CM3</td>\n",
              "      <td>2020-08-01</td>\n",
              "      <td>2020</td>\n",
              "      <td>8</td>\n",
              "      <td>1</td>\n",
              "    </tr>\n",
              "    <tr>\n",
              "      <th>4</th>\n",
              "      <td>TCP</td>\n",
              "      <td>TTM</td>\n",
              "      <td>Parcel - Dummy</td>\n",
              "      <td>500</td>\n",
              "      <td>KG</td>\n",
              "      <td>500</td>\n",
              "      <td>CM3</td>\n",
              "      <td>2020-08-01</td>\n",
              "      <td>2020</td>\n",
              "      <td>8</td>\n",
              "      <td>1</td>\n",
              "    </tr>\n",
              "    <tr>\n",
              "      <th>...</th>\n",
              "      <td>...</td>\n",
              "      <td>...</td>\n",
              "      <td>...</td>\n",
              "      <td>...</td>\n",
              "      <td>...</td>\n",
              "      <td>...</td>\n",
              "      <td>...</td>\n",
              "      <td>...</td>\n",
              "      <td>...</td>\n",
              "      <td>...</td>\n",
              "      <td>...</td>\n",
              "    </tr>\n",
              "    <tr>\n",
              "      <th>68513</th>\n",
              "      <td>ADV</td>\n",
              "      <td>HAT</td>\n",
              "      <td>Parcel - Dummy</td>\n",
              "      <td>5900</td>\n",
              "      <td>KG</td>\n",
              "      <td>5900</td>\n",
              "      <td>CM3</td>\n",
              "      <td>2020-08-31</td>\n",
              "      <td>2020</td>\n",
              "      <td>8</td>\n",
              "      <td>31</td>\n",
              "    </tr>\n",
              "    <tr>\n",
              "      <th>68514</th>\n",
              "      <td>ADV</td>\n",
              "      <td>TCU</td>\n",
              "      <td>Parcel - Dummy</td>\n",
              "      <td>5800</td>\n",
              "      <td>KG</td>\n",
              "      <td>5800</td>\n",
              "      <td>CM3</td>\n",
              "      <td>2020-08-31</td>\n",
              "      <td>2020</td>\n",
              "      <td>8</td>\n",
              "      <td>31</td>\n",
              "    </tr>\n",
              "    <tr>\n",
              "      <th>68515</th>\n",
              "      <td>ADV</td>\n",
              "      <td>TIS</td>\n",
              "      <td>Parcel - Dummy</td>\n",
              "      <td>5800</td>\n",
              "      <td>KG</td>\n",
              "      <td>5800</td>\n",
              "      <td>CM3</td>\n",
              "      <td>2020-08-31</td>\n",
              "      <td>2020</td>\n",
              "      <td>8</td>\n",
              "      <td>31</td>\n",
              "    </tr>\n",
              "    <tr>\n",
              "      <th>68516</th>\n",
              "      <td>ADV</td>\n",
              "      <td>XAL</td>\n",
              "      <td>Parcel - Dummy</td>\n",
              "      <td>16000</td>\n",
              "      <td>KG</td>\n",
              "      <td>16000</td>\n",
              "      <td>CM3</td>\n",
              "      <td>2020-08-31</td>\n",
              "      <td>2020</td>\n",
              "      <td>8</td>\n",
              "      <td>31</td>\n",
              "    </tr>\n",
              "    <tr>\n",
              "      <th>68517</th>\n",
              "      <td>ADV</td>\n",
              "      <td>QBTN</td>\n",
              "      <td>Parcel - Dummy</td>\n",
              "      <td>200</td>\n",
              "      <td>KG</td>\n",
              "      <td>200</td>\n",
              "      <td>CM3</td>\n",
              "      <td>2020-08-31</td>\n",
              "      <td>2020</td>\n",
              "      <td>8</td>\n",
              "      <td>31</td>\n",
              "    </tr>\n",
              "  </tbody>\n",
              "</table>\n",
              "<p>68518 rows × 11 columns</p>\n",
              "</div>"
            ],
            "text/plain": [
              "      Origin Destination            Item  ...  Year month  day\n",
              "0        TCP        DHIG  Parcel - Dummy  ...  2020     8    1\n",
              "1        TCP        DHIG  Parcel - Dummy  ...  2020     8    1\n",
              "2        TCP         TML  Parcel - Dummy  ...  2020     8    1\n",
              "3        TCP         BXO  Parcel - Dummy  ...  2020     8    1\n",
              "4        TCP         TTM  Parcel - Dummy  ...  2020     8    1\n",
              "...      ...         ...             ...  ...   ...   ...  ...\n",
              "68513    ADV         HAT  Parcel - Dummy  ...  2020     8   31\n",
              "68514    ADV         TCU  Parcel - Dummy  ...  2020     8   31\n",
              "68515    ADV         TIS  Parcel - Dummy  ...  2020     8   31\n",
              "68516    ADV         XAL  Parcel - Dummy  ...  2020     8   31\n",
              "68517    ADV        QBTN  Parcel - Dummy  ...  2020     8   31\n",
              "\n",
              "[68518 rows x 11 columns]"
            ]
          },
          "metadata": {
            "tags": []
          },
          "execution_count": 8
        }
      ]
    },
    {
      "cell_type": "code",
      "metadata": {
        "id": "9Zd5RE6Wq0tq"
      },
      "source": [
        "df_train = df[df['Year']!=2020]"
      ],
      "execution_count": 9,
      "outputs": []
    },
    {
      "cell_type": "markdown",
      "metadata": {
        "id": "EloXvTnhw-Ln"
      },
      "source": [
        "**Splitting Dataset to Train and Test** \n",
        "\n"
      ]
    },
    {
      "cell_type": "code",
      "metadata": {
        "id": "S2G8K9xHwpdB"
      },
      "source": [
        "df_train=df.sample(frac=0.8,random_state=200) #random state is a seed value\n",
        "df_test=df.drop(df_train.index)"
      ],
      "execution_count": 12,
      "outputs": []
    },
    {
      "cell_type": "code",
      "metadata": {
        "id": "JmRWW8blxLz1",
        "outputId": "de5936c6-21d4-4f37-ee7c-9b5231d4fcae",
        "colab": {
          "base_uri": "https://localhost:8080/",
          "height": 419
        }
      },
      "source": [
        "df_train"
      ],
      "execution_count": 13,
      "outputs": [
        {
          "output_type": "execute_result",
          "data": {
            "text/html": [
              "<div>\n",
              "<style scoped>\n",
              "    .dataframe tbody tr th:only-of-type {\n",
              "        vertical-align: middle;\n",
              "    }\n",
              "\n",
              "    .dataframe tbody tr th {\n",
              "        vertical-align: top;\n",
              "    }\n",
              "\n",
              "    .dataframe thead th {\n",
              "        text-align: right;\n",
              "    }\n",
              "</style>\n",
              "<table border=\"1\" class=\"dataframe\">\n",
              "  <thead>\n",
              "    <tr style=\"text-align: right;\">\n",
              "      <th></th>\n",
              "      <th>Origin</th>\n",
              "      <th>Destination</th>\n",
              "      <th>Item</th>\n",
              "      <th>Weight</th>\n",
              "      <th>Weight UoM</th>\n",
              "      <th>Size/Volume</th>\n",
              "      <th>Volume UoM</th>\n",
              "      <th>Customer Requested Delivery Date (DD/MM/YY)</th>\n",
              "      <th>Year</th>\n",
              "      <th>month</th>\n",
              "      <th>day</th>\n",
              "    </tr>\n",
              "  </thead>\n",
              "  <tbody>\n",
              "    <tr>\n",
              "      <th>65184</th>\n",
              "      <td>TNN</td>\n",
              "      <td>BTG</td>\n",
              "      <td>Parcel - Dummy</td>\n",
              "      <td>500</td>\n",
              "      <td>KG</td>\n",
              "      <td>500</td>\n",
              "      <td>CM3</td>\n",
              "      <td>2020-08-30</td>\n",
              "      <td>2020</td>\n",
              "      <td>8</td>\n",
              "      <td>30</td>\n",
              "    </tr>\n",
              "    <tr>\n",
              "      <th>37024</th>\n",
              "      <td>TNN</td>\n",
              "      <td>TGNT</td>\n",
              "      <td>Parcel - Dummy</td>\n",
              "      <td>500</td>\n",
              "      <td>KG</td>\n",
              "      <td>500</td>\n",
              "      <td>CM3</td>\n",
              "      <td>2020-08-17</td>\n",
              "      <td>2020</td>\n",
              "      <td>8</td>\n",
              "      <td>17</td>\n",
              "    </tr>\n",
              "    <tr>\n",
              "      <th>63316</th>\n",
              "      <td>TBH</td>\n",
              "      <td>YMY</td>\n",
              "      <td>Parcel - Dummy</td>\n",
              "      <td>110</td>\n",
              "      <td>KG</td>\n",
              "      <td>110</td>\n",
              "      <td>CM3</td>\n",
              "      <td>2020-08-29</td>\n",
              "      <td>2020</td>\n",
              "      <td>8</td>\n",
              "      <td>29</td>\n",
              "    </tr>\n",
              "    <tr>\n",
              "      <th>65472</th>\n",
              "      <td>TBH</td>\n",
              "      <td>DGS</td>\n",
              "      <td>Parcel - Dummy</td>\n",
              "      <td>100</td>\n",
              "      <td>KG</td>\n",
              "      <td>100</td>\n",
              "      <td>CM3</td>\n",
              "      <td>2020-08-31</td>\n",
              "      <td>2020</td>\n",
              "      <td>8</td>\n",
              "      <td>31</td>\n",
              "    </tr>\n",
              "    <tr>\n",
              "      <th>23599</th>\n",
              "      <td>TBH</td>\n",
              "      <td>THH</td>\n",
              "      <td>Parcel - Dummy</td>\n",
              "      <td>2210</td>\n",
              "      <td>KG</td>\n",
              "      <td>2210</td>\n",
              "      <td>CM3</td>\n",
              "      <td>2020-08-11</td>\n",
              "      <td>2020</td>\n",
              "      <td>8</td>\n",
              "      <td>11</td>\n",
              "    </tr>\n",
              "    <tr>\n",
              "      <th>...</th>\n",
              "      <td>...</td>\n",
              "      <td>...</td>\n",
              "      <td>...</td>\n",
              "      <td>...</td>\n",
              "      <td>...</td>\n",
              "      <td>...</td>\n",
              "      <td>...</td>\n",
              "      <td>...</td>\n",
              "      <td>...</td>\n",
              "      <td>...</td>\n",
              "      <td>...</td>\n",
              "    </tr>\n",
              "    <tr>\n",
              "      <th>3984</th>\n",
              "      <td>TNN</td>\n",
              "      <td>DHY</td>\n",
              "      <td>Parcel - Dummy</td>\n",
              "      <td>615</td>\n",
              "      <td>KG</td>\n",
              "      <td>615</td>\n",
              "      <td>CM3</td>\n",
              "      <td>2020-08-03</td>\n",
              "      <td>2020</td>\n",
              "      <td>8</td>\n",
              "      <td>3</td>\n",
              "    </tr>\n",
              "    <tr>\n",
              "      <th>47011</th>\n",
              "      <td>ADV</td>\n",
              "      <td>BTN</td>\n",
              "      <td>Parcel - Dummy</td>\n",
              "      <td>50</td>\n",
              "      <td>KG</td>\n",
              "      <td>50</td>\n",
              "      <td>CM3</td>\n",
              "      <td>2020-08-21</td>\n",
              "      <td>2020</td>\n",
              "      <td>8</td>\n",
              "      <td>21</td>\n",
              "    </tr>\n",
              "    <tr>\n",
              "      <th>8869</th>\n",
              "      <td>ADV</td>\n",
              "      <td>AND</td>\n",
              "      <td>Parcel - Dummy</td>\n",
              "      <td>1000</td>\n",
              "      <td>KG</td>\n",
              "      <td>1000</td>\n",
              "      <td>CM3</td>\n",
              "      <td>2020-08-05</td>\n",
              "      <td>2020</td>\n",
              "      <td>8</td>\n",
              "      <td>5</td>\n",
              "    </tr>\n",
              "    <tr>\n",
              "      <th>11567</th>\n",
              "      <td>TBH</td>\n",
              "      <td>DVN</td>\n",
              "      <td>Parcel - Dummy</td>\n",
              "      <td>1100</td>\n",
              "      <td>KG</td>\n",
              "      <td>1100</td>\n",
              "      <td>CM3</td>\n",
              "      <td>2020-08-06</td>\n",
              "      <td>2020</td>\n",
              "      <td>8</td>\n",
              "      <td>6</td>\n",
              "    </tr>\n",
              "    <tr>\n",
              "      <th>3790</th>\n",
              "      <td>TNN</td>\n",
              "      <td>CBG</td>\n",
              "      <td>Parcel - Dummy</td>\n",
              "      <td>500</td>\n",
              "      <td>KG</td>\n",
              "      <td>500</td>\n",
              "      <td>CM3</td>\n",
              "      <td>2020-08-03</td>\n",
              "      <td>2020</td>\n",
              "      <td>8</td>\n",
              "      <td>3</td>\n",
              "    </tr>\n",
              "  </tbody>\n",
              "</table>\n",
              "<p>54814 rows × 11 columns</p>\n",
              "</div>"
            ],
            "text/plain": [
              "      Origin Destination            Item  ...  Year month  day\n",
              "65184    TNN         BTG  Parcel - Dummy  ...  2020     8   30\n",
              "37024    TNN        TGNT  Parcel - Dummy  ...  2020     8   17\n",
              "63316    TBH         YMY  Parcel - Dummy  ...  2020     8   29\n",
              "65472    TBH         DGS  Parcel - Dummy  ...  2020     8   31\n",
              "23599    TBH         THH  Parcel - Dummy  ...  2020     8   11\n",
              "...      ...         ...             ...  ...   ...   ...  ...\n",
              "3984     TNN         DHY  Parcel - Dummy  ...  2020     8    3\n",
              "47011    ADV         BTN  Parcel - Dummy  ...  2020     8   21\n",
              "8869     ADV         AND  Parcel - Dummy  ...  2020     8    5\n",
              "11567    TBH         DVN  Parcel - Dummy  ...  2020     8    6\n",
              "3790     TNN         CBG  Parcel - Dummy  ...  2020     8    3\n",
              "\n",
              "[54814 rows x 11 columns]"
            ]
          },
          "metadata": {
            "tags": []
          },
          "execution_count": 13
        }
      ]
    },
    {
      "cell_type": "code",
      "metadata": {
        "id": "d4V30xQJxQBJ",
        "outputId": "3851880e-7f60-4d09-cca4-3caa9ddda404",
        "colab": {
          "base_uri": "https://localhost:8080/",
          "height": 419
        }
      },
      "source": [
        "df_test"
      ],
      "execution_count": 14,
      "outputs": [
        {
          "output_type": "execute_result",
          "data": {
            "text/html": [
              "<div>\n",
              "<style scoped>\n",
              "    .dataframe tbody tr th:only-of-type {\n",
              "        vertical-align: middle;\n",
              "    }\n",
              "\n",
              "    .dataframe tbody tr th {\n",
              "        vertical-align: top;\n",
              "    }\n",
              "\n",
              "    .dataframe thead th {\n",
              "        text-align: right;\n",
              "    }\n",
              "</style>\n",
              "<table border=\"1\" class=\"dataframe\">\n",
              "  <thead>\n",
              "    <tr style=\"text-align: right;\">\n",
              "      <th></th>\n",
              "      <th>Origin</th>\n",
              "      <th>Destination</th>\n",
              "      <th>Item</th>\n",
              "      <th>Weight</th>\n",
              "      <th>Weight UoM</th>\n",
              "      <th>Size/Volume</th>\n",
              "      <th>Volume UoM</th>\n",
              "      <th>Customer Requested Delivery Date (DD/MM/YY)</th>\n",
              "      <th>Year</th>\n",
              "      <th>month</th>\n",
              "      <th>day</th>\n",
              "    </tr>\n",
              "  </thead>\n",
              "  <tbody>\n",
              "    <tr>\n",
              "      <th>2</th>\n",
              "      <td>TCP</td>\n",
              "      <td>TML</td>\n",
              "      <td>Parcel - Dummy</td>\n",
              "      <td>200</td>\n",
              "      <td>KG</td>\n",
              "      <td>200</td>\n",
              "      <td>CM3</td>\n",
              "      <td>2020-08-01</td>\n",
              "      <td>2020</td>\n",
              "      <td>8</td>\n",
              "      <td>1</td>\n",
              "    </tr>\n",
              "    <tr>\n",
              "      <th>3</th>\n",
              "      <td>TCP</td>\n",
              "      <td>BXO</td>\n",
              "      <td>Parcel - Dummy</td>\n",
              "      <td>500</td>\n",
              "      <td>KG</td>\n",
              "      <td>500</td>\n",
              "      <td>CM3</td>\n",
              "      <td>2020-08-01</td>\n",
              "      <td>2020</td>\n",
              "      <td>8</td>\n",
              "      <td>1</td>\n",
              "    </tr>\n",
              "    <tr>\n",
              "      <th>4</th>\n",
              "      <td>TCP</td>\n",
              "      <td>TTM</td>\n",
              "      <td>Parcel - Dummy</td>\n",
              "      <td>500</td>\n",
              "      <td>KG</td>\n",
              "      <td>500</td>\n",
              "      <td>CM3</td>\n",
              "      <td>2020-08-01</td>\n",
              "      <td>2020</td>\n",
              "      <td>8</td>\n",
              "      <td>1</td>\n",
              "    </tr>\n",
              "    <tr>\n",
              "      <th>5</th>\n",
              "      <td>TCP</td>\n",
              "      <td>TPGG</td>\n",
              "      <td>Parcel - Dummy</td>\n",
              "      <td>200</td>\n",
              "      <td>KG</td>\n",
              "      <td>200</td>\n",
              "      <td>CM3</td>\n",
              "      <td>2020-08-01</td>\n",
              "      <td>2020</td>\n",
              "      <td>8</td>\n",
              "      <td>1</td>\n",
              "    </tr>\n",
              "    <tr>\n",
              "      <th>17</th>\n",
              "      <td>TNN</td>\n",
              "      <td>STNN</td>\n",
              "      <td>Parcel - Dummy</td>\n",
              "      <td>50</td>\n",
              "      <td>KG</td>\n",
              "      <td>50</td>\n",
              "      <td>CM3</td>\n",
              "      <td>2020-08-01</td>\n",
              "      <td>2020</td>\n",
              "      <td>8</td>\n",
              "      <td>1</td>\n",
              "    </tr>\n",
              "    <tr>\n",
              "      <th>...</th>\n",
              "      <td>...</td>\n",
              "      <td>...</td>\n",
              "      <td>...</td>\n",
              "      <td>...</td>\n",
              "      <td>...</td>\n",
              "      <td>...</td>\n",
              "      <td>...</td>\n",
              "      <td>...</td>\n",
              "      <td>...</td>\n",
              "      <td>...</td>\n",
              "      <td>...</td>\n",
              "    </tr>\n",
              "    <tr>\n",
              "      <th>68497</th>\n",
              "      <td>ADV</td>\n",
              "      <td>LNN</td>\n",
              "      <td>Parcel - Dummy</td>\n",
              "      <td>100</td>\n",
              "      <td>KG</td>\n",
              "      <td>100</td>\n",
              "      <td>CM3</td>\n",
              "      <td>2020-08-31</td>\n",
              "      <td>2020</td>\n",
              "      <td>8</td>\n",
              "      <td>31</td>\n",
              "    </tr>\n",
              "    <tr>\n",
              "      <th>68505</th>\n",
              "      <td>ADV</td>\n",
              "      <td>HBHNDP</td>\n",
              "      <td>Parcel - Dummy</td>\n",
              "      <td>100</td>\n",
              "      <td>KG</td>\n",
              "      <td>100</td>\n",
              "      <td>CM3</td>\n",
              "      <td>2020-08-31</td>\n",
              "      <td>2020</td>\n",
              "      <td>8</td>\n",
              "      <td>31</td>\n",
              "    </tr>\n",
              "    <tr>\n",
              "      <th>68511</th>\n",
              "      <td>ADV</td>\n",
              "      <td>TGG</td>\n",
              "      <td>Parcel - Dummy</td>\n",
              "      <td>35000</td>\n",
              "      <td>KG</td>\n",
              "      <td>35000</td>\n",
              "      <td>CM3</td>\n",
              "      <td>2020-08-31</td>\n",
              "      <td>2020</td>\n",
              "      <td>8</td>\n",
              "      <td>31</td>\n",
              "    </tr>\n",
              "    <tr>\n",
              "      <th>68513</th>\n",
              "      <td>ADV</td>\n",
              "      <td>HAT</td>\n",
              "      <td>Parcel - Dummy</td>\n",
              "      <td>5900</td>\n",
              "      <td>KG</td>\n",
              "      <td>5900</td>\n",
              "      <td>CM3</td>\n",
              "      <td>2020-08-31</td>\n",
              "      <td>2020</td>\n",
              "      <td>8</td>\n",
              "      <td>31</td>\n",
              "    </tr>\n",
              "    <tr>\n",
              "      <th>68514</th>\n",
              "      <td>ADV</td>\n",
              "      <td>TCU</td>\n",
              "      <td>Parcel - Dummy</td>\n",
              "      <td>5800</td>\n",
              "      <td>KG</td>\n",
              "      <td>5800</td>\n",
              "      <td>CM3</td>\n",
              "      <td>2020-08-31</td>\n",
              "      <td>2020</td>\n",
              "      <td>8</td>\n",
              "      <td>31</td>\n",
              "    </tr>\n",
              "  </tbody>\n",
              "</table>\n",
              "<p>13704 rows × 11 columns</p>\n",
              "</div>"
            ],
            "text/plain": [
              "      Origin Destination            Item  ...  Year month  day\n",
              "2        TCP         TML  Parcel - Dummy  ...  2020     8    1\n",
              "3        TCP         BXO  Parcel - Dummy  ...  2020     8    1\n",
              "4        TCP         TTM  Parcel - Dummy  ...  2020     8    1\n",
              "5        TCP        TPGG  Parcel - Dummy  ...  2020     8    1\n",
              "17       TNN        STNN  Parcel - Dummy  ...  2020     8    1\n",
              "...      ...         ...             ...  ...   ...   ...  ...\n",
              "68497    ADV         LNN  Parcel - Dummy  ...  2020     8   31\n",
              "68505    ADV      HBHNDP  Parcel - Dummy  ...  2020     8   31\n",
              "68511    ADV         TGG  Parcel - Dummy  ...  2020     8   31\n",
              "68513    ADV         HAT  Parcel - Dummy  ...  2020     8   31\n",
              "68514    ADV         TCU  Parcel - Dummy  ...  2020     8   31\n",
              "\n",
              "[13704 rows x 11 columns]"
            ]
          },
          "metadata": {
            "tags": []
          },
          "execution_count": 14
        }
      ]
    },
    {
      "cell_type": "code",
      "metadata": {
        "id": "DaogRtlPq0ty",
        "outputId": "d5fcac0c-379d-4ddb-9efd-80c7792d1cf4",
        "colab": {
          "base_uri": "https://localhost:8080/"
        }
      },
      "source": [
        "df_train.isnull().sum()"
      ],
      "execution_count": 15,
      "outputs": [
        {
          "output_type": "execute_result",
          "data": {
            "text/plain": [
              "Origin                                          0\n",
              "Destination                                    26\n",
              "Item                                            0\n",
              "Weight                                          0\n",
              "Weight UoM                                      0\n",
              "Size/Volume                                     0\n",
              "Volume UoM                                      0\n",
              "Customer Requested Delivery Date (DD/MM/YY)     0\n",
              "Year                                            0\n",
              "month                                           0\n",
              "day                                             0\n",
              "dtype: int64"
            ]
          },
          "metadata": {
            "tags": []
          },
          "execution_count": 15
        }
      ]
    },
    {
      "cell_type": "code",
      "metadata": {
        "id": "sCVQSMxHq0t3",
        "outputId": "8faf1a4a-6d89-4249-dab0-21537cde06c0",
        "colab": {
          "base_uri": "https://localhost:8080/"
        }
      },
      "source": [
        "df_train.dtypes"
      ],
      "execution_count": 16,
      "outputs": [
        {
          "output_type": "execute_result",
          "data": {
            "text/plain": [
              "Origin                                                 object\n",
              "Destination                                            object\n",
              "Item                                                   object\n",
              "Weight                                                  int64\n",
              "Weight UoM                                             object\n",
              "Size/Volume                                             int64\n",
              "Volume UoM                                             object\n",
              "Customer Requested Delivery Date (DD/MM/YY)    datetime64[ns]\n",
              "Year                                                    int64\n",
              "month                                                   int64\n",
              "day                                                     int64\n",
              "dtype: object"
            ]
          },
          "metadata": {
            "tags": []
          },
          "execution_count": 16
        }
      ]
    },
    {
      "cell_type": "code",
      "metadata": {
        "id": "ifyLk84Cq0t9",
        "outputId": "3948b4e1-add4-4e7b-f755-e43abd8bd2cf",
        "colab": {
          "base_uri": "https://localhost:8080/",
          "height": 204
        }
      },
      "source": [
        "df_train.head()"
      ],
      "execution_count": 17,
      "outputs": [
        {
          "output_type": "execute_result",
          "data": {
            "text/html": [
              "<div>\n",
              "<style scoped>\n",
              "    .dataframe tbody tr th:only-of-type {\n",
              "        vertical-align: middle;\n",
              "    }\n",
              "\n",
              "    .dataframe tbody tr th {\n",
              "        vertical-align: top;\n",
              "    }\n",
              "\n",
              "    .dataframe thead th {\n",
              "        text-align: right;\n",
              "    }\n",
              "</style>\n",
              "<table border=\"1\" class=\"dataframe\">\n",
              "  <thead>\n",
              "    <tr style=\"text-align: right;\">\n",
              "      <th></th>\n",
              "      <th>Origin</th>\n",
              "      <th>Destination</th>\n",
              "      <th>Item</th>\n",
              "      <th>Weight</th>\n",
              "      <th>Weight UoM</th>\n",
              "      <th>Size/Volume</th>\n",
              "      <th>Volume UoM</th>\n",
              "      <th>Customer Requested Delivery Date (DD/MM/YY)</th>\n",
              "      <th>Year</th>\n",
              "      <th>month</th>\n",
              "      <th>day</th>\n",
              "    </tr>\n",
              "  </thead>\n",
              "  <tbody>\n",
              "    <tr>\n",
              "      <th>65184</th>\n",
              "      <td>TNN</td>\n",
              "      <td>BTG</td>\n",
              "      <td>Parcel - Dummy</td>\n",
              "      <td>500</td>\n",
              "      <td>KG</td>\n",
              "      <td>500</td>\n",
              "      <td>CM3</td>\n",
              "      <td>2020-08-30</td>\n",
              "      <td>2020</td>\n",
              "      <td>8</td>\n",
              "      <td>30</td>\n",
              "    </tr>\n",
              "    <tr>\n",
              "      <th>37024</th>\n",
              "      <td>TNN</td>\n",
              "      <td>TGNT</td>\n",
              "      <td>Parcel - Dummy</td>\n",
              "      <td>500</td>\n",
              "      <td>KG</td>\n",
              "      <td>500</td>\n",
              "      <td>CM3</td>\n",
              "      <td>2020-08-17</td>\n",
              "      <td>2020</td>\n",
              "      <td>8</td>\n",
              "      <td>17</td>\n",
              "    </tr>\n",
              "    <tr>\n",
              "      <th>63316</th>\n",
              "      <td>TBH</td>\n",
              "      <td>YMY</td>\n",
              "      <td>Parcel - Dummy</td>\n",
              "      <td>110</td>\n",
              "      <td>KG</td>\n",
              "      <td>110</td>\n",
              "      <td>CM3</td>\n",
              "      <td>2020-08-29</td>\n",
              "      <td>2020</td>\n",
              "      <td>8</td>\n",
              "      <td>29</td>\n",
              "    </tr>\n",
              "    <tr>\n",
              "      <th>65472</th>\n",
              "      <td>TBH</td>\n",
              "      <td>DGS</td>\n",
              "      <td>Parcel - Dummy</td>\n",
              "      <td>100</td>\n",
              "      <td>KG</td>\n",
              "      <td>100</td>\n",
              "      <td>CM3</td>\n",
              "      <td>2020-08-31</td>\n",
              "      <td>2020</td>\n",
              "      <td>8</td>\n",
              "      <td>31</td>\n",
              "    </tr>\n",
              "    <tr>\n",
              "      <th>23599</th>\n",
              "      <td>TBH</td>\n",
              "      <td>THH</td>\n",
              "      <td>Parcel - Dummy</td>\n",
              "      <td>2210</td>\n",
              "      <td>KG</td>\n",
              "      <td>2210</td>\n",
              "      <td>CM3</td>\n",
              "      <td>2020-08-11</td>\n",
              "      <td>2020</td>\n",
              "      <td>8</td>\n",
              "      <td>11</td>\n",
              "    </tr>\n",
              "  </tbody>\n",
              "</table>\n",
              "</div>"
            ],
            "text/plain": [
              "      Origin Destination            Item  ...  Year month  day\n",
              "65184    TNN         BTG  Parcel - Dummy  ...  2020     8   30\n",
              "37024    TNN        TGNT  Parcel - Dummy  ...  2020     8   17\n",
              "63316    TBH         YMY  Parcel - Dummy  ...  2020     8   29\n",
              "65472    TBH         DGS  Parcel - Dummy  ...  2020     8   31\n",
              "23599    TBH         THH  Parcel - Dummy  ...  2020     8   11\n",
              "\n",
              "[5 rows x 11 columns]"
            ]
          },
          "metadata": {
            "tags": []
          },
          "execution_count": 17
        }
      ]
    },
    {
      "cell_type": "code",
      "metadata": {
        "id": "BTp8D3ksq0uE"
      },
      "source": [
        "df1 = df_train.iloc[:,[0,1,2,3,5,8,9,10]]\n",
        "df2 = df_test.iloc[:,[0,1,2,3,5,8,9,10]]"
      ],
      "execution_count": 18,
      "outputs": []
    },
    {
      "cell_type": "code",
      "metadata": {
        "id": "MNmKT5UDq0uK",
        "outputId": "2b3154cc-3d0f-4c85-d48e-b3f40b97d4a8",
        "colab": {
          "base_uri": "https://localhost:8080/",
          "height": 419
        }
      },
      "source": [
        "df1"
      ],
      "execution_count": 19,
      "outputs": [
        {
          "output_type": "execute_result",
          "data": {
            "text/html": [
              "<div>\n",
              "<style scoped>\n",
              "    .dataframe tbody tr th:only-of-type {\n",
              "        vertical-align: middle;\n",
              "    }\n",
              "\n",
              "    .dataframe tbody tr th {\n",
              "        vertical-align: top;\n",
              "    }\n",
              "\n",
              "    .dataframe thead th {\n",
              "        text-align: right;\n",
              "    }\n",
              "</style>\n",
              "<table border=\"1\" class=\"dataframe\">\n",
              "  <thead>\n",
              "    <tr style=\"text-align: right;\">\n",
              "      <th></th>\n",
              "      <th>Origin</th>\n",
              "      <th>Destination</th>\n",
              "      <th>Item</th>\n",
              "      <th>Weight</th>\n",
              "      <th>Size/Volume</th>\n",
              "      <th>Year</th>\n",
              "      <th>month</th>\n",
              "      <th>day</th>\n",
              "    </tr>\n",
              "  </thead>\n",
              "  <tbody>\n",
              "    <tr>\n",
              "      <th>65184</th>\n",
              "      <td>TNN</td>\n",
              "      <td>BTG</td>\n",
              "      <td>Parcel - Dummy</td>\n",
              "      <td>500</td>\n",
              "      <td>500</td>\n",
              "      <td>2020</td>\n",
              "      <td>8</td>\n",
              "      <td>30</td>\n",
              "    </tr>\n",
              "    <tr>\n",
              "      <th>37024</th>\n",
              "      <td>TNN</td>\n",
              "      <td>TGNT</td>\n",
              "      <td>Parcel - Dummy</td>\n",
              "      <td>500</td>\n",
              "      <td>500</td>\n",
              "      <td>2020</td>\n",
              "      <td>8</td>\n",
              "      <td>17</td>\n",
              "    </tr>\n",
              "    <tr>\n",
              "      <th>63316</th>\n",
              "      <td>TBH</td>\n",
              "      <td>YMY</td>\n",
              "      <td>Parcel - Dummy</td>\n",
              "      <td>110</td>\n",
              "      <td>110</td>\n",
              "      <td>2020</td>\n",
              "      <td>8</td>\n",
              "      <td>29</td>\n",
              "    </tr>\n",
              "    <tr>\n",
              "      <th>65472</th>\n",
              "      <td>TBH</td>\n",
              "      <td>DGS</td>\n",
              "      <td>Parcel - Dummy</td>\n",
              "      <td>100</td>\n",
              "      <td>100</td>\n",
              "      <td>2020</td>\n",
              "      <td>8</td>\n",
              "      <td>31</td>\n",
              "    </tr>\n",
              "    <tr>\n",
              "      <th>23599</th>\n",
              "      <td>TBH</td>\n",
              "      <td>THH</td>\n",
              "      <td>Parcel - Dummy</td>\n",
              "      <td>2210</td>\n",
              "      <td>2210</td>\n",
              "      <td>2020</td>\n",
              "      <td>8</td>\n",
              "      <td>11</td>\n",
              "    </tr>\n",
              "    <tr>\n",
              "      <th>...</th>\n",
              "      <td>...</td>\n",
              "      <td>...</td>\n",
              "      <td>...</td>\n",
              "      <td>...</td>\n",
              "      <td>...</td>\n",
              "      <td>...</td>\n",
              "      <td>...</td>\n",
              "      <td>...</td>\n",
              "    </tr>\n",
              "    <tr>\n",
              "      <th>3984</th>\n",
              "      <td>TNN</td>\n",
              "      <td>DHY</td>\n",
              "      <td>Parcel - Dummy</td>\n",
              "      <td>615</td>\n",
              "      <td>615</td>\n",
              "      <td>2020</td>\n",
              "      <td>8</td>\n",
              "      <td>3</td>\n",
              "    </tr>\n",
              "    <tr>\n",
              "      <th>47011</th>\n",
              "      <td>ADV</td>\n",
              "      <td>BTN</td>\n",
              "      <td>Parcel - Dummy</td>\n",
              "      <td>50</td>\n",
              "      <td>50</td>\n",
              "      <td>2020</td>\n",
              "      <td>8</td>\n",
              "      <td>21</td>\n",
              "    </tr>\n",
              "    <tr>\n",
              "      <th>8869</th>\n",
              "      <td>ADV</td>\n",
              "      <td>AND</td>\n",
              "      <td>Parcel - Dummy</td>\n",
              "      <td>1000</td>\n",
              "      <td>1000</td>\n",
              "      <td>2020</td>\n",
              "      <td>8</td>\n",
              "      <td>5</td>\n",
              "    </tr>\n",
              "    <tr>\n",
              "      <th>11567</th>\n",
              "      <td>TBH</td>\n",
              "      <td>DVN</td>\n",
              "      <td>Parcel - Dummy</td>\n",
              "      <td>1100</td>\n",
              "      <td>1100</td>\n",
              "      <td>2020</td>\n",
              "      <td>8</td>\n",
              "      <td>6</td>\n",
              "    </tr>\n",
              "    <tr>\n",
              "      <th>3790</th>\n",
              "      <td>TNN</td>\n",
              "      <td>CBG</td>\n",
              "      <td>Parcel - Dummy</td>\n",
              "      <td>500</td>\n",
              "      <td>500</td>\n",
              "      <td>2020</td>\n",
              "      <td>8</td>\n",
              "      <td>3</td>\n",
              "    </tr>\n",
              "  </tbody>\n",
              "</table>\n",
              "<p>54814 rows × 8 columns</p>\n",
              "</div>"
            ],
            "text/plain": [
              "      Origin Destination            Item  Weight  Size/Volume  Year  month  day\n",
              "65184    TNN         BTG  Parcel - Dummy     500          500  2020      8   30\n",
              "37024    TNN        TGNT  Parcel - Dummy     500          500  2020      8   17\n",
              "63316    TBH         YMY  Parcel - Dummy     110          110  2020      8   29\n",
              "65472    TBH         DGS  Parcel - Dummy     100          100  2020      8   31\n",
              "23599    TBH         THH  Parcel - Dummy    2210         2210  2020      8   11\n",
              "...      ...         ...             ...     ...          ...   ...    ...  ...\n",
              "3984     TNN         DHY  Parcel - Dummy     615          615  2020      8    3\n",
              "47011    ADV         BTN  Parcel - Dummy      50           50  2020      8   21\n",
              "8869     ADV         AND  Parcel - Dummy    1000         1000  2020      8    5\n",
              "11567    TBH         DVN  Parcel - Dummy    1100         1100  2020      8    6\n",
              "3790     TNN         CBG  Parcel - Dummy     500          500  2020      8    3\n",
              "\n",
              "[54814 rows x 8 columns]"
            ]
          },
          "metadata": {
            "tags": []
          },
          "execution_count": 19
        }
      ]
    },
    {
      "cell_type": "code",
      "metadata": {
        "id": "tyEp3W3u6_xd",
        "outputId": "204c2752-def4-4d1c-fbae-192a66473b83",
        "colab": {
          "base_uri": "https://localhost:8080/",
          "height": 419
        }
      },
      "source": [
        "df2"
      ],
      "execution_count": 20,
      "outputs": [
        {
          "output_type": "execute_result",
          "data": {
            "text/html": [
              "<div>\n",
              "<style scoped>\n",
              "    .dataframe tbody tr th:only-of-type {\n",
              "        vertical-align: middle;\n",
              "    }\n",
              "\n",
              "    .dataframe tbody tr th {\n",
              "        vertical-align: top;\n",
              "    }\n",
              "\n",
              "    .dataframe thead th {\n",
              "        text-align: right;\n",
              "    }\n",
              "</style>\n",
              "<table border=\"1\" class=\"dataframe\">\n",
              "  <thead>\n",
              "    <tr style=\"text-align: right;\">\n",
              "      <th></th>\n",
              "      <th>Origin</th>\n",
              "      <th>Destination</th>\n",
              "      <th>Item</th>\n",
              "      <th>Weight</th>\n",
              "      <th>Size/Volume</th>\n",
              "      <th>Year</th>\n",
              "      <th>month</th>\n",
              "      <th>day</th>\n",
              "    </tr>\n",
              "  </thead>\n",
              "  <tbody>\n",
              "    <tr>\n",
              "      <th>2</th>\n",
              "      <td>TCP</td>\n",
              "      <td>TML</td>\n",
              "      <td>Parcel - Dummy</td>\n",
              "      <td>200</td>\n",
              "      <td>200</td>\n",
              "      <td>2020</td>\n",
              "      <td>8</td>\n",
              "      <td>1</td>\n",
              "    </tr>\n",
              "    <tr>\n",
              "      <th>3</th>\n",
              "      <td>TCP</td>\n",
              "      <td>BXO</td>\n",
              "      <td>Parcel - Dummy</td>\n",
              "      <td>500</td>\n",
              "      <td>500</td>\n",
              "      <td>2020</td>\n",
              "      <td>8</td>\n",
              "      <td>1</td>\n",
              "    </tr>\n",
              "    <tr>\n",
              "      <th>4</th>\n",
              "      <td>TCP</td>\n",
              "      <td>TTM</td>\n",
              "      <td>Parcel - Dummy</td>\n",
              "      <td>500</td>\n",
              "      <td>500</td>\n",
              "      <td>2020</td>\n",
              "      <td>8</td>\n",
              "      <td>1</td>\n",
              "    </tr>\n",
              "    <tr>\n",
              "      <th>5</th>\n",
              "      <td>TCP</td>\n",
              "      <td>TPGG</td>\n",
              "      <td>Parcel - Dummy</td>\n",
              "      <td>200</td>\n",
              "      <td>200</td>\n",
              "      <td>2020</td>\n",
              "      <td>8</td>\n",
              "      <td>1</td>\n",
              "    </tr>\n",
              "    <tr>\n",
              "      <th>17</th>\n",
              "      <td>TNN</td>\n",
              "      <td>STNN</td>\n",
              "      <td>Parcel - Dummy</td>\n",
              "      <td>50</td>\n",
              "      <td>50</td>\n",
              "      <td>2020</td>\n",
              "      <td>8</td>\n",
              "      <td>1</td>\n",
              "    </tr>\n",
              "    <tr>\n",
              "      <th>...</th>\n",
              "      <td>...</td>\n",
              "      <td>...</td>\n",
              "      <td>...</td>\n",
              "      <td>...</td>\n",
              "      <td>...</td>\n",
              "      <td>...</td>\n",
              "      <td>...</td>\n",
              "      <td>...</td>\n",
              "    </tr>\n",
              "    <tr>\n",
              "      <th>68497</th>\n",
              "      <td>ADV</td>\n",
              "      <td>LNN</td>\n",
              "      <td>Parcel - Dummy</td>\n",
              "      <td>100</td>\n",
              "      <td>100</td>\n",
              "      <td>2020</td>\n",
              "      <td>8</td>\n",
              "      <td>31</td>\n",
              "    </tr>\n",
              "    <tr>\n",
              "      <th>68505</th>\n",
              "      <td>ADV</td>\n",
              "      <td>HBHNDP</td>\n",
              "      <td>Parcel - Dummy</td>\n",
              "      <td>100</td>\n",
              "      <td>100</td>\n",
              "      <td>2020</td>\n",
              "      <td>8</td>\n",
              "      <td>31</td>\n",
              "    </tr>\n",
              "    <tr>\n",
              "      <th>68511</th>\n",
              "      <td>ADV</td>\n",
              "      <td>TGG</td>\n",
              "      <td>Parcel - Dummy</td>\n",
              "      <td>35000</td>\n",
              "      <td>35000</td>\n",
              "      <td>2020</td>\n",
              "      <td>8</td>\n",
              "      <td>31</td>\n",
              "    </tr>\n",
              "    <tr>\n",
              "      <th>68513</th>\n",
              "      <td>ADV</td>\n",
              "      <td>HAT</td>\n",
              "      <td>Parcel - Dummy</td>\n",
              "      <td>5900</td>\n",
              "      <td>5900</td>\n",
              "      <td>2020</td>\n",
              "      <td>8</td>\n",
              "      <td>31</td>\n",
              "    </tr>\n",
              "    <tr>\n",
              "      <th>68514</th>\n",
              "      <td>ADV</td>\n",
              "      <td>TCU</td>\n",
              "      <td>Parcel - Dummy</td>\n",
              "      <td>5800</td>\n",
              "      <td>5800</td>\n",
              "      <td>2020</td>\n",
              "      <td>8</td>\n",
              "      <td>31</td>\n",
              "    </tr>\n",
              "  </tbody>\n",
              "</table>\n",
              "<p>13704 rows × 8 columns</p>\n",
              "</div>"
            ],
            "text/plain": [
              "      Origin Destination            Item  Weight  Size/Volume  Year  month  day\n",
              "2        TCP         TML  Parcel - Dummy     200          200  2020      8    1\n",
              "3        TCP         BXO  Parcel - Dummy     500          500  2020      8    1\n",
              "4        TCP         TTM  Parcel - Dummy     500          500  2020      8    1\n",
              "5        TCP        TPGG  Parcel - Dummy     200          200  2020      8    1\n",
              "17       TNN        STNN  Parcel - Dummy      50           50  2020      8    1\n",
              "...      ...         ...             ...     ...          ...   ...    ...  ...\n",
              "68497    ADV         LNN  Parcel - Dummy     100          100  2020      8   31\n",
              "68505    ADV      HBHNDP  Parcel - Dummy     100          100  2020      8   31\n",
              "68511    ADV         TGG  Parcel - Dummy   35000        35000  2020      8   31\n",
              "68513    ADV         HAT  Parcel - Dummy    5900         5900  2020      8   31\n",
              "68514    ADV         TCU  Parcel - Dummy    5800         5800  2020      8   31\n",
              "\n",
              "[13704 rows x 8 columns]"
            ]
          },
          "metadata": {
            "tags": []
          },
          "execution_count": 20
        }
      ]
    },
    {
      "cell_type": "code",
      "metadata": {
        "id": "1KvnaLg7q0uP",
        "outputId": "89c94f80-0189-43fd-87b3-cfae08ec5838",
        "colab": {
          "base_uri": "https://localhost:8080/"
        }
      },
      "source": [
        "for col in df1.columns:\n",
        "    print(col,':' ,len(df1[col].unique()))"
      ],
      "execution_count": 21,
      "outputs": [
        {
          "output_type": "stream",
          "text": [
            "Origin : 5\n",
            "Destination : 1251\n",
            "Item : 1\n",
            "Weight : 1451\n",
            "Size/Volume : 1451\n",
            "Year : 1\n",
            "month : 1\n",
            "day : 31\n"
          ],
          "name": "stdout"
        }
      ]
    },
    {
      "cell_type": "code",
      "metadata": {
        "id": "8fx73bHE-Nqm",
        "outputId": "e544cfb5-a4d4-46d4-c70d-79cf71076cb6",
        "colab": {
          "base_uri": "https://localhost:8080/"
        }
      },
      "source": [
        "for col in df2.columns:\n",
        "    print(col,':' ,len(df2[col].unique()))"
      ],
      "execution_count": 22,
      "outputs": [
        {
          "output_type": "stream",
          "text": [
            "Origin : 5\n",
            "Destination : 1157\n",
            "Item : 1\n",
            "Weight : 727\n",
            "Size/Volume : 727\n",
            "Year : 1\n",
            "month : 1\n",
            "day : 31\n"
          ],
          "name": "stdout"
        }
      ]
    },
    {
      "cell_type": "code",
      "metadata": {
        "id": "o0mkRt92q0uT"
      },
      "source": [
        "labels = df1['Origin'].astype('category').cat.categories.tolist()\n",
        "\n",
        "labels1 = df1['Destination'].astype('category').cat.categories.tolist()\n",
        "\n",
        "labels2 = df1['Item'].astype('category').cat.categories.tolist()"
      ],
      "execution_count": 23,
      "outputs": []
    },
    {
      "cell_type": "code",
      "metadata": {
        "id": "zVh5c-tnq0uX"
      },
      "source": [
        "replace_map_comp = {'Origin' : {k: v for k,v in zip(labels,list(range(1,len(labels)+1)))}}\n",
        "replace_map_comp1 = {'Destination' : {k: v for k,v in zip(labels1,list(range(1,len(labels1)+1)))}}\n",
        "replace_map_comp2 = {'Item' : {k: v for k,v in zip(labels2,list(range(1,len(labels2)+1)))}}"
      ],
      "execution_count": 26,
      "outputs": []
    },
    {
      "cell_type": "code",
      "metadata": {
        "id": "_YbGxfPvHKbQ"
      },
      "source": [
        "tst_labels = df2['Origin'].astype('category').cat.categories.tolist()\n",
        "\n",
        "tst_labels1 = df2['Destination'].astype('category').cat.categories.tolist()\n",
        "\n",
        "tst_labels2 = df2['Item'].astype('category').cat.categories.tolist()"
      ],
      "execution_count": 27,
      "outputs": []
    },
    {
      "cell_type": "code",
      "metadata": {
        "id": "O6Owb8GXHMD-"
      },
      "source": [
        "replace_map_comp3 = {'Origin' : {k: v for k,v in zip(tst_labels,list(range(1,len(tst_labels)+1)))}}\n",
        "replace_map_comp4 = {'Destination' : {k: v for k,v in zip(tst_labels1,list(range(1,len(tst_labels1)+1)))}}\n",
        "replace_map_comp5 = {'Item' : {k: v for k,v in zip(tst_labels2,list(range(1,len(tst_labels2)+1)))}}"
      ],
      "execution_count": 28,
      "outputs": []
    },
    {
      "cell_type": "code",
      "metadata": {
        "id": "Rj_f0ZB2q0ub",
        "outputId": "b3fc2521-8b66-4095-e240-a10db5873654",
        "colab": {
          "base_uri": "https://localhost:8080/",
          "height": 204
        }
      },
      "source": [
        "df1.head()"
      ],
      "execution_count": 29,
      "outputs": [
        {
          "output_type": "execute_result",
          "data": {
            "text/html": [
              "<div>\n",
              "<style scoped>\n",
              "    .dataframe tbody tr th:only-of-type {\n",
              "        vertical-align: middle;\n",
              "    }\n",
              "\n",
              "    .dataframe tbody tr th {\n",
              "        vertical-align: top;\n",
              "    }\n",
              "\n",
              "    .dataframe thead th {\n",
              "        text-align: right;\n",
              "    }\n",
              "</style>\n",
              "<table border=\"1\" class=\"dataframe\">\n",
              "  <thead>\n",
              "    <tr style=\"text-align: right;\">\n",
              "      <th></th>\n",
              "      <th>Origin</th>\n",
              "      <th>Destination</th>\n",
              "      <th>Item</th>\n",
              "      <th>Weight</th>\n",
              "      <th>Size/Volume</th>\n",
              "      <th>Year</th>\n",
              "      <th>month</th>\n",
              "      <th>day</th>\n",
              "    </tr>\n",
              "  </thead>\n",
              "  <tbody>\n",
              "    <tr>\n",
              "      <th>65184</th>\n",
              "      <td>TNN</td>\n",
              "      <td>BTG</td>\n",
              "      <td>Parcel - Dummy</td>\n",
              "      <td>500</td>\n",
              "      <td>500</td>\n",
              "      <td>2020</td>\n",
              "      <td>8</td>\n",
              "      <td>30</td>\n",
              "    </tr>\n",
              "    <tr>\n",
              "      <th>37024</th>\n",
              "      <td>TNN</td>\n",
              "      <td>TGNT</td>\n",
              "      <td>Parcel - Dummy</td>\n",
              "      <td>500</td>\n",
              "      <td>500</td>\n",
              "      <td>2020</td>\n",
              "      <td>8</td>\n",
              "      <td>17</td>\n",
              "    </tr>\n",
              "    <tr>\n",
              "      <th>63316</th>\n",
              "      <td>TBH</td>\n",
              "      <td>YMY</td>\n",
              "      <td>Parcel - Dummy</td>\n",
              "      <td>110</td>\n",
              "      <td>110</td>\n",
              "      <td>2020</td>\n",
              "      <td>8</td>\n",
              "      <td>29</td>\n",
              "    </tr>\n",
              "    <tr>\n",
              "      <th>65472</th>\n",
              "      <td>TBH</td>\n",
              "      <td>DGS</td>\n",
              "      <td>Parcel - Dummy</td>\n",
              "      <td>100</td>\n",
              "      <td>100</td>\n",
              "      <td>2020</td>\n",
              "      <td>8</td>\n",
              "      <td>31</td>\n",
              "    </tr>\n",
              "    <tr>\n",
              "      <th>23599</th>\n",
              "      <td>TBH</td>\n",
              "      <td>THH</td>\n",
              "      <td>Parcel - Dummy</td>\n",
              "      <td>2210</td>\n",
              "      <td>2210</td>\n",
              "      <td>2020</td>\n",
              "      <td>8</td>\n",
              "      <td>11</td>\n",
              "    </tr>\n",
              "  </tbody>\n",
              "</table>\n",
              "</div>"
            ],
            "text/plain": [
              "      Origin Destination            Item  Weight  Size/Volume  Year  month  day\n",
              "65184    TNN         BTG  Parcel - Dummy     500          500  2020      8   30\n",
              "37024    TNN        TGNT  Parcel - Dummy     500          500  2020      8   17\n",
              "63316    TBH         YMY  Parcel - Dummy     110          110  2020      8   29\n",
              "65472    TBH         DGS  Parcel - Dummy     100          100  2020      8   31\n",
              "23599    TBH         THH  Parcel - Dummy    2210         2210  2020      8   11"
            ]
          },
          "metadata": {
            "tags": []
          },
          "execution_count": 29
        }
      ]
    },
    {
      "cell_type": "code",
      "metadata": {
        "id": "vIFJTyXFHU2C",
        "outputId": "d4aad203-7638-46f0-b324-5164f90b7c18",
        "colab": {
          "base_uri": "https://localhost:8080/",
          "height": 204
        }
      },
      "source": [
        "df2.head()"
      ],
      "execution_count": 30,
      "outputs": [
        {
          "output_type": "execute_result",
          "data": {
            "text/html": [
              "<div>\n",
              "<style scoped>\n",
              "    .dataframe tbody tr th:only-of-type {\n",
              "        vertical-align: middle;\n",
              "    }\n",
              "\n",
              "    .dataframe tbody tr th {\n",
              "        vertical-align: top;\n",
              "    }\n",
              "\n",
              "    .dataframe thead th {\n",
              "        text-align: right;\n",
              "    }\n",
              "</style>\n",
              "<table border=\"1\" class=\"dataframe\">\n",
              "  <thead>\n",
              "    <tr style=\"text-align: right;\">\n",
              "      <th></th>\n",
              "      <th>Origin</th>\n",
              "      <th>Destination</th>\n",
              "      <th>Item</th>\n",
              "      <th>Weight</th>\n",
              "      <th>Size/Volume</th>\n",
              "      <th>Year</th>\n",
              "      <th>month</th>\n",
              "      <th>day</th>\n",
              "    </tr>\n",
              "  </thead>\n",
              "  <tbody>\n",
              "    <tr>\n",
              "      <th>2</th>\n",
              "      <td>TCP</td>\n",
              "      <td>TML</td>\n",
              "      <td>Parcel - Dummy</td>\n",
              "      <td>200</td>\n",
              "      <td>200</td>\n",
              "      <td>2020</td>\n",
              "      <td>8</td>\n",
              "      <td>1</td>\n",
              "    </tr>\n",
              "    <tr>\n",
              "      <th>3</th>\n",
              "      <td>TCP</td>\n",
              "      <td>BXO</td>\n",
              "      <td>Parcel - Dummy</td>\n",
              "      <td>500</td>\n",
              "      <td>500</td>\n",
              "      <td>2020</td>\n",
              "      <td>8</td>\n",
              "      <td>1</td>\n",
              "    </tr>\n",
              "    <tr>\n",
              "      <th>4</th>\n",
              "      <td>TCP</td>\n",
              "      <td>TTM</td>\n",
              "      <td>Parcel - Dummy</td>\n",
              "      <td>500</td>\n",
              "      <td>500</td>\n",
              "      <td>2020</td>\n",
              "      <td>8</td>\n",
              "      <td>1</td>\n",
              "    </tr>\n",
              "    <tr>\n",
              "      <th>5</th>\n",
              "      <td>TCP</td>\n",
              "      <td>TPGG</td>\n",
              "      <td>Parcel - Dummy</td>\n",
              "      <td>200</td>\n",
              "      <td>200</td>\n",
              "      <td>2020</td>\n",
              "      <td>8</td>\n",
              "      <td>1</td>\n",
              "    </tr>\n",
              "    <tr>\n",
              "      <th>17</th>\n",
              "      <td>TNN</td>\n",
              "      <td>STNN</td>\n",
              "      <td>Parcel - Dummy</td>\n",
              "      <td>50</td>\n",
              "      <td>50</td>\n",
              "      <td>2020</td>\n",
              "      <td>8</td>\n",
              "      <td>1</td>\n",
              "    </tr>\n",
              "  </tbody>\n",
              "</table>\n",
              "</div>"
            ],
            "text/plain": [
              "   Origin Destination            Item  Weight  Size/Volume  Year  month  day\n",
              "2     TCP         TML  Parcel - Dummy     200          200  2020      8    1\n",
              "3     TCP         BXO  Parcel - Dummy     500          500  2020      8    1\n",
              "4     TCP         TTM  Parcel - Dummy     500          500  2020      8    1\n",
              "5     TCP        TPGG  Parcel - Dummy     200          200  2020      8    1\n",
              "17    TNN        STNN  Parcel - Dummy      50           50  2020      8    1"
            ]
          },
          "metadata": {
            "tags": []
          },
          "execution_count": 30
        }
      ]
    },
    {
      "cell_type": "code",
      "metadata": {
        "id": "XBwa7viFq0uf",
        "outputId": "7cbb5934-08f8-4276-866b-46bec58f7bab",
        "colab": {
          "base_uri": "https://localhost:8080/"
        }
      },
      "source": [
        "df1.replace(replace_map_comp, inplace=True)\n",
        "df1.replace(replace_map_comp1, inplace=True)\n",
        "df1.replace(replace_map_comp2, inplace=True)"
      ],
      "execution_count": 31,
      "outputs": [
        {
          "output_type": "stream",
          "text": [
            "/usr/local/lib/python3.6/dist-packages/pandas/core/indexing.py:1743: SettingWithCopyWarning: \n",
            "A value is trying to be set on a copy of a slice from a DataFrame.\n",
            "Try using .loc[row_indexer,col_indexer] = value instead\n",
            "\n",
            "See the caveats in the documentation: https://pandas.pydata.org/pandas-docs/stable/user_guide/indexing.html#returning-a-view-versus-a-copy\n",
            "  isetter(ilocs[0], value)\n"
          ],
          "name": "stderr"
        }
      ]
    },
    {
      "cell_type": "code",
      "metadata": {
        "id": "_mTvb5DCHY9c",
        "outputId": "88a1c394-1650-4b10-e3e2-bf07eefa593b",
        "colab": {
          "base_uri": "https://localhost:8080/"
        }
      },
      "source": [
        "df2.replace(replace_map_comp3, inplace=True)\n",
        "df2.replace(replace_map_comp4, inplace=True)\n",
        "df2.replace(replace_map_comp5, inplace=True)"
      ],
      "execution_count": 32,
      "outputs": [
        {
          "output_type": "stream",
          "text": [
            "/usr/local/lib/python3.6/dist-packages/pandas/core/indexing.py:1743: SettingWithCopyWarning: \n",
            "A value is trying to be set on a copy of a slice from a DataFrame.\n",
            "Try using .loc[row_indexer,col_indexer] = value instead\n",
            "\n",
            "See the caveats in the documentation: https://pandas.pydata.org/pandas-docs/stable/user_guide/indexing.html#returning-a-view-versus-a-copy\n",
            "  isetter(ilocs[0], value)\n"
          ],
          "name": "stderr"
        }
      ]
    },
    {
      "cell_type": "code",
      "metadata": {
        "id": "cKlQvVyHq0uj",
        "outputId": "b488c0a9-63e9-4613-f974-b9ba38514e3f",
        "colab": {
          "base_uri": "https://localhost:8080/",
          "height": 204
        }
      },
      "source": [
        "df1.head()"
      ],
      "execution_count": 33,
      "outputs": [
        {
          "output_type": "execute_result",
          "data": {
            "text/html": [
              "<div>\n",
              "<style scoped>\n",
              "    .dataframe tbody tr th:only-of-type {\n",
              "        vertical-align: middle;\n",
              "    }\n",
              "\n",
              "    .dataframe tbody tr th {\n",
              "        vertical-align: top;\n",
              "    }\n",
              "\n",
              "    .dataframe thead th {\n",
              "        text-align: right;\n",
              "    }\n",
              "</style>\n",
              "<table border=\"1\" class=\"dataframe\">\n",
              "  <thead>\n",
              "    <tr style=\"text-align: right;\">\n",
              "      <th></th>\n",
              "      <th>Origin</th>\n",
              "      <th>Destination</th>\n",
              "      <th>Item</th>\n",
              "      <th>Weight</th>\n",
              "      <th>Size/Volume</th>\n",
              "      <th>Year</th>\n",
              "      <th>month</th>\n",
              "      <th>day</th>\n",
              "    </tr>\n",
              "  </thead>\n",
              "  <tbody>\n",
              "    <tr>\n",
              "      <th>65184</th>\n",
              "      <td>5</td>\n",
              "      <td>96.0</td>\n",
              "      <td>1</td>\n",
              "      <td>500</td>\n",
              "      <td>500</td>\n",
              "      <td>2020</td>\n",
              "      <td>8</td>\n",
              "      <td>30</td>\n",
              "    </tr>\n",
              "    <tr>\n",
              "      <th>37024</th>\n",
              "      <td>5</td>\n",
              "      <td>1019.0</td>\n",
              "      <td>1</td>\n",
              "      <td>500</td>\n",
              "      <td>500</td>\n",
              "      <td>2020</td>\n",
              "      <td>8</td>\n",
              "      <td>17</td>\n",
              "    </tr>\n",
              "    <tr>\n",
              "      <th>63316</th>\n",
              "      <td>3</td>\n",
              "      <td>1244.0</td>\n",
              "      <td>1</td>\n",
              "      <td>110</td>\n",
              "      <td>110</td>\n",
              "      <td>2020</td>\n",
              "      <td>8</td>\n",
              "      <td>29</td>\n",
              "    </tr>\n",
              "    <tr>\n",
              "      <th>65472</th>\n",
              "      <td>3</td>\n",
              "      <td>266.0</td>\n",
              "      <td>1</td>\n",
              "      <td>100</td>\n",
              "      <td>100</td>\n",
              "      <td>2020</td>\n",
              "      <td>8</td>\n",
              "      <td>31</td>\n",
              "    </tr>\n",
              "    <tr>\n",
              "      <th>23599</th>\n",
              "      <td>3</td>\n",
              "      <td>1030.0</td>\n",
              "      <td>1</td>\n",
              "      <td>2210</td>\n",
              "      <td>2210</td>\n",
              "      <td>2020</td>\n",
              "      <td>8</td>\n",
              "      <td>11</td>\n",
              "    </tr>\n",
              "  </tbody>\n",
              "</table>\n",
              "</div>"
            ],
            "text/plain": [
              "       Origin  Destination  Item  Weight  Size/Volume  Year  month  day\n",
              "65184       5         96.0     1     500          500  2020      8   30\n",
              "37024       5       1019.0     1     500          500  2020      8   17\n",
              "63316       3       1244.0     1     110          110  2020      8   29\n",
              "65472       3        266.0     1     100          100  2020      8   31\n",
              "23599       3       1030.0     1    2210         2210  2020      8   11"
            ]
          },
          "metadata": {
            "tags": []
          },
          "execution_count": 33
        }
      ]
    },
    {
      "cell_type": "code",
      "metadata": {
        "id": "Hqq_f8HIHen5",
        "outputId": "83e13c01-14d9-4607-cd1d-7575eab7dfe5",
        "colab": {
          "base_uri": "https://localhost:8080/",
          "height": 204
        }
      },
      "source": [
        "df2.head()"
      ],
      "execution_count": 34,
      "outputs": [
        {
          "output_type": "execute_result",
          "data": {
            "text/html": [
              "<div>\n",
              "<style scoped>\n",
              "    .dataframe tbody tr th:only-of-type {\n",
              "        vertical-align: middle;\n",
              "    }\n",
              "\n",
              "    .dataframe tbody tr th {\n",
              "        vertical-align: top;\n",
              "    }\n",
              "\n",
              "    .dataframe thead th {\n",
              "        text-align: right;\n",
              "    }\n",
              "</style>\n",
              "<table border=\"1\" class=\"dataframe\">\n",
              "  <thead>\n",
              "    <tr style=\"text-align: right;\">\n",
              "      <th></th>\n",
              "      <th>Origin</th>\n",
              "      <th>Destination</th>\n",
              "      <th>Item</th>\n",
              "      <th>Weight</th>\n",
              "      <th>Size/Volume</th>\n",
              "      <th>Year</th>\n",
              "      <th>month</th>\n",
              "      <th>day</th>\n",
              "    </tr>\n",
              "  </thead>\n",
              "  <tbody>\n",
              "    <tr>\n",
              "      <th>2</th>\n",
              "      <td>4</td>\n",
              "      <td>978.0</td>\n",
              "      <td>1</td>\n",
              "      <td>200</td>\n",
              "      <td>200</td>\n",
              "      <td>2020</td>\n",
              "      <td>8</td>\n",
              "      <td>1</td>\n",
              "    </tr>\n",
              "    <tr>\n",
              "      <th>3</th>\n",
              "      <td>4</td>\n",
              "      <td>107.0</td>\n",
              "      <td>1</td>\n",
              "      <td>500</td>\n",
              "      <td>500</td>\n",
              "      <td>2020</td>\n",
              "      <td>8</td>\n",
              "      <td>1</td>\n",
              "    </tr>\n",
              "    <tr>\n",
              "      <th>4</th>\n",
              "      <td>4</td>\n",
              "      <td>1041.0</td>\n",
              "      <td>1</td>\n",
              "      <td>500</td>\n",
              "      <td>500</td>\n",
              "      <td>2020</td>\n",
              "      <td>8</td>\n",
              "      <td>1</td>\n",
              "    </tr>\n",
              "    <tr>\n",
              "      <th>5</th>\n",
              "      <td>4</td>\n",
              "      <td>1017.0</td>\n",
              "      <td>1</td>\n",
              "      <td>200</td>\n",
              "      <td>200</td>\n",
              "      <td>2020</td>\n",
              "      <td>8</td>\n",
              "      <td>1</td>\n",
              "    </tr>\n",
              "    <tr>\n",
              "      <th>17</th>\n",
              "      <td>5</td>\n",
              "      <td>895.0</td>\n",
              "      <td>1</td>\n",
              "      <td>50</td>\n",
              "      <td>50</td>\n",
              "      <td>2020</td>\n",
              "      <td>8</td>\n",
              "      <td>1</td>\n",
              "    </tr>\n",
              "  </tbody>\n",
              "</table>\n",
              "</div>"
            ],
            "text/plain": [
              "    Origin  Destination  Item  Weight  Size/Volume  Year  month  day\n",
              "2        4        978.0     1     200          200  2020      8    1\n",
              "3        4        107.0     1     500          500  2020      8    1\n",
              "4        4       1041.0     1     500          500  2020      8    1\n",
              "5        4       1017.0     1     200          200  2020      8    1\n",
              "17       5        895.0     1      50           50  2020      8    1"
            ]
          },
          "metadata": {
            "tags": []
          },
          "execution_count": 34
        }
      ]
    },
    {
      "cell_type": "markdown",
      "metadata": {
        "id": "rIiLqzfCq0un"
      },
      "source": [
        "# Data Analysis"
      ]
    },
    {
      "cell_type": "code",
      "metadata": {
        "id": "QpSpsp51q0uo"
      },
      "source": [
        "import seaborn as sns"
      ],
      "execution_count": 35,
      "outputs": []
    },
    {
      "cell_type": "code",
      "metadata": {
        "id": "VdnhcsyGq0uy",
        "outputId": "bb9c922d-080b-4e0c-a6b9-1cdd52961f5e",
        "colab": {
          "base_uri": "https://localhost:8080/",
          "height": 1000
        }
      },
      "source": [
        "sns.pairplot(df1)"
      ],
      "execution_count": 36,
      "outputs": [
        {
          "output_type": "execute_result",
          "data": {
            "text/plain": [
              "<seaborn.axisgrid.PairGrid at 0x7f9bf4dde860>"
            ]
          },
          "metadata": {
            "tags": []
          },
          "execution_count": 36
        },
        {
          "output_type": "display_data",
          "data": {
            "image/png": "[encoded data removed]",
            "text/plain": [
              "<Figure size 1440x1440 with 72 Axes>"
            ]
          },
          "metadata": {
            "tags": [],
            "needs_background": "light"
          }
        }
      ]
    },
    {
      "cell_type": "code",
      "metadata": {
        "id": "JhSN3nWfq0u1"
      },
      "source": [
        "target = 'Weight'"
      ],
      "execution_count": 37,
      "outputs": []
    },
    {
      "cell_type": "code",
      "metadata": {
        "id": "TPozzq4eq0u5",
        "outputId": "35b76a46-e694-4996-ed47-2bd1c3d3f5a3",
        "colab": {
          "base_uri": "https://localhost:8080/",
          "height": 504
        }
      },
      "source": [
        "k = 8 #number of variables for heatmap\n",
        "cols = df1.corr().nlargest(k, target)[target].index\n",
        "cm = df1[cols].corr()\n",
        "plt.figure(figsize=(12,8))\n",
        "sns.heatmap(cm, annot=True, cmap = 'viridis')"
      ],
      "execution_count": 38,
      "outputs": [
        {
          "output_type": "execute_result",
          "data": {
            "text/plain": [
              "<matplotlib.axes._subplots.AxesSubplot at 0x7f9bc4106470>"
            ]
          },
          "metadata": {
            "tags": []
          },
          "execution_count": 38
        },
        {
          "output_type": "display_data",
          "data": {
            "image/png": "[encoded data removed]",
            "text/plain": [
              "<Figure size 864x576 with 2 Axes>"
            ]
          },
          "metadata": {
            "tags": [],
            "needs_background": "light"
          }
        }
      ]
    },
    {
      "cell_type": "code",
      "metadata": {
        "id": "YB7gs4ylq0u_"
      },
      "source": [
        "X_trn = df1.iloc[:,[0,1,2,5,6,7]]\n",
        "X_tst = df2.iloc[:,[0,1,2,5,6,7]]"
      ],
      "execution_count": 39,
      "outputs": []
    },
    {
      "cell_type": "code",
      "metadata": {
        "id": "SDNN71olGwqg",
        "outputId": "4d19d450-d2de-4e76-b2e3-c143f346ef86",
        "colab": {
          "base_uri": "https://localhost:8080/",
          "height": 419
        }
      },
      "source": [
        "X_trn"
      ],
      "execution_count": 40,
      "outputs": [
        {
          "output_type": "execute_result",
          "data": {
            "text/html": [
              "<div>\n",
              "<style scoped>\n",
              "    .dataframe tbody tr th:only-of-type {\n",
              "        vertical-align: middle;\n",
              "    }\n",
              "\n",
              "    .dataframe tbody tr th {\n",
              "        vertical-align: top;\n",
              "    }\n",
              "\n",
              "    .dataframe thead th {\n",
              "        text-align: right;\n",
              "    }\n",
              "</style>\n",
              "<table border=\"1\" class=\"dataframe\">\n",
              "  <thead>\n",
              "    <tr style=\"text-align: right;\">\n",
              "      <th></th>\n",
              "      <th>Origin</th>\n",
              "      <th>Destination</th>\n",
              "      <th>Item</th>\n",
              "      <th>Year</th>\n",
              "      <th>month</th>\n",
              "      <th>day</th>\n",
              "    </tr>\n",
              "  </thead>\n",
              "  <tbody>\n",
              "    <tr>\n",
              "      <th>65184</th>\n",
              "      <td>5</td>\n",
              "      <td>96.0</td>\n",
              "      <td>1</td>\n",
              "      <td>2020</td>\n",
              "      <td>8</td>\n",
              "      <td>30</td>\n",
              "    </tr>\n",
              "    <tr>\n",
              "      <th>37024</th>\n",
              "      <td>5</td>\n",
              "      <td>1019.0</td>\n",
              "      <td>1</td>\n",
              "      <td>2020</td>\n",
              "      <td>8</td>\n",
              "      <td>17</td>\n",
              "    </tr>\n",
              "    <tr>\n",
              "      <th>63316</th>\n",
              "      <td>3</td>\n",
              "      <td>1244.0</td>\n",
              "      <td>1</td>\n",
              "      <td>2020</td>\n",
              "      <td>8</td>\n",
              "      <td>29</td>\n",
              "    </tr>\n",
              "    <tr>\n",
              "      <th>65472</th>\n",
              "      <td>3</td>\n",
              "      <td>266.0</td>\n",
              "      <td>1</td>\n",
              "      <td>2020</td>\n",
              "      <td>8</td>\n",
              "      <td>31</td>\n",
              "    </tr>\n",
              "    <tr>\n",
              "      <th>23599</th>\n",
              "      <td>3</td>\n",
              "      <td>1030.0</td>\n",
              "      <td>1</td>\n",
              "      <td>2020</td>\n",
              "      <td>8</td>\n",
              "      <td>11</td>\n",
              "    </tr>\n",
              "    <tr>\n",
              "      <th>...</th>\n",
              "      <td>...</td>\n",
              "      <td>...</td>\n",
              "      <td>...</td>\n",
              "      <td>...</td>\n",
              "      <td>...</td>\n",
              "      <td>...</td>\n",
              "    </tr>\n",
              "    <tr>\n",
              "      <th>3984</th>\n",
              "      <td>5</td>\n",
              "      <td>276.0</td>\n",
              "      <td>1</td>\n",
              "      <td>2020</td>\n",
              "      <td>8</td>\n",
              "      <td>3</td>\n",
              "    </tr>\n",
              "    <tr>\n",
              "      <th>47011</th>\n",
              "      <td>1</td>\n",
              "      <td>99.0</td>\n",
              "      <td>1</td>\n",
              "      <td>2020</td>\n",
              "      <td>8</td>\n",
              "      <td>21</td>\n",
              "    </tr>\n",
              "    <tr>\n",
              "      <th>8869</th>\n",
              "      <td>1</td>\n",
              "      <td>16.0</td>\n",
              "      <td>1</td>\n",
              "      <td>2020</td>\n",
              "      <td>8</td>\n",
              "      <td>5</td>\n",
              "    </tr>\n",
              "    <tr>\n",
              "      <th>11567</th>\n",
              "      <td>3</td>\n",
              "      <td>333.0</td>\n",
              "      <td>1</td>\n",
              "      <td>2020</td>\n",
              "      <td>8</td>\n",
              "      <td>6</td>\n",
              "    </tr>\n",
              "    <tr>\n",
              "      <th>3790</th>\n",
              "      <td>5</td>\n",
              "      <td>114.0</td>\n",
              "      <td>1</td>\n",
              "      <td>2020</td>\n",
              "      <td>8</td>\n",
              "      <td>3</td>\n",
              "    </tr>\n",
              "  </tbody>\n",
              "</table>\n",
              "<p>54814 rows × 6 columns</p>\n",
              "</div>"
            ],
            "text/plain": [
              "       Origin  Destination  Item  Year  month  day\n",
              "65184       5         96.0     1  2020      8   30\n",
              "37024       5       1019.0     1  2020      8   17\n",
              "63316       3       1244.0     1  2020      8   29\n",
              "65472       3        266.0     1  2020      8   31\n",
              "23599       3       1030.0     1  2020      8   11\n",
              "...       ...          ...   ...   ...    ...  ...\n",
              "3984        5        276.0     1  2020      8    3\n",
              "47011       1         99.0     1  2020      8   21\n",
              "8869        1         16.0     1  2020      8    5\n",
              "11567       3        333.0     1  2020      8    6\n",
              "3790        5        114.0     1  2020      8    3\n",
              "\n",
              "[54814 rows x 6 columns]"
            ]
          },
          "metadata": {
            "tags": []
          },
          "execution_count": 40
        }
      ]
    },
    {
      "cell_type": "code",
      "metadata": {
        "id": "NPHRDRodG0Gq",
        "outputId": "d0e9dde0-0077-4f51-e2d4-cdd4a27afaeb",
        "colab": {
          "base_uri": "https://localhost:8080/",
          "height": 419
        }
      },
      "source": [
        "X_tst"
      ],
      "execution_count": 41,
      "outputs": [
        {
          "output_type": "execute_result",
          "data": {
            "text/html": [
              "<div>\n",
              "<style scoped>\n",
              "    .dataframe tbody tr th:only-of-type {\n",
              "        vertical-align: middle;\n",
              "    }\n",
              "\n",
              "    .dataframe tbody tr th {\n",
              "        vertical-align: top;\n",
              "    }\n",
              "\n",
              "    .dataframe thead th {\n",
              "        text-align: right;\n",
              "    }\n",
              "</style>\n",
              "<table border=\"1\" class=\"dataframe\">\n",
              "  <thead>\n",
              "    <tr style=\"text-align: right;\">\n",
              "      <th></th>\n",
              "      <th>Origin</th>\n",
              "      <th>Destination</th>\n",
              "      <th>Item</th>\n",
              "      <th>Year</th>\n",
              "      <th>month</th>\n",
              "      <th>day</th>\n",
              "    </tr>\n",
              "  </thead>\n",
              "  <tbody>\n",
              "    <tr>\n",
              "      <th>2</th>\n",
              "      <td>4</td>\n",
              "      <td>978.0</td>\n",
              "      <td>1</td>\n",
              "      <td>2020</td>\n",
              "      <td>8</td>\n",
              "      <td>1</td>\n",
              "    </tr>\n",
              "    <tr>\n",
              "      <th>3</th>\n",
              "      <td>4</td>\n",
              "      <td>107.0</td>\n",
              "      <td>1</td>\n",
              "      <td>2020</td>\n",
              "      <td>8</td>\n",
              "      <td>1</td>\n",
              "    </tr>\n",
              "    <tr>\n",
              "      <th>4</th>\n",
              "      <td>4</td>\n",
              "      <td>1041.0</td>\n",
              "      <td>1</td>\n",
              "      <td>2020</td>\n",
              "      <td>8</td>\n",
              "      <td>1</td>\n",
              "    </tr>\n",
              "    <tr>\n",
              "      <th>5</th>\n",
              "      <td>4</td>\n",
              "      <td>1017.0</td>\n",
              "      <td>1</td>\n",
              "      <td>2020</td>\n",
              "      <td>8</td>\n",
              "      <td>1</td>\n",
              "    </tr>\n",
              "    <tr>\n",
              "      <th>17</th>\n",
              "      <td>5</td>\n",
              "      <td>895.0</td>\n",
              "      <td>1</td>\n",
              "      <td>2020</td>\n",
              "      <td>8</td>\n",
              "      <td>1</td>\n",
              "    </tr>\n",
              "    <tr>\n",
              "      <th>...</th>\n",
              "      <td>...</td>\n",
              "      <td>...</td>\n",
              "      <td>...</td>\n",
              "      <td>...</td>\n",
              "      <td>...</td>\n",
              "      <td>...</td>\n",
              "    </tr>\n",
              "    <tr>\n",
              "      <th>68497</th>\n",
              "      <td>1</td>\n",
              "      <td>614.0</td>\n",
              "      <td>1</td>\n",
              "      <td>2020</td>\n",
              "      <td>8</td>\n",
              "      <td>31</td>\n",
              "    </tr>\n",
              "    <tr>\n",
              "      <th>68505</th>\n",
              "      <td>1</td>\n",
              "      <td>388.0</td>\n",
              "      <td>1</td>\n",
              "      <td>2020</td>\n",
              "      <td>8</td>\n",
              "      <td>31</td>\n",
              "    </tr>\n",
              "    <tr>\n",
              "      <th>68511</th>\n",
              "      <td>1</td>\n",
              "      <td>928.0</td>\n",
              "      <td>1</td>\n",
              "      <td>2020</td>\n",
              "      <td>8</td>\n",
              "      <td>31</td>\n",
              "    </tr>\n",
              "    <tr>\n",
              "      <th>68513</th>\n",
              "      <td>1</td>\n",
              "      <td>358.0</td>\n",
              "      <td>1</td>\n",
              "      <td>2020</td>\n",
              "      <td>8</td>\n",
              "      <td>31</td>\n",
              "    </tr>\n",
              "    <tr>\n",
              "      <th>68514</th>\n",
              "      <td>1</td>\n",
              "      <td>915.0</td>\n",
              "      <td>1</td>\n",
              "      <td>2020</td>\n",
              "      <td>8</td>\n",
              "      <td>31</td>\n",
              "    </tr>\n",
              "  </tbody>\n",
              "</table>\n",
              "<p>13704 rows × 6 columns</p>\n",
              "</div>"
            ],
            "text/plain": [
              "       Origin  Destination  Item  Year  month  day\n",
              "2           4        978.0     1  2020      8    1\n",
              "3           4        107.0     1  2020      8    1\n",
              "4           4       1041.0     1  2020      8    1\n",
              "5           4       1017.0     1  2020      8    1\n",
              "17          5        895.0     1  2020      8    1\n",
              "...       ...          ...   ...   ...    ...  ...\n",
              "68497       1        614.0     1  2020      8   31\n",
              "68505       1        388.0     1  2020      8   31\n",
              "68511       1        928.0     1  2020      8   31\n",
              "68513       1        358.0     1  2020      8   31\n",
              "68514       1        915.0     1  2020      8   31\n",
              "\n",
              "[13704 rows x 6 columns]"
            ]
          },
          "metadata": {
            "tags": []
          },
          "execution_count": 41
        }
      ]
    },
    {
      "cell_type": "code",
      "metadata": {
        "id": "MrGRe6Vhq0vD",
        "outputId": "243220a4-058f-4eb8-ee26-6ee0a5f4d132",
        "colab": {
          "base_uri": "https://localhost:8080/",
          "height": 419
        }
      },
      "source": [
        "y_trn = df1.iloc[:,[3,4]]\n",
        "y_trn"
      ],
      "execution_count": 42,
      "outputs": [
        {
          "output_type": "execute_result",
          "data": {
            "text/html": [
              "<div>\n",
              "<style scoped>\n",
              "    .dataframe tbody tr th:only-of-type {\n",
              "        vertical-align: middle;\n",
              "    }\n",
              "\n",
              "    .dataframe tbody tr th {\n",
              "        vertical-align: top;\n",
              "    }\n",
              "\n",
              "    .dataframe thead th {\n",
              "        text-align: right;\n",
              "    }\n",
              "</style>\n",
              "<table border=\"1\" class=\"dataframe\">\n",
              "  <thead>\n",
              "    <tr style=\"text-align: right;\">\n",
              "      <th></th>\n",
              "      <th>Weight</th>\n",
              "      <th>Size/Volume</th>\n",
              "    </tr>\n",
              "  </thead>\n",
              "  <tbody>\n",
              "    <tr>\n",
              "      <th>65184</th>\n",
              "      <td>500</td>\n",
              "      <td>500</td>\n",
              "    </tr>\n",
              "    <tr>\n",
              "      <th>37024</th>\n",
              "      <td>500</td>\n",
              "      <td>500</td>\n",
              "    </tr>\n",
              "    <tr>\n",
              "      <th>63316</th>\n",
              "      <td>110</td>\n",
              "      <td>110</td>\n",
              "    </tr>\n",
              "    <tr>\n",
              "      <th>65472</th>\n",
              "      <td>100</td>\n",
              "      <td>100</td>\n",
              "    </tr>\n",
              "    <tr>\n",
              "      <th>23599</th>\n",
              "      <td>2210</td>\n",
              "      <td>2210</td>\n",
              "    </tr>\n",
              "    <tr>\n",
              "      <th>...</th>\n",
              "      <td>...</td>\n",
              "      <td>...</td>\n",
              "    </tr>\n",
              "    <tr>\n",
              "      <th>3984</th>\n",
              "      <td>615</td>\n",
              "      <td>615</td>\n",
              "    </tr>\n",
              "    <tr>\n",
              "      <th>47011</th>\n",
              "      <td>50</td>\n",
              "      <td>50</td>\n",
              "    </tr>\n",
              "    <tr>\n",
              "      <th>8869</th>\n",
              "      <td>1000</td>\n",
              "      <td>1000</td>\n",
              "    </tr>\n",
              "    <tr>\n",
              "      <th>11567</th>\n",
              "      <td>1100</td>\n",
              "      <td>1100</td>\n",
              "    </tr>\n",
              "    <tr>\n",
              "      <th>3790</th>\n",
              "      <td>500</td>\n",
              "      <td>500</td>\n",
              "    </tr>\n",
              "  </tbody>\n",
              "</table>\n",
              "<p>54814 rows × 2 columns</p>\n",
              "</div>"
            ],
            "text/plain": [
              "       Weight  Size/Volume\n",
              "65184     500          500\n",
              "37024     500          500\n",
              "63316     110          110\n",
              "65472     100          100\n",
              "23599    2210         2210\n",
              "...       ...          ...\n",
              "3984      615          615\n",
              "47011      50           50\n",
              "8869     1000         1000\n",
              "11567    1100         1100\n",
              "3790      500          500\n",
              "\n",
              "[54814 rows x 2 columns]"
            ]
          },
          "metadata": {
            "tags": []
          },
          "execution_count": 42
        }
      ]
    },
    {
      "cell_type": "code",
      "metadata": {
        "id": "NNlzVtTKG5_4",
        "outputId": "3892aa89-9ee2-47f1-e08b-1c08974d5a52",
        "colab": {
          "base_uri": "https://localhost:8080/",
          "height": 419
        }
      },
      "source": [
        "y_tst = df2.iloc[:,[3,4]]\n",
        "y_tst"
      ],
      "execution_count": 43,
      "outputs": [
        {
          "output_type": "execute_result",
          "data": {
            "text/html": [
              "<div>\n",
              "<style scoped>\n",
              "    .dataframe tbody tr th:only-of-type {\n",
              "        vertical-align: middle;\n",
              "    }\n",
              "\n",
              "    .dataframe tbody tr th {\n",
              "        vertical-align: top;\n",
              "    }\n",
              "\n",
              "    .dataframe thead th {\n",
              "        text-align: right;\n",
              "    }\n",
              "</style>\n",
              "<table border=\"1\" class=\"dataframe\">\n",
              "  <thead>\n",
              "    <tr style=\"text-align: right;\">\n",
              "      <th></th>\n",
              "      <th>Weight</th>\n",
              "      <th>Size/Volume</th>\n",
              "    </tr>\n",
              "  </thead>\n",
              "  <tbody>\n",
              "    <tr>\n",
              "      <th>2</th>\n",
              "      <td>200</td>\n",
              "      <td>200</td>\n",
              "    </tr>\n",
              "    <tr>\n",
              "      <th>3</th>\n",
              "      <td>500</td>\n",
              "      <td>500</td>\n",
              "    </tr>\n",
              "    <tr>\n",
              "      <th>4</th>\n",
              "      <td>500</td>\n",
              "      <td>500</td>\n",
              "    </tr>\n",
              "    <tr>\n",
              "      <th>5</th>\n",
              "      <td>200</td>\n",
              "      <td>200</td>\n",
              "    </tr>\n",
              "    <tr>\n",
              "      <th>17</th>\n",
              "      <td>50</td>\n",
              "      <td>50</td>\n",
              "    </tr>\n",
              "    <tr>\n",
              "      <th>...</th>\n",
              "      <td>...</td>\n",
              "      <td>...</td>\n",
              "    </tr>\n",
              "    <tr>\n",
              "      <th>68497</th>\n",
              "      <td>100</td>\n",
              "      <td>100</td>\n",
              "    </tr>\n",
              "    <tr>\n",
              "      <th>68505</th>\n",
              "      <td>100</td>\n",
              "      <td>100</td>\n",
              "    </tr>\n",
              "    <tr>\n",
              "      <th>68511</th>\n",
              "      <td>35000</td>\n",
              "      <td>35000</td>\n",
              "    </tr>\n",
              "    <tr>\n",
              "      <th>68513</th>\n",
              "      <td>5900</td>\n",
              "      <td>5900</td>\n",
              "    </tr>\n",
              "    <tr>\n",
              "      <th>68514</th>\n",
              "      <td>5800</td>\n",
              "      <td>5800</td>\n",
              "    </tr>\n",
              "  </tbody>\n",
              "</table>\n",
              "<p>13704 rows × 2 columns</p>\n",
              "</div>"
            ],
            "text/plain": [
              "       Weight  Size/Volume\n",
              "2         200          200\n",
              "3         500          500\n",
              "4         500          500\n",
              "5         200          200\n",
              "17         50           50\n",
              "...       ...          ...\n",
              "68497     100          100\n",
              "68505     100          100\n",
              "68511   35000        35000\n",
              "68513    5900         5900\n",
              "68514    5800         5800\n",
              "\n",
              "[13704 rows x 2 columns]"
            ]
          },
          "metadata": {
            "tags": []
          },
          "execution_count": 43
        }
      ]
    },
    {
      "cell_type": "code",
      "metadata": {
        "id": "7jsksef6q0vJ",
        "outputId": "61d37992-e027-4058-d472-1a38533884a8",
        "colab": {
          "base_uri": "https://localhost:8080/"
        }
      },
      "source": [
        "df1.dtypes"
      ],
      "execution_count": 44,
      "outputs": [
        {
          "output_type": "execute_result",
          "data": {
            "text/plain": [
              "Origin           int64\n",
              "Destination    float64\n",
              "Item             int64\n",
              "Weight           int64\n",
              "Size/Volume      int64\n",
              "Year             int64\n",
              "month            int64\n",
              "day              int64\n",
              "dtype: object"
            ]
          },
          "metadata": {
            "tags": []
          },
          "execution_count": 44
        }
      ]
    },
    {
      "cell_type": "code",
      "metadata": {
        "id": "K1vil0SuHAWR",
        "outputId": "28506eab-22c3-4a2f-be4d-af77f232a8c3",
        "colab": {
          "base_uri": "https://localhost:8080/"
        }
      },
      "source": [
        "df2.dtypes"
      ],
      "execution_count": 45,
      "outputs": [
        {
          "output_type": "execute_result",
          "data": {
            "text/plain": [
              "Origin           int64\n",
              "Destination    float64\n",
              "Item             int64\n",
              "Weight           int64\n",
              "Size/Volume      int64\n",
              "Year             int64\n",
              "month            int64\n",
              "day              int64\n",
              "dtype: object"
            ]
          },
          "metadata": {
            "tags": []
          },
          "execution_count": 45
        }
      ]
    },
    {
      "cell_type": "code",
      "metadata": {
        "id": "WYNwmtKC1bp1",
        "outputId": "6dc3bfa1-a715-4b7e-e4dc-bbaed18ebbd9",
        "colab": {
          "base_uri": "https://localhost:8080/"
        }
      },
      "source": [
        "pd.isna(df['Destination'])\n"
      ],
      "execution_count": 46,
      "outputs": [
        {
          "output_type": "execute_result",
          "data": {
            "text/plain": [
              "0        False\n",
              "1        False\n",
              "2        False\n",
              "3        False\n",
              "4        False\n",
              "         ...  \n",
              "68513    False\n",
              "68514    False\n",
              "68515    False\n",
              "68516    False\n",
              "68517    False\n",
              "Name: Destination, Length: 68518, dtype: bool"
            ]
          },
          "metadata": {
            "tags": []
          },
          "execution_count": 46
        }
      ]
    },
    {
      "cell_type": "code",
      "metadata": {
        "id": "1oF4taMH38cS",
        "outputId": "cb5e2617-510c-4044-f3ff-db7eb23ad84a",
        "colab": {
          "base_uri": "https://localhost:8080/"
        }
      },
      "source": [
        "df[df['day'] == ''].index"
      ],
      "execution_count": 47,
      "outputs": [
        {
          "output_type": "execute_result",
          "data": {
            "text/plain": [
              "Int64Index([], dtype='int64')"
            ]
          },
          "metadata": {
            "tags": []
          },
          "execution_count": 47
        }
      ]
    },
    {
      "cell_type": "code",
      "metadata": {
        "id": "xLsGK1kjq0vN"
      },
      "source": [
        ""
      ],
      "execution_count": 47,
      "outputs": []
    },
    {
      "cell_type": "code",
      "metadata": {
        "id": "Ktu7zuY6q0vQ",
        "outputId": "2a00df6b-4c89-4f7f-a798-a49a898cd545",
        "colab": {
          "base_uri": "https://localhost:8080/"
        }
      },
      "source": [
        "from sklearn.ensemble import RandomForestRegressor\n",
        "\n",
        "# Create the model with 100 trees\n",
        "model = RandomForestRegressor()\n",
        "#filling missing value\n",
        "X_trn = X_trn.fillna(X_trn.mean())\n",
        "X_tst = X_tst.fillna(X_tst.mean()) \n",
        "# Fit on training data\n",
        "model.fit(X_trn,y_trn)\n"
      ],
      "execution_count": 48,
      "outputs": [
        {
          "output_type": "execute_result",
          "data": {
            "text/plain": [
              "RandomForestRegressor(bootstrap=True, ccp_alpha=0.0, criterion='mse',\n",
              "                      max_depth=None, max_features='auto', max_leaf_nodes=None,\n",
              "                      max_samples=None, min_impurity_decrease=0.0,\n",
              "                      min_impurity_split=None, min_samples_leaf=1,\n",
              "                      min_samples_split=2, min_weight_fraction_leaf=0.0,\n",
              "                      n_estimators=100, n_jobs=None, oob_score=False,\n",
              "                      random_state=None, verbose=0, warm_start=False)"
            ]
          },
          "metadata": {
            "tags": []
          },
          "execution_count": 48
        }
      ]
    },
    {
      "cell_type": "code",
      "metadata": {
        "id": "58miRcYIq0vT"
      },
      "source": [
        "prd = model.predict(X_tst)"
      ],
      "execution_count": 49,
      "outputs": []
    },
    {
      "cell_type": "code",
      "metadata": {
        "id": "fi673vPXq0vZ",
        "outputId": "64694b51-adcc-43ac-a141-ca1e01c7e973",
        "colab": {
          "base_uri": "https://localhost:8080/"
        }
      },
      "source": [
        "from sklearn.metrics import mean_squared_error\n",
        "mse = mean_squared_error(y_tst,prd)\n",
        "rmse = np.sqrt(mse)\n",
        "rmse"
      ],
      "execution_count": 50,
      "outputs": [
        {
          "output_type": "execute_result",
          "data": {
            "text/plain": [
              "30520.261846400554"
            ]
          },
          "metadata": {
            "tags": []
          },
          "execution_count": 50
        }
      ]
    },
    {
      "cell_type": "code",
      "metadata": {
        "id": "z05oJu1aq0vd",
        "outputId": "be689d86-081c-4629-9c21-310757d90bd8",
        "colab": {
          "base_uri": "https://localhost:8080/"
        }
      },
      "source": [
        "prd"
      ],
      "execution_count": 51,
      "outputs": [
        {
          "output_type": "execute_result",
          "data": {
            "text/plain": [
              "array([[1492.25      , 1492.25      ],\n",
              "       [9976.33333333, 9976.33333333],\n",
              "       [ 429.97833333,  429.97833333],\n",
              "       ...,\n",
              "       [ 269.60059524,  269.60059524],\n",
              "       [ 320.        ,  320.        ],\n",
              "       [ 551.08333333,  551.08333333]])"
            ]
          },
          "metadata": {
            "tags": []
          },
          "execution_count": 51
        }
      ]
    },
    {
      "cell_type": "code",
      "metadata": {
        "id": "uD5C7X3Zq0vf"
      },
      "source": [
        ""
      ],
      "execution_count": 51,
      "outputs": []
    },
    {
      "cell_type": "code",
      "metadata": {
        "id": "ORigVR9iq0vi"
      },
      "source": [
        "from sklearn import datasets, linear_model"
      ],
      "execution_count": 52,
      "outputs": []
    },
    {
      "cell_type": "code",
      "metadata": {
        "id": "0nkTJMjAq0vl",
        "outputId": "8249c1b0-6301-418e-8e9a-0052a2654990",
        "colab": {
          "base_uri": "https://localhost:8080/"
        }
      },
      "source": [
        "regr = linear_model.LinearRegression() \n",
        "   \n",
        "# Train the model using the training sets \n",
        "regr.fit(X_trn,y_trn) "
      ],
      "execution_count": 53,
      "outputs": [
        {
          "output_type": "execute_result",
          "data": {
            "text/plain": [
              "LinearRegression(copy_X=True, fit_intercept=True, n_jobs=None, normalize=False)"
            ]
          },
          "metadata": {
            "tags": []
          },
          "execution_count": 53
        }
      ]
    },
    {
      "cell_type": "code",
      "metadata": {
        "id": "5cH7dLs_q0vp"
      },
      "source": [
        "prd1 = regr.predict(X_tst)"
      ],
      "execution_count": 54,
      "outputs": []
    },
    {
      "cell_type": "code",
      "metadata": {
        "id": "LKgWfujaq0vt",
        "outputId": "2ea21584-86d1-43c4-db26-8018ec0f0418",
        "colab": {
          "base_uri": "https://localhost:8080/"
        }
      },
      "source": [
        "from sklearn.metrics import mean_squared_error\n",
        "mse = mean_squared_error(y_tst,prd1)\n",
        "rmse = np.sqrt(mse)\n",
        "rmse"
      ],
      "execution_count": 55,
      "outputs": [
        {
          "output_type": "execute_result",
          "data": {
            "text/plain": [
              "29339.78718772684"
            ]
          },
          "metadata": {
            "tags": []
          },
          "execution_count": 55
        }
      ]
    },
    {
      "cell_type": "code",
      "metadata": {
        "id": "JUbHfETEq0vw"
      },
      "source": [
        ""
      ],
      "execution_count": 55,
      "outputs": []
    },
    {
      "cell_type": "code",
      "metadata": {
        "id": "2-ncojCmq0vz"
      },
      "source": [
        "from sklearn import neighbors"
      ],
      "execution_count": 56,
      "outputs": []
    },
    {
      "cell_type": "code",
      "metadata": {
        "id": "1Vakddewq0v2"
      },
      "source": [
        "knn = neighbors.KNeighborsRegressor()\n",
        "y_ = knn.fit(X_trn,y_trn)"
      ],
      "execution_count": 57,
      "outputs": []
    },
    {
      "cell_type": "code",
      "metadata": {
        "id": "mkeuE6K8q0v6"
      },
      "source": [
        "prd2 = y_.predict(X_tst)"
      ],
      "execution_count": 58,
      "outputs": []
    },
    {
      "cell_type": "code",
      "metadata": {
        "id": "pQsd51U4q0wB",
        "outputId": "a7efac36-ce97-409f-8ee9-18ba83984c0c",
        "colab": {
          "base_uri": "https://localhost:8080/"
        }
      },
      "source": [
        "from sklearn.metrics import mean_squared_error,r2_score\n",
        "mse = mean_squared_error(y_tst,prd2)\n",
        "rmse = np.sqrt(mse)\n",
        "rmse"
      ],
      "execution_count": 59,
      "outputs": [
        {
          "output_type": "execute_result",
          "data": {
            "text/plain": [
              "29738.084409567404"
            ]
          },
          "metadata": {
            "tags": []
          },
          "execution_count": 59
        }
      ]
    },
    {
      "cell_type": "code",
      "metadata": {
        "id": "wCBobuGGq0wE",
        "outputId": "766fad30-3e18-4e41-cb62-d31a94f8c11e",
        "colab": {
          "base_uri": "https://localhost:8080/"
        }
      },
      "source": [
        "r2_score(y_tst,prd1) "
      ],
      "execution_count": 60,
      "outputs": [
        {
          "output_type": "execute_result",
          "data": {
            "text/plain": [
              "8.577196195791448e-05"
            ]
          },
          "metadata": {
            "tags": []
          },
          "execution_count": 60
        }
      ]
    },
    {
      "cell_type": "code",
      "metadata": {
        "id": "7_YSh2htq0wH"
      },
      "source": [
        ""
      ],
      "execution_count": null,
      "outputs": []
    },
    {
      "cell_type": "code",
      "metadata": {
        "id": "fpBe2jTsq0wM",
        "outputId": "fa14a61c-93ef-426c-9d78-92da6c78c74d",
        "colab": {
          "base_uri": "https://localhost:8080/"
        }
      },
      "source": [
        "X_tst.shape"
      ],
      "execution_count": 61,
      "outputs": [
        {
          "output_type": "execute_result",
          "data": {
            "text/plain": [
              "(13704, 6)"
            ]
          },
          "metadata": {
            "tags": []
          },
          "execution_count": 61
        }
      ]
    },
    {
      "cell_type": "code",
      "metadata": {
        "id": "gNf47q18q0wR",
        "outputId": "71a77986-ebb8-49cd-c28e-3a022480839a",
        "colab": {
          "base_uri": "https://localhost:8080/"
        }
      },
      "source": [
        "y_tst.shape"
      ],
      "execution_count": 62,
      "outputs": [
        {
          "output_type": "execute_result",
          "data": {
            "text/plain": [
              "(13704, 2)"
            ]
          },
          "metadata": {
            "tags": []
          },
          "execution_count": 62
        }
      ]
    },
    {
      "cell_type": "code",
      "metadata": {
        "id": "-8vOQWIMq0wc"
      },
      "source": [
        "from sklearn.model_selection import RandomizedSearchCV"
      ],
      "execution_count": 63,
      "outputs": []
    },
    {
      "cell_type": "code",
      "metadata": {
        "id": "BXOctDcWq0wf"
      },
      "source": [
        "#Randomized Search CV\n",
        "\n",
        "# Number of trees in random forest\n",
        "n_estimators = [int(x) for x in np.linspace(start = 100, stop = 1200, num = 12)]\n",
        "# Number of features to consider at every split\n",
        "max_features = ['auto', 'sqrt']\n",
        "# Maximum number of levels in tree\n",
        "max_depth = [int(x) for x in np.linspace(5, 30, num = 6)]\n",
        "# max_depth.append(None)\n",
        "# Minimum number of samples required to split a node\n",
        "min_samples_split = [2, 5, 10, 15, 100]\n",
        "# Minimum number of samples required at each leaf node\n",
        "min_samples_leaf = [1, 2, 5, 10]"
      ],
      "execution_count": 64,
      "outputs": []
    },
    {
      "cell_type": "code",
      "metadata": {
        "id": "0179bJkBq0wk",
        "outputId": "7246d4bf-5952-43e1-c61c-2e4430aa52dd",
        "colab": {
          "base_uri": "https://localhost:8080/"
        }
      },
      "source": [
        "# Create the random grid\n",
        "random_grid = {'n_estimators': n_estimators,\n",
        "               'max_features': max_features,\n",
        "               'max_depth': max_depth,\n",
        "               'min_samples_split': min_samples_split,\n",
        "               'min_samples_leaf': min_samples_leaf}\n",
        "\n",
        "print(random_grid)"
      ],
      "execution_count": 65,
      "outputs": [
        {
          "output_type": "stream",
          "text": [
            "{'n_estimators': [100, 200, 300, 400, 500, 600, 700, 800, 900, 1000, 1100, 1200], 'max_features': ['auto', 'sqrt'], 'max_depth': [5, 10, 15, 20, 25, 30], 'min_samples_split': [2, 5, 10, 15, 100], 'min_samples_leaf': [1, 2, 5, 10]}\n"
          ],
          "name": "stdout"
        }
      ]
    },
    {
      "cell_type": "code",
      "metadata": {
        "id": "jJhIBizMq0wq"
      },
      "source": [
        "\n",
        "# Use the random grid to search for best hyperparameters\n",
        "# First create the base model to tune\n",
        "rf = RandomForestRegressor()"
      ],
      "execution_count": 66,
      "outputs": []
    },
    {
      "cell_type": "code",
      "metadata": {
        "id": "ev5bHjwlq0ww"
      },
      "source": [
        "# Random search of parameters, using 3 fold cross validation, \n",
        "# search across 100 different combinations\n",
        "rf_random = RandomizedSearchCV(estimator = rf, param_distributions = random_grid,scoring='neg_mean_squared_error', n_iter = 10, cv = 5, verbose=2, random_state=42, n_jobs = 1)"
      ],
      "execution_count": 67,
      "outputs": []
    },
    {
      "cell_type": "code",
      "metadata": {
        "id": "j651Dlnrq0w0",
        "outputId": "3030cf57-ea12-499f-e5a3-d6b6063b267b",
        "colab": {
          "base_uri": "https://localhost:8080/"
        }
      },
      "source": [
        "rf_random.fit(X_trn,y_trn)"
      ],
      "execution_count": 68,
      "outputs": [
        {
          "output_type": "stream",
          "text": [
            "Fitting 5 folds for each of 10 candidates, totalling 50 fits\n",
            "[CV] n_estimators=900, min_samples_split=5, min_samples_leaf=5, max_features=sqrt, max_depth=10 \n"
          ],
          "name": "stdout"
        },
        {
          "output_type": "stream",
          "text": [
            "[Parallel(n_jobs=1)]: Using backend SequentialBackend with 1 concurrent workers.\n"
          ],
          "name": "stderr"
        },
        {
          "output_type": "stream",
          "text": [
            "[CV]  n_estimators=900, min_samples_split=5, min_samples_leaf=5, max_features=sqrt, max_depth=10, total=  23.3s\n",
            "[CV] n_estimators=900, min_samples_split=5, min_samples_leaf=5, max_features=sqrt, max_depth=10 \n"
          ],
          "name": "stdout"
        },
        {
          "output_type": "stream",
          "text": [
            "[Parallel(n_jobs=1)]: Done   1 out of   1 | elapsed:   23.3s remaining:    0.0s\n"
          ],
          "name": "stderr"
        },
        {
          "output_type": "stream",
          "text": [
            "[CV]  n_estimators=900, min_samples_split=5, min_samples_leaf=5, max_features=sqrt, max_depth=10, total=  25.2s\n",
            "[CV] n_estimators=900, min_samples_split=5, min_samples_leaf=5, max_features=sqrt, max_depth=10 \n",
            "[CV]  n_estimators=900, min_samples_split=5, min_samples_leaf=5, max_features=sqrt, max_depth=10, total=  23.0s\n",
            "[CV] n_estimators=900, min_samples_split=5, min_samples_leaf=5, max_features=sqrt, max_depth=10 \n",
            "[CV]  n_estimators=900, min_samples_split=5, min_samples_leaf=5, max_features=sqrt, max_depth=10, total=  23.1s\n",
            "[CV] n_estimators=900, min_samples_split=5, min_samples_leaf=5, max_features=sqrt, max_depth=10 \n",
            "[CV]  n_estimators=900, min_samples_split=5, min_samples_leaf=5, max_features=sqrt, max_depth=10, total=  23.1s\n",
            "[CV] n_estimators=1100, min_samples_split=10, min_samples_leaf=2, max_features=sqrt, max_depth=15 \n",
            "[CV]  n_estimators=1100, min_samples_split=10, min_samples_leaf=2, max_features=sqrt, max_depth=15, total=  39.9s\n",
            "[CV] n_estimators=1100, min_samples_split=10, min_samples_leaf=2, max_features=sqrt, max_depth=15 \n",
            "[CV]  n_estimators=1100, min_samples_split=10, min_samples_leaf=2, max_features=sqrt, max_depth=15, total=  39.7s\n",
            "[CV] n_estimators=1100, min_samples_split=10, min_samples_leaf=2, max_features=sqrt, max_depth=15 \n",
            "[CV]  n_estimators=1100, min_samples_split=10, min_samples_leaf=2, max_features=sqrt, max_depth=15, total=  39.3s\n",
            "[CV] n_estimators=1100, min_samples_split=10, min_samples_leaf=2, max_features=sqrt, max_depth=15 \n",
            "[CV]  n_estimators=1100, min_samples_split=10, min_samples_leaf=2, max_features=sqrt, max_depth=15, total=  39.7s\n",
            "[CV] n_estimators=1100, min_samples_split=10, min_samples_leaf=2, max_features=sqrt, max_depth=15 \n",
            "[CV]  n_estimators=1100, min_samples_split=10, min_samples_leaf=2, max_features=sqrt, max_depth=15, total=  39.5s\n",
            "[CV] n_estimators=300, min_samples_split=100, min_samples_leaf=5, max_features=auto, max_depth=15 \n",
            "[CV]  n_estimators=300, min_samples_split=100, min_samples_leaf=5, max_features=auto, max_depth=15, total=  15.4s\n",
            "[CV] n_estimators=300, min_samples_split=100, min_samples_leaf=5, max_features=auto, max_depth=15 \n",
            "[CV]  n_estimators=300, min_samples_split=100, min_samples_leaf=5, max_features=auto, max_depth=15, total=  15.3s\n",
            "[CV] n_estimators=300, min_samples_split=100, min_samples_leaf=5, max_features=auto, max_depth=15 \n",
            "[CV]  n_estimators=300, min_samples_split=100, min_samples_leaf=5, max_features=auto, max_depth=15, total=  15.3s\n",
            "[CV] n_estimators=300, min_samples_split=100, min_samples_leaf=5, max_features=auto, max_depth=15 \n",
            "[CV]  n_estimators=300, min_samples_split=100, min_samples_leaf=5, max_features=auto, max_depth=15, total=  15.3s\n",
            "[CV] n_estimators=300, min_samples_split=100, min_samples_leaf=5, max_features=auto, max_depth=15 \n",
            "[CV]  n_estimators=300, min_samples_split=100, min_samples_leaf=5, max_features=auto, max_depth=15, total=  15.3s\n",
            "[CV] n_estimators=400, min_samples_split=5, min_samples_leaf=5, max_features=auto, max_depth=15 \n",
            "[CV]  n_estimators=400, min_samples_split=5, min_samples_leaf=5, max_features=auto, max_depth=15, total=  23.2s\n",
            "[CV] n_estimators=400, min_samples_split=5, min_samples_leaf=5, max_features=auto, max_depth=15 \n",
            "[CV]  n_estimators=400, min_samples_split=5, min_samples_leaf=5, max_features=auto, max_depth=15, total=  23.1s\n",
            "[CV] n_estimators=400, min_samples_split=5, min_samples_leaf=5, max_features=auto, max_depth=15 \n",
            "[CV]  n_estimators=400, min_samples_split=5, min_samples_leaf=5, max_features=auto, max_depth=15, total=  23.1s\n",
            "[CV] n_estimators=400, min_samples_split=5, min_samples_leaf=5, max_features=auto, max_depth=15 \n",
            "[CV]  n_estimators=400, min_samples_split=5, min_samples_leaf=5, max_features=auto, max_depth=15, total=  23.2s\n",
            "[CV] n_estimators=400, min_samples_split=5, min_samples_leaf=5, max_features=auto, max_depth=15 \n",
            "[CV]  n_estimators=400, min_samples_split=5, min_samples_leaf=5, max_features=auto, max_depth=15, total=  23.2s\n",
            "[CV] n_estimators=700, min_samples_split=5, min_samples_leaf=10, max_features=auto, max_depth=20 \n",
            "[CV]  n_estimators=700, min_samples_split=5, min_samples_leaf=10, max_features=auto, max_depth=20, total=  42.3s\n",
            "[CV] n_estimators=700, min_samples_split=5, min_samples_leaf=10, max_features=auto, max_depth=20 \n",
            "[CV]  n_estimators=700, min_samples_split=5, min_samples_leaf=10, max_features=auto, max_depth=20, total=  42.2s\n",
            "[CV] n_estimators=700, min_samples_split=5, min_samples_leaf=10, max_features=auto, max_depth=20 \n",
            "[CV]  n_estimators=700, min_samples_split=5, min_samples_leaf=10, max_features=auto, max_depth=20, total=  41.9s\n",
            "[CV] n_estimators=700, min_samples_split=5, min_samples_leaf=10, max_features=auto, max_depth=20 \n",
            "[CV]  n_estimators=700, min_samples_split=5, min_samples_leaf=10, max_features=auto, max_depth=20, total=  42.4s\n",
            "[CV] n_estimators=700, min_samples_split=5, min_samples_leaf=10, max_features=auto, max_depth=20 \n",
            "[CV]  n_estimators=700, min_samples_split=5, min_samples_leaf=10, max_features=auto, max_depth=20, total=  42.1s\n",
            "[CV] n_estimators=1000, min_samples_split=2, min_samples_leaf=1, max_features=sqrt, max_depth=25 \n",
            "[CV]  n_estimators=1000, min_samples_split=2, min_samples_leaf=1, max_features=sqrt, max_depth=25, total= 1.0min\n",
            "[CV] n_estimators=1000, min_samples_split=2, min_samples_leaf=1, max_features=sqrt, max_depth=25 \n",
            "[CV]  n_estimators=1000, min_samples_split=2, min_samples_leaf=1, max_features=sqrt, max_depth=25, total=  57.8s\n",
            "[CV] n_estimators=1000, min_samples_split=2, min_samples_leaf=1, max_features=sqrt, max_depth=25 \n",
            "[CV]  n_estimators=1000, min_samples_split=2, min_samples_leaf=1, max_features=sqrt, max_depth=25, total=  57.1s\n",
            "[CV] n_estimators=1000, min_samples_split=2, min_samples_leaf=1, max_features=sqrt, max_depth=25 \n",
            "[CV]  n_estimators=1000, min_samples_split=2, min_samples_leaf=1, max_features=sqrt, max_depth=25, total=  58.1s\n",
            "[CV] n_estimators=1000, min_samples_split=2, min_samples_leaf=1, max_features=sqrt, max_depth=25 \n",
            "[CV]  n_estimators=1000, min_samples_split=2, min_samples_leaf=1, max_features=sqrt, max_depth=25, total=  57.2s\n",
            "[CV] n_estimators=1100, min_samples_split=15, min_samples_leaf=10, max_features=sqrt, max_depth=5 \n",
            "[CV]  n_estimators=1100, min_samples_split=15, min_samples_leaf=10, max_features=sqrt, max_depth=5, total=  16.4s\n",
            "[CV] n_estimators=1100, min_samples_split=15, min_samples_leaf=10, max_features=sqrt, max_depth=5 \n",
            "[CV]  n_estimators=1100, min_samples_split=15, min_samples_leaf=10, max_features=sqrt, max_depth=5, total=  16.5s\n",
            "[CV] n_estimators=1100, min_samples_split=15, min_samples_leaf=10, max_features=sqrt, max_depth=5 \n",
            "[CV]  n_estimators=1100, min_samples_split=15, min_samples_leaf=10, max_features=sqrt, max_depth=5, total=  16.4s\n",
            "[CV] n_estimators=1100, min_samples_split=15, min_samples_leaf=10, max_features=sqrt, max_depth=5 \n",
            "[CV]  n_estimators=1100, min_samples_split=15, min_samples_leaf=10, max_features=sqrt, max_depth=5, total=  16.8s\n",
            "[CV] n_estimators=1100, min_samples_split=15, min_samples_leaf=10, max_features=sqrt, max_depth=5 \n",
            "[CV]  n_estimators=1100, min_samples_split=15, min_samples_leaf=10, max_features=sqrt, max_depth=5, total=  16.6s\n",
            "[CV] n_estimators=300, min_samples_split=15, min_samples_leaf=1, max_features=sqrt, max_depth=15 \n",
            "[CV]  n_estimators=300, min_samples_split=15, min_samples_leaf=1, max_features=sqrt, max_depth=15, total=  10.6s\n",
            "[CV] n_estimators=300, min_samples_split=15, min_samples_leaf=1, max_features=sqrt, max_depth=15 \n",
            "[CV]  n_estimators=300, min_samples_split=15, min_samples_leaf=1, max_features=sqrt, max_depth=15, total=  10.7s\n",
            "[CV] n_estimators=300, min_samples_split=15, min_samples_leaf=1, max_features=sqrt, max_depth=15 \n",
            "[CV]  n_estimators=300, min_samples_split=15, min_samples_leaf=1, max_features=sqrt, max_depth=15, total=  10.7s\n",
            "[CV] n_estimators=300, min_samples_split=15, min_samples_leaf=1, max_features=sqrt, max_depth=15 \n",
            "[CV]  n_estimators=300, min_samples_split=15, min_samples_leaf=1, max_features=sqrt, max_depth=15, total=  10.7s\n",
            "[CV] n_estimators=300, min_samples_split=15, min_samples_leaf=1, max_features=sqrt, max_depth=15 \n",
            "[CV]  n_estimators=300, min_samples_split=15, min_samples_leaf=1, max_features=sqrt, max_depth=15, total=  10.6s\n",
            "[CV] n_estimators=700, min_samples_split=10, min_samples_leaf=2, max_features=sqrt, max_depth=5 \n",
            "[CV]  n_estimators=700, min_samples_split=10, min_samples_leaf=2, max_features=sqrt, max_depth=5, total=  10.6s\n",
            "[CV] n_estimators=700, min_samples_split=10, min_samples_leaf=2, max_features=sqrt, max_depth=5 \n",
            "[CV]  n_estimators=700, min_samples_split=10, min_samples_leaf=2, max_features=sqrt, max_depth=5, total=  10.3s\n",
            "[CV] n_estimators=700, min_samples_split=10, min_samples_leaf=2, max_features=sqrt, max_depth=5 \n",
            "[CV]  n_estimators=700, min_samples_split=10, min_samples_leaf=2, max_features=sqrt, max_depth=5, total=  10.4s\n",
            "[CV] n_estimators=700, min_samples_split=10, min_samples_leaf=2, max_features=sqrt, max_depth=5 \n",
            "[CV]  n_estimators=700, min_samples_split=10, min_samples_leaf=2, max_features=sqrt, max_depth=5, total=  10.5s\n",
            "[CV] n_estimators=700, min_samples_split=10, min_samples_leaf=2, max_features=sqrt, max_depth=5 \n",
            "[CV]  n_estimators=700, min_samples_split=10, min_samples_leaf=2, max_features=sqrt, max_depth=5, total=  10.4s\n",
            "[CV] n_estimators=700, min_samples_split=15, min_samples_leaf=1, max_features=auto, max_depth=20 \n",
            "[CV]  n_estimators=700, min_samples_split=15, min_samples_leaf=1, max_features=auto, max_depth=20, total=  46.5s\n",
            "[CV] n_estimators=700, min_samples_split=15, min_samples_leaf=1, max_features=auto, max_depth=20 \n",
            "[CV]  n_estimators=700, min_samples_split=15, min_samples_leaf=1, max_features=auto, max_depth=20, total=  46.7s\n",
            "[CV] n_estimators=700, min_samples_split=15, min_samples_leaf=1, max_features=auto, max_depth=20 \n",
            "[CV]  n_estimators=700, min_samples_split=15, min_samples_leaf=1, max_features=auto, max_depth=20, total=  47.2s\n",
            "[CV] n_estimators=700, min_samples_split=15, min_samples_leaf=1, max_features=auto, max_depth=20 \n",
            "[CV]  n_estimators=700, min_samples_split=15, min_samples_leaf=1, max_features=auto, max_depth=20, total=  46.2s\n",
            "[CV] n_estimators=700, min_samples_split=15, min_samples_leaf=1, max_features=auto, max_depth=20 \n",
            "[CV]  n_estimators=700, min_samples_split=15, min_samples_leaf=1, max_features=auto, max_depth=20, total=  45.8s\n"
          ],
          "name": "stdout"
        },
        {
          "output_type": "stream",
          "text": [
            "[Parallel(n_jobs=1)]: Done  50 out of  50 | elapsed: 24.4min finished\n"
          ],
          "name": "stderr"
        },
        {
          "output_type": "execute_result",
          "data": {
            "text/plain": [
              "RandomizedSearchCV(cv=5, error_score=nan,\n",
              "                   estimator=RandomForestRegressor(bootstrap=True,\n",
              "                                                   ccp_alpha=0.0,\n",
              "                                                   criterion='mse',\n",
              "                                                   max_depth=None,\n",
              "                                                   max_features='auto',\n",
              "                                                   max_leaf_nodes=None,\n",
              "                                                   max_samples=None,\n",
              "                                                   min_impurity_decrease=0.0,\n",
              "                                                   min_impurity_split=None,\n",
              "                                                   min_samples_leaf=1,\n",
              "                                                   min_samples_split=2,\n",
              "                                                   min_weight_fraction_leaf=0.0,\n",
              "                                                   n_estimators=100,\n",
              "                                                   n_jobs=None, oob_score=Fals...\n",
              "                   iid='deprecated', n_iter=10, n_jobs=1,\n",
              "                   param_distributions={'max_depth': [5, 10, 15, 20, 25, 30],\n",
              "                                        'max_features': ['auto', 'sqrt'],\n",
              "                                        'min_samples_leaf': [1, 2, 5, 10],\n",
              "                                        'min_samples_split': [2, 5, 10, 15,\n",
              "                                                              100],\n",
              "                                        'n_estimators': [100, 200, 300, 400,\n",
              "                                                         500, 600, 700, 800,\n",
              "                                                         900, 1000, 1100,\n",
              "                                                         1200]},\n",
              "                   pre_dispatch='2*n_jobs', random_state=42, refit=True,\n",
              "                   return_train_score=False, scoring='neg_mean_squared_error',\n",
              "                   verbose=2)"
            ]
          },
          "metadata": {
            "tags": []
          },
          "execution_count": 68
        }
      ]
    },
    {
      "cell_type": "code",
      "metadata": {
        "id": "ysZlyLb3q0w6",
        "outputId": "b7281ee9-09ec-4253-c1c5-03d61e52ccfe",
        "colab": {
          "base_uri": "https://localhost:8080/"
        }
      },
      "source": [
        "rf_random.best_params_"
      ],
      "execution_count": 69,
      "outputs": [
        {
          "output_type": "execute_result",
          "data": {
            "text/plain": [
              "{'max_depth': 15,\n",
              " 'max_features': 'auto',\n",
              " 'min_samples_leaf': 5,\n",
              " 'min_samples_split': 100,\n",
              " 'n_estimators': 300}"
            ]
          },
          "metadata": {
            "tags": []
          },
          "execution_count": 69
        }
      ]
    },
    {
      "cell_type": "code",
      "metadata": {
        "id": "jBHPTy4_q0w-",
        "outputId": "47dc2e7a-5a0c-44a2-e11e-49a8640ceb0a",
        "colab": {
          "base_uri": "https://localhost:8080/"
        }
      },
      "source": [
        "rf_random.best_score_"
      ],
      "execution_count": 70,
      "outputs": [
        {
          "output_type": "execute_result",
          "data": {
            "text/plain": [
              "-151455129.35915607"
            ]
          },
          "metadata": {
            "tags": []
          },
          "execution_count": 70
        }
      ]
    },
    {
      "cell_type": "code",
      "metadata": {
        "id": "TDakPgxUq0xC"
      },
      "source": [
        "\n",
        "predictions=rf_random.predict(X_tst)"
      ],
      "execution_count": 71,
      "outputs": []
    },
    {
      "cell_type": "code",
      "metadata": {
        "id": "0ZyxL7G_q0xE",
        "outputId": "19fa975d-1c5a-4056-f947-e1a8c3f5a724",
        "colab": {
          "base_uri": "https://localhost:8080/",
          "height": 360
        }
      },
      "source": [
        "sns.distplot(y_tst-predictions)"
      ],
      "execution_count": 72,
      "outputs": [
        {
          "output_type": "stream",
          "text": [
            "/usr/local/lib/python3.6/dist-packages/seaborn/distributions.py:2551: FutureWarning: `distplot` is a deprecated function and will be removed in a future version. Please adapt your code to use either `displot` (a figure-level function with similar flexibility) or `histplot` (an axes-level function for histograms).\n",
            "  warnings.warn(msg, FutureWarning)\n"
          ],
          "name": "stderr"
        },
        {
          "output_type": "execute_result",
          "data": {
            "text/plain": [
              "<matplotlib.axes._subplots.AxesSubplot at 0x7f9bc3443b38>"
            ]
          },
          "metadata": {
            "tags": []
          },
          "execution_count": 72
        },
        {
          "output_type": "display_data",
          "data": {
            "image/png": "[encoded data removed]",
            "text/plain": [
              "<Figure size 432x288 with 1 Axes>"
            ]
          },
          "metadata": {
            "tags": [],
            "needs_background": "light"
          }
        }
      ]
    },
    {
      "cell_type": "code",
      "metadata": {
        "id": "swXqcsWPq0xG",
        "outputId": "3e4d5d65-cbfb-40f5-9e83-de896d45d9fe",
        "colab": {
          "base_uri": "https://localhost:8080/",
          "height": 295
        }
      },
      "source": [
        "\n",
        "plt.scatter(y_tst,predictions)"
      ],
      "execution_count": 73,
      "outputs": [
        {
          "output_type": "execute_result",
          "data": {
            "text/plain": [
              "<matplotlib.collections.PathCollection at 0x7f9bc2dbb2b0>"
            ]
          },
          "metadata": {
            "tags": []
          },
          "execution_count": 73
        },
        {
          "output_type": "display_data",
          "data": {
            "image/png": "[encoded data removed]",
            "text/plain": [
              "<Figure size 432x288 with 1 Axes>"
            ]
          },
          "metadata": {
            "tags": [],
            "needs_background": "light"
          }
        }
      ]
    },
    {
      "cell_type": "code",
      "metadata": {
        "id": "DA5U7Gkyq0xI"
      },
      "source": [
        "from sklearn import metrics"
      ],
      "execution_count": 74,
      "outputs": []
    },
    {
      "cell_type": "code",
      "metadata": {
        "id": "I56r97Kvq0xL",
        "outputId": "c88ee52a-cc5b-460d-f06c-48aabea3adbb",
        "colab": {
          "base_uri": "https://localhost:8080/"
        }
      },
      "source": [
        "print('MAE:', metrics.mean_absolute_error(y_tst, predictions))\n",
        "print('MSE:', metrics.mean_squared_error(y_tst, predictions))\n",
        "print('RMSE:', np.sqrt(metrics.mean_squared_error(y_tst, predictions)))"
      ],
      "execution_count": 75,
      "outputs": [
        {
          "output_type": "stream",
          "text": [
            "MAE: 2620.0500248450726\n",
            "MSE: 862892420.3862644\n",
            "RMSE: 29375.030559750307\n"
          ],
          "name": "stdout"
        }
      ]
    },
    {
      "cell_type": "code",
      "metadata": {
        "id": "rKVPOmtsq0xT"
      },
      "source": [
        "import numpy as np\n",
        "import pandas as pd\n",
        "from datetime import datetime\n",
        "from datetime import date, timedelta"
      ],
      "execution_count": 76,
      "outputs": []
    },
    {
      "cell_type": "code",
      "metadata": {
        "id": "JzIRRWLuq0xY"
      },
      "source": [
        "numpy_data = np.array(['2', '2', '2020-01-01','2020-01-05'])"
      ],
      "execution_count": 77,
      "outputs": []
    },
    {
      "cell_type": "code",
      "metadata": {
        "id": "DRvGYu8Fq0xb"
      },
      "source": [
        "dt1 = datetime.strptime(numpy_data[2], '%Y-%m-%d')\n",
        "dt2 = datetime.strptime(numpy_data[3], '%Y-%m-%d')\n",
        "\n",
        "sdate = date(dt1.year, dt1.month, dt1.day)   # start date\n",
        "edate = date(dt2.year, dt2.month, dt2.day)   # end date\n",
        "\n",
        "delta = edate - sdate  \n",
        "\n",
        "a= len(range(delta.days+1))\n",
        "ex = {}\n",
        "result = {}\n",
        "for i in range(delta.days + 1):\n",
        "    day =str(sdate + timedelta(days=i))\n",
        "    dt = datetime.strptime(day, '%Y-%m-%d')\n",
        "    \n",
        "    d={'origin':[numpy_data[0]]*10,\n",
        "        'dest':[numpy_data[1]]*10,\n",
        "        'item':list(range(1,11)),\n",
        "        'year':[dt.year]*10,\n",
        "        'month':[dt.month]*10,\n",
        "        'day':[dt.day]*10}\n",
        "    \n",
        "    \n",
        "    for key in (d.keys()):\n",
        "        if key in d:\n",
        "            result.setdefault(key, []).extend(d[key])\n",
        "    \n",
        "dfs1 = pd.DataFrame(result)\n",
        "    \n"
      ],
      "execution_count": 79,
      "outputs": []
    },
    {
      "cell_type": "code",
      "metadata": {
        "id": "p0wN4kT6q0xd",
        "outputId": "a4200180-fa4e-47fa-a1ff-0fcbcc0e1445",
        "colab": {
          "base_uri": "https://localhost:8080/",
          "height": 1000
        }
      },
      "source": [
        "dfs1"
      ],
      "execution_count": 80,
      "outputs": [
        {
          "output_type": "execute_result",
          "data": {
            "text/html": [
              "<div>\n",
              "<style scoped>\n",
              "    .dataframe tbody tr th:only-of-type {\n",
              "        vertical-align: middle;\n",
              "    }\n",
              "\n",
              "    .dataframe tbody tr th {\n",
              "        vertical-align: top;\n",
              "    }\n",
              "\n",
              "    .dataframe thead th {\n",
              "        text-align: right;\n",
              "    }\n",
              "</style>\n",
              "<table border=\"1\" class=\"dataframe\">\n",
              "  <thead>\n",
              "    <tr style=\"text-align: right;\">\n",
              "      <th></th>\n",
              "      <th>origin</th>\n",
              "      <th>dest</th>\n",
              "      <th>item</th>\n",
              "      <th>year</th>\n",
              "      <th>month</th>\n",
              "      <th>day</th>\n",
              "    </tr>\n",
              "  </thead>\n",
              "  <tbody>\n",
              "    <tr>\n",
              "      <th>0</th>\n",
              "      <td>2</td>\n",
              "      <td>2</td>\n",
              "      <td>1</td>\n",
              "      <td>2020</td>\n",
              "      <td>1</td>\n",
              "      <td>1</td>\n",
              "    </tr>\n",
              "    <tr>\n",
              "      <th>1</th>\n",
              "      <td>2</td>\n",
              "      <td>2</td>\n",
              "      <td>2</td>\n",
              "      <td>2020</td>\n",
              "      <td>1</td>\n",
              "      <td>1</td>\n",
              "    </tr>\n",
              "    <tr>\n",
              "      <th>2</th>\n",
              "      <td>2</td>\n",
              "      <td>2</td>\n",
              "      <td>3</td>\n",
              "      <td>2020</td>\n",
              "      <td>1</td>\n",
              "      <td>1</td>\n",
              "    </tr>\n",
              "    <tr>\n",
              "      <th>3</th>\n",
              "      <td>2</td>\n",
              "      <td>2</td>\n",
              "      <td>4</td>\n",
              "      <td>2020</td>\n",
              "      <td>1</td>\n",
              "      <td>1</td>\n",
              "    </tr>\n",
              "    <tr>\n",
              "      <th>4</th>\n",
              "      <td>2</td>\n",
              "      <td>2</td>\n",
              "      <td>5</td>\n",
              "      <td>2020</td>\n",
              "      <td>1</td>\n",
              "      <td>1</td>\n",
              "    </tr>\n",
              "    <tr>\n",
              "      <th>5</th>\n",
              "      <td>2</td>\n",
              "      <td>2</td>\n",
              "      <td>6</td>\n",
              "      <td>2020</td>\n",
              "      <td>1</td>\n",
              "      <td>1</td>\n",
              "    </tr>\n",
              "    <tr>\n",
              "      <th>6</th>\n",
              "      <td>2</td>\n",
              "      <td>2</td>\n",
              "      <td>7</td>\n",
              "      <td>2020</td>\n",
              "      <td>1</td>\n",
              "      <td>1</td>\n",
              "    </tr>\n",
              "    <tr>\n",
              "      <th>7</th>\n",
              "      <td>2</td>\n",
              "      <td>2</td>\n",
              "      <td>8</td>\n",
              "      <td>2020</td>\n",
              "      <td>1</td>\n",
              "      <td>1</td>\n",
              "    </tr>\n",
              "    <tr>\n",
              "      <th>8</th>\n",
              "      <td>2</td>\n",
              "      <td>2</td>\n",
              "      <td>9</td>\n",
              "      <td>2020</td>\n",
              "      <td>1</td>\n",
              "      <td>1</td>\n",
              "    </tr>\n",
              "    <tr>\n",
              "      <th>9</th>\n",
              "      <td>2</td>\n",
              "      <td>2</td>\n",
              "      <td>10</td>\n",
              "      <td>2020</td>\n",
              "      <td>1</td>\n",
              "      <td>1</td>\n",
              "    </tr>\n",
              "    <tr>\n",
              "      <th>10</th>\n",
              "      <td>2</td>\n",
              "      <td>2</td>\n",
              "      <td>1</td>\n",
              "      <td>2020</td>\n",
              "      <td>1</td>\n",
              "      <td>2</td>\n",
              "    </tr>\n",
              "    <tr>\n",
              "      <th>11</th>\n",
              "      <td>2</td>\n",
              "      <td>2</td>\n",
              "      <td>2</td>\n",
              "      <td>2020</td>\n",
              "      <td>1</td>\n",
              "      <td>2</td>\n",
              "    </tr>\n",
              "    <tr>\n",
              "      <th>12</th>\n",
              "      <td>2</td>\n",
              "      <td>2</td>\n",
              "      <td>3</td>\n",
              "      <td>2020</td>\n",
              "      <td>1</td>\n",
              "      <td>2</td>\n",
              "    </tr>\n",
              "    <tr>\n",
              "      <th>13</th>\n",
              "      <td>2</td>\n",
              "      <td>2</td>\n",
              "      <td>4</td>\n",
              "      <td>2020</td>\n",
              "      <td>1</td>\n",
              "      <td>2</td>\n",
              "    </tr>\n",
              "    <tr>\n",
              "      <th>14</th>\n",
              "      <td>2</td>\n",
              "      <td>2</td>\n",
              "      <td>5</td>\n",
              "      <td>2020</td>\n",
              "      <td>1</td>\n",
              "      <td>2</td>\n",
              "    </tr>\n",
              "    <tr>\n",
              "      <th>15</th>\n",
              "      <td>2</td>\n",
              "      <td>2</td>\n",
              "      <td>6</td>\n",
              "      <td>2020</td>\n",
              "      <td>1</td>\n",
              "      <td>2</td>\n",
              "    </tr>\n",
              "    <tr>\n",
              "      <th>16</th>\n",
              "      <td>2</td>\n",
              "      <td>2</td>\n",
              "      <td>7</td>\n",
              "      <td>2020</td>\n",
              "      <td>1</td>\n",
              "      <td>2</td>\n",
              "    </tr>\n",
              "    <tr>\n",
              "      <th>17</th>\n",
              "      <td>2</td>\n",
              "      <td>2</td>\n",
              "      <td>8</td>\n",
              "      <td>2020</td>\n",
              "      <td>1</td>\n",
              "      <td>2</td>\n",
              "    </tr>\n",
              "    <tr>\n",
              "      <th>18</th>\n",
              "      <td>2</td>\n",
              "      <td>2</td>\n",
              "      <td>9</td>\n",
              "      <td>2020</td>\n",
              "      <td>1</td>\n",
              "      <td>2</td>\n",
              "    </tr>\n",
              "    <tr>\n",
              "      <th>19</th>\n",
              "      <td>2</td>\n",
              "      <td>2</td>\n",
              "      <td>10</td>\n",
              "      <td>2020</td>\n",
              "      <td>1</td>\n",
              "      <td>2</td>\n",
              "    </tr>\n",
              "    <tr>\n",
              "      <th>20</th>\n",
              "      <td>2</td>\n",
              "      <td>2</td>\n",
              "      <td>1</td>\n",
              "      <td>2020</td>\n",
              "      <td>1</td>\n",
              "      <td>3</td>\n",
              "    </tr>\n",
              "    <tr>\n",
              "      <th>21</th>\n",
              "      <td>2</td>\n",
              "      <td>2</td>\n",
              "      <td>2</td>\n",
              "      <td>2020</td>\n",
              "      <td>1</td>\n",
              "      <td>3</td>\n",
              "    </tr>\n",
              "    <tr>\n",
              "      <th>22</th>\n",
              "      <td>2</td>\n",
              "      <td>2</td>\n",
              "      <td>3</td>\n",
              "      <td>2020</td>\n",
              "      <td>1</td>\n",
              "      <td>3</td>\n",
              "    </tr>\n",
              "    <tr>\n",
              "      <th>23</th>\n",
              "      <td>2</td>\n",
              "      <td>2</td>\n",
              "      <td>4</td>\n",
              "      <td>2020</td>\n",
              "      <td>1</td>\n",
              "      <td>3</td>\n",
              "    </tr>\n",
              "    <tr>\n",
              "      <th>24</th>\n",
              "      <td>2</td>\n",
              "      <td>2</td>\n",
              "      <td>5</td>\n",
              "      <td>2020</td>\n",
              "      <td>1</td>\n",
              "      <td>3</td>\n",
              "    </tr>\n",
              "    <tr>\n",
              "      <th>25</th>\n",
              "      <td>2</td>\n",
              "      <td>2</td>\n",
              "      <td>6</td>\n",
              "      <td>2020</td>\n",
              "      <td>1</td>\n",
              "      <td>3</td>\n",
              "    </tr>\n",
              "    <tr>\n",
              "      <th>26</th>\n",
              "      <td>2</td>\n",
              "      <td>2</td>\n",
              "      <td>7</td>\n",
              "      <td>2020</td>\n",
              "      <td>1</td>\n",
              "      <td>3</td>\n",
              "    </tr>\n",
              "    <tr>\n",
              "      <th>27</th>\n",
              "      <td>2</td>\n",
              "      <td>2</td>\n",
              "      <td>8</td>\n",
              "      <td>2020</td>\n",
              "      <td>1</td>\n",
              "      <td>3</td>\n",
              "    </tr>\n",
              "    <tr>\n",
              "      <th>28</th>\n",
              "      <td>2</td>\n",
              "      <td>2</td>\n",
              "      <td>9</td>\n",
              "      <td>2020</td>\n",
              "      <td>1</td>\n",
              "      <td>3</td>\n",
              "    </tr>\n",
              "    <tr>\n",
              "      <th>29</th>\n",
              "      <td>2</td>\n",
              "      <td>2</td>\n",
              "      <td>10</td>\n",
              "      <td>2020</td>\n",
              "      <td>1</td>\n",
              "      <td>3</td>\n",
              "    </tr>\n",
              "    <tr>\n",
              "      <th>30</th>\n",
              "      <td>2</td>\n",
              "      <td>2</td>\n",
              "      <td>1</td>\n",
              "      <td>2020</td>\n",
              "      <td>1</td>\n",
              "      <td>4</td>\n",
              "    </tr>\n",
              "    <tr>\n",
              "      <th>31</th>\n",
              "      <td>2</td>\n",
              "      <td>2</td>\n",
              "      <td>2</td>\n",
              "      <td>2020</td>\n",
              "      <td>1</td>\n",
              "      <td>4</td>\n",
              "    </tr>\n",
              "    <tr>\n",
              "      <th>32</th>\n",
              "      <td>2</td>\n",
              "      <td>2</td>\n",
              "      <td>3</td>\n",
              "      <td>2020</td>\n",
              "      <td>1</td>\n",
              "      <td>4</td>\n",
              "    </tr>\n",
              "    <tr>\n",
              "      <th>33</th>\n",
              "      <td>2</td>\n",
              "      <td>2</td>\n",
              "      <td>4</td>\n",
              "      <td>2020</td>\n",
              "      <td>1</td>\n",
              "      <td>4</td>\n",
              "    </tr>\n",
              "    <tr>\n",
              "      <th>34</th>\n",
              "      <td>2</td>\n",
              "      <td>2</td>\n",
              "      <td>5</td>\n",
              "      <td>2020</td>\n",
              "      <td>1</td>\n",
              "      <td>4</td>\n",
              "    </tr>\n",
              "    <tr>\n",
              "      <th>35</th>\n",
              "      <td>2</td>\n",
              "      <td>2</td>\n",
              "      <td>6</td>\n",
              "      <td>2020</td>\n",
              "      <td>1</td>\n",
              "      <td>4</td>\n",
              "    </tr>\n",
              "    <tr>\n",
              "      <th>36</th>\n",
              "      <td>2</td>\n",
              "      <td>2</td>\n",
              "      <td>7</td>\n",
              "      <td>2020</td>\n",
              "      <td>1</td>\n",
              "      <td>4</td>\n",
              "    </tr>\n",
              "    <tr>\n",
              "      <th>37</th>\n",
              "      <td>2</td>\n",
              "      <td>2</td>\n",
              "      <td>8</td>\n",
              "      <td>2020</td>\n",
              "      <td>1</td>\n",
              "      <td>4</td>\n",
              "    </tr>\n",
              "    <tr>\n",
              "      <th>38</th>\n",
              "      <td>2</td>\n",
              "      <td>2</td>\n",
              "      <td>9</td>\n",
              "      <td>2020</td>\n",
              "      <td>1</td>\n",
              "      <td>4</td>\n",
              "    </tr>\n",
              "    <tr>\n",
              "      <th>39</th>\n",
              "      <td>2</td>\n",
              "      <td>2</td>\n",
              "      <td>10</td>\n",
              "      <td>2020</td>\n",
              "      <td>1</td>\n",
              "      <td>4</td>\n",
              "    </tr>\n",
              "    <tr>\n",
              "      <th>40</th>\n",
              "      <td>2</td>\n",
              "      <td>2</td>\n",
              "      <td>1</td>\n",
              "      <td>2020</td>\n",
              "      <td>1</td>\n",
              "      <td>5</td>\n",
              "    </tr>\n",
              "    <tr>\n",
              "      <th>41</th>\n",
              "      <td>2</td>\n",
              "      <td>2</td>\n",
              "      <td>2</td>\n",
              "      <td>2020</td>\n",
              "      <td>1</td>\n",
              "      <td>5</td>\n",
              "    </tr>\n",
              "    <tr>\n",
              "      <th>42</th>\n",
              "      <td>2</td>\n",
              "      <td>2</td>\n",
              "      <td>3</td>\n",
              "      <td>2020</td>\n",
              "      <td>1</td>\n",
              "      <td>5</td>\n",
              "    </tr>\n",
              "    <tr>\n",
              "      <th>43</th>\n",
              "      <td>2</td>\n",
              "      <td>2</td>\n",
              "      <td>4</td>\n",
              "      <td>2020</td>\n",
              "      <td>1</td>\n",
              "      <td>5</td>\n",
              "    </tr>\n",
              "    <tr>\n",
              "      <th>44</th>\n",
              "      <td>2</td>\n",
              "      <td>2</td>\n",
              "      <td>5</td>\n",
              "      <td>2020</td>\n",
              "      <td>1</td>\n",
              "      <td>5</td>\n",
              "    </tr>\n",
              "    <tr>\n",
              "      <th>45</th>\n",
              "      <td>2</td>\n",
              "      <td>2</td>\n",
              "      <td>6</td>\n",
              "      <td>2020</td>\n",
              "      <td>1</td>\n",
              "      <td>5</td>\n",
              "    </tr>\n",
              "    <tr>\n",
              "      <th>46</th>\n",
              "      <td>2</td>\n",
              "      <td>2</td>\n",
              "      <td>7</td>\n",
              "      <td>2020</td>\n",
              "      <td>1</td>\n",
              "      <td>5</td>\n",
              "    </tr>\n",
              "    <tr>\n",
              "      <th>47</th>\n",
              "      <td>2</td>\n",
              "      <td>2</td>\n",
              "      <td>8</td>\n",
              "      <td>2020</td>\n",
              "      <td>1</td>\n",
              "      <td>5</td>\n",
              "    </tr>\n",
              "    <tr>\n",
              "      <th>48</th>\n",
              "      <td>2</td>\n",
              "      <td>2</td>\n",
              "      <td>9</td>\n",
              "      <td>2020</td>\n",
              "      <td>1</td>\n",
              "      <td>5</td>\n",
              "    </tr>\n",
              "    <tr>\n",
              "      <th>49</th>\n",
              "      <td>2</td>\n",
              "      <td>2</td>\n",
              "      <td>10</td>\n",
              "      <td>2020</td>\n",
              "      <td>1</td>\n",
              "      <td>5</td>\n",
              "    </tr>\n",
              "  </tbody>\n",
              "</table>\n",
              "</div>"
            ],
            "text/plain": [
              "   origin dest  item  year  month  day\n",
              "0       2    2     1  2020      1    1\n",
              "1       2    2     2  2020      1    1\n",
              "2       2    2     3  2020      1    1\n",
              "3       2    2     4  2020      1    1\n",
              "4       2    2     5  2020      1    1\n",
              "5       2    2     6  2020      1    1\n",
              "6       2    2     7  2020      1    1\n",
              "7       2    2     8  2020      1    1\n",
              "8       2    2     9  2020      1    1\n",
              "9       2    2    10  2020      1    1\n",
              "10      2    2     1  2020      1    2\n",
              "11      2    2     2  2020      1    2\n",
              "12      2    2     3  2020      1    2\n",
              "13      2    2     4  2020      1    2\n",
              "14      2    2     5  2020      1    2\n",
              "15      2    2     6  2020      1    2\n",
              "16      2    2     7  2020      1    2\n",
              "17      2    2     8  2020      1    2\n",
              "18      2    2     9  2020      1    2\n",
              "19      2    2    10  2020      1    2\n",
              "20      2    2     1  2020      1    3\n",
              "21      2    2     2  2020      1    3\n",
              "22      2    2     3  2020      1    3\n",
              "23      2    2     4  2020      1    3\n",
              "24      2    2     5  2020      1    3\n",
              "25      2    2     6  2020      1    3\n",
              "26      2    2     7  2020      1    3\n",
              "27      2    2     8  2020      1    3\n",
              "28      2    2     9  2020      1    3\n",
              "29      2    2    10  2020      1    3\n",
              "30      2    2     1  2020      1    4\n",
              "31      2    2     2  2020      1    4\n",
              "32      2    2     3  2020      1    4\n",
              "33      2    2     4  2020      1    4\n",
              "34      2    2     5  2020      1    4\n",
              "35      2    2     6  2020      1    4\n",
              "36      2    2     7  2020      1    4\n",
              "37      2    2     8  2020      1    4\n",
              "38      2    2     9  2020      1    4\n",
              "39      2    2    10  2020      1    4\n",
              "40      2    2     1  2020      1    5\n",
              "41      2    2     2  2020      1    5\n",
              "42      2    2     3  2020      1    5\n",
              "43      2    2     4  2020      1    5\n",
              "44      2    2     5  2020      1    5\n",
              "45      2    2     6  2020      1    5\n",
              "46      2    2     7  2020      1    5\n",
              "47      2    2     8  2020      1    5\n",
              "48      2    2     9  2020      1    5\n",
              "49      2    2    10  2020      1    5"
            ]
          },
          "metadata": {
            "tags": []
          },
          "execution_count": 80
        }
      ]
    },
    {
      "cell_type": "code",
      "metadata": {
        "id": "11rMUavxq0xf"
      },
      "source": [
        "final_pred = model.predict(dfs1)"
      ],
      "execution_count": 81,
      "outputs": []
    },
    {
      "cell_type": "code",
      "metadata": {
        "id": "9wx71j45q0xh",
        "outputId": "dcd03bf7-19bc-471f-d666-679760a8f8fc",
        "colab": {
          "base_uri": "https://localhost:8080/"
        }
      },
      "source": [
        "final_pred"
      ],
      "execution_count": 82,
      "outputs": [
        {
          "output_type": "execute_result",
          "data": {
            "text/plain": [
              "array([[2476.76666667, 2476.76666667],\n",
              "       [2476.76666667, 2476.76666667],\n",
              "       [2476.76666667, 2476.76666667],\n",
              "       [2476.76666667, 2476.76666667],\n",
              "       [2476.76666667, 2476.76666667],\n",
              "       [2476.76666667, 2476.76666667],\n",
              "       [2476.76666667, 2476.76666667],\n",
              "       [2476.76666667, 2476.76666667],\n",
              "       [2476.76666667, 2476.76666667],\n",
              "       [2476.76666667, 2476.76666667],\n",
              "       [2476.76666667, 2476.76666667],\n",
              "       [2476.76666667, 2476.76666667],\n",
              "       [2476.76666667, 2476.76666667],\n",
              "       [2476.76666667, 2476.76666667],\n",
              "       [2476.76666667, 2476.76666667],\n",
              "       [2476.76666667, 2476.76666667],\n",
              "       [2476.76666667, 2476.76666667],\n",
              "       [2476.76666667, 2476.76666667],\n",
              "       [2476.76666667, 2476.76666667],\n",
              "       [2476.76666667, 2476.76666667],\n",
              "       [2486.81666667, 2486.81666667],\n",
              "       [2486.81666667, 2486.81666667],\n",
              "       [2486.81666667, 2486.81666667],\n",
              "       [2486.81666667, 2486.81666667],\n",
              "       [2486.81666667, 2486.81666667],\n",
              "       [2486.81666667, 2486.81666667],\n",
              "       [2486.81666667, 2486.81666667],\n",
              "       [2486.81666667, 2486.81666667],\n",
              "       [2486.81666667, 2486.81666667],\n",
              "       [2486.81666667, 2486.81666667],\n",
              "       [2575.56666667, 2575.56666667],\n",
              "       [2575.56666667, 2575.56666667],\n",
              "       [2575.56666667, 2575.56666667],\n",
              "       [2575.56666667, 2575.56666667],\n",
              "       [2575.56666667, 2575.56666667],\n",
              "       [2575.56666667, 2575.56666667],\n",
              "       [2575.56666667, 2575.56666667],\n",
              "       [2575.56666667, 2575.56666667],\n",
              "       [2575.56666667, 2575.56666667],\n",
              "       [2575.56666667, 2575.56666667],\n",
              "       [2621.5       , 2621.5       ],\n",
              "       [2621.5       , 2621.5       ],\n",
              "       [2621.5       , 2621.5       ],\n",
              "       [2621.5       , 2621.5       ],\n",
              "       [2621.5       , 2621.5       ],\n",
              "       [2621.5       , 2621.5       ],\n",
              "       [2621.5       , 2621.5       ],\n",
              "       [2621.5       , 2621.5       ],\n",
              "       [2621.5       , 2621.5       ],\n",
              "       [2621.5       , 2621.5       ]])"
            ]
          },
          "metadata": {
            "tags": []
          },
          "execution_count": 82
        }
      ]
    },
    {
      "cell_type": "code",
      "metadata": {
        "id": "VG0p5lsxq0xj",
        "outputId": "ad2c5068-56cf-4ba3-80b0-cee5b729b82d",
        "colab": {
          "base_uri": "https://localhost:8080/"
        }
      },
      "source": [
        "final_pred[0][1]"
      ],
      "execution_count": 83,
      "outputs": [
        {
          "output_type": "execute_result",
          "data": {
            "text/plain": [
              "2476.7666666666664"
            ]
          },
          "metadata": {
            "tags": []
          },
          "execution_count": 83
        }
      ]
    },
    {
      "cell_type": "code",
      "metadata": {
        "id": "SU01RShgq0xn"
      },
      "source": [
        "waight=[]\n",
        "volume=[]\n",
        "for i in range(len(final_pred)):\n",
        "    waight.append(final_pred[i][0])\n",
        "    volume.append(final_pred[i][1])\n",
        "\n"
      ],
      "execution_count": 84,
      "outputs": []
    },
    {
      "cell_type": "code",
      "metadata": {
        "id": "ONun-SXkq0xp",
        "outputId": "531a2b80-f73e-4082-ff63-ad248e92033c",
        "colab": {
          "base_uri": "https://localhost:8080/"
        }
      },
      "source": [
        "len(waight)"
      ],
      "execution_count": 85,
      "outputs": [
        {
          "output_type": "execute_result",
          "data": {
            "text/plain": [
              "50"
            ]
          },
          "metadata": {
            "tags": []
          },
          "execution_count": 85
        }
      ]
    },
    {
      "cell_type": "code",
      "metadata": {
        "id": "Oc2ty-AAq0xs",
        "outputId": "f6bbf402-cb0e-4b6f-a3aa-7c0777d3384e",
        "colab": {
          "base_uri": "https://localhost:8080/",
          "height": 35
        }
      },
      "source": [
        "numpy_data[0]"
      ],
      "execution_count": 86,
      "outputs": [
        {
          "output_type": "execute_result",
          "data": {
            "application/vnd.google.colaboratory.intrinsic+json": {
              "type": "string"
            },
            "text/plain": [
              "'2'"
            ]
          },
          "metadata": {
            "tags": []
          },
          "execution_count": 86
        }
      ]
    },
    {
      "cell_type": "code",
      "metadata": {
        "id": "Q8W7cnf7q0yW"
      },
      "source": [
        "origin_replace ={1: 'Bình Dương ',\n",
        " 2: 'Bình Phước ',\n",
        " 3: 'Bình Định ',\n",
        " 4: 'Bắc Giang ',\n",
        " 5: 'Bắc Kạn ',\n",
        " 6: 'Bắc Ninh ',\n",
        " 7: 'Cao Bằng ',\n",
        " 8: 'Cà Mau ',\n",
        " 9: 'Gia Lai ',\n",
        " 10: 'Hà Giang ',\n",
        " 11: 'Hà Nam ',\n",
        " 12: 'Hà Tĩnh ',\n",
        " 13: 'Hải Dương ',\n",
        " 14: 'Hải Phòng ',\n",
        " 15: 'Hoà Bình ',\n",
        " 16: 'Khánh Hoà '}\n"
      ],
      "execution_count": 87,
      "outputs": []
    },
    {
      "cell_type": "code",
      "metadata": {
        "id": "76TJWRAjq0xv",
        "outputId": "755a0c54-f432-4a2f-94fe-3a501d722e30",
        "colab": {
          "base_uri": "https://localhost:8080/"
        }
      },
      "source": [
        "origin_replace"
      ],
      "execution_count": 88,
      "outputs": [
        {
          "output_type": "execute_result",
          "data": {
            "text/plain": [
              "{1: 'Bình Dương ',\n",
              " 2: 'Bình Phước ',\n",
              " 3: 'Bình Định ',\n",
              " 4: 'Bắc Giang ',\n",
              " 5: 'Bắc Kạn ',\n",
              " 6: 'Bắc Ninh ',\n",
              " 7: 'Cao Bằng ',\n",
              " 8: 'Cà Mau ',\n",
              " 9: 'Gia Lai ',\n",
              " 10: 'Hà Giang ',\n",
              " 11: 'Hà Nam ',\n",
              " 12: 'Hà Tĩnh ',\n",
              " 13: 'Hải Dương ',\n",
              " 14: 'Hải Phòng ',\n",
              " 15: 'Hoà Bình ',\n",
              " 16: 'Khánh Hoà '}"
            ]
          },
          "metadata": {
            "tags": []
          },
          "execution_count": 88
        }
      ]
    },
    {
      "cell_type": "code",
      "metadata": {
        "id": "cBbx1ozgq0xx",
        "outputId": "4f53e20b-cfe5-4972-c928-d720e8c2ff88",
        "colab": {
          "base_uri": "https://localhost:8080/",
          "height": 35
        }
      },
      "source": [
        "origin_replace[1]"
      ],
      "execution_count": 89,
      "outputs": [
        {
          "output_type": "execute_result",
          "data": {
            "application/vnd.google.colaboratory.intrinsic+json": {
              "type": "string"
            },
            "text/plain": [
              "'Bình Dương '"
            ]
          },
          "metadata": {
            "tags": []
          },
          "execution_count": 89
        }
      ]
    },
    {
      "cell_type": "code",
      "metadata": {
        "id": "YijN54Zyq0yP"
      },
      "source": [
        "dest_replace = {'Kon Tum ': 1,\n",
        "  'Lào Cai ': 2,\n",
        "  'Lạng Sơn ': 3,\n",
        "  'Long An ': 4,\n",
        "  'Nam Định ': 5,\n",
        "  'Ninh Bình ': 6,\n",
        "  'Phú Thọ ': 7,\n",
        "  'Quảng Bình ': 8,\n",
        "  'Quảng Nam ': 9,\n",
        "  'Quảng Ngãi ': 10,\n",
        "  'Quảng Ninh ': 11,\n",
        "  'Quảng Trị ': 12,\n",
        "  'Sóc Trăng ': 13,\n",
        "  'Sơn La ': 14,\n",
        "  'Thanh Hoá ': 15,\n",
        "  'Thái Bình ': 16,\n",
        "  'Trà Vinh ': 17,\n",
        "  'Vĩnh Long ': 18}"
      ],
      "execution_count": 90,
      "outputs": []
    },
    {
      "cell_type": "code",
      "metadata": {
        "id": "HTTS__Bdq0x0",
        "outputId": "41778366-f12f-449b-b8e5-692f7af6aedd",
        "colab": {
          "base_uri": "https://localhost:8080/"
        }
      },
      "source": [
        "orig=[]\n",
        "dest=[]\n",
        "v1= int(numpy_data[0])\n",
        "v2= int(numpy_data[1])\n",
        "for i in range(1,len(origin_replace)+1):\n",
        "    if v1 == i :\n",
        "        orig = origin_replace[i]\n",
        "    \n",
        "    if v2 == i :\n",
        "        dest = dest_replace[i]\n",
        "        \n",
        "    \n",
        "print(orig,dest)"
      ],
      "execution_count": 94,
      "outputs": [
        {
          "output_type": "stream",
          "text": [
            "Bình Phước  Lào Cai \n"
          ],
          "name": "stdout"
        }
      ]
    },
    {
      "cell_type": "code",
      "metadata": {
        "id": "c2dKw5nbq0x3"
      },
      "source": [
        "\n",
        "dfs1['predected waight']= waight\n",
        "dfs1['predected volume']= volume"
      ],
      "execution_count": 95,
      "outputs": []
    },
    {
      "cell_type": "code",
      "metadata": {
        "id": "mGyxZbPVq0x5",
        "outputId": "6c6d60ad-4c87-4bc1-bdc8-7e01dd98cef8",
        "colab": {
          "base_uri": "https://localhost:8080/"
        }
      },
      "source": [
        "len(final_pred)"
      ],
      "execution_count": 96,
      "outputs": [
        {
          "output_type": "execute_result",
          "data": {
            "text/plain": [
              "50"
            ]
          },
          "metadata": {
            "tags": []
          },
          "execution_count": 96
        }
      ]
    },
    {
      "cell_type": "code",
      "metadata": {
        "id": "F_RwHPj4q0x8",
        "outputId": "8ce21725-dc83-4096-94ae-3acc46b5b010",
        "colab": {
          "base_uri": "https://localhost:8080/",
          "height": 204
        }
      },
      "source": [
        "dfs1.head()"
      ],
      "execution_count": 97,
      "outputs": [
        {
          "output_type": "execute_result",
          "data": {
            "text/html": [
              "<div>\n",
              "<style scoped>\n",
              "    .dataframe tbody tr th:only-of-type {\n",
              "        vertical-align: middle;\n",
              "    }\n",
              "\n",
              "    .dataframe tbody tr th {\n",
              "        vertical-align: top;\n",
              "    }\n",
              "\n",
              "    .dataframe thead th {\n",
              "        text-align: right;\n",
              "    }\n",
              "</style>\n",
              "<table border=\"1\" class=\"dataframe\">\n",
              "  <thead>\n",
              "    <tr style=\"text-align: right;\">\n",
              "      <th></th>\n",
              "      <th>origin</th>\n",
              "      <th>dest</th>\n",
              "      <th>item</th>\n",
              "      <th>year</th>\n",
              "      <th>month</th>\n",
              "      <th>day</th>\n",
              "      <th>predected waight</th>\n",
              "      <th>predected volume</th>\n",
              "    </tr>\n",
              "  </thead>\n",
              "  <tbody>\n",
              "    <tr>\n",
              "      <th>0</th>\n",
              "      <td>2</td>\n",
              "      <td>2</td>\n",
              "      <td>1</td>\n",
              "      <td>2020</td>\n",
              "      <td>1</td>\n",
              "      <td>1</td>\n",
              "      <td>2476.766667</td>\n",
              "      <td>2476.766667</td>\n",
              "    </tr>\n",
              "    <tr>\n",
              "      <th>1</th>\n",
              "      <td>2</td>\n",
              "      <td>2</td>\n",
              "      <td>2</td>\n",
              "      <td>2020</td>\n",
              "      <td>1</td>\n",
              "      <td>1</td>\n",
              "      <td>2476.766667</td>\n",
              "      <td>2476.766667</td>\n",
              "    </tr>\n",
              "    <tr>\n",
              "      <th>2</th>\n",
              "      <td>2</td>\n",
              "      <td>2</td>\n",
              "      <td>3</td>\n",
              "      <td>2020</td>\n",
              "      <td>1</td>\n",
              "      <td>1</td>\n",
              "      <td>2476.766667</td>\n",
              "      <td>2476.766667</td>\n",
              "    </tr>\n",
              "    <tr>\n",
              "      <th>3</th>\n",
              "      <td>2</td>\n",
              "      <td>2</td>\n",
              "      <td>4</td>\n",
              "      <td>2020</td>\n",
              "      <td>1</td>\n",
              "      <td>1</td>\n",
              "      <td>2476.766667</td>\n",
              "      <td>2476.766667</td>\n",
              "    </tr>\n",
              "    <tr>\n",
              "      <th>4</th>\n",
              "      <td>2</td>\n",
              "      <td>2</td>\n",
              "      <td>5</td>\n",
              "      <td>2020</td>\n",
              "      <td>1</td>\n",
              "      <td>1</td>\n",
              "      <td>2476.766667</td>\n",
              "      <td>2476.766667</td>\n",
              "    </tr>\n",
              "  </tbody>\n",
              "</table>\n",
              "</div>"
            ],
            "text/plain": [
              "  origin dest  item  year  month  day  predected waight  predected volume\n",
              "0      2    2     1  2020      1    1       2476.766667       2476.766667\n",
              "1      2    2     2  2020      1    1       2476.766667       2476.766667\n",
              "2      2    2     3  2020      1    1       2476.766667       2476.766667\n",
              "3      2    2     4  2020      1    1       2476.766667       2476.766667\n",
              "4      2    2     5  2020      1    1       2476.766667       2476.766667"
            ]
          },
          "metadata": {
            "tags": []
          },
          "execution_count": 97
        }
      ]
    },
    {
      "cell_type": "code",
      "metadata": {
        "id": "0nvl49zcq0x-",
        "outputId": "040796d5-93af-4de8-b165-c9f123c096db",
        "colab": {
          "base_uri": "https://localhost:8080/"
        }
      },
      "source": [
        "dfs1.shape"
      ],
      "execution_count": 98,
      "outputs": [
        {
          "output_type": "execute_result",
          "data": {
            "text/plain": [
              "(50, 8)"
            ]
          },
          "metadata": {
            "tags": []
          },
          "execution_count": 98
        }
      ]
    },
    {
      "cell_type": "code",
      "metadata": {
        "id": "Y2ZNMFj6q0yA",
        "outputId": "b7248e41-5b63-45c8-fc23-5b31fcfc62d5",
        "colab": {
          "base_uri": "https://localhost:8080/"
        }
      },
      "source": [
        "volume"
      ],
      "execution_count": 99,
      "outputs": [
        {
          "output_type": "execute_result",
          "data": {
            "text/plain": [
              "[2476.7666666666664,\n",
              " 2476.7666666666664,\n",
              " 2476.7666666666664,\n",
              " 2476.7666666666664,\n",
              " 2476.7666666666664,\n",
              " 2476.7666666666664,\n",
              " 2476.7666666666664,\n",
              " 2476.7666666666664,\n",
              " 2476.7666666666664,\n",
              " 2476.7666666666664,\n",
              " 2476.7666666666664,\n",
              " 2476.7666666666664,\n",
              " 2476.7666666666664,\n",
              " 2476.7666666666664,\n",
              " 2476.7666666666664,\n",
              " 2476.7666666666664,\n",
              " 2476.7666666666664,\n",
              " 2476.7666666666664,\n",
              " 2476.7666666666664,\n",
              " 2476.7666666666664,\n",
              " 2486.8166666666666,\n",
              " 2486.8166666666666,\n",
              " 2486.8166666666666,\n",
              " 2486.8166666666666,\n",
              " 2486.8166666666666,\n",
              " 2486.8166666666666,\n",
              " 2486.8166666666666,\n",
              " 2486.8166666666666,\n",
              " 2486.8166666666666,\n",
              " 2486.8166666666666,\n",
              " 2575.5666666666666,\n",
              " 2575.5666666666666,\n",
              " 2575.5666666666666,\n",
              " 2575.5666666666666,\n",
              " 2575.5666666666666,\n",
              " 2575.5666666666666,\n",
              " 2575.5666666666666,\n",
              " 2575.5666666666666,\n",
              " 2575.5666666666666,\n",
              " 2575.5666666666666,\n",
              " 2621.5,\n",
              " 2621.5,\n",
              " 2621.5,\n",
              " 2621.5,\n",
              " 2621.5,\n",
              " 2621.5,\n",
              " 2621.5,\n",
              " 2621.5,\n",
              " 2621.5,\n",
              " 2621.5]"
            ]
          },
          "metadata": {
            "tags": []
          },
          "execution_count": 99
        }
      ]
    },
    {
      "cell_type": "code",
      "metadata": {
        "id": "4k4A2sTdq0yC"
      },
      "source": [
        "dfs1['myDt']=pd.to_datetime(dfs1[['year','month','day']])"
      ],
      "execution_count": 100,
      "outputs": []
    },
    {
      "cell_type": "code",
      "metadata": {
        "id": "7ldosu7fq0yF"
      },
      "source": [
        ""
      ],
      "execution_count": 100,
      "outputs": []
    },
    {
      "cell_type": "code",
      "metadata": {
        "id": "I81QBUOzq0yI"
      },
      "source": [
        "dfs1 = dfs1.drop(['year','month','day','origin','dest'], axis =1) "
      ],
      "execution_count": 101,
      "outputs": []
    },
    {
      "cell_type": "code",
      "metadata": {
        "id": "bd8JWXesq0yK",
        "outputId": "70a2c9d0-48ff-4d37-b918-71d8153be4a4",
        "colab": {
          "base_uri": "https://localhost:8080/",
          "height": 204
        }
      },
      "source": [
        "dfs1.head()"
      ],
      "execution_count": 102,
      "outputs": [
        {
          "output_type": "execute_result",
          "data": {
            "text/html": [
              "<div>\n",
              "<style scoped>\n",
              "    .dataframe tbody tr th:only-of-type {\n",
              "        vertical-align: middle;\n",
              "    }\n",
              "\n",
              "    .dataframe tbody tr th {\n",
              "        vertical-align: top;\n",
              "    }\n",
              "\n",
              "    .dataframe thead th {\n",
              "        text-align: right;\n",
              "    }\n",
              "</style>\n",
              "<table border=\"1\" class=\"dataframe\">\n",
              "  <thead>\n",
              "    <tr style=\"text-align: right;\">\n",
              "      <th></th>\n",
              "      <th>item</th>\n",
              "      <th>predected waight</th>\n",
              "      <th>predected volume</th>\n",
              "      <th>myDt</th>\n",
              "    </tr>\n",
              "  </thead>\n",
              "  <tbody>\n",
              "    <tr>\n",
              "      <th>0</th>\n",
              "      <td>1</td>\n",
              "      <td>2476.766667</td>\n",
              "      <td>2476.766667</td>\n",
              "      <td>2020-01-01</td>\n",
              "    </tr>\n",
              "    <tr>\n",
              "      <th>1</th>\n",
              "      <td>2</td>\n",
              "      <td>2476.766667</td>\n",
              "      <td>2476.766667</td>\n",
              "      <td>2020-01-01</td>\n",
              "    </tr>\n",
              "    <tr>\n",
              "      <th>2</th>\n",
              "      <td>3</td>\n",
              "      <td>2476.766667</td>\n",
              "      <td>2476.766667</td>\n",
              "      <td>2020-01-01</td>\n",
              "    </tr>\n",
              "    <tr>\n",
              "      <th>3</th>\n",
              "      <td>4</td>\n",
              "      <td>2476.766667</td>\n",
              "      <td>2476.766667</td>\n",
              "      <td>2020-01-01</td>\n",
              "    </tr>\n",
              "    <tr>\n",
              "      <th>4</th>\n",
              "      <td>5</td>\n",
              "      <td>2476.766667</td>\n",
              "      <td>2476.766667</td>\n",
              "      <td>2020-01-01</td>\n",
              "    </tr>\n",
              "  </tbody>\n",
              "</table>\n",
              "</div>"
            ],
            "text/plain": [
              "   item  predected waight  predected volume       myDt\n",
              "0     1       2476.766667       2476.766667 2020-01-01\n",
              "1     2       2476.766667       2476.766667 2020-01-01\n",
              "2     3       2476.766667       2476.766667 2020-01-01\n",
              "3     4       2476.766667       2476.766667 2020-01-01\n",
              "4     5       2476.766667       2476.766667 2020-01-01"
            ]
          },
          "metadata": {
            "tags": []
          },
          "execution_count": 102
        }
      ]
    },
    {
      "cell_type": "code",
      "metadata": {
        "id": "5wfV-btKq0yN",
        "outputId": "3634a42e-fdd9-4d2d-c4b7-8c16c05a54b9",
        "colab": {
          "base_uri": "https://localhost:8080/"
        }
      },
      "source": [
        "replace_map_comp1"
      ],
      "execution_count": 103,
      "outputs": [
        {
          "output_type": "execute_result",
          "data": {
            "text/plain": [
              "{'Destination': {'A98': 1,\n",
              "  'ABC': 2,\n",
              "  'ABH': 3,\n",
              "  'ABN': 4,\n",
              "  'ACU': 5,\n",
              "  'ADV': 6,\n",
              "  'AGG': 7,\n",
              "  'AHA': 8,\n",
              "  'AKE': 9,\n",
              "  'AKH': 10,\n",
              "  'ALC': 11,\n",
              "  'ALI': 12,\n",
              "  'ALO': 13,\n",
              "  'AMH': 14,\n",
              "  'AMY': 15,\n",
              "  'AND': 16,\n",
              "  'ANDG': 17,\n",
              "  'ANHA': 18,\n",
              "  'ANK': 19,\n",
              "  'ANN': 20,\n",
              "  'ANP': 21,\n",
              "  'ANT': 22,\n",
              "  'ANTI': 23,\n",
              "  'ANU': 24,\n",
              "  'APA': 25,\n",
              "  'ASN': 26,\n",
              "  'ATG': 27,\n",
              "  'ATI': 28,\n",
              "  'ATY': 29,\n",
              "  'BAI': 30,\n",
              "  'BAN': 31,\n",
              "  'BAT': 32,\n",
              "  'BBE': 33,\n",
              "  'BBG': 34,\n",
              "  'BBH': 35,\n",
              "  'BCGG': 36,\n",
              "  'BCH': 37,\n",
              "  'BCNG': 38,\n",
              "  'BCSN': 39,\n",
              "  'BCT': 40,\n",
              "  'BCU': 41,\n",
              "  'BDE': 42,\n",
              "  'BDG': 43,\n",
              "  'BDGTHA': 44,\n",
              "  'BDHALO': 45,\n",
              "  'BDHHAN': 46,\n",
              "  'BDHVTH': 47,\n",
              "  'BDI': 48,\n",
              "  'BDN': 49,\n",
              "  'BDP': 50,\n",
              "  'BGGSDG': 51,\n",
              "  'BHA': 52,\n",
              "  'BHCN': 53,\n",
              "  'BHD': 54,\n",
              "  'BHDH': 55,\n",
              "  'BHG': 56,\n",
              "  'BHHA': 57,\n",
              "  'BHI': 58,\n",
              "  'BHL': 59,\n",
              "  'BHMH': 60,\n",
              "  'BHN': 61,\n",
              "  'BHO': 62,\n",
              "  'BHS': 63,\n",
              "  'BHT': 64,\n",
              "  'BKA': 65,\n",
              "  'BKNBTG': 66,\n",
              "  'BKNNSN': 67,\n",
              "  'BKNPNM': 68,\n",
              "  'BLC': 69,\n",
              "  'BLG': 70,\n",
              "  'BLU': 71,\n",
              "  'BLUDHI': 72,\n",
              "  'BLUG': 73,\n",
              "  'BMH': 74,\n",
              "  'BMI': 75,\n",
              "  'BMT': 76,\n",
              "  'BNC': 77,\n",
              "  'BNE': 78,\n",
              "  'BNHG': 79,\n",
              "  'BNL': 80,\n",
              "  'BNT': 81,\n",
              "  'BNTH': 82,\n",
              "  'BOM': 83,\n",
              "  'BOT': 84,\n",
              "  'BPC': 85,\n",
              "  'BPCTTH': 86,\n",
              "  'BQG': 87,\n",
              "  'BQI': 88,\n",
              "  'BRA': 89,\n",
              "  'BSN': 90,\n",
              "  'BTD': 91,\n",
              "  'BTE': 92,\n",
              "  'BTECTH': 93,\n",
              "  'BTETPU': 94,\n",
              "  'BTETTY': 95,\n",
              "  'BTG': 96,\n",
              "  'BTI': 97,\n",
              "  'BTL': 98,\n",
              "  'BTN': 99,\n",
              "  'BTNHTB': 100,\n",
              "  'BTNPQY': 101,\n",
              "  'BTO': 102,\n",
              "  'BTR': 103,\n",
              "  'BTU': 104,\n",
              "  'BTUN': 105,\n",
              "  'BUC': 106,\n",
              "  'BUD': 107,\n",
              "  'BVI': 108,\n",
              "  'BXN': 109,\n",
              "  'BXO': 110,\n",
              "  'BXT': 111,\n",
              "  'BYN': 112,\n",
              "  'CAO': 113,\n",
              "  'CBG': 114,\n",
              "  'CBGBLC': 115,\n",
              "  'CBGBLM': 116,\n",
              "  'CBGHLG': 117,\n",
              "  'CBGHQG': 118,\n",
              "  'CBGNBH': 119,\n",
              "  'CBGPHA': 120,\n",
              "  'CBGQUN': 121,\n",
              "  'CBGTAN': 122,\n",
              "  'CBGTLH': 123,\n",
              "  'CBGTNG': 124,\n",
              "  'CBH': 125,\n",
              "  'CCI': 126,\n",
              "  'CDC': 127,\n",
              "  'CDG': 128,\n",
              "  'CDI': 129,\n",
              "  'CDM': 130,\n",
              "  'CDN': 131,\n",
              "  'CDO': 132,\n",
              "  'CGC': 133,\n",
              "  'CGL': 134,\n",
              "  'CGO': 135,\n",
              "  'CGT': 136,\n",
              "  'CHAGCT': 137,\n",
              "  'CHAXN': 138,\n",
              "  'CHBDN': 139,\n",
              "  'CHBLI': 140,\n",
              "  'CHBTTL': 141,\n",
              "  'CHCCG': 142,\n",
              "  'CHCLD': 143,\n",
              "  'CHCMI': 144,\n",
              "  'CHCTTB': 145,\n",
              "  'CHCTVT': 146,\n",
              "  'CHCUT': 147,\n",
              "  'CHDBP': 148,\n",
              "  'CHDCL': 149,\n",
              "  'CHDLEK': 150,\n",
              "  'CHDNMK': 151,\n",
              "  'CHDNNN': 152,\n",
              "  'CHDTO': 153,\n",
              "  'CHHGG': 154,\n",
              "  'CHHNH': 155,\n",
              "  'CHHNN': 156,\n",
              "  'CHHPCH': 157,\n",
              "  'CHHPDK': 158,\n",
              "  'CHHUNB': 159,\n",
              "  'CHI': 160,\n",
              "  'CHKSN': 161,\n",
              "  'CHLBB': 162,\n",
              "  'CHLDDT': 163,\n",
              "  'CHLHG': 164,\n",
              "  'CHMKG': 165,\n",
              "  'CHN': 166,\n",
              "  'CHNGT': 167,\n",
              "  'CHNTH': 168,\n",
              "  'CHNTN': 169,\n",
              "  'CHNVL': 170,\n",
              "  'CHPLG': 171,\n",
              "  'CHQPG': 172,\n",
              "  'CHSMC': 173,\n",
              "  'CHSTDN': 174,\n",
              "  'CHTCH': 175,\n",
              "  'CHTDG': 176,\n",
              "  'CHTHI': 177,\n",
              "  'CHTHLT': 178,\n",
              "  'CHTLT': 179,\n",
              "  'CHVLTB': 180,\n",
              "  'CHYPG': 181,\n",
              "  'CIK': 182,\n",
              "  'CJT': 183,\n",
              "  'CKE': 184,\n",
              "  'CKN': 185,\n",
              "  'CLC': 186,\n",
              "  'CLE': 187,\n",
              "  'CLG': 188,\n",
              "  'CLI': 189,\n",
              "  'CLM': 190,\n",
              "  'CLN': 191,\n",
              "  'CLO': 192,\n",
              "  'CLY': 193,\n",
              "  'CMG': 194,\n",
              "  'CMH': 195,\n",
              "  'CMI': 196,\n",
              "  'CMM': 197,\n",
              "  'CMTT': 198,\n",
              "  'CMTY': 199,\n",
              "  'CMU': 200,\n",
              "  'CMUNHN': 201,\n",
              "  'CMY': 202,\n",
              "  'CNA': 203,\n",
              "  'CNC': 204,\n",
              "  'CND': 205,\n",
              "  'CNDC': 206,\n",
              "  'CNG': 207,\n",
              "  'CNT': 208,\n",
              "  'CNTH': 209,\n",
              "  'COD': 210,\n",
              "  'CODHCM': 211,\n",
              "  'COGO': 212,\n",
              "  'COL': 213,\n",
              "  'COLH': 214,\n",
              "  'COLO': 215,\n",
              "  'COM': 216,\n",
              "  'CON': 217,\n",
              "  'COT': 218,\n",
              "  'CPU': 219,\n",
              "  'CRG': 220,\n",
              "  'CRH': 221,\n",
              "  'CSE': 222,\n",
              "  'CTC': 223,\n",
              "  'CTG': 224,\n",
              "  'CTH': 225,\n",
              "  'CTHG': 226,\n",
              "  'CTL': 227,\n",
              "  'CTO': 228,\n",
              "  'CTOG1': 229,\n",
              "  'CUC': 230,\n",
              "  'CUH': 231,\n",
              "  'CUK': 232,\n",
              "  'CUO': 233,\n",
              "  'CUTH': 234,\n",
              "  'CVA': 235,\n",
              "  'CVI': 236,\n",
              "  'CXN': 237,\n",
              "  'DAH': 238,\n",
              "  'DAHTPG': 239,\n",
              "  'DAI': 240,\n",
              "  'DAN': 241,\n",
              "  'DAT': 242,\n",
              "  'DBNDBD': 243,\n",
              "  'DBNDBN': 244,\n",
              "  'DBNG': 245,\n",
              "  'DBNMCA': 246,\n",
              "  'DBNNPO': 247,\n",
              "  'DBNXML': 248,\n",
              "  'DCG': 249,\n",
              "  'DCL': 250,\n",
              "  'DCO': 251,\n",
              "  'DCU': 252,\n",
              "  'DDE': 253,\n",
              "  'DDG': 254,\n",
              "  'DDI': 255,\n",
              "  'DDO': 256,\n",
              "  'DGA': 257,\n",
              "  'DGD': 258,\n",
              "  'DGHA': 259,\n",
              "  'DGHG': 260,\n",
              "  'DGHIG': 261,\n",
              "  'DGI': 262,\n",
              "  'DGK': 263,\n",
              "  'DGKH': 264,\n",
              "  'DGO': 265,\n",
              "  'DGS': 266,\n",
              "  'DGTH': 267,\n",
              "  'DHA': 268,\n",
              "  'DHAG': 269,\n",
              "  'DHD': 270,\n",
              "  'DHG': 271,\n",
              "  'DHH': 272,\n",
              "  'DHHA': 273,\n",
              "  'DHI': 274,\n",
              "  'DHIG': 275,\n",
              "  'DHY': 276,\n",
              "  'DID': 277,\n",
              "  'DIK': 278,\n",
              "  'DIL': 279,\n",
              "  'DIX': 280,\n",
              "  'DKD': 281,\n",
              "  'DKG': 282,\n",
              "  'DKGDGG': 283,\n",
              "  'DKGTDC': 284,\n",
              "  'DKH': 285,\n",
              "  'DKHA': 286,\n",
              "  'DKO': 287,\n",
              "  'DKT': 288,\n",
              "  'DLC': 289,\n",
              "  'DLG': 290,\n",
              "  'DLH': 291,\n",
              "  'DLKMDK': 292,\n",
              "  'DLT': 293,\n",
              "  'DLTG': 294,\n",
              "  'DMC': 295,\n",
              "  'DMI': 296,\n",
              "  'DML': 297,\n",
              "  'DNB': 298,\n",
              "  'DNC': 299,\n",
              "  'DNCU': 300,\n",
              "  'DND': 301,\n",
              "  'DNG': 302,\n",
              "  'DNI': 303,\n",
              "  'DNIBMH': 304,\n",
              "  'DNIPTI': 305,\n",
              "  'DNITHP': 306,\n",
              "  'DNITTN': 307,\n",
              "  'DNN': 308,\n",
              "  'DNP': 309,\n",
              "  'DNT': 310,\n",
              "  'DPG': 311,\n",
              "  'DPO': 312,\n",
              "  'DPU': 313,\n",
              "  'DQT': 314,\n",
              "  'DRA': 315,\n",
              "  'DRG': 316,\n",
              "  'DSG': 317,\n",
              "  'DSN': 318,\n",
              "  'DTG': 319,\n",
              "  'DTH': 320,\n",
              "  'DTHG': 321,\n",
              "  'DTI': 322,\n",
              "  'DTM': 323,\n",
              "  'DTO': 324,\n",
              "  'DTP': 325,\n",
              "  'DTPHNU': 326,\n",
              "  'DTPVTH': 327,\n",
              "  'DTU': 328,\n",
              "  'DUL': 329,\n",
              "  'DUT': 330,\n",
              "  'DVG': 331,\n",
              "  'DVH': 332,\n",
              "  'DVN': 333,\n",
              "  'DXA': 334,\n",
              "  'DXI': 335,\n",
              "  'DXN': 336,\n",
              "  'DYT': 337,\n",
              "  'DYX': 338,\n",
              "  'EAT': 339,\n",
              "  'EHO': 340,\n",
              "  'EKR': 341,\n",
              "  'GAT': 342,\n",
              "  'GBH': 343,\n",
              "  'GCG': 344,\n",
              "  'GCT': 345,\n",
              "  'GDN': 346,\n",
              "  'GDU': 347,\n",
              "  'GHI': 348,\n",
              "  'GKM': 349,\n",
              "  'GLC': 350,\n",
              "  'GLG': 351,\n",
              "  'GLH': 352,\n",
              "  'GLI': 353,\n",
              "  'GLICPG': 354,\n",
              "  'GLICPH': 355,\n",
              "  'GLICUP': 356,\n",
              "  'GLIDPO': 357,\n",
              "  'GLIIGI': 358,\n",
              "  'GLIIPA': 359,\n",
              "  'GLIKBG': 360,\n",
              "  'GLIKCO': 361,\n",
              "  'GLIKPA': 362,\n",
              "  'GLIMYG': 363,\n",
              "  'GLIPTN': 364,\n",
              "  'GLM': 365,\n",
              "  'GPG': 366,\n",
              "  'GQO': 367,\n",
              "  'GRG': 368,\n",
              "  'GRI': 369,\n",
              "  'GRY': 370,\n",
              "  'GTM': 371,\n",
              "  'GTY': 372,\n",
              "  'GVN': 373,\n",
              "  'GVO': 374,\n",
              "  'GVP': 375,\n",
              "  'HAA': 376,\n",
              "  'HAAN': 377,\n",
              "  'HAB': 378,\n",
              "  'HABH': 379,\n",
              "  'HAG': 380,\n",
              "  'HAGTHA': 381,\n",
              "  'HAH': 382,\n",
              "  'HAN': 383,\n",
              "  'HANG': 384,\n",
              "  'HAT': 385,\n",
              "  'HATH': 386,\n",
              "  'HATN': 387,\n",
              "  'HBBDBC': 388,\n",
              "  'HBBDTA': 389,\n",
              "  'HBBLGR': 390,\n",
              "  'HBBLHD': 391,\n",
              "  'HBBPBP': 392,\n",
              "  'HBBPHQ': 393,\n",
              "  'HBBPLN': 394,\n",
              "  'HBBPPR': 395,\n",
              "  'HBBTBB': 396,\n",
              "  'HBBTBI': 397,\n",
              "  'HBBTCL': 398,\n",
              "  'HBBTLG': 399,\n",
              "  'HBBTMN': 400,\n",
              "  'HBBTPT': 401,\n",
              "  'HBC': 402,\n",
              "  'HBCBQH': 403,\n",
              "  'HBCTBT': 404,\n",
              "  'HBCTPD': 405,\n",
              "  'HBCTTL': 406,\n",
              "  'HBDKTD': 407,\n",
              "  'HBDLBT': 408,\n",
              "  'HBDNCL': 409,\n",
              "  'HBDNLC': 410,\n",
              "  'HBDNTN': 411,\n",
              "  'HBG': 412,\n",
              "  'HBGLPL': 413,\n",
              "  'HBHCBC': 414,\n",
              "  'HBHCCC': 415,\n",
              "  'HBHCHM': 416,\n",
              "  'HBHCNB': 417,\n",
              "  'HBHCPG': 418,\n",
              "  'HBHCQ9': 419,\n",
              "  'HBHDBC': 420,\n",
              "  'HBHDTM': 421,\n",
              "  'HBHG': 422,\n",
              "  'HBHGCA': 423,\n",
              "  'HBHGVT': 424,\n",
              "  'HBHKSN': 425,\n",
              "  'HBHNBD': 426,\n",
              "  'HBHNGL': 427,\n",
              "  'HBHNHK': 428,\n",
              "  'HBHNTH': 429,\n",
              "  'HBHNUH': 430,\n",
              "  'HBHPTL': 431,\n",
              "  'HBHPVB': 432,\n",
              "  'HBHT04': 433,\n",
              "  'HBHUHU': 434,\n",
              "  'HBHYKC': 435,\n",
              "  'HBHYTY': 436,\n",
              "  'HBI': 437,\n",
              "  'HBKGAM': 438,\n",
              "  'HBKGHT': 439,\n",
              "  'HBKGPQ': 440,\n",
              "  'HBKGRG': 441,\n",
              "  'HBKHDK': 442,\n",
              "  'HBKTDH': 443,\n",
              "  'HBKTNH': 444,\n",
              "  'HBLACG': 445,\n",
              "  'HBLATH': 446,\n",
              "  'HBLATN': 447,\n",
              "  'HBLATU': 448,\n",
              "  'HBLCPT': 449,\n",
              "  'HBLDBM': 450,\n",
              "  'HBLDDD': 451,\n",
              "  'HBLDLD': 452,\n",
              "  'HBLDLH': 453,\n",
              "  'HBNACL': 454,\n",
              "  'HBNBKS': 455,\n",
              "  'HBNDTN': 456,\n",
              "  'HBNDXT': 457,\n",
              "  'HBNTTB': 458,\n",
              "  'HBNTTN': 459,\n",
              "  'HBO': 460,\n",
              "  'HBQNDB': 461,\n",
              "  'HBQNHA': 462,\n",
              "  'HBSTCD': 463,\n",
              "  'HBSTLP': 464,\n",
              "  'HBSTNN': 465,\n",
              "  'HBSTTD': 466,\n",
              "  'HBSTVC': 467,\n",
              "  'HBTBQP': 468,\n",
              "  'HBTGCL': 469,\n",
              "  'HBTGTD': 470,\n",
              "  'HBTNTA': 471,\n",
              "  'HBTNTB': 472,\n",
              "  'HBTNTC': 473,\n",
              "  'HBTNTH': 474,\n",
              "  'HBTNTN': 475,\n",
              "  'HBTQCH': 476,\n",
              "  'HBTVCL': 477,\n",
              "  'HBVLLH': 478,\n",
              "  'HBVTLD': 479,\n",
              "  'HBVTXM': 480,\n",
              "  'HCD': 481,\n",
              "  'HCG': 482,\n",
              "  'HCU': 483,\n",
              "  'HDC': 484,\n",
              "  'HDGTHA': 485,\n",
              "  'HDH': 486,\n",
              "  'HDHQ': 487,\n",
              "  'HDN': 488,\n",
              "  'HDTU': 489,\n",
              "  'HGA': 490,\n",
              "  'HGG': 491,\n",
              "  'HGGBME': 492,\n",
              "  'HGGDVN': 493,\n",
              "  'HGGHSP': 494,\n",
              "  'HGGMVC': 495,\n",
              "  'HGGQBA': 496,\n",
              "  'HGGQBH': 497,\n",
              "  'HGGVXN': 498,\n",
              "  'HGGXMN': 499,\n",
              "  'HGGYMH': 500,\n",
              "  'HGHA': 501,\n",
              "  'HGM': 502,\n",
              "  'HGP': 503,\n",
              "  'HGV': 504,\n",
              "  'HGVG': 505,\n",
              "  'HGVP01': 506,\n",
              "  'HHG': 507,\n",
              "  'HHU': 508,\n",
              "  'HIA': 509,\n",
              "  'HIB': 510,\n",
              "  'HIH': 511,\n",
              "  'HIL': 512,\n",
              "  'HIN': 513,\n",
              "  'HKE': 514,\n",
              "  'HKH': 515,\n",
              "  'HKI': 516,\n",
              "  'HKM': 517,\n",
              "  'HLG': 518,\n",
              "  'HLH': 519,\n",
              "  'HLI': 520,\n",
              "  'HLT': 521,\n",
              "  'HLU': 522,\n",
              "  'HMH': 523,\n",
              "  'HMN': 524,\n",
              "  'HNA': 525,\n",
              "  'HND': 526,\n",
              "  'HNH': 527,\n",
              "  'HNITHA': 528,\n",
              "  'HNITHI': 529,\n",
              "  'HNN': 530,\n",
              "  'HNU': 531,\n",
              "  'HOHA': 532,\n",
              "  'HOT': 533,\n",
              "  'HPC': 534,\n",
              "  'HPH': 535,\n",
              "  'HPP': 536,\n",
              "  'HPTH': 537,\n",
              "  'HPU': 538,\n",
              "  'HQN': 539,\n",
              "  'HQN102': 540,\n",
              "  'HSA': 541,\n",
              "  'HSN': 542,\n",
              "  'HTA': 543,\n",
              "  'HTG': 544,\n",
              "  'HTGG': 545,\n",
              "  'HTGN': 546,\n",
              "  'HTHA': 547,\n",
              "  'HTHLHA': 548,\n",
              "  'HTHTHA': 549,\n",
              "  'HTHVQG': 550,\n",
              "  'HTN': 551,\n",
              "  'HTNM': 552,\n",
              "  'HTPU': 553,\n",
              "  'HTYN': 554,\n",
              "  'HUBBTH': 555,\n",
              "  'HUBCPA': 556,\n",
              "  'HUBHBT': 557,\n",
              "  'HUBLNM': 558,\n",
              "  'HUBLTG': 559,\n",
              "  'HUBMCI': 560,\n",
              "  'HUBPNN': 561,\n",
              "  'HUBQU3': 562,\n",
              "  'HUBQU6': 563,\n",
              "  'HUBSKY': 564,\n",
              "  'HUBTAB': 565,\n",
              "  'HUBTCG': 566,\n",
              "  'HUBTDU': 567,\n",
              "  'HUBTPU': 568,\n",
              "  'HUBTUS': 569,\n",
              "  'HUE': 570,\n",
              "  'HUG': 571,\n",
              "  'HUL': 572,\n",
              "  'HVB': 573,\n",
              "  'HVG': 574,\n",
              "  'HVN': 575,\n",
              "  'HVT': 576,\n",
              "  'HXH': 577,\n",
              "  'HXN': 578,\n",
              "  'HXNL': 579,\n",
              "  'K1HNI': 580,\n",
              "  'KAH': 581,\n",
              "  'KAN': 582,\n",
              "  'KBDG': 583,\n",
              "  'KBG': 584,\n",
              "  'KBI': 585,\n",
              "  'KCG': 586,\n",
              "  'KDC': 587,\n",
              "  'KDH': 588,\n",
              "  'KDLC': 589,\n",
              "  'KDV': 590,\n",
              "  'KGG': 591,\n",
              "  'KGGTHP': 592,\n",
              "  'KGGUMT': 593,\n",
              "  'KGM': 594,\n",
              "  'KGT': 595,\n",
              "  'KHA': 596,\n",
              "  'KHALHP': 597,\n",
              "  'KHG': 598,\n",
              "  'KHI': 599,\n",
              "  'KHS': 600,\n",
              "  'KKY': 601,\n",
              "  'KLG': 602,\n",
              "  'KMA': 603,\n",
              "  'KMD': 604,\n",
              "  'KMG': 605,\n",
              "  'KMN': 606,\n",
              "  'KNG': 607,\n",
              "  'KNH': 608,\n",
              "  'KNO': 609,\n",
              "  'KNT': 610,\n",
              "  'KPK': 611,\n",
              "  'KQVO': 612,\n",
              "  'KSN': 613,\n",
              "  'KTBGG': 614,\n",
              "  'KTBLC': 615,\n",
              "  'KTDNG': 616,\n",
              "  'KTG': 617,\n",
              "  'KTH': 618,\n",
              "  'KTHNM': 619,\n",
              "  'KTHPG': 620,\n",
              "  'KTHTH': 621,\n",
              "  'KTM': 622,\n",
              "  'KTMG': 623,\n",
              "  'KTMSTY': 624,\n",
              "  'KTN': 625,\n",
              "  'KTPQC': 626,\n",
              "  'KTPTO': 627,\n",
              "  'KTPYN': 628,\n",
              "  'KTQNI': 629,\n",
              "  'KTQNM': 630,\n",
              "  'KTTDC': 631,\n",
              "  'KTY': 632,\n",
              "  'KXG': 633,\n",
              "  'LAN': 634,\n",
              "  'LANCTH': 635,\n",
              "  'LANDHE': 636,\n",
              "  'LANTHA': 637,\n",
              "  'LANTHG': 638,\n",
              "  'LANTTA': 639,\n",
              "  'LANTTH': 640,\n",
              "  'LANTTU': 641,\n",
              "  'LBH': 642,\n",
              "  'LBN': 643,\n",
              "  'LBT': 644,\n",
              "  'LCA': 645,\n",
              "  'LCC': 646,\n",
              "  'LCH': 647,\n",
              "  'LCN': 648,\n",
              "  'LCNG': 649,\n",
              "  'LCO': 650,\n",
              "  'LCS': 651,\n",
              "  'LCT': 652,\n",
              "  'LCUNNN': 653,\n",
              "  'LCUSHO': 654,\n",
              "  'LCUTUN': 655,\n",
              "  'LDG': 656,\n",
              "  'LDGTPU': 657,\n",
              "  'LDL': 658,\n",
              "  'LDN': 659,\n",
              "  'LDO': 660,\n",
              "  'LDT': 661,\n",
              "  'LDTO': 662,\n",
              "  'LELI': 663,\n",
              "  'LGD': 664,\n",
              "  'LGG': 665,\n",
              "  'LGH': 666,\n",
              "  'LGHA': 667,\n",
              "  'LGI': 668,\n",
              "  'LGP': 669,\n",
              "  'LGS': 670,\n",
              "  'LGT': 671,\n",
              "  'LGTH': 672,\n",
              "  'LHI': 673,\n",
              "  'LHN': 674,\n",
              "  'LHPG': 675,\n",
              "  'LHT': 676,\n",
              "  'LHU': 677,\n",
              "  'LHX': 678,\n",
              "  'LHY': 679,\n",
              "  'LIC': 680,\n",
              "  'LICG': 681,\n",
              "  'LKE': 682,\n",
              "  'LKH': 683,\n",
              "  'LLQ': 684,\n",
              "  'LMH': 685,\n",
              "  'LMS': 686,\n",
              "  'LMT': 687,\n",
              "  'LMX': 688,\n",
              "  'LMY': 689,\n",
              "  'LNA': 690,\n",
              "  'LNM': 691,\n",
              "  'LNN': 692,\n",
              "  'LOB': 693,\n",
              "  'LPC': 694,\n",
              "  'LPT': 695,\n",
              "  'LPU': 696,\n",
              "  'LSN': 697,\n",
              "  'LSNBGA': 698,\n",
              "  'LSNCLG': 699,\n",
              "  'LSNDLP': 700,\n",
              "  'LSNLBH': 701,\n",
              "  'LSNTDH': 702,\n",
              "  'LSNVQN': 703,\n",
              "  'LTG': 704,\n",
              "  'LTH': 705,\n",
              "  'LTI': 706,\n",
              "  'LTK': 707,\n",
              "  'LTKT': 708,\n",
              "  'LTO': 709,\n",
              "  'LTTN': 710,\n",
              "  'LTY': 711,\n",
              "  'LUI': 712,\n",
              "  'LVG': 713,\n",
              "  'LVO': 714,\n",
              "  'LVS': 715,\n",
              "  'LXN': 716,\n",
              "  'LYN': 717,\n",
              "  'LYNN': 718,\n",
              "  'MAG': 719,\n",
              "  'MBH': 720,\n",
              "  'MBTH': 721,\n",
              "  'MCA': 722,\n",
              "  'MCB': 723,\n",
              "  'MCN': 724,\n",
              "  'MCU': 725,\n",
              "  'MDC': 726,\n",
              "  'MDH': 727,\n",
              "  'MDI': 728,\n",
              "  'MGN': 729,\n",
              "  'MHA': 730,\n",
              "  'MHH': 731,\n",
              "  'MHOG': 732,\n",
              "  'MIC': 733,\n",
              "  'MIG': 734,\n",
              "  'MIH': 735,\n",
              "  'MKE': 736,\n",
              "  'MKI': 737,\n",
              "  'MLA': 738,\n",
              "  'MLC': 739,\n",
              "  'MLH': 740,\n",
              "  'MLO': 741,\n",
              "  'MNN': 742,\n",
              "  'MOD': 743,\n",
              "  'MPC': 744,\n",
              "  'MQY': 745,\n",
              "  'MSN': 746,\n",
              "  'MTE': 747,\n",
              "  'MTI': 748,\n",
              "  'MTO': 749,\n",
              "  'MXN': 750,\n",
              "  'MYN': 751,\n",
              "  'MYP': 752,\n",
              "  'MYX': 753,\n",
              "  'NAH': 754,\n",
              "  'NAHG': 755,\n",
              "  'NAL': 756,\n",
              "  'NANNBH': 757,\n",
              "  'NANQCU': 758,\n",
              "  'NAS': 759,\n",
              "  'NAT': 760,\n",
              "  'NBE': 761,\n",
              "  'NBHG': 762,\n",
              "  'NBI': 763,\n",
              "  'NBN': 764,\n",
              "  'NBY': 765,\n",
              "  'NCG': 766,\n",
              "  'NCI': 767,\n",
              "  'NCL': 768,\n",
              "  'NCN': 769,\n",
              "  'NCO': 770,\n",
              "  'NDC': 771,\n",
              "  'NDG': 772,\n",
              "  'NDHG': 773,\n",
              "  'NDN': 774,\n",
              "  'NDO': 775,\n",
              "  'NDU': 776,\n",
              "  'NGO': 777,\n",
              "  'NGT': 778,\n",
              "  'NHA': 779,\n",
              "  'NHG': 780,\n",
              "  'NHHA': 781,\n",
              "  'NHHI': 782,\n",
              "  'NHI': 783,\n",
              "  'NHN': 784,\n",
              "  'NHP': 785,\n",
              "  'NHS': 786,\n",
              "  'NHT': 787,\n",
              "  'NIT': 788,\n",
              "  'NKH': 789,\n",
              "  'NKU': 790,\n",
              "  'NLC': 791,\n",
              "  'NLO': 792,\n",
              "  'NMD': 793,\n",
              "  'NMDG': 794,\n",
              "  'NNM': 795,\n",
              "  'NNT': 796,\n",
              "  'NOH': 797,\n",
              "  'NOQ': 798,\n",
              "  'NPC': 799,\n",
              "  'NPT': 800,\n",
              "  'NQH': 801,\n",
              "  'NQN': 802,\n",
              "  'NRY': 803,\n",
              "  'NSH': 804,\n",
              "  'NSHU': 805,\n",
              "  'NSN': 806,\n",
              "  'NTB': 807,\n",
              "  'NTC': 808,\n",
              "  'NTG': 809,\n",
              "  'NTH': 810,\n",
              "  'NTL': 811,\n",
              "  'NTN': 812,\n",
              "  'NTNBAI': 813,\n",
              "  'NTNDHI': 814,\n",
              "  'NTNG': 815,\n",
              "  'NTNM': 816,\n",
              "  'NTS': 817,\n",
              "  'NTSO': 818,\n",
              "  'NTT': 819,\n",
              "  'NTU': 820,\n",
              "  'NTUN': 821,\n",
              "  'NTY': 822,\n",
              "  'NVT': 823,\n",
              "  'NXN': 824,\n",
              "  'OCD': 825,\n",
              "  'OMN': 826,\n",
              "  'PBH': 827,\n",
              "  'PBI': 828,\n",
              "  'PCD': 829,\n",
              "  'PCG': 830,\n",
              "  'PCH': 831,\n",
              "  'PCL': 832,\n",
              "  'PCN': 833,\n",
              "  'PCO': 834,\n",
              "  'PCTH': 835,\n",
              "  'PCTN': 836,\n",
              "  'PCU': 837,\n",
              "  'PDG': 838,\n",
              "  'PDH': 839,\n",
              "  'PDL': 840,\n",
              "  'PDN': 841,\n",
              "  'PDO': 842,\n",
              "  'PGD': 843,\n",
              "  'PGN': 844,\n",
              "  'PGO': 845,\n",
              "  'PGT': 846,\n",
              "  'PHI': 847,\n",
              "  'PHL': 848,\n",
              "  'PHN': 849,\n",
              "  'PHOYLP': 850,\n",
              "  'PHU': 851,\n",
              "  'PKN': 852,\n",
              "  'PKU': 853,\n",
              "  'PLG': 854,\n",
              "  'PLI': 855,\n",
              "  'PLM': 856,\n",
              "  'PLO': 857,\n",
              "  'PLT': 858,\n",
              "  'PMI': 859,\n",
              "  'PMY': 860,\n",
              "  'PNG': 861,\n",
              "  'PNH': 862,\n",
              "  'PNN': 863,\n",
              "  'PNR': 864,\n",
              "  'POH': 865,\n",
              "  'POHN': 866,\n",
              "  'PON': 867,\n",
              "  'PPG': 868,\n",
              "  'PQC': 869,\n",
              "  'PQG': 870,\n",
              "  'PRG': 871,\n",
              "  'PSN': 872,\n",
              "  'PTG': 873,\n",
              "  'PTH': 874,\n",
              "  'PTI': 875,\n",
              "  'PTN': 876,\n",
              "  'PTO': 877,\n",
              "  'PUB': 878,\n",
              "  'PUC': 879,\n",
              "  'PUL': 880,\n",
              "  'PUM': 881,\n",
              "  'PUT': 882,\n",
              "  'PUTN': 883,\n",
              "  'PUY': 884,\n",
              "  'PVD': 885,\n",
              "  'PVG': 886,\n",
              "  'PVI': 887,\n",
              "  'PXL': 888,\n",
              "  'PXN': 889,\n",
              "  'PYN': 890,\n",
              "  'PYNDXN': 891,\n",
              "  'PYNPHA': 892,\n",
              "  'PYNSHA': 893,\n",
              "  'PYNSHH': 894,\n",
              "  'PYNTHA': 895,\n",
              "  'QBTH': 896,\n",
              "  'QBTN': 897,\n",
              "  'QGG': 898,\n",
              "  'QGH': 899,\n",
              "  'QGN': 900,\n",
              "  'QGTG': 901,\n",
              "  'QGTH': 902,\n",
              "  'QHA': 903,\n",
              "  'QHP': 904,\n",
              "  'QMH': 905,\n",
              "  'QN1': 906,\n",
              "  'QNHCTO': 907,\n",
              "  'QNHDHA': 908,\n",
              "  'QNHG1': 909,\n",
              "  'QNHTYN': 910,\n",
              "  'QNI': 911,\n",
              "  'QNILHA': 912,\n",
              "  'QNISHA': 913,\n",
              "  'QNM': 914,\n",
              "  'QNMBTM': 915,\n",
              "  'QNMHDC': 916,\n",
              "  'QNMPSN': 917,\n",
              "  'QNMQSN': 918,\n",
              "  'QNMTPC': 919,\n",
              "  'QNN': 920,\n",
              "  'QOI': 921,\n",
              "  'QPU': 922,\n",
              "  'QTBH': 923,\n",
              "  'QTG': 924,\n",
              "  'QTH': 925,\n",
              "  'QTIDKR': 926,\n",
              "  'QTITPG': 927,\n",
              "  'QTKE': 928,\n",
              "  'QTTG': 929,\n",
              "  'QU10': 930,\n",
              "  'QU11': 931,\n",
              "  'QU12': 932,\n",
              "  'QU2': 933,\n",
              "  'QU3': 934,\n",
              "  'QU4': 935,\n",
              "  'QU5': 936,\n",
              "  'QU6': 937,\n",
              "  'QU7': 938,\n",
              "  'QU8': 939,\n",
              "  'QU9': 940,\n",
              "  'QXG': 941,\n",
              "  'QYN': 942,\n",
              "  'RGA': 943,\n",
              "  'RSI': 944,\n",
              "  'SBY': 945,\n",
              "  'SCG': 946,\n",
              "  'SCU': 947,\n",
              "  'SDC': 948,\n",
              "  'SDG': 949,\n",
              "  'SDO': 950,\n",
              "  'SDU': 951,\n",
              "  'SGD': 952,\n",
              "  'SGT': 953,\n",
              "  'SHG': 954,\n",
              "  'SHN': 955,\n",
              "  'SHU': 956,\n",
              "  'SIT': 957,\n",
              "  'SKY': 958,\n",
              "  'SLABYN': 959,\n",
              "  'SLAG': 960,\n",
              "  'SLAQNI': 961,\n",
              "  'SLASCP': 962,\n",
              "  'SLATCU': 963,\n",
              "  'SLO': 964,\n",
              "  'SLVHO': 965,\n",
              "  'SMA': 966,\n",
              "  'SMS': 967,\n",
              "  'SNG': 968,\n",
              "  'SNM': 969,\n",
              "  'SPA': 970,\n",
              "  'SPU': 971,\n",
              "  'SSN': 972,\n",
              "  'SSO': 973,\n",
              "  'STA': 974,\n",
              "  'STG': 975,\n",
              "  'STGCLD': 976,\n",
              "  'STGKSH': 977,\n",
              "  'STGMTU': 978,\n",
              "  'STGTHA': 979,\n",
              "  'STN': 980,\n",
              "  'STNN': 981,\n",
              "  'STY': 982,\n",
              "  'SXI': 983,\n",
              "  'TAB': 984,\n",
              "  'TAC': 985,\n",
              "  'TAN': 986,\n",
              "  'TAT': 987,\n",
              "  'TBA': 988,\n",
              "  'TBG': 989,\n",
              "  'TBHG': 990,\n",
              "  'TBM': 991,\n",
              "  'TBN': 992,\n",
              "  'TCA': 993,\n",
              "  'TCB': 994,\n",
              "  'TCG': 995,\n",
              "  'TCM': 996,\n",
              "  'TCN': 997,\n",
              "  'TCNH': 998,\n",
              "  'TCO': 999,\n",
              "  'TCP': 1000,\n",
              "  ...}}"
            ]
          },
          "metadata": {
            "tags": []
          },
          "execution_count": 103
        }
      ]
    },
    {
      "cell_type": "code",
      "metadata": {
        "id": "c2cdQdxoq0yR"
      },
      "source": [
        "dest_replace = dict([(value, key) for key, value in dest_replace.items()]) "
      ],
      "execution_count": 104,
      "outputs": []
    },
    {
      "cell_type": "code",
      "metadata": {
        "id": "IGrNYeEPq0yT"
      },
      "source": [
        "dest_replace ={1: 'Kon Tum ',\n",
        " 2: 'Lào Cai ',\n",
        " 3: 'Lạng Sơn ',\n",
        " 4: 'Long An ',\n",
        " 5: 'Nam Định ',\n",
        " 6: 'Ninh Bình ',\n",
        " 7: 'Phú Thọ ',\n",
        " 8: 'Quảng Bình ',\n",
        " 9: 'Quảng Nam ',\n",
        " 10: 'Quảng Ngãi ',\n",
        " 11: 'Quảng Ninh ',\n",
        " 12: 'Quảng Trị ',\n",
        " 13: 'Sóc Trăng ',\n",
        " 14: 'Sơn La ',\n",
        " 15: 'Thanh Hoá ',\n",
        " 16: 'Thái Bình ',\n",
        " 17: 'Trà Vinh ',\n",
        " 18: 'Vĩnh Long '}"
      ],
      "execution_count": 105,
      "outputs": []
    },
    {
      "cell_type": "code",
      "metadata": {
        "id": "YmSIjTWBq0yY",
        "outputId": "021056ef-0ba3-4eba-d65f-f4b3e525bee1",
        "colab": {
          "base_uri": "https://localhost:8080/"
        }
      },
      "source": [
        "dfs1.replace(\"Dummy-Parcel\", inplace=True)"
      ],
      "execution_count": 107,
      "outputs": [
        {
          "output_type": "stream",
          "text": [
            "/usr/local/lib/python3.6/dist-packages/pandas/core/missing.py:49: FutureWarning: elementwise comparison failed; returning scalar instead, but in the future will perform elementwise comparison\n",
            "  mask = arr == x\n"
          ],
          "name": "stderr"
        },
        {
          "output_type": "execute_result",
          "data": {
            "text/plain": [
              "item                None\n",
              "predected waight    None\n",
              "predected volume    None\n",
              "myDt                None\n",
              "dtype: object"
            ]
          },
          "metadata": {
            "tags": []
          },
          "execution_count": 107
        }
      ]
    },
    {
      "cell_type": "code",
      "metadata": {
        "id": "eDd-cBvmq0yZ",
        "outputId": "cee6821a-8392-4a1e-f16d-a87cae276e46",
        "colab": {
          "base_uri": "https://localhost:8080/",
          "height": 204
        }
      },
      "source": [
        "dfs1.head()"
      ],
      "execution_count": 108,
      "outputs": [
        {
          "output_type": "execute_result",
          "data": {
            "text/html": [
              "<div>\n",
              "<style scoped>\n",
              "    .dataframe tbody tr th:only-of-type {\n",
              "        vertical-align: middle;\n",
              "    }\n",
              "\n",
              "    .dataframe tbody tr th {\n",
              "        vertical-align: top;\n",
              "    }\n",
              "\n",
              "    .dataframe thead th {\n",
              "        text-align: right;\n",
              "    }\n",
              "</style>\n",
              "<table border=\"1\" class=\"dataframe\">\n",
              "  <thead>\n",
              "    <tr style=\"text-align: right;\">\n",
              "      <th></th>\n",
              "      <th>item</th>\n",
              "      <th>predected waight</th>\n",
              "      <th>predected volume</th>\n",
              "      <th>myDt</th>\n",
              "    </tr>\n",
              "  </thead>\n",
              "  <tbody>\n",
              "    <tr>\n",
              "      <th>0</th>\n",
              "      <td>1</td>\n",
              "      <td>2476.766667</td>\n",
              "      <td>2476.766667</td>\n",
              "      <td>2020-01-01</td>\n",
              "    </tr>\n",
              "    <tr>\n",
              "      <th>1</th>\n",
              "      <td>2</td>\n",
              "      <td>2476.766667</td>\n",
              "      <td>2476.766667</td>\n",
              "      <td>2020-01-01</td>\n",
              "    </tr>\n",
              "    <tr>\n",
              "      <th>2</th>\n",
              "      <td>3</td>\n",
              "      <td>2476.766667</td>\n",
              "      <td>2476.766667</td>\n",
              "      <td>2020-01-01</td>\n",
              "    </tr>\n",
              "    <tr>\n",
              "      <th>3</th>\n",
              "      <td>4</td>\n",
              "      <td>2476.766667</td>\n",
              "      <td>2476.766667</td>\n",
              "      <td>2020-01-01</td>\n",
              "    </tr>\n",
              "    <tr>\n",
              "      <th>4</th>\n",
              "      <td>5</td>\n",
              "      <td>2476.766667</td>\n",
              "      <td>2476.766667</td>\n",
              "      <td>2020-01-01</td>\n",
              "    </tr>\n",
              "  </tbody>\n",
              "</table>\n",
              "</div>"
            ],
            "text/plain": [
              "   item  predected waight  predected volume       myDt\n",
              "0     1       2476.766667       2476.766667 2020-01-01\n",
              "1     2       2476.766667       2476.766667 2020-01-01\n",
              "2     3       2476.766667       2476.766667 2020-01-01\n",
              "3     4       2476.766667       2476.766667 2020-01-01\n",
              "4     5       2476.766667       2476.766667 2020-01-01"
            ]
          },
          "metadata": {
            "tags": []
          },
          "execution_count": 108
        }
      ]
    },
    {
      "cell_type": "code",
      "metadata": {
        "id": "Pd8iyhl4q0yh",
        "outputId": "d7edb730-557c-4ce9-9f16-f2bf6f382eb8",
        "colab": {
          "base_uri": "https://localhost:8080/",
          "height": 204
        }
      },
      "source": [
        "df_test.head()"
      ],
      "execution_count": 109,
      "outputs": [
        {
          "output_type": "execute_result",
          "data": {
            "text/html": [
              "<div>\n",
              "<style scoped>\n",
              "    .dataframe tbody tr th:only-of-type {\n",
              "        vertical-align: middle;\n",
              "    }\n",
              "\n",
              "    .dataframe tbody tr th {\n",
              "        vertical-align: top;\n",
              "    }\n",
              "\n",
              "    .dataframe thead th {\n",
              "        text-align: right;\n",
              "    }\n",
              "</style>\n",
              "<table border=\"1\" class=\"dataframe\">\n",
              "  <thead>\n",
              "    <tr style=\"text-align: right;\">\n",
              "      <th></th>\n",
              "      <th>Origin</th>\n",
              "      <th>Destination</th>\n",
              "      <th>Item</th>\n",
              "      <th>Weight</th>\n",
              "      <th>Weight UoM</th>\n",
              "      <th>Size/Volume</th>\n",
              "      <th>Volume UoM</th>\n",
              "      <th>Customer Requested Delivery Date (DD/MM/YY)</th>\n",
              "      <th>Year</th>\n",
              "      <th>month</th>\n",
              "      <th>day</th>\n",
              "    </tr>\n",
              "  </thead>\n",
              "  <tbody>\n",
              "    <tr>\n",
              "      <th>2</th>\n",
              "      <td>TCP</td>\n",
              "      <td>TML</td>\n",
              "      <td>Parcel - Dummy</td>\n",
              "      <td>200</td>\n",
              "      <td>KG</td>\n",
              "      <td>200</td>\n",
              "      <td>CM3</td>\n",
              "      <td>2020-08-01</td>\n",
              "      <td>2020</td>\n",
              "      <td>8</td>\n",
              "      <td>1</td>\n",
              "    </tr>\n",
              "    <tr>\n",
              "      <th>3</th>\n",
              "      <td>TCP</td>\n",
              "      <td>BXO</td>\n",
              "      <td>Parcel - Dummy</td>\n",
              "      <td>500</td>\n",
              "      <td>KG</td>\n",
              "      <td>500</td>\n",
              "      <td>CM3</td>\n",
              "      <td>2020-08-01</td>\n",
              "      <td>2020</td>\n",
              "      <td>8</td>\n",
              "      <td>1</td>\n",
              "    </tr>\n",
              "    <tr>\n",
              "      <th>4</th>\n",
              "      <td>TCP</td>\n",
              "      <td>TTM</td>\n",
              "      <td>Parcel - Dummy</td>\n",
              "      <td>500</td>\n",
              "      <td>KG</td>\n",
              "      <td>500</td>\n",
              "      <td>CM3</td>\n",
              "      <td>2020-08-01</td>\n",
              "      <td>2020</td>\n",
              "      <td>8</td>\n",
              "      <td>1</td>\n",
              "    </tr>\n",
              "    <tr>\n",
              "      <th>5</th>\n",
              "      <td>TCP</td>\n",
              "      <td>TPGG</td>\n",
              "      <td>Parcel - Dummy</td>\n",
              "      <td>200</td>\n",
              "      <td>KG</td>\n",
              "      <td>200</td>\n",
              "      <td>CM3</td>\n",
              "      <td>2020-08-01</td>\n",
              "      <td>2020</td>\n",
              "      <td>8</td>\n",
              "      <td>1</td>\n",
              "    </tr>\n",
              "    <tr>\n",
              "      <th>17</th>\n",
              "      <td>TNN</td>\n",
              "      <td>STNN</td>\n",
              "      <td>Parcel - Dummy</td>\n",
              "      <td>50</td>\n",
              "      <td>KG</td>\n",
              "      <td>50</td>\n",
              "      <td>CM3</td>\n",
              "      <td>2020-08-01</td>\n",
              "      <td>2020</td>\n",
              "      <td>8</td>\n",
              "      <td>1</td>\n",
              "    </tr>\n",
              "  </tbody>\n",
              "</table>\n",
              "</div>"
            ],
            "text/plain": [
              "   Origin Destination            Item  ...  Year month  day\n",
              "2     TCP         TML  Parcel - Dummy  ...  2020     8    1\n",
              "3     TCP         BXO  Parcel - Dummy  ...  2020     8    1\n",
              "4     TCP         TTM  Parcel - Dummy  ...  2020     8    1\n",
              "5     TCP        TPGG  Parcel - Dummy  ...  2020     8    1\n",
              "17    TNN        STNN  Parcel - Dummy  ...  2020     8    1\n",
              "\n",
              "[5 rows x 11 columns]"
            ]
          },
          "metadata": {
            "tags": []
          },
          "execution_count": 109
        }
      ]
    },
    {
      "cell_type": "code",
      "metadata": {
        "id": "91kJ0piTq0yj"
      },
      "source": [
        "df2 = df_test.iloc[:,[0,1,2,3,5,8,9,10]]"
      ],
      "execution_count": 110,
      "outputs": []
    },
    {
      "cell_type": "code",
      "metadata": {
        "id": "WkxvHifsq0yk",
        "outputId": "7032acbe-85e0-4b23-93ce-5ca0dc6ca0f4",
        "colab": {
          "base_uri": "https://localhost:8080/",
          "height": 204
        }
      },
      "source": [
        "df2.head()"
      ],
      "execution_count": 111,
      "outputs": [
        {
          "output_type": "execute_result",
          "data": {
            "text/html": [
              "<div>\n",
              "<style scoped>\n",
              "    .dataframe tbody tr th:only-of-type {\n",
              "        vertical-align: middle;\n",
              "    }\n",
              "\n",
              "    .dataframe tbody tr th {\n",
              "        vertical-align: top;\n",
              "    }\n",
              "\n",
              "    .dataframe thead th {\n",
              "        text-align: right;\n",
              "    }\n",
              "</style>\n",
              "<table border=\"1\" class=\"dataframe\">\n",
              "  <thead>\n",
              "    <tr style=\"text-align: right;\">\n",
              "      <th></th>\n",
              "      <th>Origin</th>\n",
              "      <th>Destination</th>\n",
              "      <th>Item</th>\n",
              "      <th>Weight</th>\n",
              "      <th>Size/Volume</th>\n",
              "      <th>Year</th>\n",
              "      <th>month</th>\n",
              "      <th>day</th>\n",
              "    </tr>\n",
              "  </thead>\n",
              "  <tbody>\n",
              "    <tr>\n",
              "      <th>2</th>\n",
              "      <td>TCP</td>\n",
              "      <td>TML</td>\n",
              "      <td>Parcel - Dummy</td>\n",
              "      <td>200</td>\n",
              "      <td>200</td>\n",
              "      <td>2020</td>\n",
              "      <td>8</td>\n",
              "      <td>1</td>\n",
              "    </tr>\n",
              "    <tr>\n",
              "      <th>3</th>\n",
              "      <td>TCP</td>\n",
              "      <td>BXO</td>\n",
              "      <td>Parcel - Dummy</td>\n",
              "      <td>500</td>\n",
              "      <td>500</td>\n",
              "      <td>2020</td>\n",
              "      <td>8</td>\n",
              "      <td>1</td>\n",
              "    </tr>\n",
              "    <tr>\n",
              "      <th>4</th>\n",
              "      <td>TCP</td>\n",
              "      <td>TTM</td>\n",
              "      <td>Parcel - Dummy</td>\n",
              "      <td>500</td>\n",
              "      <td>500</td>\n",
              "      <td>2020</td>\n",
              "      <td>8</td>\n",
              "      <td>1</td>\n",
              "    </tr>\n",
              "    <tr>\n",
              "      <th>5</th>\n",
              "      <td>TCP</td>\n",
              "      <td>TPGG</td>\n",
              "      <td>Parcel - Dummy</td>\n",
              "      <td>200</td>\n",
              "      <td>200</td>\n",
              "      <td>2020</td>\n",
              "      <td>8</td>\n",
              "      <td>1</td>\n",
              "    </tr>\n",
              "    <tr>\n",
              "      <th>17</th>\n",
              "      <td>TNN</td>\n",
              "      <td>STNN</td>\n",
              "      <td>Parcel - Dummy</td>\n",
              "      <td>50</td>\n",
              "      <td>50</td>\n",
              "      <td>2020</td>\n",
              "      <td>8</td>\n",
              "      <td>1</td>\n",
              "    </tr>\n",
              "  </tbody>\n",
              "</table>\n",
              "</div>"
            ],
            "text/plain": [
              "   Origin Destination            Item  Weight  Size/Volume  Year  month  day\n",
              "2     TCP         TML  Parcel - Dummy     200          200  2020      8    1\n",
              "3     TCP         BXO  Parcel - Dummy     500          500  2020      8    1\n",
              "4     TCP         TTM  Parcel - Dummy     500          500  2020      8    1\n",
              "5     TCP        TPGG  Parcel - Dummy     200          200  2020      8    1\n",
              "17    TNN        STNN  Parcel - Dummy      50           50  2020      8    1"
            ]
          },
          "metadata": {
            "tags": []
          },
          "execution_count": 111
        }
      ]
    },
    {
      "cell_type": "code",
      "metadata": {
        "id": "kzGIygcbq0yo",
        "outputId": "2b330533-174c-4a95-8604-9879406f4798",
        "colab": {
          "base_uri": "https://localhost:8080/"
        }
      },
      "source": [
        "replace_map_comp2"
      ],
      "execution_count": 112,
      "outputs": [
        {
          "output_type": "execute_result",
          "data": {
            "text/plain": [
              "{'Item': {'Parcel - Dummy': 1}}"
            ]
          },
          "metadata": {
            "tags": []
          },
          "execution_count": 112
        }
      ]
    },
    {
      "cell_type": "code",
      "metadata": {
        "id": "CiWM9d8Xq0yr"
      },
      "source": [
        ""
      ],
      "execution_count": 112,
      "outputs": []
    },
    {
      "cell_type": "code",
      "metadata": {
        "id": "1KU3FYpZq0yt",
        "outputId": "0d17fccf-6c82-4ff9-e571-1430b2e2ea69",
        "colab": {
          "base_uri": "https://localhost:8080/"
        }
      },
      "source": [
        "df2.replace(replace_map_comp3, inplace=True)\n",
        "df2.replace(replace_map_comp4, inplace=True)\n",
        "df2.replace(replace_map_comp5, inplace=True)"
      ],
      "execution_count": 113,
      "outputs": [
        {
          "output_type": "stream",
          "text": [
            "/usr/local/lib/python3.6/dist-packages/pandas/core/indexing.py:1743: SettingWithCopyWarning: \n",
            "A value is trying to be set on a copy of a slice from a DataFrame.\n",
            "Try using .loc[row_indexer,col_indexer] = value instead\n",
            "\n",
            "See the caveats in the documentation: https://pandas.pydata.org/pandas-docs/stable/user_guide/indexing.html#returning-a-view-versus-a-copy\n",
            "  isetter(ilocs[0], value)\n"
          ],
          "name": "stderr"
        }
      ]
    },
    {
      "cell_type": "code",
      "metadata": {
        "id": "SQbOgc66q0yv",
        "outputId": "b99f4730-4d6c-4109-bdfb-3356456269bf",
        "colab": {
          "base_uri": "https://localhost:8080/",
          "height": 204
        }
      },
      "source": [
        "df2.tail()"
      ],
      "execution_count": 114,
      "outputs": [
        {
          "output_type": "execute_result",
          "data": {
            "text/html": [
              "<div>\n",
              "<style scoped>\n",
              "    .dataframe tbody tr th:only-of-type {\n",
              "        vertical-align: middle;\n",
              "    }\n",
              "\n",
              "    .dataframe tbody tr th {\n",
              "        vertical-align: top;\n",
              "    }\n",
              "\n",
              "    .dataframe thead th {\n",
              "        text-align: right;\n",
              "    }\n",
              "</style>\n",
              "<table border=\"1\" class=\"dataframe\">\n",
              "  <thead>\n",
              "    <tr style=\"text-align: right;\">\n",
              "      <th></th>\n",
              "      <th>Origin</th>\n",
              "      <th>Destination</th>\n",
              "      <th>Item</th>\n",
              "      <th>Weight</th>\n",
              "      <th>Size/Volume</th>\n",
              "      <th>Year</th>\n",
              "      <th>month</th>\n",
              "      <th>day</th>\n",
              "    </tr>\n",
              "  </thead>\n",
              "  <tbody>\n",
              "    <tr>\n",
              "      <th>68497</th>\n",
              "      <td>1</td>\n",
              "      <td>614.0</td>\n",
              "      <td>1</td>\n",
              "      <td>100</td>\n",
              "      <td>100</td>\n",
              "      <td>2020</td>\n",
              "      <td>8</td>\n",
              "      <td>31</td>\n",
              "    </tr>\n",
              "    <tr>\n",
              "      <th>68505</th>\n",
              "      <td>1</td>\n",
              "      <td>388.0</td>\n",
              "      <td>1</td>\n",
              "      <td>100</td>\n",
              "      <td>100</td>\n",
              "      <td>2020</td>\n",
              "      <td>8</td>\n",
              "      <td>31</td>\n",
              "    </tr>\n",
              "    <tr>\n",
              "      <th>68511</th>\n",
              "      <td>1</td>\n",
              "      <td>928.0</td>\n",
              "      <td>1</td>\n",
              "      <td>35000</td>\n",
              "      <td>35000</td>\n",
              "      <td>2020</td>\n",
              "      <td>8</td>\n",
              "      <td>31</td>\n",
              "    </tr>\n",
              "    <tr>\n",
              "      <th>68513</th>\n",
              "      <td>1</td>\n",
              "      <td>358.0</td>\n",
              "      <td>1</td>\n",
              "      <td>5900</td>\n",
              "      <td>5900</td>\n",
              "      <td>2020</td>\n",
              "      <td>8</td>\n",
              "      <td>31</td>\n",
              "    </tr>\n",
              "    <tr>\n",
              "      <th>68514</th>\n",
              "      <td>1</td>\n",
              "      <td>915.0</td>\n",
              "      <td>1</td>\n",
              "      <td>5800</td>\n",
              "      <td>5800</td>\n",
              "      <td>2020</td>\n",
              "      <td>8</td>\n",
              "      <td>31</td>\n",
              "    </tr>\n",
              "  </tbody>\n",
              "</table>\n",
              "</div>"
            ],
            "text/plain": [
              "       Origin  Destination  Item  Weight  Size/Volume  Year  month  day\n",
              "68497       1        614.0     1     100          100  2020      8   31\n",
              "68505       1        388.0     1     100          100  2020      8   31\n",
              "68511       1        928.0     1   35000        35000  2020      8   31\n",
              "68513       1        358.0     1    5900         5900  2020      8   31\n",
              "68514       1        915.0     1    5800         5800  2020      8   31"
            ]
          },
          "metadata": {
            "tags": []
          },
          "execution_count": 114
        }
      ]
    },
    {
      "cell_type": "code",
      "metadata": {
        "id": "mamTymeJq0yx"
      },
      "source": [
        "X_tst = df2.iloc[:,[0,1,2,5,6,7]]"
      ],
      "execution_count": 115,
      "outputs": []
    },
    {
      "cell_type": "code",
      "metadata": {
        "id": "6_59O3XJq0yz"
      },
      "source": [
        "y_tst = df2.iloc[:,[3,4]]"
      ],
      "execution_count": 116,
      "outputs": []
    },
    {
      "cell_type": "code",
      "metadata": {
        "id": "FAYDiws0q0y0",
        "outputId": "7b1edf86-584e-4d09-871d-fe5612c7cdd3",
        "colab": {
          "base_uri": "https://localhost:8080/",
          "height": 204
        }
      },
      "source": [
        "X_tst.head()"
      ],
      "execution_count": 121,
      "outputs": [
        {
          "output_type": "execute_result",
          "data": {
            "text/html": [
              "<div>\n",
              "<style scoped>\n",
              "    .dataframe tbody tr th:only-of-type {\n",
              "        vertical-align: middle;\n",
              "    }\n",
              "\n",
              "    .dataframe tbody tr th {\n",
              "        vertical-align: top;\n",
              "    }\n",
              "\n",
              "    .dataframe thead th {\n",
              "        text-align: right;\n",
              "    }\n",
              "</style>\n",
              "<table border=\"1\" class=\"dataframe\">\n",
              "  <thead>\n",
              "    <tr style=\"text-align: right;\">\n",
              "      <th></th>\n",
              "      <th>Origin</th>\n",
              "      <th>Destination</th>\n",
              "      <th>Item</th>\n",
              "      <th>Year</th>\n",
              "      <th>month</th>\n",
              "      <th>day</th>\n",
              "    </tr>\n",
              "  </thead>\n",
              "  <tbody>\n",
              "    <tr>\n",
              "      <th>2</th>\n",
              "      <td>4</td>\n",
              "      <td>978.0</td>\n",
              "      <td>1</td>\n",
              "      <td>2020</td>\n",
              "      <td>8</td>\n",
              "      <td>1</td>\n",
              "    </tr>\n",
              "    <tr>\n",
              "      <th>3</th>\n",
              "      <td>4</td>\n",
              "      <td>107.0</td>\n",
              "      <td>1</td>\n",
              "      <td>2020</td>\n",
              "      <td>8</td>\n",
              "      <td>1</td>\n",
              "    </tr>\n",
              "    <tr>\n",
              "      <th>4</th>\n",
              "      <td>4</td>\n",
              "      <td>1041.0</td>\n",
              "      <td>1</td>\n",
              "      <td>2020</td>\n",
              "      <td>8</td>\n",
              "      <td>1</td>\n",
              "    </tr>\n",
              "    <tr>\n",
              "      <th>5</th>\n",
              "      <td>4</td>\n",
              "      <td>1017.0</td>\n",
              "      <td>1</td>\n",
              "      <td>2020</td>\n",
              "      <td>8</td>\n",
              "      <td>1</td>\n",
              "    </tr>\n",
              "    <tr>\n",
              "      <th>17</th>\n",
              "      <td>5</td>\n",
              "      <td>895.0</td>\n",
              "      <td>1</td>\n",
              "      <td>2020</td>\n",
              "      <td>8</td>\n",
              "      <td>1</td>\n",
              "    </tr>\n",
              "  </tbody>\n",
              "</table>\n",
              "</div>"
            ],
            "text/plain": [
              "    Origin  Destination  Item  Year  month  day\n",
              "2        4        978.0     1  2020      8    1\n",
              "3        4        107.0     1  2020      8    1\n",
              "4        4       1041.0     1  2020      8    1\n",
              "5        4       1017.0     1  2020      8    1\n",
              "17       5        895.0     1  2020      8    1"
            ]
          },
          "metadata": {
            "tags": []
          },
          "execution_count": 121
        }
      ]
    },
    {
      "cell_type": "code",
      "metadata": {
        "id": "hvyA4VEnq0y2"
      },
      "source": [
        "X_tst = X_tst.fillna(X_tst.mean())\n",
        "rf_predictions = model.predict(X_tst)"
      ],
      "execution_count": 122,
      "outputs": []
    },
    {
      "cell_type": "code",
      "metadata": {
        "id": "VCYeX8cKq0y4"
      },
      "source": [
        "predictions = model.predict(X_tst)"
      ],
      "execution_count": 123,
      "outputs": []
    },
    {
      "cell_type": "code",
      "metadata": {
        "id": "pD-wl1rAq0y6",
        "outputId": "3157e75c-3866-4781-94f7-bbd211fa5c7a",
        "colab": {
          "base_uri": "https://localhost:8080/"
        }
      },
      "source": [
        "rf_predictions"
      ],
      "execution_count": 124,
      "outputs": [
        {
          "output_type": "execute_result",
          "data": {
            "text/plain": [
              "array([[1492.25      , 1492.25      ],\n",
              "       [9976.33333333, 9976.33333333],\n",
              "       [ 429.97833333,  429.97833333],\n",
              "       ...,\n",
              "       [ 269.60059524,  269.60059524],\n",
              "       [ 320.        ,  320.        ],\n",
              "       [ 551.08333333,  551.08333333]])"
            ]
          },
          "metadata": {
            "tags": []
          },
          "execution_count": 124
        }
      ]
    },
    {
      "cell_type": "code",
      "metadata": {
        "id": "H2Sbi6DGq0y7"
      },
      "source": [
        "import pickle\n",
        "\n",
        "\n",
        "# Saving model to disk\n",
        "pickle.dump(model, open('Forecast_Latest.pkl','wb',),protocol=2)\n",
        "\n",
        "# Loading model to compare the results\n",
        "frecast = pickle.load(open('Forecast_Latest.pkl','rb'))"
      ],
      "execution_count": 125,
      "outputs": []
    },
    {
      "cell_type": "code",
      "metadata": {
        "id": "OmJcWuniq0y9"
      },
      "source": [
        "predictions = frecast.predict(X_tst)"
      ],
      "execution_count": 126,
      "outputs": []
    },
    {
      "cell_type": "code",
      "metadata": {
        "id": "D_yLyNBtq0zC",
        "outputId": "e80d1c99-e934-40ab-f191-147b596a14b0",
        "colab": {
          "base_uri": "https://localhost:8080/"
        }
      },
      "source": [
        "predictions"
      ],
      "execution_count": 129,
      "outputs": [
        {
          "output_type": "execute_result",
          "data": {
            "text/plain": [
              "array([[1492.25      , 1492.25      ],\n",
              "       [9976.33333333, 9976.33333333],\n",
              "       [ 429.97833333,  429.97833333],\n",
              "       ...,\n",
              "       [ 269.60059524,  269.60059524],\n",
              "       [ 320.        ,  320.        ],\n",
              "       [ 551.08333333,  551.08333333]])"
            ]
          },
          "metadata": {
            "tags": []
          },
          "execution_count": 129
        }
      ]
    },
    {
      "cell_type": "code",
      "metadata": {
        "id": "ep8Au8FUF3HU"
      },
      "source": [
        "predictions[0] = predictions[0].toFixed(2)"
      ],
      "execution_count": null,
      "outputs": []
    },
    {
      "cell_type": "code",
      "metadata": {
        "id": "v9mGZZzsq0zH"
      },
      "source": [
        "x = np.round(predictions, decimals=3)"
      ],
      "execution_count": 130,
      "outputs": []
    },
    {
      "cell_type": "code",
      "metadata": {
        "id": "NHZnUH_Iq0zK",
        "outputId": "6169e3a3-a3dc-4f81-f933-36724f73e55e",
        "colab": {
          "base_uri": "https://localhost:8080/"
        }
      },
      "source": [
        "x"
      ],
      "execution_count": 131,
      "outputs": [
        {
          "output_type": "execute_result",
          "data": {
            "text/plain": [
              "array([[1492.25 , 1492.25 ],\n",
              "       [9976.333, 9976.333],\n",
              "       [ 429.978,  429.978],\n",
              "       ...,\n",
              "       [ 269.601,  269.601],\n",
              "       [ 320.   ,  320.   ],\n",
              "       [ 551.083,  551.083]])"
            ]
          },
          "metadata": {
            "tags": []
          },
          "execution_count": 131
        }
      ]
    },
    {
      "cell_type": "code",
      "metadata": {
        "id": "BmA1SvUmq0zM",
        "outputId": "d227dbb0-0a4e-4844-9fd7-fdb8bac92db4",
        "colab": {
          "base_uri": "https://localhost:8080/"
        }
      },
      "source": [
        "predictions"
      ],
      "execution_count": 132,
      "outputs": [
        {
          "output_type": "execute_result",
          "data": {
            "text/plain": [
              "array([[1492.25      , 1492.25      ],\n",
              "       [9976.33333333, 9976.33333333],\n",
              "       [ 429.97833333,  429.97833333],\n",
              "       ...,\n",
              "       [ 269.60059524,  269.60059524],\n",
              "       [ 320.        ,  320.        ],\n",
              "       [ 551.08333333,  551.08333333]])"
            ]
          },
          "metadata": {
            "tags": []
          },
          "execution_count": 132
        }
      ]
    },
    {
      "cell_type": "code",
      "metadata": {
        "id": "pM3UKq3Tq0zR",
        "outputId": "82f19905-c1de-4760-865d-60711e629eb9",
        "colab": {
          "base_uri": "https://localhost:8080/"
        }
      },
      "source": [
        "rf_predictions"
      ],
      "execution_count": 133,
      "outputs": [
        {
          "output_type": "execute_result",
          "data": {
            "text/plain": [
              "array([[1492.25      , 1492.25      ],\n",
              "       [9976.33333333, 9976.33333333],\n",
              "       [ 429.97833333,  429.97833333],\n",
              "       ...,\n",
              "       [ 269.60059524,  269.60059524],\n",
              "       [ 320.        ,  320.        ],\n",
              "       [ 551.08333333,  551.08333333]])"
            ]
          },
          "metadata": {
            "tags": []
          },
          "execution_count": 133
        }
      ]
    },
    {
      "cell_type": "code",
      "metadata": {
        "id": "JZPE5mRUq0zT",
        "outputId": "57a3f143-09c0-4bff-8e52-24b4187461c6",
        "colab": {
          "base_uri": "https://localhost:8080/",
          "height": 419
        }
      },
      "source": [
        "y_tst"
      ],
      "execution_count": 134,
      "outputs": [
        {
          "output_type": "execute_result",
          "data": {
            "text/html": [
              "<div>\n",
              "<style scoped>\n",
              "    .dataframe tbody tr th:only-of-type {\n",
              "        vertical-align: middle;\n",
              "    }\n",
              "\n",
              "    .dataframe tbody tr th {\n",
              "        vertical-align: top;\n",
              "    }\n",
              "\n",
              "    .dataframe thead th {\n",
              "        text-align: right;\n",
              "    }\n",
              "</style>\n",
              "<table border=\"1\" class=\"dataframe\">\n",
              "  <thead>\n",
              "    <tr style=\"text-align: right;\">\n",
              "      <th></th>\n",
              "      <th>Weight</th>\n",
              "      <th>Size/Volume</th>\n",
              "    </tr>\n",
              "  </thead>\n",
              "  <tbody>\n",
              "    <tr>\n",
              "      <th>2</th>\n",
              "      <td>200</td>\n",
              "      <td>200</td>\n",
              "    </tr>\n",
              "    <tr>\n",
              "      <th>3</th>\n",
              "      <td>500</td>\n",
              "      <td>500</td>\n",
              "    </tr>\n",
              "    <tr>\n",
              "      <th>4</th>\n",
              "      <td>500</td>\n",
              "      <td>500</td>\n",
              "    </tr>\n",
              "    <tr>\n",
              "      <th>5</th>\n",
              "      <td>200</td>\n",
              "      <td>200</td>\n",
              "    </tr>\n",
              "    <tr>\n",
              "      <th>17</th>\n",
              "      <td>50</td>\n",
              "      <td>50</td>\n",
              "    </tr>\n",
              "    <tr>\n",
              "      <th>...</th>\n",
              "      <td>...</td>\n",
              "      <td>...</td>\n",
              "    </tr>\n",
              "    <tr>\n",
              "      <th>68497</th>\n",
              "      <td>100</td>\n",
              "      <td>100</td>\n",
              "    </tr>\n",
              "    <tr>\n",
              "      <th>68505</th>\n",
              "      <td>100</td>\n",
              "      <td>100</td>\n",
              "    </tr>\n",
              "    <tr>\n",
              "      <th>68511</th>\n",
              "      <td>35000</td>\n",
              "      <td>35000</td>\n",
              "    </tr>\n",
              "    <tr>\n",
              "      <th>68513</th>\n",
              "      <td>5900</td>\n",
              "      <td>5900</td>\n",
              "    </tr>\n",
              "    <tr>\n",
              "      <th>68514</th>\n",
              "      <td>5800</td>\n",
              "      <td>5800</td>\n",
              "    </tr>\n",
              "  </tbody>\n",
              "</table>\n",
              "<p>13704 rows × 2 columns</p>\n",
              "</div>"
            ],
            "text/plain": [
              "       Weight  Size/Volume\n",
              "2         200          200\n",
              "3         500          500\n",
              "4         500          500\n",
              "5         200          200\n",
              "17         50           50\n",
              "...       ...          ...\n",
              "68497     100          100\n",
              "68505     100          100\n",
              "68511   35000        35000\n",
              "68513    5900         5900\n",
              "68514    5800         5800\n",
              "\n",
              "[13704 rows x 2 columns]"
            ]
          },
          "metadata": {
            "tags": []
          },
          "execution_count": 134
        }
      ]
    },
    {
      "cell_type": "code",
      "metadata": {
        "id": "epBVHz6Dq0zV",
        "outputId": "a4d6258a-27cd-4e4c-d1f3-f17d275e2a42",
        "colab": {
          "base_uri": "https://localhost:8080/"
        }
      },
      "source": [
        "from sklearn.metrics import mean_squared_error\n",
        "mse = mean_squared_error(y_tst,rf_predictions)\n",
        "rmse = np.sqrt(mse)\n",
        "rmse"
      ],
      "execution_count": 135,
      "outputs": [
        {
          "output_type": "execute_result",
          "data": {
            "text/plain": [
              "30520.261846400554"
            ]
          },
          "metadata": {
            "tags": []
          },
          "execution_count": 135
        }
      ]
    },
    {
      "cell_type": "code",
      "metadata": {
        "id": "RsY2ltkjq0zf"
      },
      "source": [
        "numpy_data = np.array(['2', '2', '2020-06-18'])"
      ],
      "execution_count": 136,
      "outputs": []
    },
    {
      "cell_type": "code",
      "metadata": {
        "id": "aEU2ZaFNq0zl",
        "outputId": "cee311f4-82ec-492a-dfb3-d6c3b4d86b0c",
        "colab": {
          "base_uri": "https://localhost:8080/",
          "height": 35
        }
      },
      "source": [
        "numpy_data[2]"
      ],
      "execution_count": 137,
      "outputs": [
        {
          "output_type": "execute_result",
          "data": {
            "application/vnd.google.colaboratory.intrinsic+json": {
              "type": "string"
            },
            "text/plain": [
              "'2020-06-18'"
            ]
          },
          "metadata": {
            "tags": []
          },
          "execution_count": 137
        }
      ]
    },
    {
      "cell_type": "code",
      "metadata": {
        "id": "ObmjYKRNq0zn"
      },
      "source": [
        "dt = datetime.strptime(numpy_data[2], '%Y-%m-%d')"
      ],
      "execution_count": 138,
      "outputs": []
    },
    {
      "cell_type": "code",
      "metadata": {
        "id": "S5Q8O--Oq0zp",
        "outputId": "123c8fb4-a2b4-49a0-ab55-a5809cc50804",
        "colab": {
          "base_uri": "https://localhost:8080/"
        }
      },
      "source": [
        "print(dt.year, dt.month, dt.day)"
      ],
      "execution_count": 139,
      "outputs": [
        {
          "output_type": "stream",
          "text": [
            "2020 6 18\n"
          ],
          "name": "stdout"
        }
      ]
    },
    {
      "cell_type": "code",
      "metadata": {
        "id": "eoXSDP0Qq0zr"
      },
      "source": [
        "import pandas as pd\n",
        "\n",
        "d={'origin':[numpy_data[0]]*10,\n",
        "   'dest':[numpy_data[1]]*10,\n",
        "   'item':list(range(1,11)),\n",
        "  'year':[dt.year]*10,\n",
        "  'month':[dt.month]*10,\n",
        "  'day':[dt.day]*10}\n",
        "df=pd.DataFrame(d)\n",
        "df_lags=pd.DataFrame()"
      ],
      "execution_count": 140,
      "outputs": []
    },
    {
      "cell_type": "code",
      "metadata": {
        "id": "_7FkDGMtq0zs",
        "outputId": "5e07383e-bf0b-479c-c641-ffd651038f33",
        "colab": {
          "base_uri": "https://localhost:8080/",
          "height": 359
        }
      },
      "source": [
        "df"
      ],
      "execution_count": 141,
      "outputs": [
        {
          "output_type": "execute_result",
          "data": {
            "text/html": [
              "<div>\n",
              "<style scoped>\n",
              "    .dataframe tbody tr th:only-of-type {\n",
              "        vertical-align: middle;\n",
              "    }\n",
              "\n",
              "    .dataframe tbody tr th {\n",
              "        vertical-align: top;\n",
              "    }\n",
              "\n",
              "    .dataframe thead th {\n",
              "        text-align: right;\n",
              "    }\n",
              "</style>\n",
              "<table border=\"1\" class=\"dataframe\">\n",
              "  <thead>\n",
              "    <tr style=\"text-align: right;\">\n",
              "      <th></th>\n",
              "      <th>origin</th>\n",
              "      <th>dest</th>\n",
              "      <th>item</th>\n",
              "      <th>year</th>\n",
              "      <th>month</th>\n",
              "      <th>day</th>\n",
              "    </tr>\n",
              "  </thead>\n",
              "  <tbody>\n",
              "    <tr>\n",
              "      <th>0</th>\n",
              "      <td>2</td>\n",
              "      <td>2</td>\n",
              "      <td>1</td>\n",
              "      <td>2020</td>\n",
              "      <td>6</td>\n",
              "      <td>18</td>\n",
              "    </tr>\n",
              "    <tr>\n",
              "      <th>1</th>\n",
              "      <td>2</td>\n",
              "      <td>2</td>\n",
              "      <td>2</td>\n",
              "      <td>2020</td>\n",
              "      <td>6</td>\n",
              "      <td>18</td>\n",
              "    </tr>\n",
              "    <tr>\n",
              "      <th>2</th>\n",
              "      <td>2</td>\n",
              "      <td>2</td>\n",
              "      <td>3</td>\n",
              "      <td>2020</td>\n",
              "      <td>6</td>\n",
              "      <td>18</td>\n",
              "    </tr>\n",
              "    <tr>\n",
              "      <th>3</th>\n",
              "      <td>2</td>\n",
              "      <td>2</td>\n",
              "      <td>4</td>\n",
              "      <td>2020</td>\n",
              "      <td>6</td>\n",
              "      <td>18</td>\n",
              "    </tr>\n",
              "    <tr>\n",
              "      <th>4</th>\n",
              "      <td>2</td>\n",
              "      <td>2</td>\n",
              "      <td>5</td>\n",
              "      <td>2020</td>\n",
              "      <td>6</td>\n",
              "      <td>18</td>\n",
              "    </tr>\n",
              "    <tr>\n",
              "      <th>5</th>\n",
              "      <td>2</td>\n",
              "      <td>2</td>\n",
              "      <td>6</td>\n",
              "      <td>2020</td>\n",
              "      <td>6</td>\n",
              "      <td>18</td>\n",
              "    </tr>\n",
              "    <tr>\n",
              "      <th>6</th>\n",
              "      <td>2</td>\n",
              "      <td>2</td>\n",
              "      <td>7</td>\n",
              "      <td>2020</td>\n",
              "      <td>6</td>\n",
              "      <td>18</td>\n",
              "    </tr>\n",
              "    <tr>\n",
              "      <th>7</th>\n",
              "      <td>2</td>\n",
              "      <td>2</td>\n",
              "      <td>8</td>\n",
              "      <td>2020</td>\n",
              "      <td>6</td>\n",
              "      <td>18</td>\n",
              "    </tr>\n",
              "    <tr>\n",
              "      <th>8</th>\n",
              "      <td>2</td>\n",
              "      <td>2</td>\n",
              "      <td>9</td>\n",
              "      <td>2020</td>\n",
              "      <td>6</td>\n",
              "      <td>18</td>\n",
              "    </tr>\n",
              "    <tr>\n",
              "      <th>9</th>\n",
              "      <td>2</td>\n",
              "      <td>2</td>\n",
              "      <td>10</td>\n",
              "      <td>2020</td>\n",
              "      <td>6</td>\n",
              "      <td>18</td>\n",
              "    </tr>\n",
              "  </tbody>\n",
              "</table>\n",
              "</div>"
            ],
            "text/plain": [
              "  origin dest  item  year  month  day\n",
              "0      2    2     1  2020      6   18\n",
              "1      2    2     2  2020      6   18\n",
              "2      2    2     3  2020      6   18\n",
              "3      2    2     4  2020      6   18\n",
              "4      2    2     5  2020      6   18\n",
              "5      2    2     6  2020      6   18\n",
              "6      2    2     7  2020      6   18\n",
              "7      2    2     8  2020      6   18\n",
              "8      2    2     9  2020      6   18\n",
              "9      2    2    10  2020      6   18"
            ]
          },
          "metadata": {
            "tags": []
          },
          "execution_count": 141
        }
      ]
    },
    {
      "cell_type": "code",
      "metadata": {
        "id": "JCPnVdu8q0zt",
        "outputId": "b6bb51c6-2d50-4203-b31b-87976a82657a",
        "colab": {
          "base_uri": "https://localhost:8080/",
          "height": 419
        }
      },
      "source": [
        "X_tst"
      ],
      "execution_count": 142,
      "outputs": [
        {
          "output_type": "execute_result",
          "data": {
            "text/html": [
              "<div>\n",
              "<style scoped>\n",
              "    .dataframe tbody tr th:only-of-type {\n",
              "        vertical-align: middle;\n",
              "    }\n",
              "\n",
              "    .dataframe tbody tr th {\n",
              "        vertical-align: top;\n",
              "    }\n",
              "\n",
              "    .dataframe thead th {\n",
              "        text-align: right;\n",
              "    }\n",
              "</style>\n",
              "<table border=\"1\" class=\"dataframe\">\n",
              "  <thead>\n",
              "    <tr style=\"text-align: right;\">\n",
              "      <th></th>\n",
              "      <th>Origin</th>\n",
              "      <th>Destination</th>\n",
              "      <th>Item</th>\n",
              "      <th>Year</th>\n",
              "      <th>month</th>\n",
              "      <th>day</th>\n",
              "    </tr>\n",
              "  </thead>\n",
              "  <tbody>\n",
              "    <tr>\n",
              "      <th>2</th>\n",
              "      <td>4</td>\n",
              "      <td>978.0</td>\n",
              "      <td>1</td>\n",
              "      <td>2020</td>\n",
              "      <td>8</td>\n",
              "      <td>1</td>\n",
              "    </tr>\n",
              "    <tr>\n",
              "      <th>3</th>\n",
              "      <td>4</td>\n",
              "      <td>107.0</td>\n",
              "      <td>1</td>\n",
              "      <td>2020</td>\n",
              "      <td>8</td>\n",
              "      <td>1</td>\n",
              "    </tr>\n",
              "    <tr>\n",
              "      <th>4</th>\n",
              "      <td>4</td>\n",
              "      <td>1041.0</td>\n",
              "      <td>1</td>\n",
              "      <td>2020</td>\n",
              "      <td>8</td>\n",
              "      <td>1</td>\n",
              "    </tr>\n",
              "    <tr>\n",
              "      <th>5</th>\n",
              "      <td>4</td>\n",
              "      <td>1017.0</td>\n",
              "      <td>1</td>\n",
              "      <td>2020</td>\n",
              "      <td>8</td>\n",
              "      <td>1</td>\n",
              "    </tr>\n",
              "    <tr>\n",
              "      <th>17</th>\n",
              "      <td>5</td>\n",
              "      <td>895.0</td>\n",
              "      <td>1</td>\n",
              "      <td>2020</td>\n",
              "      <td>8</td>\n",
              "      <td>1</td>\n",
              "    </tr>\n",
              "    <tr>\n",
              "      <th>...</th>\n",
              "      <td>...</td>\n",
              "      <td>...</td>\n",
              "      <td>...</td>\n",
              "      <td>...</td>\n",
              "      <td>...</td>\n",
              "      <td>...</td>\n",
              "    </tr>\n",
              "    <tr>\n",
              "      <th>68497</th>\n",
              "      <td>1</td>\n",
              "      <td>614.0</td>\n",
              "      <td>1</td>\n",
              "      <td>2020</td>\n",
              "      <td>8</td>\n",
              "      <td>31</td>\n",
              "    </tr>\n",
              "    <tr>\n",
              "      <th>68505</th>\n",
              "      <td>1</td>\n",
              "      <td>388.0</td>\n",
              "      <td>1</td>\n",
              "      <td>2020</td>\n",
              "      <td>8</td>\n",
              "      <td>31</td>\n",
              "    </tr>\n",
              "    <tr>\n",
              "      <th>68511</th>\n",
              "      <td>1</td>\n",
              "      <td>928.0</td>\n",
              "      <td>1</td>\n",
              "      <td>2020</td>\n",
              "      <td>8</td>\n",
              "      <td>31</td>\n",
              "    </tr>\n",
              "    <tr>\n",
              "      <th>68513</th>\n",
              "      <td>1</td>\n",
              "      <td>358.0</td>\n",
              "      <td>1</td>\n",
              "      <td>2020</td>\n",
              "      <td>8</td>\n",
              "      <td>31</td>\n",
              "    </tr>\n",
              "    <tr>\n",
              "      <th>68514</th>\n",
              "      <td>1</td>\n",
              "      <td>915.0</td>\n",
              "      <td>1</td>\n",
              "      <td>2020</td>\n",
              "      <td>8</td>\n",
              "      <td>31</td>\n",
              "    </tr>\n",
              "  </tbody>\n",
              "</table>\n",
              "<p>13704 rows × 6 columns</p>\n",
              "</div>"
            ],
            "text/plain": [
              "       Origin  Destination  Item  Year  month  day\n",
              "2           4        978.0     1  2020      8    1\n",
              "3           4        107.0     1  2020      8    1\n",
              "4           4       1041.0     1  2020      8    1\n",
              "5           4       1017.0     1  2020      8    1\n",
              "17          5        895.0     1  2020      8    1\n",
              "...       ...          ...   ...   ...    ...  ...\n",
              "68497       1        614.0     1  2020      8   31\n",
              "68505       1        388.0     1  2020      8   31\n",
              "68511       1        928.0     1  2020      8   31\n",
              "68513       1        358.0     1  2020      8   31\n",
              "68514       1        915.0     1  2020      8   31\n",
              "\n",
              "[13704 rows x 6 columns]"
            ]
          },
          "metadata": {
            "tags": []
          },
          "execution_count": 142
        }
      ]
    },
    {
      "cell_type": "code",
      "metadata": {
        "id": "8yNmjNdCq0zv"
      },
      "source": [
        "prd = model.predict(df)"
      ],
      "execution_count": 143,
      "outputs": []
    },
    {
      "cell_type": "code",
      "metadata": {
        "id": "usaLH2dPq0zx",
        "outputId": "dc109b3b-7ad3-4876-f2be-30c477965f30",
        "colab": {
          "base_uri": "https://localhost:8080/"
        }
      },
      "source": [
        "prd"
      ],
      "execution_count": 144,
      "outputs": [
        {
          "output_type": "execute_result",
          "data": {
            "text/plain": [
              "array([[3011.1, 3011.1],\n",
              "       [3011.1, 3011.1],\n",
              "       [3011.1, 3011.1],\n",
              "       [3011.1, 3011.1],\n",
              "       [3011.1, 3011.1],\n",
              "       [3011.1, 3011.1],\n",
              "       [3011.1, 3011.1],\n",
              "       [3011.1, 3011.1],\n",
              "       [3011.1, 3011.1],\n",
              "       [3011.1, 3011.1]])"
            ]
          },
          "metadata": {
            "tags": []
          },
          "execution_count": 144
        }
      ]
    },
    {
      "cell_type": "code",
      "metadata": {
        "id": "bWdOK-yZq0zz",
        "outputId": "e58c6a0c-26ab-45b6-ad0e-ea866e42f887",
        "colab": {
          "base_uri": "https://localhost:8080/"
        }
      },
      "source": [
        "prd[0][0]"
      ],
      "execution_count": 145,
      "outputs": [
        {
          "output_type": "execute_result",
          "data": {
            "text/plain": [
              "3011.1"
            ]
          },
          "metadata": {
            "tags": []
          },
          "execution_count": 145
        }
      ]
    },
    {
      "cell_type": "code",
      "metadata": {
        "id": "MCq6qBlcGIWp"
      },
      "source": [
        ""
      ],
      "execution_count": null,
      "outputs": []
    }
  ]
}